{
 "cells": [
  {
   "cell_type": "code",
   "execution_count": 53,
   "metadata": {},
   "outputs": [],
   "source": [
    "import pandas as pd\n",
    "pd.set_option('display.max_columns', None)\n",
    "pd.set_option('display.max_colwidth', None)\n",
    "pd.plotting.register_matplotlib_converters()\n",
    "\n",
    "import numpy as np\n",
    "import seaborn as sns\n",
    "import missingno as mgn\n",
    "\n",
    "import plotly.express as px"
   ]
  },
  {
   "cell_type": "markdown",
   "metadata": {},
   "source": [
    "Reading the data with standard preprocessing steps"
   ]
  },
  {
   "cell_type": "code",
   "execution_count": 54,
   "metadata": {},
   "outputs": [],
   "source": [
    "# Just the new file only - for now\n",
    "df1 = pd.read_excel('../data/data_d-drivers_2024-03-24.xlsx', sheet_name='data',\n",
    "                    )\n",
    "df2 = pd.read_excel('../data/data_d-drivers_2024-03-26.xlsx', sheet_name='data')\n",
    "\n",
    "df1.columns = [col.lower() for col in df1.columns]\n",
    "df2.columns = [col.lower() for col in df2.columns]\n",
    "\n",
    "df1.rename({\n",
    "           'impressions': 'page_impressions',\n",
    "           'page_efahrer_id': 'page_id',\n",
    "           'published_at': 'publishing_date',\n",
    "           'page_canonical_url': 'url',\n",
    "           'page_author': 'authors', \n",
    "            }, axis=1, inplace=True)\n",
    "\n",
    "df2.rename({\n",
    "           'impressions': 'page_impressions',\n",
    "           'page_efahrer_id': 'page_id',\n",
    "           'published_at': 'publishing_date',\n",
    "           'page_canonical_url': 'url',\n",
    "           'page_author': 'authors', \n",
    "            }, axis=1, inplace=True)"
   ]
  },
  {
   "cell_type": "markdown",
   "metadata": {},
   "source": [
    "What makes each entry unique?"
   ]
  },
  {
   "cell_type": "code",
   "execution_count": 55,
   "metadata": {},
   "outputs": [
    {
     "data": {
      "text/html": [
       "<div>\n",
       "<style scoped>\n",
       "    .dataframe tbody tr th:only-of-type {\n",
       "        vertical-align: middle;\n",
       "    }\n",
       "\n",
       "    .dataframe tbody tr th {\n",
       "        vertical-align: top;\n",
       "    }\n",
       "\n",
       "    .dataframe thead th {\n",
       "        text-align: right;\n",
       "    }\n",
       "</style>\n",
       "<table border=\"1\" class=\"dataframe\">\n",
       "  <thead>\n",
       "    <tr style=\"text-align: right;\">\n",
       "      <th></th>\n",
       "      <th>page_id</th>\n",
       "      <th>date</th>\n",
       "      <th>publishing_date</th>\n",
       "      <th>publish_date_equal_to_date</th>\n",
       "      <th>url</th>\n",
       "      <th>page_name</th>\n",
       "      <th>classification_product</th>\n",
       "      <th>classification_type</th>\n",
       "      <th>title</th>\n",
       "      <th>authors</th>\n",
       "      <th>daily_likes</th>\n",
       "      <th>daily_dislikes</th>\n",
       "      <th>word_count</th>\n",
       "      <th>video_play</th>\n",
       "      <th>clickouts</th>\n",
       "      <th>external_clicks</th>\n",
       "      <th>external_impressions</th>\n",
       "    </tr>\n",
       "  </thead>\n",
       "  <tbody>\n",
       "    <tr>\n",
       "      <th>66544</th>\n",
       "      <td>1018299</td>\n",
       "      <td>2024-03-04</td>\n",
       "      <td>NaT</td>\n",
       "      <td>N</td>\n",
       "      <td>https://efahrer.chip.de/news/neuvorstellung-des-fiat-pandina-der-panda-bekommt-ein-geschwisterchen_1018299</td>\n",
       "      <td>efa-1018299 | Der Panda bekommt ein kleines Geschwisterchen: Neuvorstellung des Fiat Pandina</td>\n",
       "      <td>Auto</td>\n",
       "      <td>News</td>\n",
       "      <td>Neuvorstellung des Fiat Pandina: Der Panda bekommt ein Geschwisterchen - EFAHRER.com</td>\n",
       "      <td>JÃ¼rgen Wolff</td>\n",
       "      <td>NaN</td>\n",
       "      <td>NaN</td>\n",
       "      <td>NaN</td>\n",
       "      <td>41.0</td>\n",
       "      <td>0.0</td>\n",
       "      <td>23.0</td>\n",
       "      <td>771.0</td>\n",
       "    </tr>\n",
       "    <tr>\n",
       "      <th>78658</th>\n",
       "      <td>1018299</td>\n",
       "      <td>2024-03-04</td>\n",
       "      <td>NaT</td>\n",
       "      <td>N</td>\n",
       "      <td>https://efahrer.chip.de/news/neuvorstellung-des-fiat-pandina-der-panda-bekommt-ein-geschwisterchen_1018299</td>\n",
       "      <td>efa-1018299 | Der Panda bekommt ein kleines Geschwisterchen: Neuvorstellung des Fiat Pandina</td>\n",
       "      <td>Auto</td>\n",
       "      <td>News</td>\n",
       "      <td>Neuvorstellung des Fiat Pandina: Der Panda bekommt ein Geschwisterchen - EFAHRER.com</td>\n",
       "      <td>JÃ¼rgen Wolff</td>\n",
       "      <td>NaN</td>\n",
       "      <td>NaN</td>\n",
       "      <td>NaN</td>\n",
       "      <td>NaN</td>\n",
       "      <td>NaN</td>\n",
       "      <td>NaN</td>\n",
       "      <td>NaN</td>\n",
       "    </tr>\n",
       "  </tbody>\n",
       "</table>\n",
       "</div>"
      ],
      "text/plain": [
       "       page_id       date publishing_date publish_date_equal_to_date   \n",
       "66544  1018299 2024-03-04             NaT                          N  \\\n",
       "78658  1018299 2024-03-04             NaT                          N   \n",
       "\n",
       "                                                                                                              url   \n",
       "66544  https://efahrer.chip.de/news/neuvorstellung-des-fiat-pandina-der-panda-bekommt-ein-geschwisterchen_1018299  \\\n",
       "78658  https://efahrer.chip.de/news/neuvorstellung-des-fiat-pandina-der-panda-bekommt-ein-geschwisterchen_1018299   \n",
       "\n",
       "                                                                                          page_name   \n",
       "66544  efa-1018299 | Der Panda bekommt ein kleines Geschwisterchen: Neuvorstellung des Fiat Pandina  \\\n",
       "78658  efa-1018299 | Der Panda bekommt ein kleines Geschwisterchen: Neuvorstellung des Fiat Pandina   \n",
       "\n",
       "      classification_product classification_type   \n",
       "66544                   Auto                News  \\\n",
       "78658                   Auto                News   \n",
       "\n",
       "                                                                                      title   \n",
       "66544  Neuvorstellung des Fiat Pandina: Der Panda bekommt ein Geschwisterchen - EFAHRER.com  \\\n",
       "78658  Neuvorstellung des Fiat Pandina: Der Panda bekommt ein Geschwisterchen - EFAHRER.com   \n",
       "\n",
       "             authors  daily_likes  daily_dislikes  word_count  video_play   \n",
       "66544  JÃ¼rgen Wolff          NaN             NaN         NaN        41.0  \\\n",
       "78658  JÃ¼rgen Wolff          NaN             NaN         NaN         NaN   \n",
       "\n",
       "       clickouts  external_clicks  external_impressions  \n",
       "66544        0.0             23.0                 771.0  \n",
       "78658        NaN              NaN                   NaN  "
      ]
     },
     "execution_count": 55,
     "metadata": {},
     "output_type": "execute_result"
    }
   ],
   "source": [
    "df1[df1[['page_id', 'date', 'url', 'authors', 'word_count']].duplicated(keep=False)] # keep=False keeps all duplicated values\n",
    "                                    #.sort_values(['page_id', 'date', 'url', 'page_author'])"
   ]
  },
  {
   "cell_type": "markdown",
   "metadata": {},
   "source": [
    "By experimenting with different sets of columns I found those are \n",
    "\n",
    "> 'page_id', 'date', 'url', 'authors', 'word_count'\n",
    "\n",
    "* NOT the `page_name`: it is totally broken\n",
    "* NOT the `publishing_date`: sometimes the articles changed several times during the day and the word count changed, so `publishing_date` does not capture all combinations\n",
    "\n",
    "Addressing the rows by all of those columns makes every article unique but just a single one: 1018299 (rows 66544 and 78658). But the second entry is just a mistake with all missing values, it can be simply dropped. "
   ]
  },
  {
   "cell_type": "code",
   "execution_count": 56,
   "metadata": {},
   "outputs": [],
   "source": [
    "df1.drop(78658, inplace=True)"
   ]
  },
  {
   "cell_type": "markdown",
   "metadata": {},
   "source": [
    "Merge on those:"
   ]
  },
  {
   "cell_type": "code",
   "execution_count": 57,
   "metadata": {},
   "outputs": [],
   "source": [
    "key_columns = ['page_id', 'date', 'url', 'authors', 'word_count']"
   ]
  },
  {
   "cell_type": "markdown",
   "metadata": {},
   "source": [
    "What columns are in `df1` and not in `df2`?"
   ]
  },
  {
   "cell_type": "code",
   "execution_count": 58,
   "metadata": {},
   "outputs": [
    {
     "name": "stdout",
     "output_type": "stream",
     "text": [
      "Index(['page_impressions'], dtype='object')\n",
      "Index(['clickouts'], dtype='object')\n"
     ]
    }
   ],
   "source": [
    "print(df2.columns.difference(df1.columns))\n",
    "print(df1.columns.difference(df2.columns))"
   ]
  },
  {
   "cell_type": "markdown",
   "metadata": {},
   "source": [
    "So the page impressions only present in the 2nd delivery, and clockouts only in the first delivery. \n",
    "We will merge the *first to the second*, so in the first dataset we only want to have the key columns and the unique one."
   ]
  },
  {
   "cell_type": "code",
   "execution_count": 59,
   "metadata": {},
   "outputs": [],
   "source": [
    "df1 = df1[key_columns + ['clickouts']]"
   ]
  },
  {
   "cell_type": "markdown",
   "metadata": {},
   "source": [
    "What pages are in df1 and not in df2 and the other way around?"
   ]
  },
  {
   "cell_type": "code",
   "execution_count": 60,
   "metadata": {},
   "outputs": [
    {
     "name": "stdout",
     "output_type": "stream",
     "text": [
      "Index([], dtype='int64', name='page_id')\n",
      "Index([1018667, 1018673, 1018687, 1018743, 1018770, 1018771, 1018776, 1018782], dtype='int64', name='page_id')\n"
     ]
    }
   ],
   "source": [
    "print(df1.set_index('page_id').index.difference(df2.set_index('page_id').index))\n",
    "print(df2.set_index('page_id').index.difference(df1.set_index('page_id').index))"
   ]
  },
  {
   "cell_type": "markdown",
   "metadata": {},
   "source": [
    "> The new data delivery includes all pages from the first one + 8 new ones."
   ]
  },
  {
   "cell_type": "markdown",
   "metadata": {},
   "source": [
    "What `URLs` are in df1 and not in df2 and the other way around?"
   ]
  },
  {
   "cell_type": "code",
   "execution_count": 61,
   "metadata": {},
   "outputs": [
    {
     "name": "stdout",
     "output_type": "stream",
     "text": [
      "Index([], dtype='object', name='url')\n",
      "Index(['https://efahrer.chip.de/news/4-module-optionaler-speicher-haendler-setzt-balkonkraftwerk-auf-799-euro-runter_1017455',\n",
      "       'https://efahrer.chip.de/news/ampeln-mit-neuer-farbe-weiss-will-das-leben-aller-verkehrsteilnehmer-verbessern_1011583',\n",
      "       'https://efahrer.chip.de/news/angebot-nur-bis-ostern-so-bekommen-sie-1000-euro-rabatt-auf-ihre-solaranlage_1018573',\n",
      "       'https://efahrer.chip.de/news/auch-mit-halterung-bei-diesem-balkonkraftwerk-preis-schlucken-selbst-discounter_1014858',\n",
      "       'https://efahrer.chip.de/news/batterie-geheimnisse-maenner-sollen-tesla-bestohlen-und-firma-gegruendet-haben_1018770',\n",
      "       'https://efahrer.chip.de/news/buegelschloss-mit-fingerabdrucksensor-bei-aldi_1013493',\n",
      "       'https://efahrer.chip.de/news/dashcam-schnaeppchen-bei-amazon-das-taugt-die-kamera-fuer-unter-40-euro_1018667',\n",
      "       'https://efahrer.chip.de/news/e-auto-fahrer-sind-fein-raus-deutsches-gericht-erzwingt-schaerfere-fahrverbote_1018776',\n",
      "       'https://efahrer.chip.de/news/es-kommt-mit-4-modulen-leipziger-setzen-balkonkraftwerk-vor-ostern-herunter_1013676',\n",
      "       'https://efahrer.chip.de/news/gehweg-mit-zwei-schildern-fuer-fahrradfahrer-jetzt-muessen-sie-genau-aufpassen_1018712',\n",
      "       'https://efahrer.chip.de/news/irren-pfusch-am-e-auto-lader-kann-jeder-nachbauen-ist-dieser-hack-gefaehrlich_1018743',\n",
      "       'https://efahrer.chip.de/news/kleiner-e-franzose-aus-2-hand-den-renault-zoe-gibts-ab-gut-13000-euro_1018123',\n",
      "       'https://efahrer.chip.de/news/klimaschutz-aber-bezahlbar-efahrercom-kuert-beste-regionale-solarfirmen_1018782',\n",
      "       'https://efahrer.chip.de/news/kostet-nur-270-euro-so-kriegen-sie-dieses-balkonkraftwerk-guenstiger_1017582',\n",
      "       'https://efahrer.chip.de/news/marken-navi-zum-knallerpreis-bei-diesem-haendler-sparen-sie-ordentlich_1018673',\n",
      "       'https://efahrer.chip.de/news/mehr-leistung-als-andere-plus-speicher-anker-reduziert-krasses-balkonkraftwerk_1017037',\n",
      "       'https://efahrer.chip.de/news/neues-e-auto-kommt-500-kilometer-weit-es-kostet-nur-12000-euro_1018698',\n",
      "       'https://efahrer.chip.de/news/schnaeppchen-bei-amazon-redtiger-dashcam-mehr-als-50-euro-billiger_1018687',\n",
      "       'https://efahrer.chip.de/news/skoda-enyaq-60-preis-leasing-deal-privat-gewerbe_1014786',\n",
      "       'https://efahrer.chip.de/news/solarbesitzer-will-winterengpaesse-ueberbruecken-er-baut-16-meter-langen-zaun_1018677',\n",
      "       'https://efahrer.chip.de/news/test-legt-offen-diese-solaranbieter-beraten-sie-am-am-besten_1017864',\n",
      "       'https://efahrer.chip.de/news/wallboxen-guenstig-kaufen-das-sind-die-guenstigsten-ladestationen-fuer-e-autos_1018771'],\n",
      "      dtype='object', name='url')\n"
     ]
    }
   ],
   "source": [
    "print(df1.set_index('url').index.difference(df2.set_index('url').index))\n",
    "print(df2.set_index('url').index.difference(df1.set_index('url').index))"
   ]
  },
  {
   "cell_type": "markdown",
   "metadata": {},
   "source": [
    "> 22 new URLs"
   ]
  },
  {
   "cell_type": "markdown",
   "metadata": {},
   "source": [
    "Which dates are new?"
   ]
  },
  {
   "cell_type": "code",
   "execution_count": 62,
   "metadata": {},
   "outputs": [
    {
     "name": "stdout",
     "output_type": "stream",
     "text": [
      "DatetimeIndex([], dtype='datetime64[ns]', name='date', freq=None)\n",
      "DatetimeIndex(['2024-03-23'], dtype='datetime64[ns]', name='date', freq=None)\n"
     ]
    }
   ],
   "source": [
    "print(df1.set_index('date').index.difference(df2.set_index('date').index))\n",
    "print(df2.set_index('date').index.difference(df1.set_index('date').index))"
   ]
  },
  {
   "cell_type": "markdown",
   "metadata": {},
   "source": [
    "> The day between the first and the second data deliveries, makes a lot of sense :D"
   ]
  },
  {
   "cell_type": "code",
   "execution_count": 63,
   "metadata": {},
   "outputs": [
    {
     "name": "stdout",
     "output_type": "stream",
     "text": [
      "No duplicates left in the first dataframe\n"
     ]
    }
   ],
   "source": [
    "if df1.shape == df1.drop_duplicates().shape:\n",
    "    print('No duplicates left in the first dataframe')\n",
    "else: \n",
    "    print('Duplicated entries present: merging will blow up the data frame size')"
   ]
  },
  {
   "cell_type": "code",
   "execution_count": 64,
   "metadata": {},
   "outputs": [
    {
     "name": "stdout",
     "output_type": "stream",
     "text": [
      "Duplicated entries present: merging will blow up the data frame size\n"
     ]
    }
   ],
   "source": [
    "if df2[key_columns].shape == df2[key_columns].drop_duplicates().shape:\n",
    "    print('No duplicates are in the second dataframe')\n",
    "else: \n",
    "    print('Duplicated entries present: merging will blow up the data frame size')"
   ]
  },
  {
   "cell_type": "code",
   "execution_count": 65,
   "metadata": {},
   "outputs": [
    {
     "data": {
      "text/html": [
       "<div>\n",
       "<style scoped>\n",
       "    .dataframe tbody tr th:only-of-type {\n",
       "        vertical-align: middle;\n",
       "    }\n",
       "\n",
       "    .dataframe tbody tr th {\n",
       "        vertical-align: top;\n",
       "    }\n",
       "\n",
       "    .dataframe thead th {\n",
       "        text-align: right;\n",
       "    }\n",
       "</style>\n",
       "<table border=\"1\" class=\"dataframe\">\n",
       "  <thead>\n",
       "    <tr style=\"text-align: right;\">\n",
       "      <th></th>\n",
       "      <th>page_id</th>\n",
       "      <th>date</th>\n",
       "      <th>publishing_date</th>\n",
       "      <th>publish_date_equal_to_date</th>\n",
       "      <th>url</th>\n",
       "      <th>page_name</th>\n",
       "      <th>classification_product</th>\n",
       "      <th>classification_type</th>\n",
       "      <th>title</th>\n",
       "      <th>authors</th>\n",
       "      <th>daily_likes</th>\n",
       "      <th>daily_dislikes</th>\n",
       "      <th>word_count</th>\n",
       "      <th>video_play</th>\n",
       "      <th>page_impressions</th>\n",
       "      <th>external_clicks</th>\n",
       "      <th>external_impressions</th>\n",
       "    </tr>\n",
       "  </thead>\n",
       "  <tbody>\n",
       "    <tr>\n",
       "      <th>40600</th>\n",
       "      <td>1018299</td>\n",
       "      <td>2024-03-04</td>\n",
       "      <td>NaT</td>\n",
       "      <td>N</td>\n",
       "      <td>https://efahrer.chip.de/news/neuvorstellung-des-fiat-pandina-der-panda-bekommt-ein-geschwisterchen_1018299</td>\n",
       "      <td>efa-1018299 | Der Panda bekommt ein kleines Geschwisterchen: Neuvorstellung des Fiat Pandina</td>\n",
       "      <td>Auto</td>\n",
       "      <td>News</td>\n",
       "      <td>Der Panda bekommt ein kleines Geschwisterchen: Neuvorstellung des Fiat Pandina</td>\n",
       "      <td>Jürgen Wolff</td>\n",
       "      <td>NaN</td>\n",
       "      <td>NaN</td>\n",
       "      <td>NaN</td>\n",
       "      <td>NaN</td>\n",
       "      <td>NaN</td>\n",
       "      <td>NaN</td>\n",
       "      <td>NaN</td>\n",
       "    </tr>\n",
       "    <tr>\n",
       "      <th>107004</th>\n",
       "      <td>1018299</td>\n",
       "      <td>2024-03-04</td>\n",
       "      <td>NaT</td>\n",
       "      <td>N</td>\n",
       "      <td>https://efahrer.chip.de/news/neuvorstellung-des-fiat-pandina-der-panda-bekommt-ein-geschwisterchen_1018299</td>\n",
       "      <td>efa-1018299 | Der Panda bekommt ein kleines Geschwisterchen: Neuvorstellung des Fiat Pandina</td>\n",
       "      <td>Auto</td>\n",
       "      <td>News</td>\n",
       "      <td>Der Panda bekommt ein kleines Geschwisterchen: Neuvorstellung des Fiat Pandina</td>\n",
       "      <td>Jürgen Wolff</td>\n",
       "      <td>NaN</td>\n",
       "      <td>NaN</td>\n",
       "      <td>NaN</td>\n",
       "      <td>41.0</td>\n",
       "      <td>72.0</td>\n",
       "      <td>23.0</td>\n",
       "      <td>771.0</td>\n",
       "    </tr>\n",
       "  </tbody>\n",
       "</table>\n",
       "</div>"
      ],
      "text/plain": [
       "        page_id       date publishing_date publish_date_equal_to_date   \n",
       "40600   1018299 2024-03-04             NaT                          N  \\\n",
       "107004  1018299 2024-03-04             NaT                          N   \n",
       "\n",
       "                                                                                                               url   \n",
       "40600   https://efahrer.chip.de/news/neuvorstellung-des-fiat-pandina-der-panda-bekommt-ein-geschwisterchen_1018299  \\\n",
       "107004  https://efahrer.chip.de/news/neuvorstellung-des-fiat-pandina-der-panda-bekommt-ein-geschwisterchen_1018299   \n",
       "\n",
       "                                                                                           page_name   \n",
       "40600   efa-1018299 | Der Panda bekommt ein kleines Geschwisterchen: Neuvorstellung des Fiat Pandina  \\\n",
       "107004  efa-1018299 | Der Panda bekommt ein kleines Geschwisterchen: Neuvorstellung des Fiat Pandina   \n",
       "\n",
       "       classification_product classification_type   \n",
       "40600                    Auto                News  \\\n",
       "107004                   Auto                News   \n",
       "\n",
       "                                                                                  title   \n",
       "40600    Der Panda bekommt ein kleines Geschwisterchen: Neuvorstellung des Fiat Pandina  \\\n",
       "107004   Der Panda bekommt ein kleines Geschwisterchen: Neuvorstellung des Fiat Pandina   \n",
       "\n",
       "             authors  daily_likes  daily_dislikes  word_count  video_play   \n",
       "40600   Jürgen Wolff          NaN             NaN         NaN         NaN  \\\n",
       "107004  Jürgen Wolff          NaN             NaN         NaN        41.0   \n",
       "\n",
       "        page_impressions  external_clicks  external_impressions  \n",
       "40600                NaN              NaN                   NaN  \n",
       "107004              72.0             23.0                 771.0  "
      ]
     },
     "execution_count": 65,
     "metadata": {},
     "output_type": "execute_result"
    }
   ],
   "source": [
    "df2[df2[key_columns].duplicated(keep=False)] # keep=False keeps all duplicated values\n",
    "                                    #.sort_values(['page_id', 'date', 'url', 'page_author'])"
   ]
  },
  {
   "cell_type": "markdown",
   "metadata": {},
   "source": [
    "Same mistake is in `df2`: remove it."
   ]
  },
  {
   "cell_type": "code",
   "execution_count": 66,
   "metadata": {},
   "outputs": [],
   "source": [
    "df2.drop(40600, inplace=True)"
   ]
  },
  {
   "cell_type": "code",
   "execution_count": 67,
   "metadata": {},
   "outputs": [
    {
     "name": "stdout",
     "output_type": "stream",
     "text": [
      "No duplicates are in the second dataframe\n"
     ]
    }
   ],
   "source": [
    "if df2[key_columns].shape == df2[key_columns].drop_duplicates().shape:\n",
    "    print('No duplicates are in the second dataframe')\n",
    "else: \n",
    "    print('Duplicated entries present: merging will blow up the data frame size')"
   ]
  },
  {
   "cell_type": "markdown",
   "metadata": {},
   "source": [
    "Yuppi, now we are ready to merge!"
   ]
  },
  {
   "cell_type": "markdown",
   "metadata": {},
   "source": [
    "## Merging\n",
    "\n",
    "Using the `left` merging: we already know that `df1` is malformatted"
   ]
  },
  {
   "cell_type": "code",
   "execution_count": null,
   "metadata": {},
   "outputs": [],
   "source": [
    "df = pd.merge(left=df2, right=df1, on=key_columns, how='left') \n",
    "# in principle, even the page_id is redundant in this case, \n",
    "# because each url contains the page id as the suffix\n",
    "\n",
    "df"
   ]
  },
  {
   "cell_type": "code",
   "execution_count": 69,
   "metadata": {},
   "outputs": [
    {
     "data": {
      "text/plain": [
       "(132845, 17)"
      ]
     },
     "execution_count": 69,
     "metadata": {},
     "output_type": "execute_result"
    }
   ],
   "source": [
    "df2.shape"
   ]
  },
  {
   "cell_type": "code",
   "execution_count": null,
   "metadata": {},
   "outputs": [],
   "source": [
    "mgn.matrix(df);"
   ]
  },
  {
   "cell_type": "markdown",
   "metadata": {},
   "source": [
    "Cleaning up"
   ]
  },
  {
   "cell_type": "code",
   "execution_count": 72,
   "metadata": {},
   "outputs": [],
   "source": [
    "del df1\n",
    "del df2"
   ]
  },
  {
   "cell_type": "markdown",
   "metadata": {},
   "source": [
    "## Imputing"
   ]
  },
  {
   "cell_type": "code",
   "execution_count": 141,
   "metadata": {},
   "outputs": [],
   "source": [
    "df = df.sort_values(['page_id', 'date', 'publishing_date', 'url']).reset_index(drop=True)"
   ]
  },
  {
   "cell_type": "code",
   "execution_count": null,
   "metadata": {},
   "outputs": [],
   "source": [
    "mgn.matrix(df);"
   ]
  },
  {
   "cell_type": "markdown",
   "metadata": {},
   "source": [
    "#### Article versions"
   ]
  },
  {
   "cell_type": "code",
   "execution_count": 143,
   "metadata": {},
   "outputs": [
    {
     "data": {
      "text/html": [
       "<div>\n",
       "<style scoped>\n",
       "    .dataframe tbody tr th:only-of-type {\n",
       "        vertical-align: middle;\n",
       "    }\n",
       "\n",
       "    .dataframe tbody tr th {\n",
       "        vertical-align: top;\n",
       "    }\n",
       "\n",
       "    .dataframe thead th {\n",
       "        text-align: right;\n",
       "    }\n",
       "</style>\n",
       "<table border=\"1\" class=\"dataframe\">\n",
       "  <thead>\n",
       "    <tr style=\"text-align: right;\">\n",
       "      <th></th>\n",
       "      <th>page_id</th>\n",
       "      <th>date</th>\n",
       "      <th>publishing_date</th>\n",
       "      <th>publish_date_equal_to_date</th>\n",
       "      <th>url</th>\n",
       "      <th>page_name</th>\n",
       "      <th>classification_product</th>\n",
       "      <th>classification_type</th>\n",
       "      <th>title</th>\n",
       "      <th>authors</th>\n",
       "      <th>daily_likes</th>\n",
       "      <th>daily_dislikes</th>\n",
       "      <th>word_count</th>\n",
       "      <th>video_play</th>\n",
       "      <th>page_impressions</th>\n",
       "      <th>external_clicks</th>\n",
       "      <th>external_impressions</th>\n",
       "      <th>clickouts</th>\n",
       "    </tr>\n",
       "  </thead>\n",
       "  <tbody>\n",
       "  </tbody>\n",
       "</table>\n",
       "</div>"
      ],
      "text/plain": [
       "Empty DataFrame\n",
       "Columns: [page_id, date, publishing_date, publish_date_equal_to_date, url, page_name, classification_product, classification_type, title, authors, daily_likes, daily_dislikes, word_count, video_play, page_impressions, external_clicks, external_impressions, clickouts]\n",
       "Index: []"
      ]
     },
     "execution_count": 143,
     "metadata": {},
     "output_type": "execute_result"
    }
   ],
   "source": [
    "df[(df['publish_date_equal_to_date'] == 'Y') & (df['publishing_date'].isna())]"
   ]
  },
  {
   "cell_type": "markdown",
   "metadata": {},
   "source": [
    "Attention: some articles were scheduled for an update (or first publication), therefore have already existing entries and stats (likes, dislikes, etc.)"
   ]
  },
  {
   "cell_type": "code",
   "execution_count": 144,
   "metadata": {},
   "outputs": [],
   "source": [
    "scheduled_articles = df.query('date < publishing_date')#[df.columns.drop(['url', 'title', 'page_name'])]"
   ]
  },
  {
   "cell_type": "code",
   "execution_count": 145,
   "metadata": {},
   "outputs": [],
   "source": [
    "scheduled_articles_ids = scheduled_articles.page_id.unique()"
   ]
  },
  {
   "cell_type": "code",
   "execution_count": 176,
   "metadata": {},
   "outputs": [
    {
     "data": {
      "text/plain": [
       "Index(['page_id', 'date', 'publishing_date', 'publish_date_equal_to_date',\n",
       "       'url', 'page_name', 'classification_product', 'classification_type',\n",
       "       'title', 'authors', 'daily_likes', 'daily_dislikes', 'word_count',\n",
       "       'video_play', 'page_impressions', 'external_clicks',\n",
       "       'external_impressions', 'clickouts'],\n",
       "      dtype='object')"
      ]
     },
     "execution_count": 176,
     "metadata": {},
     "output_type": "execute_result"
    }
   ],
   "source": [
    "df.columns"
   ]
  },
  {
   "cell_type": "code",
   "execution_count": 146,
   "metadata": {},
   "outputs": [
    {
     "data": {
      "text/html": [
       "<div>\n",
       "<style scoped>\n",
       "    .dataframe tbody tr th:only-of-type {\n",
       "        vertical-align: middle;\n",
       "    }\n",
       "\n",
       "    .dataframe tbody tr th {\n",
       "        vertical-align: top;\n",
       "    }\n",
       "\n",
       "    .dataframe thead th {\n",
       "        text-align: right;\n",
       "    }\n",
       "</style>\n",
       "<table border=\"1\" class=\"dataframe\">\n",
       "  <thead>\n",
       "    <tr style=\"text-align: right;\">\n",
       "      <th></th>\n",
       "      <th>page_id</th>\n",
       "      <th>date</th>\n",
       "      <th>publishing_date</th>\n",
       "      <th>word_count</th>\n",
       "    </tr>\n",
       "  </thead>\n",
       "  <tbody>\n",
       "    <tr>\n",
       "      <th>0</th>\n",
       "      <td>1037</td>\n",
       "      <td>2024-03-13</td>\n",
       "      <td>2024-03-10</td>\n",
       "      <td>827.0</td>\n",
       "    </tr>\n",
       "    <tr>\n",
       "      <th>1</th>\n",
       "      <td>1037</td>\n",
       "      <td>2024-03-13</td>\n",
       "      <td>2024-03-10</td>\n",
       "      <td>827.0</td>\n",
       "    </tr>\n",
       "    <tr>\n",
       "      <th>2</th>\n",
       "      <td>1037</td>\n",
       "      <td>2024-03-14</td>\n",
       "      <td>2024-03-10</td>\n",
       "      <td>827.0</td>\n",
       "    </tr>\n",
       "    <tr>\n",
       "      <th>3</th>\n",
       "      <td>1037</td>\n",
       "      <td>2024-03-15</td>\n",
       "      <td>2024-03-10</td>\n",
       "      <td>827.0</td>\n",
       "    </tr>\n",
       "    <tr>\n",
       "      <th>4</th>\n",
       "      <td>1037</td>\n",
       "      <td>2024-03-16</td>\n",
       "      <td>2024-03-10</td>\n",
       "      <td>827.0</td>\n",
       "    </tr>\n",
       "    <tr>\n",
       "      <th>...</th>\n",
       "      <td>...</td>\n",
       "      <td>...</td>\n",
       "      <td>...</td>\n",
       "      <td>...</td>\n",
       "    </tr>\n",
       "    <tr>\n",
       "      <th>132840</th>\n",
       "      <td>1018768</td>\n",
       "      <td>2024-03-23</td>\n",
       "      <td>NaT</td>\n",
       "      <td>NaN</td>\n",
       "    </tr>\n",
       "    <tr>\n",
       "      <th>132841</th>\n",
       "      <td>1018770</td>\n",
       "      <td>2024-03-23</td>\n",
       "      <td>NaT</td>\n",
       "      <td>NaN</td>\n",
       "    </tr>\n",
       "    <tr>\n",
       "      <th>132842</th>\n",
       "      <td>1018771</td>\n",
       "      <td>2024-03-23</td>\n",
       "      <td>NaT</td>\n",
       "      <td>NaN</td>\n",
       "    </tr>\n",
       "    <tr>\n",
       "      <th>132843</th>\n",
       "      <td>1018776</td>\n",
       "      <td>2024-03-23</td>\n",
       "      <td>NaT</td>\n",
       "      <td>NaN</td>\n",
       "    </tr>\n",
       "    <tr>\n",
       "      <th>132844</th>\n",
       "      <td>1018782</td>\n",
       "      <td>2024-03-23</td>\n",
       "      <td>NaT</td>\n",
       "      <td>NaN</td>\n",
       "    </tr>\n",
       "  </tbody>\n",
       "</table>\n",
       "<p>132845 rows × 4 columns</p>\n",
       "</div>"
      ],
      "text/plain": [
       "        page_id       date publishing_date  word_count\n",
       "0          1037 2024-03-13      2024-03-10       827.0\n",
       "1          1037 2024-03-13      2024-03-10       827.0\n",
       "2          1037 2024-03-14      2024-03-10       827.0\n",
       "3          1037 2024-03-15      2024-03-10       827.0\n",
       "4          1037 2024-03-16      2024-03-10       827.0\n",
       "...         ...        ...             ...         ...\n",
       "132840  1018768 2024-03-23             NaT         NaN\n",
       "132841  1018770 2024-03-23             NaT         NaN\n",
       "132842  1018771 2024-03-23             NaT         NaN\n",
       "132843  1018776 2024-03-23             NaT         NaN\n",
       "132844  1018782 2024-03-23             NaT         NaN\n",
       "\n",
       "[132845 rows x 4 columns]"
      ]
     },
     "execution_count": 146,
     "metadata": {},
     "output_type": "execute_result"
    }
   ],
   "source": [
    "# Grouping, so we are not filling in the values from other articles!\n",
    "versions = df.groupby(['page_id'], as_index=False, sort=True)[\n",
    "    ['page_id', 'date', 'publishing_date', 'word_count']\n",
    "    ].ffill()\n",
    "#versions.rename({'index': 'page_id'}, axis=1, inplace=True)\n",
    "versions"
   ]
  },
  {
   "cell_type": "code",
   "execution_count": 147,
   "metadata": {},
   "outputs": [
    {
     "data": {
      "text/plain": [
       "False"
      ]
     },
     "execution_count": 147,
     "metadata": {},
     "output_type": "execute_result"
    }
   ],
   "source": [
    "versions.query('date < publishing_date').shape[0] == scheduled_articles.shape[0]"
   ]
  },
  {
   "cell_type": "code",
   "execution_count": 148,
   "metadata": {},
   "outputs": [
    {
     "data": {
      "text/plain": [
       "Index([14802, 54942, 54943, 54944, 54945, 67690, 67691, 91857], dtype='int64')"
      ]
     },
     "execution_count": 148,
     "metadata": {},
     "output_type": "execute_result"
    }
   ],
   "source": [
    "wtf_idx = versions.query('date < publishing_date').index.difference(scheduled_articles.index)\n",
    "wtf_idx"
   ]
  },
  {
   "cell_type": "markdown",
   "metadata": {},
   "source": [
    "<font color=red> We'll assume that all articles which don't have a publishing date but were scheduled for an update are actually REALLY OLD and were published at the around inception of EFAHRER (01-01-2018) </font>"
   ]
  },
  {
   "cell_type": "code",
   "execution_count": 161,
   "metadata": {},
   "outputs": [],
   "source": [
    "df.loc[df.date < df.publishing_date, 'publishing_date'] = pd.Timestamp('2018-01-01 00:00:00')"
   ]
  },
  {
   "cell_type": "markdown",
   "metadata": {},
   "source": [
    "For some pages we simply don't know the date of first publication! We need to impute it for modelling.\n",
    "Which articles are those?"
   ]
  },
  {
   "cell_type": "code",
   "execution_count": 92,
   "metadata": {},
   "outputs": [
    {
     "data": {
      "text/plain": [
       "array([  10245,   10273,   10372, ..., 1018771, 1018776, 1018782])"
      ]
     },
     "execution_count": 92,
     "metadata": {},
     "output_type": "execute_result"
    }
   ],
   "source": [
    "no_publ_date = versions[versions.publishing_date.isna()].page_id.unique()\n",
    "no_publ_date"
   ]
  },
  {
   "cell_type": "code",
   "execution_count": 93,
   "metadata": {},
   "outputs": [
    {
     "data": {
      "text/plain": [
       "(2319,)"
      ]
     },
     "execution_count": 93,
     "metadata": {},
     "output_type": "execute_result"
    }
   ],
   "source": [
    "no_publ_date.shape "
   ]
  },
  {
   "cell_type": "code",
   "execution_count": 95,
   "metadata": {},
   "outputs": [
    {
     "data": {
      "text/plain": [
       "0.33613567183649806"
      ]
     },
     "execution_count": 95,
     "metadata": {},
     "output_type": "execute_result"
    }
   ],
   "source": [
    "len(no_publ_date) / len(df.page_id.unique())"
   ]
  },
  {
   "cell_type": "markdown",
   "metadata": {},
   "source": [
    "So those entries comprise almost 34 % of all articles :("
   ]
  },
  {
   "cell_type": "markdown",
   "metadata": {},
   "source": [
    "**For those we apply the same imputing**"
   ]
  },
  {
   "cell_type": "code",
   "execution_count": 162,
   "metadata": {},
   "outputs": [],
   "source": [
    "df.loc[df.page_id.isin(no_publ_date), 'publishing_date'] = pd.Timestamp('2018-01-01 00:00:00')"
   ]
  },
  {
   "cell_type": "markdown",
   "metadata": {},
   "source": [
    "<font color=red> Assuming that when the word counts do not change unless ptherwise specified </font>"
   ]
  },
  {
   "cell_type": "code",
   "execution_count": 173,
   "metadata": {},
   "outputs": [
    {
     "data": {
      "text/html": [
       "<div>\n",
       "<style scoped>\n",
       "    .dataframe tbody tr th:only-of-type {\n",
       "        vertical-align: middle;\n",
       "    }\n",
       "\n",
       "    .dataframe tbody tr th {\n",
       "        vertical-align: top;\n",
       "    }\n",
       "\n",
       "    .dataframe thead th {\n",
       "        text-align: right;\n",
       "    }\n",
       "</style>\n",
       "<table border=\"1\" class=\"dataframe\">\n",
       "  <thead>\n",
       "    <tr style=\"text-align: right;\">\n",
       "      <th></th>\n",
       "      <th>page_id</th>\n",
       "      <th>date</th>\n",
       "      <th>publishing_date</th>\n",
       "      <th>word_count</th>\n",
       "    </tr>\n",
       "  </thead>\n",
       "  <tbody>\n",
       "    <tr>\n",
       "      <th>0</th>\n",
       "      <td>1037</td>\n",
       "      <td>2024-03-13</td>\n",
       "      <td>2024-03-10</td>\n",
       "      <td>827.0</td>\n",
       "    </tr>\n",
       "    <tr>\n",
       "      <th>2</th>\n",
       "      <td>1037</td>\n",
       "      <td>2024-03-14</td>\n",
       "      <td>2024-03-10</td>\n",
       "      <td>827.0</td>\n",
       "    </tr>\n",
       "    <tr>\n",
       "      <th>3</th>\n",
       "      <td>1037</td>\n",
       "      <td>2024-03-15</td>\n",
       "      <td>2024-03-10</td>\n",
       "      <td>827.0</td>\n",
       "    </tr>\n",
       "    <tr>\n",
       "      <th>4</th>\n",
       "      <td>1037</td>\n",
       "      <td>2024-03-16</td>\n",
       "      <td>2024-03-10</td>\n",
       "      <td>827.0</td>\n",
       "    </tr>\n",
       "    <tr>\n",
       "      <th>5</th>\n",
       "      <td>1037</td>\n",
       "      <td>2024-03-17</td>\n",
       "      <td>2024-03-10</td>\n",
       "      <td>827.0</td>\n",
       "    </tr>\n",
       "    <tr>\n",
       "      <th>...</th>\n",
       "      <td>...</td>\n",
       "      <td>...</td>\n",
       "      <td>...</td>\n",
       "      <td>...</td>\n",
       "    </tr>\n",
       "    <tr>\n",
       "      <th>132840</th>\n",
       "      <td>1018768</td>\n",
       "      <td>2024-03-23</td>\n",
       "      <td>2018-01-01</td>\n",
       "      <td>NaN</td>\n",
       "    </tr>\n",
       "    <tr>\n",
       "      <th>132841</th>\n",
       "      <td>1018770</td>\n",
       "      <td>2024-03-23</td>\n",
       "      <td>2018-01-01</td>\n",
       "      <td>NaN</td>\n",
       "    </tr>\n",
       "    <tr>\n",
       "      <th>132842</th>\n",
       "      <td>1018771</td>\n",
       "      <td>2024-03-23</td>\n",
       "      <td>2018-01-01</td>\n",
       "      <td>NaN</td>\n",
       "    </tr>\n",
       "    <tr>\n",
       "      <th>132843</th>\n",
       "      <td>1018776</td>\n",
       "      <td>2024-03-23</td>\n",
       "      <td>2018-01-01</td>\n",
       "      <td>NaN</td>\n",
       "    </tr>\n",
       "    <tr>\n",
       "      <th>132844</th>\n",
       "      <td>1018782</td>\n",
       "      <td>2024-03-23</td>\n",
       "      <td>2018-01-01</td>\n",
       "      <td>NaN</td>\n",
       "    </tr>\n",
       "  </tbody>\n",
       "</table>\n",
       "<p>109011 rows × 4 columns</p>\n",
       "</div>"
      ],
      "text/plain": [
       "        page_id       date publishing_date  word_count\n",
       "0          1037 2024-03-13      2024-03-10       827.0\n",
       "2          1037 2024-03-14      2024-03-10       827.0\n",
       "3          1037 2024-03-15      2024-03-10       827.0\n",
       "4          1037 2024-03-16      2024-03-10       827.0\n",
       "5          1037 2024-03-17      2024-03-10       827.0\n",
       "...         ...        ...             ...         ...\n",
       "132840  1018768 2024-03-23      2018-01-01         NaN\n",
       "132841  1018770 2024-03-23      2018-01-01         NaN\n",
       "132842  1018771 2024-03-23      2018-01-01         NaN\n",
       "132843  1018776 2024-03-23      2018-01-01         NaN\n",
       "132844  1018782 2024-03-23      2018-01-01         NaN\n",
       "\n",
       "[109011 rows x 4 columns]"
      ]
     },
     "execution_count": 173,
     "metadata": {},
     "output_type": "execute_result"
    }
   ],
   "source": [
    "versions2 = df.groupby(['page_id'], as_index=False, sort=True)[\n",
    "    ['page_id', 'date', 'publishing_date', 'word_count']\n",
    "    ].ffill().drop_duplicates()\n",
    "\n",
    "versions2"
   ]
  },
  {
   "cell_type": "code",
   "execution_count": 124,
   "metadata": {},
   "outputs": [
    {
     "data": {
      "text/html": [
       "<div>\n",
       "<style scoped>\n",
       "    .dataframe tbody tr th:only-of-type {\n",
       "        vertical-align: middle;\n",
       "    }\n",
       "\n",
       "    .dataframe tbody tr th {\n",
       "        vertical-align: top;\n",
       "    }\n",
       "\n",
       "    .dataframe thead th {\n",
       "        text-align: right;\n",
       "    }\n",
       "</style>\n",
       "<table border=\"1\" class=\"dataframe\">\n",
       "  <thead>\n",
       "    <tr style=\"text-align: right;\">\n",
       "      <th></th>\n",
       "      <th>page_id</th>\n",
       "      <th>date</th>\n",
       "      <th>publishing_date</th>\n",
       "      <th>word_count</th>\n",
       "      <th>publish_date_equal_to_date</th>\n",
       "    </tr>\n",
       "  </thead>\n",
       "  <tbody>\n",
       "    <tr>\n",
       "      <th>89633</th>\n",
       "      <td>105345</td>\n",
       "      <td>2023-01-12</td>\n",
       "      <td>2023-01-13</td>\n",
       "      <td>1939.0</td>\n",
       "      <td>N</td>\n",
       "    </tr>\n",
       "    <tr>\n",
       "      <th>1370</th>\n",
       "      <td>107173</td>\n",
       "      <td>2023-07-13</td>\n",
       "      <td>2023-07-14</td>\n",
       "      <td>937.0</td>\n",
       "      <td>N</td>\n",
       "    </tr>\n",
       "    <tr>\n",
       "      <th>14</th>\n",
       "      <td>107341</td>\n",
       "      <td>2023-01-13</td>\n",
       "      <td>2023-01-16</td>\n",
       "      <td>602.0</td>\n",
       "      <td>N</td>\n",
       "    </tr>\n",
       "    <tr>\n",
       "      <th>33732</th>\n",
       "      <td>107341</td>\n",
       "      <td>2023-01-13</td>\n",
       "      <td>2023-01-16</td>\n",
       "      <td>602.0</td>\n",
       "      <td>N</td>\n",
       "    </tr>\n",
       "    <tr>\n",
       "      <th>101787</th>\n",
       "      <td>107341</td>\n",
       "      <td>2023-01-15</td>\n",
       "      <td>2023-01-16</td>\n",
       "      <td>602.0</td>\n",
       "      <td>N</td>\n",
       "    </tr>\n",
       "    <tr>\n",
       "      <th>44870</th>\n",
       "      <td>1011437</td>\n",
       "      <td>2023-04-21</td>\n",
       "      <td>2023-04-22</td>\n",
       "      <td>918.0</td>\n",
       "      <td>N</td>\n",
       "    </tr>\n",
       "    <tr>\n",
       "      <th>90710</th>\n",
       "      <td>1011437</td>\n",
       "      <td>2023-07-13</td>\n",
       "      <td>2023-07-14</td>\n",
       "      <td>882.0</td>\n",
       "      <td>N</td>\n",
       "    </tr>\n",
       "    <tr>\n",
       "      <th>119475</th>\n",
       "      <td>1011759</td>\n",
       "      <td>2023-05-19</td>\n",
       "      <td>2023-05-22</td>\n",
       "      <td>698.0</td>\n",
       "      <td>N</td>\n",
       "    </tr>\n",
       "    <tr>\n",
       "      <th>68467</th>\n",
       "      <td>1011759</td>\n",
       "      <td>2023-05-19</td>\n",
       "      <td>2023-05-22</td>\n",
       "      <td>698.0</td>\n",
       "      <td>N</td>\n",
       "    </tr>\n",
       "    <tr>\n",
       "      <th>85111</th>\n",
       "      <td>1011759</td>\n",
       "      <td>2023-05-19</td>\n",
       "      <td>2023-05-22</td>\n",
       "      <td>698.0</td>\n",
       "      <td>N</td>\n",
       "    </tr>\n",
       "    <tr>\n",
       "      <th>66368</th>\n",
       "      <td>1011759</td>\n",
       "      <td>2023-05-20</td>\n",
       "      <td>2023-05-22</td>\n",
       "      <td>698.0</td>\n",
       "      <td>N</td>\n",
       "    </tr>\n",
       "    <tr>\n",
       "      <th>125522</th>\n",
       "      <td>1011759</td>\n",
       "      <td>2023-05-21</td>\n",
       "      <td>2023-05-22</td>\n",
       "      <td>698.0</td>\n",
       "      <td>N</td>\n",
       "    </tr>\n",
       "    <tr>\n",
       "      <th>63610</th>\n",
       "      <td>1011759</td>\n",
       "      <td>2023-05-21</td>\n",
       "      <td>2023-05-22</td>\n",
       "      <td>698.0</td>\n",
       "      <td>N</td>\n",
       "    </tr>\n",
       "    <tr>\n",
       "      <th>111346</th>\n",
       "      <td>1011759</td>\n",
       "      <td>2023-05-21</td>\n",
       "      <td>2023-05-22</td>\n",
       "      <td>698.0</td>\n",
       "      <td>N</td>\n",
       "    </tr>\n",
       "    <tr>\n",
       "      <th>60482</th>\n",
       "      <td>1012516</td>\n",
       "      <td>2023-04-26</td>\n",
       "      <td>2023-04-29</td>\n",
       "      <td>568.0</td>\n",
       "      <td>N</td>\n",
       "    </tr>\n",
       "    <tr>\n",
       "      <th>23679</th>\n",
       "      <td>1012516</td>\n",
       "      <td>2023-04-27</td>\n",
       "      <td>2023-04-29</td>\n",
       "      <td>568.0</td>\n",
       "      <td>N</td>\n",
       "    </tr>\n",
       "    <tr>\n",
       "      <th>11235</th>\n",
       "      <td>1012516</td>\n",
       "      <td>2023-04-28</td>\n",
       "      <td>2023-04-29</td>\n",
       "      <td>568.0</td>\n",
       "      <td>N</td>\n",
       "    </tr>\n",
       "    <tr>\n",
       "      <th>11650</th>\n",
       "      <td>1014312</td>\n",
       "      <td>2023-08-01</td>\n",
       "      <td>2023-08-04</td>\n",
       "      <td>494.0</td>\n",
       "      <td>N</td>\n",
       "    </tr>\n",
       "    <tr>\n",
       "      <th>55403</th>\n",
       "      <td>1014312</td>\n",
       "      <td>2023-08-02</td>\n",
       "      <td>2023-08-04</td>\n",
       "      <td>494.0</td>\n",
       "      <td>N</td>\n",
       "    </tr>\n",
       "  </tbody>\n",
       "</table>\n",
       "</div>"
      ],
      "text/plain": [
       "        page_id       date publishing_date  word_count   \n",
       "89633    105345 2023-01-12      2023-01-13      1939.0  \\\n",
       "1370     107173 2023-07-13      2023-07-14       937.0   \n",
       "14       107341 2023-01-13      2023-01-16       602.0   \n",
       "33732    107341 2023-01-13      2023-01-16       602.0   \n",
       "101787   107341 2023-01-15      2023-01-16       602.0   \n",
       "44870   1011437 2023-04-21      2023-04-22       918.0   \n",
       "90710   1011437 2023-07-13      2023-07-14       882.0   \n",
       "119475  1011759 2023-05-19      2023-05-22       698.0   \n",
       "68467   1011759 2023-05-19      2023-05-22       698.0   \n",
       "85111   1011759 2023-05-19      2023-05-22       698.0   \n",
       "66368   1011759 2023-05-20      2023-05-22       698.0   \n",
       "125522  1011759 2023-05-21      2023-05-22       698.0   \n",
       "63610   1011759 2023-05-21      2023-05-22       698.0   \n",
       "111346  1011759 2023-05-21      2023-05-22       698.0   \n",
       "60482   1012516 2023-04-26      2023-04-29       568.0   \n",
       "23679   1012516 2023-04-27      2023-04-29       568.0   \n",
       "11235   1012516 2023-04-28      2023-04-29       568.0   \n",
       "11650   1014312 2023-08-01      2023-08-04       494.0   \n",
       "55403   1014312 2023-08-02      2023-08-04       494.0   \n",
       "\n",
       "       publish_date_equal_to_date  \n",
       "89633                           N  \n",
       "1370                            N  \n",
       "14                              N  \n",
       "33732                           N  \n",
       "101787                          N  \n",
       "44870                           N  \n",
       "90710                           N  \n",
       "119475                          N  \n",
       "68467                           N  \n",
       "85111                           N  \n",
       "66368                           N  \n",
       "125522                          N  \n",
       "63610                           N  \n",
       "111346                          N  \n",
       "60482                           N  \n",
       "23679                           N  \n",
       "11235                           N  \n",
       "11650                           N  \n",
       "55403                           N  "
      ]
     },
     "execution_count": 124,
     "metadata": {},
     "output_type": "execute_result"
    }
   ],
   "source": [
    "versions[(versions.date < versions.publishing_date)]"
   ]
  },
  {
   "cell_type": "markdown",
   "metadata": {},
   "source": [
    "Merging the imputed columns back in:"
   ]
  },
  {
   "cell_type": "code",
   "execution_count": 166,
   "metadata": {},
   "outputs": [
    {
     "data": {
      "text/plain": [
       "Index(['page_id', 'date', 'publishing_date', 'word_count'], dtype='object')"
      ]
     },
     "execution_count": 166,
     "metadata": {},
     "output_type": "execute_result"
    }
   ],
   "source": [
    "versions2.columns"
   ]
  },
  {
   "cell_type": "code",
   "execution_count": 102,
   "metadata": {},
   "outputs": [
    {
     "data": {
      "text/plain": [
       "Index(['page_id', 'date', 'publish_date_equal_to_date', 'url', 'page_name',\n",
       "       'classification_product', 'classification_type', 'title', 'authors',\n",
       "       'daily_likes', 'daily_dislikes', 'video_play', 'page_impressions',\n",
       "       'external_clicks', 'external_impressions', 'clickouts'],\n",
       "      dtype='object')"
      ]
     },
     "execution_count": 102,
     "metadata": {},
     "output_type": "execute_result"
    }
   ],
   "source": [
    "df.columns.drop('publishing_date').drop('word_count')"
   ]
  },
  {
   "cell_type": "code",
   "execution_count": 171,
   "metadata": {},
   "outputs": [],
   "source": [
    "df_imputed = pd.merge(df[df.columns.drop('publishing_date').drop('word_count')], # drop the non-imputed columns\n",
    "                      versions2,\n",
    "                      on=['page_id', 'date'], how='left')"
   ]
  },
  {
   "cell_type": "code",
   "execution_count": null,
   "metadata": {},
   "outputs": [],
   "source": [
    "mgn.matrix(df_imputed)"
   ]
  },
  {
   "cell_type": "markdown",
   "metadata": {},
   "source": [
    "#### Daily reactions"
   ]
  },
  {
   "cell_type": "code",
   "execution_count": null,
   "metadata": {},
   "outputs": [],
   "source": [
    "df['daily_likes']"
   ]
  },
  {
   "cell_type": "markdown",
   "metadata": {},
   "source": [
    "### Merging in the scraped data\n",
    "\n",
    "Thanks Clara"
   ]
  },
  {
   "cell_type": "code",
   "execution_count": 177,
   "metadata": {},
   "outputs": [],
   "source": [
    "df_scraped = pd.read_csv('../data/scraping_no_duplicates.csv')\n",
    "df_scraped.columns = [col.lower() for col in df_scraped.columns]\n",
    "\n",
    "df_scraped.rename({\n",
    "           #'impressions': 'page_impressions',\n",
    "           'words': 'words_scraped',\n",
    "           'page_efahrer_id': 'page_id',\n",
    "           'page_canonical_url': 'url',\n",
    "           'author': 'author_scraped',\n",
    "           'current_title': 'h1'\n",
    "            }, axis=1, inplace=True)\n",
    "\n",
    "col_to_merge = ['page_id', 'url']\n",
    "df_full = pd.merge(left=df, right=df_scraped, on=col_to_merge, how='left')"
   ]
  },
  {
   "cell_type": "code",
   "execution_count": 179,
   "metadata": {},
   "outputs": [
    {
     "data": {
      "image/png": "[encoded data removed]",
      "text/plain": [
       "<Figure size 2500x1000 with 2 Axes>"
      ]
     },
     "metadata": {},
     "output_type": "display_data"
    }
   ],
   "source": [
    "mgn.matrix(df_full);"
   ]
  },
  {
   "cell_type": "markdown",
   "metadata": {},
   "source": [
    "---"
   ]
  },
  {
   "cell_type": "markdown",
   "metadata": {},
   "source": [
    "# Aggregating \n",
    "\n",
    "For using in subprojects"
   ]
  },
  {
   "cell_type": "code",
   "execution_count": null,
   "metadata": {},
   "outputs": [],
   "source": [
    "page_unique_features = ['page_id', 'publishing_date', 'word_count', 'authors']"
   ]
  },
  {
   "cell_type": "code",
   "execution_count": 183,
   "metadata": {},
   "outputs": [
    {
     "data": {
      "text/plain": [
       "0"
      ]
     },
     "execution_count": 183,
     "metadata": {},
     "output_type": "execute_result"
    }
   ],
   "source": [
    "(df[page_unique_features+['date']].drop_duplicates().value_counts() > 1).sum()"
   ]
  },
  {
   "cell_type": "markdown",
   "metadata": {},
   "source": [
    "this means they are really unique"
   ]
  },
  {
   "cell_type": "markdown",
   "metadata": {},
   "source": [
    "#### Versions"
   ]
  },
  {
   "cell_type": "code",
   "execution_count": null,
   "metadata": {},
   "outputs": [],
   "source": [
    "df.groupby(page_unique_features)."
   ]
  },
  {
   "cell_type": "markdown",
   "metadata": {},
   "source": [
    "### User-side"
   ]
  },
  {
   "cell_type": "markdown",
   "metadata": {},
   "source": [
    "User side features: those which the reader sees"
   ]
  },
  {
   "cell_type": "code",
   "execution_count": null,
   "metadata": {},
   "outputs": [],
   "source": [
    "user_side_features = ['page_id', 'date', 'publish_date', 'word_count', 'words_scraped', \n",
    "                    'page_title', 'page_name', 'title', 'h1', 'authors',  \n",
    "                    'classification_product', 'classification_type']"
   ]
  },
  {
   "cell_type": "code",
   "execution_count": null,
   "metadata": {},
   "outputs": [],
   "source": []
  },
  {
   "cell_type": "markdown",
   "metadata": {},
   "source": [
    "---"
   ]
  },
  {
   "cell_type": "markdown",
   "metadata": {},
   "source": [
    "## Feature engineering"
   ]
  },
  {
   "cell_type": "markdown",
   "metadata": {},
   "source": [
    "### Article (content) versions\n",
    "\n",
    "We want to label each version.\n",
    "* Version changes when there is a new `publication date`\n",
    "* Version changes when there is a new `word count`\n",
    "* Version does NOT change with a change in `URL`\n",
    "* Version does NOT change with a change in the `date` column"
   ]
  },
  {
   "cell_type": "code",
   "execution_count": null,
   "metadata": {},
   "outputs": [],
   "source": [
    "# Only the necessary columns\n",
    "# we still need the 'date' column for imputation\n",
    "df_cnt = df[['page_efahrer_id', 'date', 'published_at', 'word_count']]\n",
    "df_cnt = df_cnt.sort_values(['page_efahrer_id', 'date', 'published_at'])\n",
    "df_cnt"
   ]
  },
  {
   "cell_type": "code",
   "execution_count": null,
   "metadata": {},
   "outputs": [],
   "source": [
    "mgn.matrix(df_cnt);"
   ]
  },
  {
   "cell_type": "markdown",
   "metadata": {},
   "source": [
    "There are some columns where the publication date changed but the `word count` was not updated!"
   ]
  },
  {
   "cell_type": "code",
   "execution_count": null,
   "metadata": {},
   "outputs": [],
   "source": [
    "wcna_idx = df_cnt[df_cnt.word_count.isna() & df_cnt.published_at.notna()].index\n",
    "wcna_idx"
   ]
  },
  {
   "cell_type": "markdown",
   "metadata": {},
   "source": [
    "NOT the other way around:"
   ]
  },
  {
   "cell_type": "code",
   "execution_count": null,
   "metadata": {},
   "outputs": [],
   "source": [
    "df_cnt[df_cnt.word_count.notna() & df_cnt.published_at.isna()].index"
   ]
  },
  {
   "cell_type": "markdown",
   "metadata": {},
   "source": [
    "The best assumption that it did not change (significantly??), so still forward-fill it."
   ]
  },
  {
   "cell_type": "code",
   "execution_count": null,
   "metadata": {},
   "outputs": [],
   "source": [
    "df_cnt = df_cnt.ffill()"
   ]
  },
  {
   "cell_type": "code",
   "execution_count": null,
   "metadata": {},
   "outputs": [],
   "source": [
    "sus = df_cnt.loc[wcna_idx]"
   ]
  },
  {
   "cell_type": "markdown",
   "metadata": {},
   "source": [
    "#### Versions"
   ]
  },
  {
   "cell_type": "code",
   "execution_count": null,
   "metadata": {},
   "outputs": [],
   "source": [
    "df_cnt['publ_at_enc'] = df_cnt.groupby('page_efahrer_id')['published_at'].transform(lambda x: pd.factorize(x)[0])\n",
    "df_cnt"
   ]
  },
  {
   "cell_type": "markdown",
   "metadata": {},
   "source": [
    "How many versions does each article have?"
   ]
  },
  {
   "cell_type": "code",
   "execution_count": null,
   "metadata": {},
   "outputs": [],
   "source": [
    "to_plot = df_cnt[['page_efahrer_id', 'publ_at_enc']].groupby('page_efahrer_id').max()#.reset_index()\n",
    "first_publ_date = df_cnt[['page_efahrer_id', 'published_at']].groupby('page_efahrer_id').min()\n",
    "first_publ_date = first_publ_date.rename({'published_at': 'First publication date'}, axis=1)\n",
    "to_plot = to_plot.join(first_publ_date)\n",
    "to_plot = to_plot.rename({'publ_at_enc': 'Number of versions'}, axis=1)\n",
    "to_plot"
   ]
  },
  {
   "cell_type": "code",
   "execution_count": null,
   "metadata": {},
   "outputs": [],
   "source": [
    "px.scatter(data_frame=to_plot, x='Number of versions', y='First publication date')"
   ]
  },
  {
   "cell_type": "markdown",
   "metadata": {},
   "source": [
    "Article with 61 (!!!) versions:"
   ]
  },
  {
   "cell_type": "code",
   "execution_count": null,
   "metadata": {},
   "outputs": [],
   "source": [
    "metrics_cols = ['page_canonical_url', 'daily_likes', \n",
    "               'daily_dislikes', 'impressions', 'video_play', \n",
    "               'discover_clicks', 'discover_impressions']"
   ]
  },
  {
   "cell_type": "code",
   "execution_count": null,
   "metadata": {},
   "outputs": [],
   "source": [
    "article105259 = df[df['page_efahrer_id']==105259].sort_values(['date', 'page_canonical_url'])\n",
    "article_first_url = article105259[metrics_cols + ['date']].drop_duplicates(subset=['date'], keep='first')"
   ]
  },
  {
   "cell_type": "code",
   "execution_count": null,
   "metadata": {},
   "outputs": [],
   "source": [
    "import matplotlib.pyplot as plt\n",
    "\n",
    "xticks=pd.date_range(df.date.min(), df.date.max(), freq='2M')\n",
    "fig = article_first_url.plot(kind='bar', x='date', y=metrics_cols, subplots=True, figsize=(6, 12), \n",
    "                       xticks=xticks)\n",
    "plt.gca().set_xticklabels([x.strftime('%a\\n%d\\n%h\\n%Y') for x in xticks]);\n",
    "#plt.xticks(ticks=df[['impressions', 'published_at']].resample('W', on='published_at').max().index);\n",
    "#plt.xticks(ticks=pd.date_range(df.date.min(), df.date.max(), freq='2M'),\n",
    "#           labels=pd.date_range(df.date.min(), df.date.max(), freq='2M'));"
   ]
  }
 ],
 "metadata": {
  "kernelspec": {
   "display_name": ".venv",
   "language": "python",
   "name": "python3"
  },
  "language_info": {
   "codemirror_mode": {
    "name": "ipython",
    "version": 3
   },
   "file_extension": ".py",
   "mimetype": "text/x-python",
   "name": "python",
   "nbconvert_exporter": "python",
   "pygments_lexer": "ipython3",
   "version": "3.11.3"
  }
 },
 "nbformat": 4,
 "nbformat_minor": 2
}
