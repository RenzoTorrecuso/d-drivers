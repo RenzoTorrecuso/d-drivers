{
 "cells": [
  {
   "cell_type": "code",
   "execution_count": 1,
   "metadata": {},
   "outputs": [
    {
     "name": "stderr",
     "output_type": "stream",
     "text": [
      "[nltk_data] Downloading package stopwords to /Users/clara/nltk_data...\n",
      "[nltk_data]   Package stopwords is already up-to-date!\n",
      "[nltk_data] Downloading package punkt to /Users/clara/nltk_data...\n",
      "[nltk_data]   Package punkt is already up-to-date!\n",
      "[nltk_data] Downloading package wordnet to /Users/clara/nltk_data...\n",
      "[nltk_data]   Package wordnet is already up-to-date!\n"
     ]
    }
   ],
   "source": [
    "import pandas as pd\n",
    "import nltk\n",
    "nltk.download(\"stopwords\")\n",
    "nltk.download(\"punkt\")\n",
    "nltk.download(\"wordnet\")\n",
    "\n",
    "from nltk.corpus import stopwords\n",
    "from nltk.tokenize import sent_tokenize, word_tokenize\n",
    "from sklearn.feature_extraction.text import CountVectorizer, TfidfVectorizer\n",
    "from sklearn.preprocessing import StandardScaler, PowerTransformer\n",
    "import string\n",
    "\n",
    "stop_words = set(stopwords.words('german'))"
   ]
  },
  {
   "cell_type": "markdown",
   "metadata": {},
   "source": [
    "Extract the most important words from title, h1, abstract, url with NLP (e.g. TF-IDF )"
   ]
  },
  {
   "cell_type": "code",
   "execution_count": 2,
   "metadata": {},
   "outputs": [],
   "source": [
    "df = pd.read_csv('/Users/clara/Desktop/neuefische/d-drivers/data/data_nlp.csv')"
   ]
  },
  {
   "cell_type": "code",
   "execution_count": 3,
   "metadata": {},
   "outputs": [
    {
     "data": {
      "text/plain": [
       "Index(['page_id', 'n_days', 'url', 'n_urls', 'no_versions', 'age',\n",
       "       'last_publish_date', 'publish_date_min', 'word_count',\n",
       "       'classification_product', 'classification_type', 'page_name', 'title',\n",
       "       'last_author', 'external_clicks', 'external_impressions',\n",
       "       'likes_n_days', 'dislikes_n_days', 'video_play', 'page_impressions',\n",
       "       'clickouts', 'ctr', 'h1', 'scraped_author', 'date_scraped', 'abstract',\n",
       "       'scraped_word_count', 'meta_title', 'meta_description',\n",
       "       'meta_image_url', 'media_type', 'page_img_size', 'merged_url',\n",
       "       'meta_title_len', 'meta_desc_len', 'h1_len', 'abstract_len',\n",
       "       'merged_url_len', 'sentiment_abstract', 'confidence_abstract',\n",
       "       'sentiment_meta_title', 'confidence_meta_title'],\n",
       "      dtype='object')"
      ]
     },
     "execution_count": 3,
     "metadata": {},
     "output_type": "execute_result"
    }
   ],
   "source": [
    "df.columns"
   ]
  },
  {
   "cell_type": "code",
   "execution_count": null,
   "metadata": {},
   "outputs": [],
   "source": [
    "# df_nlp = df[['page_id', 'external_clicks', 'external_impressions', 'ctr', 'h1', \n",
    "#         'abstract', 'meta_title', 'meta_description', 'merged_url']]\n",
    "\n",
    "df_nlp = df"
   ]
  },
  {
   "cell_type": "code",
   "execution_count": 4,
   "metadata": {},
   "outputs": [
    {
     "ename": "NameError",
     "evalue": "name 'df_nlp' is not defined",
     "output_type": "error",
     "traceback": [
      "\u001b[0;31m---------------------------------------------------------------------------\u001b[0m",
      "\u001b[0;31mNameError\u001b[0m                                 Traceback (most recent call last)",
      "Cell \u001b[0;32mIn[4], line 1\u001b[0m\n\u001b[0;32m----> 1\u001b[0m \u001b[43mdf_nlp\u001b[49m\u001b[38;5;241m.\u001b[39minfo()\n",
      "\u001b[0;31mNameError\u001b[0m: name 'df_nlp' is not defined"
     ]
    }
   ],
   "source": [
    "df_nlp.info()"
   ]
  },
  {
   "cell_type": "code",
   "execution_count": null,
   "metadata": {},
   "outputs": [
    {
     "data": {
      "text/html": [
       "<div>\n",
       "<style scoped>\n",
       "    .dataframe tbody tr th:only-of-type {\n",
       "        vertical-align: middle;\n",
       "    }\n",
       "\n",
       "    .dataframe tbody tr th {\n",
       "        vertical-align: top;\n",
       "    }\n",
       "\n",
       "    .dataframe thead th {\n",
       "        text-align: right;\n",
       "    }\n",
       "</style>\n",
       "<table border=\"1\" class=\"dataframe\">\n",
       "  <thead>\n",
       "    <tr style=\"text-align: right;\">\n",
       "      <th></th>\n",
       "      <th>page_id</th>\n",
       "      <th>external_clicks</th>\n",
       "      <th>external_impressions</th>\n",
       "      <th>ctr</th>\n",
       "      <th>h1</th>\n",
       "      <th>abstract</th>\n",
       "      <th>meta_title</th>\n",
       "      <th>meta_description</th>\n",
       "      <th>merged_url</th>\n",
       "    </tr>\n",
       "  </thead>\n",
       "  <tbody>\n",
       "    <tr>\n",
       "      <th>0</th>\n",
       "      <td>1037</td>\n",
       "      <td>256.0</td>\n",
       "      <td>5444.0</td>\n",
       "      <td>4.702425</td>\n",
       "      <td>Elektrofahrzeug-Ladestation: Kosten und Anbiet...</td>\n",
       "      <td>Im Grunde kann man sein E-Auto überall laden, ...</td>\n",
       "      <td>Elektrofahrzeug-Ladestation: Anbieter, Kosten,...</td>\n",
       "      <td>Ladestationen für Elektroautos. Kosten und Anb...</td>\n",
       "      <td>['elektrofahrzeug', 'ladestation']</td>\n",
       "    </tr>\n",
       "    <tr>\n",
       "      <th>1</th>\n",
       "      <td>1039</td>\n",
       "      <td>124.0</td>\n",
       "      <td>1728.0</td>\n",
       "      <td>7.175926</td>\n",
       "      <td>Elektroauto-Förderung 2024: Wo Sie noch satt a...</td>\n",
       "      <td>Die große staatliche Förderung für Elektroauto...</td>\n",
       "      <td>E-Auto Förderung 2024: Alle Infos im Überblick</td>\n",
       "      <td>E-Auto Prämie 2024- so können Sie beim Kauf Ge...</td>\n",
       "      <td>['absahnen', 'koennen', 'satt', '2024', 'sie',...</td>\n",
       "    </tr>\n",
       "    <tr>\n",
       "      <th>2</th>\n",
       "      <td>1040</td>\n",
       "      <td>83.0</td>\n",
       "      <td>2575.0</td>\n",
       "      <td>3.223301</td>\n",
       "      <td>Hätten Sie es gewusst? So lange gibt es schon ...</td>\n",
       "      <td>Noch vor wenigen Jahren wurden Elektroautos al...</td>\n",
       "      <td>Hätten Sie es gewusst? So lange gibt es schon ...</td>\n",
       "      <td>Noch vor wenigen Jahren wurden Elektroautos al...</td>\n",
       "      <td>['so', 'gewusst', 'e', 'haetten', 'autos', 'si...</td>\n",
       "    </tr>\n",
       "    <tr>\n",
       "      <th>3</th>\n",
       "      <td>10245</td>\n",
       "      <td>80.0</td>\n",
       "      <td>845.0</td>\n",
       "      <td>9.467456</td>\n",
       "      <td>Kleinstes Auto der Welt kommt zurück: Fans kön...</td>\n",
       "      <td>Der P.50, auch bekannt als das kleinste Auto d...</td>\n",
       "      <td>Kleinstes Auto der Welt kommt zurück: Fans kön...</td>\n",
       "      <td>Der P.50, auch bekannt als das kleinste Auto d...</td>\n",
       "      <td>['zurueck', 'welt', 'fans', 'koennen', 'kommt'...</td>\n",
       "    </tr>\n",
       "    <tr>\n",
       "      <th>4</th>\n",
       "      <td>10273</td>\n",
       "      <td>3384.0</td>\n",
       "      <td>94132.0</td>\n",
       "      <td>3.594952</td>\n",
       "      <td>Mehr Reichweite im Winter: So holen Sie alles ...</td>\n",
       "      <td>Wer freut sich schon über eisige Kälte? E-Auto...</td>\n",
       "      <td>Mehr Reichweite im Winter: So holen Sie alles ...</td>\n",
       "      <td>Wer freut sich schon über eisige Kälte? E-Auto...</td>\n",
       "      <td>['so', 'e', 'ihrem', 'raus', 'reichweite', 'au...</td>\n",
       "    </tr>\n",
       "  </tbody>\n",
       "</table>\n",
       "</div>"
      ],
      "text/plain": [
       "   page_id  external_clicks  external_impressions       ctr   \n",
       "0     1037            256.0                5444.0  4.702425  \\\n",
       "1     1039            124.0                1728.0  7.175926   \n",
       "2     1040             83.0                2575.0  3.223301   \n",
       "3    10245             80.0                 845.0  9.467456   \n",
       "4    10273           3384.0               94132.0  3.594952   \n",
       "\n",
       "                                                  h1   \n",
       "0  Elektrofahrzeug-Ladestation: Kosten und Anbiet...  \\\n",
       "1  Elektroauto-Förderung 2024: Wo Sie noch satt a...   \n",
       "2  Hätten Sie es gewusst? So lange gibt es schon ...   \n",
       "3  Kleinstes Auto der Welt kommt zurück: Fans kön...   \n",
       "4  Mehr Reichweite im Winter: So holen Sie alles ...   \n",
       "\n",
       "                                            abstract   \n",
       "0  Im Grunde kann man sein E-Auto überall laden, ...  \\\n",
       "1  Die große staatliche Förderung für Elektroauto...   \n",
       "2  Noch vor wenigen Jahren wurden Elektroautos al...   \n",
       "3  Der P.50, auch bekannt als das kleinste Auto d...   \n",
       "4  Wer freut sich schon über eisige Kälte? E-Auto...   \n",
       "\n",
       "                                          meta_title   \n",
       "0  Elektrofahrzeug-Ladestation: Anbieter, Kosten,...  \\\n",
       "1     E-Auto Förderung 2024: Alle Infos im Überblick   \n",
       "2  Hätten Sie es gewusst? So lange gibt es schon ...   \n",
       "3  Kleinstes Auto der Welt kommt zurück: Fans kön...   \n",
       "4  Mehr Reichweite im Winter: So holen Sie alles ...   \n",
       "\n",
       "                                    meta_description   \n",
       "0  Ladestationen für Elektroautos. Kosten und Anb...  \\\n",
       "1  E-Auto Prämie 2024- so können Sie beim Kauf Ge...   \n",
       "2  Noch vor wenigen Jahren wurden Elektroautos al...   \n",
       "3  Der P.50, auch bekannt als das kleinste Auto d...   \n",
       "4  Wer freut sich schon über eisige Kälte? E-Auto...   \n",
       "\n",
       "                                          merged_url  \n",
       "0                 ['elektrofahrzeug', 'ladestation']  \n",
       "1  ['absahnen', 'koennen', 'satt', '2024', 'sie',...  \n",
       "2  ['so', 'gewusst', 'e', 'haetten', 'autos', 'si...  \n",
       "3  ['zurueck', 'welt', 'fans', 'koennen', 'kommt'...  \n",
       "4  ['so', 'e', 'ihrem', 'raus', 'reichweite', 'au...  "
      ]
     },
     "metadata": {},
     "output_type": "display_data"
    }
   ],
   "source": [
    "df_nlp.head()"
   ]
  },
  {
   "cell_type": "markdown",
   "metadata": {},
   "source": [
    "### Scale target variable"
   ]
  },
  {
   "cell_type": "code",
   "execution_count": null,
   "metadata": {},
   "outputs": [
    {
     "name": "stderr",
     "output_type": "stream",
     "text": [
      "/var/folders/5s/w7hst37d0tv0r4hby2_mqqp00000gn/T/ipykernel_44820/2008779672.py:4: SettingWithCopyWarning: \n",
      "A value is trying to be set on a copy of a slice from a DataFrame.\n",
      "Try using .loc[row_indexer,col_indexer] = value instead\n",
      "\n",
      "See the caveats in the documentation: https://pandas.pydata.org/pandas-docs/stable/user_guide/indexing.html#returning-a-view-versus-a-copy\n",
      "  df_nlp['external_impressions_scaled'] = scaler.transform(df_nlp[['external_impressions']])\n"
     ]
    }
   ],
   "source": [
    "scaler = PowerTransformer()\n",
    "scaler.fit(df_nlp[['external_impressions']])\n",
    "# Transform the target variable\n",
    "df_nlp['external_impressions_scaled'] = scaler.transform(df_nlp[['external_impressions']])"
   ]
  },
  {
   "cell_type": "markdown",
   "metadata": {},
   "source": [
    "### Remove stop words"
   ]
  },
  {
   "cell_type": "code",
   "execution_count": null,
   "metadata": {},
   "outputs": [
    {
     "name": "stderr",
     "output_type": "stream",
     "text": [
      "/var/folders/5s/w7hst37d0tv0r4hby2_mqqp00000gn/T/ipykernel_44820/4158781637.py:13: SettingWithCopyWarning: \n",
      "A value is trying to be set on a copy of a slice from a DataFrame.\n",
      "Try using .loc[row_indexer,col_indexer] = value instead\n",
      "\n",
      "See the caveats in the documentation: https://pandas.pydata.org/pandas-docs/stable/user_guide/indexing.html#returning-a-view-versus-a-copy\n",
      "  df[col] = df[col].apply(remove_stopwords)\n",
      "/var/folders/5s/w7hst37d0tv0r4hby2_mqqp00000gn/T/ipykernel_44820/4158781637.py:13: SettingWithCopyWarning: \n",
      "A value is trying to be set on a copy of a slice from a DataFrame.\n",
      "Try using .loc[row_indexer,col_indexer] = value instead\n",
      "\n",
      "See the caveats in the documentation: https://pandas.pydata.org/pandas-docs/stable/user_guide/indexing.html#returning-a-view-versus-a-copy\n",
      "  df[col] = df[col].apply(remove_stopwords)\n",
      "/var/folders/5s/w7hst37d0tv0r4hby2_mqqp00000gn/T/ipykernel_44820/4158781637.py:13: SettingWithCopyWarning: \n",
      "A value is trying to be set on a copy of a slice from a DataFrame.\n",
      "Try using .loc[row_indexer,col_indexer] = value instead\n",
      "\n",
      "See the caveats in the documentation: https://pandas.pydata.org/pandas-docs/stable/user_guide/indexing.html#returning-a-view-versus-a-copy\n",
      "  df[col] = df[col].apply(remove_stopwords)\n",
      "/var/folders/5s/w7hst37d0tv0r4hby2_mqqp00000gn/T/ipykernel_44820/4158781637.py:13: SettingWithCopyWarning: \n",
      "A value is trying to be set on a copy of a slice from a DataFrame.\n",
      "Try using .loc[row_indexer,col_indexer] = value instead\n",
      "\n",
      "See the caveats in the documentation: https://pandas.pydata.org/pandas-docs/stable/user_guide/indexing.html#returning-a-view-versus-a-copy\n",
      "  df[col] = df[col].apply(remove_stopwords)\n",
      "/var/folders/5s/w7hst37d0tv0r4hby2_mqqp00000gn/T/ipykernel_44820/4158781637.py:13: SettingWithCopyWarning: \n",
      "A value is trying to be set on a copy of a slice from a DataFrame.\n",
      "Try using .loc[row_indexer,col_indexer] = value instead\n",
      "\n",
      "See the caveats in the documentation: https://pandas.pydata.org/pandas-docs/stable/user_guide/indexing.html#returning-a-view-versus-a-copy\n",
      "  df[col] = df[col].apply(remove_stopwords)\n"
     ]
    }
   ],
   "source": [
    "def remove_stopwords(text):\n",
    "    if isinstance(text, str):        \n",
    "        words = word_tokenize(text)\n",
    "        # Remove punctuation and special characters\n",
    "        text = text.translate(str.maketrans('', '', string.punctuation))\n",
    "        # Remove stopwords\n",
    "        return ' '.join([word for word in words if word.lower() not in stop_words])\n",
    "    else:\n",
    "        return text\n",
    "\n",
    "def remove_stopwords_from_columns(df, columns):\n",
    "    for col in columns:\n",
    "        df[col] = df[col].apply(remove_stopwords)\n",
    "    return df\n",
    "\n",
    "columns_to_clean = ['h1','abstract','meta_title','meta_description','merged_url']\n",
    "df_nlp = remove_stopwords_from_columns(df_nlp, columns_to_clean)"
   ]
  },
  {
   "cell_type": "code",
   "execution_count": null,
   "metadata": {},
   "outputs": [
    {
     "name": "stdout",
     "output_type": "stream",
     "text": [
      "<class 'pandas.core.frame.DataFrame'>\n",
      "RangeIndex: 6815 entries, 0 to 6814\n",
      "Data columns (total 10 columns):\n",
      " #   Column                       Non-Null Count  Dtype  \n",
      "---  ------                       --------------  -----  \n",
      " 0   page_id                      6815 non-null   int64  \n",
      " 1   external_clicks              6815 non-null   float64\n",
      " 2   external_impressions         6815 non-null   float64\n",
      " 3   ctr                          6815 non-null   float64\n",
      " 4   h1                           6815 non-null   object \n",
      " 5   abstract                     6808 non-null   object \n",
      " 6   meta_title                   6815 non-null   object \n",
      " 7   meta_description             6815 non-null   object \n",
      " 8   merged_url                   6815 non-null   object \n",
      " 9   external_impressions_scaled  6815 non-null   float64\n",
      "dtypes: float64(4), int64(1), object(5)\n",
      "memory usage: 532.6+ KB\n"
     ]
    }
   ],
   "source": [
    "df_nlp.info()"
   ]
  },
  {
   "cell_type": "code",
   "execution_count": null,
   "metadata": {},
   "outputs": [],
   "source": [
    "df_nlp.to_csv('/Users/clara/Desktop/neuefische/d-drivers/data/preprocessing_nlp.csv', encoding='utf-8', index=False)\n"
   ]
  }
 ],
 "metadata": {
  "kernelspec": {
   "display_name": ".venv",
   "language": "python",
   "name": "python3"
  },
  "language_info": {
   "codemirror_mode": {
    "name": "ipython",
    "version": 3
   },
   "file_extension": ".py",
   "mimetype": "text/x-python",
   "name": "python",
   "nbconvert_exporter": "python",
   "pygments_lexer": "ipython3",
   "version": "3.11.3"
  }
 },
 "nbformat": 4,
 "nbformat_minor": 2
}
