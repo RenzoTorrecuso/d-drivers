{
 "cells": [
  {
   "cell_type": "code",
   "execution_count": 1,
   "metadata": {},
   "outputs": [],
   "source": [
    "import pandas as pd\n",
    "import numpy as np\n",
    "from sklearn.linear_model import LinearRegression\n",
    "from sklearn.model_selection import train_test_split\n",
    "from sklearn.metrics import r2_score, confusion_matrix, accuracy_score, classification_report,mean_absolute_error, mean_squared_error\n",
    "\n",
    "pd.set_option('display.max_columns', 20)\n",
    "pd.set_option('display.max_colwidth', None)"
   ]
  },
  {
   "cell_type": "code",
   "execution_count": 2,
   "metadata": {},
   "outputs": [],
   "source": [
    "df = pd.read_csv('/Users/clara/Desktop/neuefische/d-drivers/data/data_features.csv')"
   ]
  },
  {
   "cell_type": "code",
   "execution_count": 3,
   "metadata": {},
   "outputs": [],
   "source": [
    "df.dropna(axis=0, how='any', inplace=True)\n",
    "df.drop(['page_id','url','video_play', 'page_impressions', 'clickouts','last_author','date_scraped','scraped_word_count','meta_title', 'meta_description',\n",
    "         'abstract','meta_image_url','page_img_size', 'merged_url','last_publish_date', 'page_name', 'title','h1'], axis=1, inplace= True)\n",
    "df['publish_date_min'] = pd.to_datetime(df['publish_date_min'])"
   ]
  },
  {
   "cell_type": "code",
   "execution_count": 4,
   "metadata": {},
   "outputs": [
    {
     "name": "stderr",
     "output_type": "stream",
     "text": [
      "/var/folders/5s/w7hst37d0tv0r4hby2_mqqp00000gn/T/ipykernel_39626/1667737710.py:12: SettingWithCopyWarning: \n",
      "A value is trying to be set on a copy of a slice from a DataFrame\n",
      "\n",
      "See the caveats in the documentation: https://pandas.pydata.org/pandas-docs/stable/user_guide/indexing.html#returning-a-view-versus-a-copy\n",
      "  df_feat.drop(['external_clicks','external_impressions','ctr'],axis=1,inplace=True)\n"
     ]
    }
   ],
   "source": [
    "# Filter columns of a specific data type (e.g., numerical columns)\n",
    "numeric_columns = df.select_dtypes(include=['number']).columns.tolist()\n",
    "\n",
    "# Filter columns of a specific data type (e.g., categorical columns)\n",
    "categorical_columns = df.select_dtypes(include=['object', 'category']).columns.tolist()\n",
    "\n",
    "# Filter columns of a specific data type (e.g., datetime columns)\n",
    "datetime_columns = df.select_dtypes(include=['datetime']).columns.tolist()\n",
    "\n",
    "# Combine numerical and categorical features\n",
    "df_feat = df[numeric_columns + categorical_columns]\n",
    "df_feat.drop(['external_clicks','external_impressions','ctr'],axis=1,inplace=True)\n",
    "\n",
    "# One-hot encode all categorical features\n",
    "df_enc = pd.get_dummies(df_feat, columns=categorical_columns, drop_first=True)"
   ]
  },
  {
   "cell_type": "code",
   "execution_count": 5,
   "metadata": {},
   "outputs": [],
   "source": [
    "def lin_reg_evaluation(X, y, test_size=0.3, random_state=25):\n",
    "    # Split the data into training and testing sets\n",
    "    X_train, X_test, y_train, y_test = train_test_split(X, y, test_size=test_size, random_state=random_state)\n",
    "\n",
    "    # Fit the linear regression model\n",
    "    lin_reg = LinearRegression()\n",
    "    lin_reg.fit(X_train, y_train)\n",
    "\n",
    "    # Predictions on training and testing sets\n",
    "    y_pred_train = lin_reg.predict(X_train)\n",
    "    y_pred_test = lin_reg.predict(X_test)\n",
    "\n",
    "\n",
    "    # Evaluation metrics\n",
    "    print(\"R-squared (Train):\", r2_score(y_train, y_pred_train).round(3))\n",
    "    print(\"R-squared (Test):\", r2_score(y_test, y_pred_test).round(3))\n",
    "    print(\"Mean Absolute Error (MAE):\", mean_absolute_error(y_test, y_pred_test).round(3))\n",
    "    print(\"Mean Squared Error (MSE):\", mean_squared_error(y_test, y_pred_test).round(3))\n",
    "    print(\"Root Mean Squared Error (RMSE):\", np.sqrt(mean_squared_error(y_test, y_pred_test)).round(3))\n"
   ]
  },
  {
   "cell_type": "code",
   "execution_count": null,
   "metadata": {},
   "outputs": [],
   "source": []
  },
  {
   "cell_type": "code",
   "execution_count": 6,
   "metadata": {},
   "outputs": [],
   "source": [
    "author_col = df_enc.filter(regex='author', axis=1)\n",
    "media_col = df_enc.filter(regex='media', axis=1)\n",
    "product_col = df_enc.filter(regex='classification_product', axis=1)\n",
    "type_col = df_enc.filter(regex='classification_type', axis=1)"
   ]
  },
  {
   "cell_type": "code",
   "execution_count": 7,
   "metadata": {},
   "outputs": [
    {
     "name": "stdout",
     "output_type": "stream",
     "text": [
      "================ Length related features ================\n",
      "Evaluating for target: external_impressions\n",
      "R-squared (Train): 0.02\n",
      "R-squared (Test): 0.031\n",
      "Mean Absolute Error (MAE): 175121.075\n",
      "Mean Squared Error (MSE): 137918101329.924\n",
      "Root Mean Squared Error (RMSE): 371373.264\n",
      "\n",
      "Evaluating for target: external_clicks\n",
      "R-squared (Train): 0.017\n",
      "R-squared (Test): 0.024\n",
      "Mean Absolute Error (MAE): 13895.248\n",
      "Mean Squared Error (MSE): 832356819.72\n",
      "Root Mean Squared Error (RMSE): 28850.595\n",
      "\n",
      "Evaluating for target: ctr\n",
      "R-squared (Train): 0.036\n",
      "R-squared (Test): 0.033\n",
      "Mean Absolute Error (MAE): 2.845\n",
      "Mean Squared Error (MSE): 16.062\n",
      "Root Mean Squared Error (RMSE): 4.008\n",
      "\n",
      "================ All features ================\n",
      "Evaluating for target: external_impressions\n",
      "R-squared (Train): 0.329\n",
      "R-squared (Test): 0.306\n",
      "Mean Absolute Error (MAE): 161108.062\n",
      "Mean Squared Error (MSE): 98786842451.418\n",
      "Root Mean Squared Error (RMSE): 314303.742\n",
      "\n",
      "Evaluating for target: external_clicks\n",
      "R-squared (Train): 0.274\n",
      "R-squared (Test): 0.274\n",
      "Mean Absolute Error (MAE): 13002.527\n",
      "Mean Squared Error (MSE): 618959338.112\n",
      "Root Mean Squared Error (RMSE): 24878.893\n",
      "\n",
      "Evaluating for target: ctr\n",
      "R-squared (Train): 0.171\n",
      "R-squared (Test): 0.05\n",
      "Mean Absolute Error (MAE): 2.799\n",
      "Mean Squared Error (MSE): 15.776\n",
      "Root Mean Squared Error (RMSE): 3.972\n",
      "\n",
      "================ Performance metrics ================\n",
      "Evaluating for target: external_impressions\n",
      "R-squared (Train): 0.071\n",
      "R-squared (Test): 0.139\n",
      "Mean Absolute Error (MAE): 165806.421\n",
      "Mean Squared Error (MSE): 122476451493.492\n",
      "Root Mean Squared Error (RMSE): 349966.358\n",
      "\n",
      "Evaluating for target: external_clicks\n",
      "R-squared (Train): 0.073\n",
      "R-squared (Test): 0.118\n",
      "Mean Absolute Error (MAE): 13133.4\n",
      "Mean Squared Error (MSE): 751919892.1\n",
      "Root Mean Squared Error (RMSE): 27421.158\n",
      "\n",
      "Evaluating for target: ctr\n",
      "R-squared (Train): 0.001\n",
      "R-squared (Test): -0.002\n",
      "Mean Absolute Error (MAE): 2.863\n",
      "Mean Squared Error (MSE): 16.634\n",
      "Root Mean Squared Error (RMSE): 4.078\n",
      "\n",
      "================ EDA identified features ================\n",
      "Evaluating for target: external_impressions\n",
      "R-squared (Train): 0.27\n",
      "R-squared (Test): -1.1959553862942808e+17\n",
      "Mean Absolute Error (MAE): 5796837033671.426\n",
      "Mean Squared Error (MSE): 1.7015418292496465e+28\n",
      "Root Mean Squared Error (RMSE): 130443161156484.03\n",
      "\n",
      "Evaluating for target: external_clicks\n",
      "R-squared (Train): 0.209\n",
      "R-squared (Test): -1.1603278252781673e+18\n",
      "Mean Absolute Error (MAE): 1397884738766.736\n",
      "Mean Squared Error (MSE): 9.894712743445402e+26\n",
      "Root Mean Squared Error (RMSE): 31455862320790.703\n",
      "\n",
      "Evaluating for target: ctr\n",
      "R-squared (Train): 0.144\n",
      "R-squared (Test): -7.388513816352647e+19\n",
      "Mean Absolute Error (MAE): 1556457371.868\n",
      "Mean Squared Error (MSE): 1.2266903011559824e+21\n",
      "Root Mean Squared Error (RMSE): 35024138835.323\n",
      "\n"
     ]
    }
   ],
   "source": [
    "target = ['external_impressions', 'external_clicks', 'ctr']\n",
    "\n",
    "columns = ['no_versions','n_days','classification_product','classification_type','scraped_author',\n",
    "           'likes_n_days','dislikes_n_days','scraped_word_count','media_type','meta_title_len','meta_desc_len','h1_len','abstract_len']\n",
    "\n",
    "X = {\"Length related features\" : \"df[['word_count','meta_title_len', 'meta_desc_len', 'h1_len', 'abstract_len']]\",\n",
    "    \"All features\": \"df_enc\",\n",
    "    \"Performance metrics\" : \"df_enc[['likes_n_days','dislikes_n_days']]\",\n",
    "    \"EDA identified features\": \"pd.concat([media_col, author_col, product_col, df_enc[['n_days','no_versions']]], axis=1)\"\n",
    "    }\n",
    "\n",
    "for key, value in X.items():\n",
    "    print(f\"================ {key} ================\")\n",
    "    features = eval(value) \n",
    "    for item in target:\n",
    "        y = df[item]\n",
    "        print(f\"Evaluating for target: {item}\")\n",
    "        lin_reg_evaluation(features, y)\n",
    "        print()"
   ]
  },
  {
   "cell_type": "code",
   "execution_count": 8,
   "metadata": {},
   "outputs": [
    {
     "data": {
      "text/html": [
       "<div>\n",
       "<style scoped>\n",
       "    .dataframe tbody tr th:only-of-type {\n",
       "        vertical-align: middle;\n",
       "    }\n",
       "\n",
       "    .dataframe tbody tr th {\n",
       "        vertical-align: top;\n",
       "    }\n",
       "\n",
       "    .dataframe thead th {\n",
       "        text-align: right;\n",
       "    }\n",
       "</style>\n",
       "<table border=\"1\" class=\"dataframe\">\n",
       "  <thead>\n",
       "    <tr style=\"text-align: right;\">\n",
       "      <th></th>\n",
       "      <th>no_versions</th>\n",
       "      <th>n_days</th>\n",
       "      <th>likes_n_days</th>\n",
       "      <th>dislikes_n_days</th>\n",
       "      <th>meta_title_len</th>\n",
       "      <th>meta_desc_len</th>\n",
       "      <th>h1_len</th>\n",
       "      <th>abstract_len</th>\n",
       "      <th>external_impressions</th>\n",
       "      <th>external_clicks</th>\n",
       "      <th>ctr</th>\n",
       "    </tr>\n",
       "    <tr>\n",
       "      <th>classification_type</th>\n",
       "      <th></th>\n",
       "      <th></th>\n",
       "      <th></th>\n",
       "      <th></th>\n",
       "      <th></th>\n",
       "      <th></th>\n",
       "      <th></th>\n",
       "      <th></th>\n",
       "      <th></th>\n",
       "      <th></th>\n",
       "      <th></th>\n",
       "    </tr>\n",
       "  </thead>\n",
       "  <tbody>\n",
       "    <tr>\n",
       "      <th>Deal</th>\n",
       "      <td>1.0</td>\n",
       "      <td>15.5</td>\n",
       "      <td>0.0</td>\n",
       "      <td>0.0</td>\n",
       "      <td>71.0</td>\n",
       "      <td>153.0</td>\n",
       "      <td>73.0</td>\n",
       "      <td>272.0</td>\n",
       "      <td>87566.0</td>\n",
       "      <td>5439.5</td>\n",
       "      <td>6.663960</td>\n",
       "    </tr>\n",
       "    <tr>\n",
       "      <th>Erfahrungsbericht</th>\n",
       "      <td>0.0</td>\n",
       "      <td>8.0</td>\n",
       "      <td>0.0</td>\n",
       "      <td>0.0</td>\n",
       "      <td>73.0</td>\n",
       "      <td>153.0</td>\n",
       "      <td>73.0</td>\n",
       "      <td>267.0</td>\n",
       "      <td>60014.0</td>\n",
       "      <td>3712.0</td>\n",
       "      <td>6.211161</td>\n",
       "    </tr>\n",
       "    <tr>\n",
       "      <th>Kaufberatung</th>\n",
       "      <td>1.0</td>\n",
       "      <td>12.0</td>\n",
       "      <td>0.0</td>\n",
       "      <td>0.0</td>\n",
       "      <td>69.0</td>\n",
       "      <td>152.0</td>\n",
       "      <td>70.0</td>\n",
       "      <td>281.0</td>\n",
       "      <td>44687.0</td>\n",
       "      <td>2738.0</td>\n",
       "      <td>5.628967</td>\n",
       "    </tr>\n",
       "    <tr>\n",
       "      <th>News</th>\n",
       "      <td>0.0</td>\n",
       "      <td>8.0</td>\n",
       "      <td>0.0</td>\n",
       "      <td>0.0</td>\n",
       "      <td>72.0</td>\n",
       "      <td>153.0</td>\n",
       "      <td>72.0</td>\n",
       "      <td>254.0</td>\n",
       "      <td>40209.5</td>\n",
       "      <td>2802.5</td>\n",
       "      <td>6.934135</td>\n",
       "    </tr>\n",
       "    <tr>\n",
       "      <th>Ratgeber</th>\n",
       "      <td>0.0</td>\n",
       "      <td>9.0</td>\n",
       "      <td>0.0</td>\n",
       "      <td>0.0</td>\n",
       "      <td>68.0</td>\n",
       "      <td>151.0</td>\n",
       "      <td>71.0</td>\n",
       "      <td>272.0</td>\n",
       "      <td>51269.0</td>\n",
       "      <td>3135.0</td>\n",
       "      <td>6.010019</td>\n",
       "    </tr>\n",
       "    <tr>\n",
       "      <th>Test</th>\n",
       "      <td>0.5</td>\n",
       "      <td>11.5</td>\n",
       "      <td>0.0</td>\n",
       "      <td>0.0</td>\n",
       "      <td>73.0</td>\n",
       "      <td>154.0</td>\n",
       "      <td>74.0</td>\n",
       "      <td>281.5</td>\n",
       "      <td>41426.5</td>\n",
       "      <td>3837.0</td>\n",
       "      <td>6.993795</td>\n",
       "    </tr>\n",
       "    <tr>\n",
       "      <th>Video</th>\n",
       "      <td>0.0</td>\n",
       "      <td>7.0</td>\n",
       "      <td>0.0</td>\n",
       "      <td>0.0</td>\n",
       "      <td>79.0</td>\n",
       "      <td>149.0</td>\n",
       "      <td>79.0</td>\n",
       "      <td>285.0</td>\n",
       "      <td>9741.0</td>\n",
       "      <td>522.0</td>\n",
       "      <td>5.358793</td>\n",
       "    </tr>\n",
       "  </tbody>\n",
       "</table>\n",
       "</div>"
      ],
      "text/plain": [
       "                     no_versions  n_days  likes_n_days  dislikes_n_days   \n",
       "classification_type                                                       \n",
       "Deal                         1.0    15.5           0.0              0.0  \\\n",
       "Erfahrungsbericht            0.0     8.0           0.0              0.0   \n",
       "Kaufberatung                 1.0    12.0           0.0              0.0   \n",
       "News                         0.0     8.0           0.0              0.0   \n",
       "Ratgeber                     0.0     9.0           0.0              0.0   \n",
       "Test                         0.5    11.5           0.0              0.0   \n",
       "Video                        0.0     7.0           0.0              0.0   \n",
       "\n",
       "                     meta_title_len  meta_desc_len  h1_len  abstract_len   \n",
       "classification_type                                                        \n",
       "Deal                           71.0          153.0    73.0         272.0  \\\n",
       "Erfahrungsbericht              73.0          153.0    73.0         267.0   \n",
       "Kaufberatung                   69.0          152.0    70.0         281.0   \n",
       "News                           72.0          153.0    72.0         254.0   \n",
       "Ratgeber                       68.0          151.0    71.0         272.0   \n",
       "Test                           73.0          154.0    74.0         281.5   \n",
       "Video                          79.0          149.0    79.0         285.0   \n",
       "\n",
       "                     external_impressions  external_clicks       ctr  \n",
       "classification_type                                                   \n",
       "Deal                             87566.0            5439.5  6.663960  \n",
       "Erfahrungsbericht                60014.0            3712.0  6.211161  \n",
       "Kaufberatung                     44687.0            2738.0  5.628967  \n",
       "News                             40209.5            2802.5  6.934135  \n",
       "Ratgeber                         51269.0            3135.0  6.010019  \n",
       "Test                             41426.5            3837.0  6.993795  \n",
       "Video                             9741.0             522.0  5.358793  "
      ]
     },
     "execution_count": 8,
     "metadata": {},
     "output_type": "execute_result"
    }
   ],
   "source": [
    "pd.set_option('display.max_columns', 20)\n",
    "pd.set_option('display.max_colwidth', 20)\n",
    "df_group = df[['no_versions',\n",
    " 'n_days',\n",
    " #'classification_product',\n",
    " 'classification_type',\n",
    " #'scraped_author',\n",
    " 'likes_n_days',\n",
    " 'dislikes_n_days',\n",
    " #'media_type',\n",
    " 'meta_title_len',\n",
    " 'meta_desc_len',\n",
    " 'h1_len',\n",
    " 'abstract_len',\n",
    " 'external_impressions','external_clicks','ctr']].groupby(by=\"classification_type\").median()\n",
    "df_group"
   ]
  },
  {
   "cell_type": "code",
   "execution_count": 9,
   "metadata": {},
   "outputs": [],
   "source": [
    "df_news = df.query(\"classification_type == 'News'\")"
   ]
  },
  {
   "cell_type": "markdown",
   "metadata": {},
   "source": [
    "R-squared (Train): 0.255\n",
    "R-squared (Test): 0.173"
   ]
  },
  {
   "cell_type": "code",
   "execution_count": 10,
   "metadata": {},
   "outputs": [],
   "source": [
    "df_news = df.query(\"classification_type == 'Ratgeber'\")"
   ]
  },
  {
   "cell_type": "markdown",
   "metadata": {},
   "source": [
    "R-squared (Train): 0.505\n",
    "R-squared (Test): 0.366"
   ]
  },
  {
   "cell_type": "code",
   "execution_count": 11,
   "metadata": {},
   "outputs": [],
   "source": [
    "df_news = df.query(\"classification_type == 'Kaufberatung'\")"
   ]
  },
  {
   "cell_type": "markdown",
   "metadata": {},
   "source": [
    "R-squared (Train): 0.832\n",
    "R-squared (Test): -0.253^"
   ]
  },
  {
   "cell_type": "code",
   "execution_count": 12,
   "metadata": {},
   "outputs": [],
   "source": [
    "df_news = df.query(\"classification_type == 'Deal'\")"
   ]
  },
  {
   "cell_type": "markdown",
   "metadata": {},
   "source": [
    "R-squared (Train): 0.687\n",
    "R-squared (Test): 0.267"
   ]
  },
  {
   "cell_type": "code",
   "execution_count": 13,
   "metadata": {},
   "outputs": [],
   "source": [
    "df_news = df.query(\"classification_type == 'Test'\")"
   ]
  },
  {
   "cell_type": "markdown",
   "metadata": {},
   "source": [
    "R-squared (Train): 1.0\n",
    "R-squared (Test): -5.307"
   ]
  },
  {
   "cell_type": "code",
   "execution_count": 14,
   "metadata": {},
   "outputs": [],
   "source": [
    "df_news = df.query(\"classification_type == 'Erfahrungsbericht'\")"
   ]
  },
  {
   "cell_type": "markdown",
   "metadata": {},
   "source": [
    "R-squared (Train): 0.295\n",
    "R-squared (Test): -1.895"
   ]
  },
  {
   "cell_type": "code",
   "execution_count": 19,
   "metadata": {},
   "outputs": [],
   "source": [
    "df_news = df.query(\"classification_type == 'News'\")"
   ]
  },
  {
   "cell_type": "markdown",
   "metadata": {},
   "source": [
    "R-squared (Train): 1.0\n",
    "R-squared (Test): nan"
   ]
  },
  {
   "cell_type": "code",
   "execution_count": 20,
   "metadata": {},
   "outputs": [],
   "source": [
    "def encode_features(df):\n",
    "    # Filter columns of a specific data type (e.g., numerical columns)\n",
    "    numeric_columns = df_news.select_dtypes(include=['number']).columns.tolist()\n",
    "\n",
    "    # Filter columns of a specific data type (e.g., categorical columns)\n",
    "    categorical_columns = df_news.select_dtypes(include=['object', 'category']).columns.tolist()\n",
    "\n",
    "    # Filter columns of a specific data type (e.g., datetime columns)\n",
    "    datetime_columns = df_news.select_dtypes(include=['datetime']).columns.tolist()\n",
    "\n",
    "    # Combine numerical and categorical features\n",
    "    df_feat = df_news[numeric_columns + categorical_columns]\n",
    "    df_feat.drop(['external_clicks','external_impressions','ctr'],axis=1,inplace=True)\n",
    "\n",
    "    # One-hot encode all categorical features\n",
    "    df_enc = pd.get_dummies(df_feat, columns=categorical_columns, drop_first=True)\n",
    "    \n",
    "    return df_enc"
   ]
  },
  {
   "cell_type": "code",
   "execution_count": 21,
   "metadata": {},
   "outputs": [
    {
     "name": "stderr",
     "output_type": "stream",
     "text": [
      "/var/folders/5s/w7hst37d0tv0r4hby2_mqqp00000gn/T/ipykernel_39626/3957536942.py:13: SettingWithCopyWarning: \n",
      "A value is trying to be set on a copy of a slice from a DataFrame\n",
      "\n",
      "See the caveats in the documentation: https://pandas.pydata.org/pandas-docs/stable/user_guide/indexing.html#returning-a-view-versus-a-copy\n",
      "  df_feat.drop(['external_clicks','external_impressions','ctr'],axis=1,inplace=True)\n"
     ]
    }
   ],
   "source": [
    "df_enc = encode_features(df_news)\n",
    "\n",
    "author_col = df_enc.filter(regex='author', axis=1)\n",
    "media_col = df_enc.filter(regex='media', axis=1)\n",
    "product_col = df_enc.filter(regex='classification_product', axis=1)\n",
    "type_col = df_enc.filter(regex='classification_type', axis=1)"
   ]
  },
  {
   "cell_type": "code",
   "execution_count": 22,
   "metadata": {},
   "outputs": [
    {
     "name": "stdout",
     "output_type": "stream",
     "text": [
      "================ All features ================\n",
      "Evaluating for target: external_impressions\n",
      "R-squared (Train): 0.255\n",
      "R-squared (Test): 0.173\n",
      "Mean Absolute Error (MAE): 152468.828\n",
      "Mean Squared Error (MSE): 105959965005.101\n",
      "Root Mean Squared Error (RMSE): 325514.923\n",
      "\n",
      "Evaluating for target: external_clicks\n",
      "R-squared (Train): 0.227\n",
      "R-squared (Test): 0.141\n",
      "Mean Absolute Error (MAE): 12812.222\n",
      "Mean Squared Error (MSE): 744446817.953\n",
      "Root Mean Squared Error (RMSE): 27284.553\n",
      "\n",
      "Evaluating for target: ctr\n",
      "R-squared (Train): 0.12\n",
      "R-squared (Test): 0.036\n",
      "Mean Absolute Error (MAE): 2.854\n",
      "Mean Squared Error (MSE): 15.791\n",
      "Root Mean Squared Error (RMSE): 3.974\n",
      "\n"
     ]
    }
   ],
   "source": [
    "target = ['external_impressions', 'external_clicks', 'ctr']\n",
    "\n",
    "columns = ['no_versions','n_days','classification_product','scraped_author',\n",
    "           'likes_n_days','dislikes_n_days','scraped_word_count','media_type','meta_title_len','meta_desc_len','h1_len','abstract_len']\n",
    "\n",
    "X = {#\"Length related features\" : \"df_enc[['word_count','meta_title_len', 'meta_desc_len', 'h1_len', 'abstract_len']]\",\n",
    "    \"All features\": \"df_enc\",\n",
    "    #\"Performance metrics\" : \"df_enc[['likes_n_days','dislikes_n_days']]\",\n",
    "    #\"EDA identified features\": \"pd.concat([media_col, author_col, product_col, df_news['n_days']], axis=1)\"\n",
    "    }\n",
    "\n",
    "for key, value in X.items():\n",
    "    print(f\"================ {key} ================\")\n",
    "    features = eval(value) \n",
    "    for item in target:\n",
    "        y = df_news[item]\n",
    "        print(f\"Evaluating for target: {item}\")\n",
    "        lin_reg_evaluation(features, y)\n",
    "        print()"
   ]
  },
  {
   "cell_type": "code",
   "execution_count": null,
   "metadata": {},
   "outputs": [],
   "source": []
  },
  {
   "cell_type": "code",
   "execution_count": null,
   "metadata": {},
   "outputs": [],
   "source": []
  },
  {
   "cell_type": "code",
   "execution_count": null,
   "metadata": {},
   "outputs": [],
   "source": []
  }
 ],
 "metadata": {
  "kernelspec": {
   "display_name": ".venv",
   "language": "python",
   "name": "python3"
  },
  "language_info": {
   "codemirror_mode": {
    "name": "ipython",
    "version": 3
   },
   "file_extension": ".py",
   "mimetype": "text/x-python",
   "name": "python",
   "nbconvert_exporter": "python",
   "pygments_lexer": "ipython3",
   "version": "3.11.3"
  }
 },
 "nbformat": 4,
 "nbformat_minor": 2
}
