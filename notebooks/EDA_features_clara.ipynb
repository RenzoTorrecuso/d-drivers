{
 "cells": [
  {
   "cell_type": "code",
   "execution_count": 5,
   "metadata": {},
   "outputs": [],
   "source": [
    "import pandas as pd\n",
    "pd.set_option('display.max_columns', 20)\n",
    "pd.set_option('display.max_colwidth', None)\n",
    "pd.plotting.register_matplotlib_converters()\n",
    "\n",
    "import numpy as np\n",
    "import seaborn as sns\n",
    "import missingno as mgn\n",
    "\n",
    "import plotly.express as px\n",
    "import plotly.graph_objects as go\n",
    "import plotly.io as pio\n",
    "\n",
    "pio.templates.default = \"simple_white\""
   ]
  },
  {
   "cell_type": "code",
   "execution_count": 6,
   "metadata": {},
   "outputs": [],
   "source": [
    "df = pd.read_csv('../data/df_features.csv')\n",
    "#df.drop([])"
   ]
  },
  {
   "cell_type": "code",
   "execution_count": 7,
   "metadata": {},
   "outputs": [
    {
     "name": "stdout",
     "output_type": "stream",
     "text": [
      "<class 'pandas.core.frame.DataFrame'>\n",
      "RangeIndex: 132845 entries, 0 to 132844\n",
      "Data columns (total 37 columns):\n",
      " #   Column                  Non-Null Count   Dtype  \n",
      "---  ------                  --------------   -----  \n",
      " 0   page_version_id         132845 non-null  object \n",
      " 1   page_id                 132845 non-null  int64  \n",
      " 2   version_id_new          132845 non-null  int64  \n",
      " 3   date                    132845 non-null  object \n",
      " 4   publish_date            132845 non-null  object \n",
      " 5   word_count              132845 non-null  float64\n",
      " 6   url                     132845 non-null  object \n",
      " 7   page_name               132845 non-null  object \n",
      " 8   title                   132845 non-null  object \n",
      " 9   classification_product  132190 non-null  object \n",
      " 10  classification_type     132190 non-null  object \n",
      " 11  authors                 132845 non-null  object \n",
      " 12  h1                      68318 non-null   object \n",
      " 13  author                  68318 non-null   object \n",
      " 14  date_scraped            68318 non-null   object \n",
      " 15  abstract                68265 non-null   object \n",
      " 16  main_text_length        68318 non-null   float64\n",
      " 17  meta_title              68318 non-null   object \n",
      " 18  meta_description        68318 non-null   object \n",
      " 19  meta_image_url          68318 non-null   object \n",
      " 20  media_type              68318 non-null   object \n",
      " 21  page_img_size           52190 non-null   object \n",
      " 22  url_text                68318 non-null   object \n",
      " 23  merged_url              68318 non-null   object \n",
      " 24  meta_title_len          68318 non-null   float64\n",
      " 25  meta_desc_len           68318 non-null   float64\n",
      " 26  h1_len                  68318 non-null   float64\n",
      " 27  abstract_len            68265 non-null   float64\n",
      " 28  merged_url_len          68318 non-null   float64\n",
      " 29  daily_likes             33623 non-null   float64\n",
      " 30  daily_dislikes          27291 non-null   float64\n",
      " 31  video_play              132070 non-null  float64\n",
      " 32  page_impressions        132070 non-null  float64\n",
      " 33  clickouts               109785 non-null  float64\n",
      " 34  external_clicks         132070 non-null  float64\n",
      " 35  external_impressions    132070 non-null  float64\n",
      " 36  ctr                     132070 non-null  float64\n",
      "dtypes: float64(15), int64(2), object(20)\n",
      "memory usage: 37.5+ MB\n"
     ]
    }
   ],
   "source": [
    "df.info()"
   ]
  },
  {
   "cell_type": "code",
   "execution_count": 8,
   "metadata": {},
   "outputs": [],
   "source": [
    "# #print(list(df.word_count.unique()))\n",
    "# df[['page_version_id','word_count','main_text_length']].query(\"word_count == 0\")"
   ]
  },
  {
   "cell_type": "code",
   "execution_count": 11,
   "metadata": {},
   "outputs": [],
   "source": [
    "# Summarize all target variables in a list\n",
    "target = ['crt', 'external_clicks', 'external_impressions']\n",
    "\n",
    "# Summarize all numeric variables in a list\n",
    "num_variables = df.select_dtypes(include=[np.number]).columns.tolist()\n",
    "# columns_to_remove = ['external_clicks', 'external_impressions', 'ctr']\n",
    "# for col in columns_to_remove:\n",
    "#     num_variables.remove(col)"
   ]
  },
  {
   "cell_type": "code",
   "execution_count": 12,
   "metadata": {},
   "outputs": [
    {
     "name": "stdout",
     "output_type": "stream",
     "text": [
      "                       page_id  version_id_new  word_count  main_text_length   \n",
      "page_id               1.000000       -0.182249   -0.103646         -0.469664  \\\n",
      "version_id_new       -0.182249        1.000000    0.204568          0.160053   \n",
      "word_count           -0.103646        0.204568    1.000000          0.468252   \n",
      "main_text_length     -0.469664        0.160053    0.468252          1.000000   \n",
      "meta_title_len        0.113585       -0.058690   -0.056804         -0.200153   \n",
      "meta_desc_len         0.076793       -0.123651   -0.070016         -0.120362   \n",
      "h1_len               -0.008528       -0.004995   -0.043107         -0.030970   \n",
      "abstract_len         -0.114083        0.158767    0.237395          0.192824   \n",
      "merged_url_len       -0.068811       -0.117240   -0.135357         -0.036458   \n",
      "daily_likes          -0.018550       -0.035444    0.013653          0.006828   \n",
      "daily_dislikes       -0.016459       -0.028444    0.011736         -0.016485   \n",
      "video_play            0.057007       -0.028341   -0.019024         -0.061718   \n",
      "page_impressions      0.064893       -0.037873   -0.022297         -0.070968   \n",
      "clickouts             0.014000        0.064212    0.063476          0.081282   \n",
      "external_clicks       0.061493       -0.013231   -0.021155         -0.077155   \n",
      "external_impressions  0.068184       -0.012731   -0.018996         -0.080658   \n",
      "ctr                  -0.151706       -0.080736   -0.124889          0.167175   \n",
      "\n",
      "                      meta_title_len  meta_desc_len    h1_len  abstract_len   \n",
      "page_id                     0.113585       0.076793 -0.008528     -0.114083  \\\n",
      "version_id_new             -0.058690      -0.123651 -0.004995      0.158767   \n",
      "word_count                 -0.056804      -0.070016 -0.043107      0.237395   \n",
      "main_text_length           -0.200153      -0.120362 -0.030970      0.192824   \n",
      "meta_title_len              1.000000       0.106684  0.728840     -0.037059   \n",
      "meta_desc_len               0.106684       1.000000  0.026664     -0.027457   \n",
      "h1_len                      0.728840       0.026664  1.000000     -0.031065   \n",
      "abstract_len               -0.037059      -0.027457 -0.031065      1.000000   \n",
      "merged_url_len              0.408246       0.074704  0.427214     -0.056137   \n",
      "daily_likes                 0.013950      -0.020976  0.013675      0.003950   \n",
      "daily_dislikes              0.026092       0.002874  0.020948     -0.020999   \n",
      "video_play                  0.029021      -0.012251  0.018086      0.030095   \n",
      "page_impressions            0.031092      -0.005495  0.018846      0.022975   \n",
      "clickouts                   0.005403      -0.033300  0.009089      0.071302   \n",
      "external_clicks             0.031485      -0.008538  0.019374      0.016980   \n",
      "external_impressions        0.029239      -0.010184  0.017164      0.016332   \n",
      "ctr                         0.010194       0.047528  0.046815      0.028853   \n",
      "\n",
      "                      merged_url_len  daily_likes  daily_dislikes  video_play   \n",
      "page_id                    -0.068811    -0.018550       -0.016459    0.057007  \\\n",
      "version_id_new             -0.117240    -0.035444       -0.028444   -0.028341   \n",
      "word_count                 -0.135357     0.013653        0.011736   -0.019024   \n",
      "main_text_length           -0.036458     0.006828       -0.016485   -0.061718   \n",
      "meta_title_len              0.408246     0.013950        0.026092    0.029021   \n",
      "meta_desc_len               0.074704    -0.020976        0.002874   -0.012251   \n",
      "h1_len                      0.427214     0.013675        0.020948    0.018086   \n",
      "abstract_len               -0.056137     0.003950       -0.020999    0.030095   \n",
      "merged_url_len              1.000000    -0.002637        0.014410   -0.014330   \n",
      "daily_likes                -0.002637     1.000000        0.929970    0.104430   \n",
      "daily_dislikes              0.014410     0.929970        1.000000    0.072940   \n",
      "video_play                 -0.014330     0.104430        0.072940    1.000000   \n",
      "page_impressions           -0.012840     0.097866        0.070328    0.951296   \n",
      "clickouts                  -0.006746     0.005104       -0.002611    0.095485   \n",
      "external_clicks            -0.011998     0.110877        0.082999    0.691092   \n",
      "external_impressions       -0.015838     0.118694        0.081450    0.705035   \n",
      "ctr                         0.064498     0.024871        0.031164    0.003260   \n",
      "\n",
      "                      page_impressions  clickouts  external_clicks   \n",
      "page_id                       0.064893   0.014000         0.061493  \\\n",
      "version_id_new               -0.037873   0.064212        -0.013231   \n",
      "word_count                   -0.022297   0.063476        -0.021155   \n",
      "main_text_length             -0.070968   0.081282        -0.077155   \n",
      "meta_title_len                0.031092   0.005403         0.031485   \n",
      "meta_desc_len                -0.005495  -0.033300        -0.008538   \n",
      "h1_len                        0.018846   0.009089         0.019374   \n",
      "abstract_len                  0.022975   0.071302         0.016980   \n",
      "merged_url_len               -0.012840  -0.006746        -0.011998   \n",
      "daily_likes                   0.097866   0.005104         0.110877   \n",
      "daily_dislikes                0.070328  -0.002611         0.082999   \n",
      "video_play                    0.951296   0.095485         0.691092   \n",
      "page_impressions              1.000000   0.120521         0.731754   \n",
      "clickouts                     0.120521   1.000000         0.068356   \n",
      "external_clicks               0.731754   0.068356         1.000000   \n",
      "external_impressions          0.742401   0.094887         0.965684   \n",
      "ctr                           0.003495  -0.030125         0.016066   \n",
      "\n",
      "                      external_impressions       ctr  \n",
      "page_id                           0.068184 -0.151706  \n",
      "version_id_new                   -0.012731 -0.080736  \n",
      "word_count                       -0.018996 -0.124889  \n",
      "main_text_length                 -0.080658  0.167175  \n",
      "meta_title_len                    0.029239  0.010194  \n",
      "meta_desc_len                    -0.010184  0.047528  \n",
      "h1_len                            0.017164  0.046815  \n",
      "abstract_len                      0.016332  0.028853  \n",
      "merged_url_len                   -0.015838  0.064498  \n",
      "daily_likes                       0.118694  0.024871  \n",
      "daily_dislikes                    0.081450  0.031164  \n",
      "video_play                        0.705035  0.003260  \n",
      "page_impressions                  0.742401  0.003495  \n",
      "clickouts                         0.094887 -0.030125  \n",
      "external_clicks                   0.965684  0.016066  \n",
      "external_impressions              1.000000 -0.019486  \n",
      "ctr                              -0.019486  1.000000  \n"
     ]
    },
    {
     "data": {
      "application/vnd.plotly.v1+json": {
       "config": {
        "plotlyServerURL": "https://plot.ly"
       },
       "data": [
        {
         "coloraxis": "coloraxis",
         "hovertemplate": "x: %{x}<br>y: %{y}<br>color: %{z}<extra></extra>",
         "name": "0",
         "type": "heatmap",
         "x": [
          "page_id",
          "version_id_new",
          "word_count",
          "main_text_length",
          "meta_title_len",
          "meta_desc_len",
          "h1_len",
          "abstract_len",
          "merged_url_len",
          "daily_likes",
          "daily_dislikes",
          "video_play",
          "page_impressions",
          "clickouts",
          "external_clicks",
          "external_impressions",
          "ctr"
         ],
         "xaxis": "x",
         "y": [
          "page_id",
          "version_id_new",
          "word_count",
          "main_text_length",
          "meta_title_len",
          "meta_desc_len",
          "h1_len",
          "abstract_len",
          "merged_url_len",
          "daily_likes",
          "daily_dislikes",
          "video_play",
          "page_impressions",
          "clickouts",
          "external_clicks",
          "external_impressions",
          "ctr"
         ],
         "yaxis": "y",
         "z": [
          [
           1,
           -0.182249389472055,
           -0.10364627966689918,
           -0.4696638901702681,
           0.11358548866544367,
           0.07679335197014082,
           -0.008528278487349156,
           -0.11408259678934754,
           -0.06881130576373556,
           -0.018550350999923255,
           -0.016459052123288735,
           0.05700709417904491,
           0.06489250367530712,
           0.014000122071209839,
           0.06149257957302664,
           0.06818407294467706,
           -0.15170577930093473
          ],
          [
           -0.182249389472055,
           1,
           0.2045682071287731,
           0.16005318904541463,
           -0.05869048540922058,
           -0.12365104754871502,
           -0.004994951295482849,
           0.1587674051673188,
           -0.11723954216651321,
           -0.035444063139719796,
           -0.028444351069415903,
           -0.02834062535860292,
           -0.037873243476773864,
           0.06421189790731086,
           -0.01323094405088095,
           -0.012731101935324401,
           -0.08073587944587887
          ],
          [
           -0.10364627966689918,
           0.2045682071287731,
           1,
           0.46825185200531233,
           -0.05680444969786583,
           -0.07001612493000846,
           -0.04310743852537487,
           0.23739523024266862,
           -0.1353569339395975,
           0.013652608476888905,
           0.011735985043655032,
           -0.019024244755756252,
           -0.02229726181393446,
           0.06347555607541912,
           -0.021155202937685767,
           -0.018996054769103203,
           -0.12488939881825206
          ],
          [
           -0.4696638901702681,
           0.16005318904541463,
           0.46825185200531233,
           1,
           -0.20015296448658768,
           -0.12036243087975958,
           -0.030969773605953547,
           0.1928239796427811,
           -0.03645771963951247,
           0.006827723106658409,
           -0.016484878890646586,
           -0.06171793626763739,
           -0.0709678437356332,
           0.08128164930270873,
           -0.07715478287374775,
           -0.08065819827564032,
           0.16717487660341107
          ],
          [
           0.11358548866544367,
           -0.05869048540922058,
           -0.05680444969786583,
           -0.20015296448658768,
           1,
           0.10668412001920068,
           0.7288403393089286,
           -0.03705884592623354,
           0.4082461486540152,
           0.01395038422067017,
           0.026091699526401366,
           0.02902126799610414,
           0.03109223590564283,
           0.005403498292976533,
           0.031484589818321494,
           0.029239200847590657,
           0.010193534231430443
          ],
          [
           0.07679335197014082,
           -0.12365104754871502,
           -0.07001612493000846,
           -0.12036243087975958,
           0.10668412001920068,
           1,
           0.026663964322751855,
           -0.02745651636862588,
           0.07470428282624664,
           -0.020976461824582897,
           0.002873522700513321,
           -0.012251411874817623,
           -0.005495259267585582,
           -0.03330039409213634,
           -0.00853848520536978,
           -0.01018414484121199,
           0.047527850830736594
          ],
          [
           -0.008528278487349156,
           -0.004994951295482849,
           -0.04310743852537487,
           -0.030969773605953547,
           0.7288403393089286,
           0.026663964322751855,
           1,
           -0.03106543848872316,
           0.4272137791070653,
           0.013675235755633605,
           0.020948386946179974,
           0.018085997315611887,
           0.01884586776378476,
           0.009089066728219792,
           0.019373945735499026,
           0.017164369603015008,
           0.04681529471340514
          ],
          [
           -0.11408259678934754,
           0.1587674051673188,
           0.23739523024266862,
           0.1928239796427811,
           -0.03705884592623354,
           -0.02745651636862588,
           -0.03106543848872316,
           1,
           -0.05613666985410491,
           0.003949643703785999,
           -0.02099924923880096,
           0.03009516660666803,
           0.022975122562261932,
           0.07130182050749727,
           0.01697976770407073,
           0.01633219649491688,
           0.028852627623112075
          ],
          [
           -0.06881130576373556,
           -0.11723954216651321,
           -0.1353569339395975,
           -0.03645771963951247,
           0.4082461486540152,
           0.07470428282624664,
           0.4272137791070653,
           -0.05613666985410491,
           1,
           -0.0026372470633041355,
           0.014409938030040677,
           -0.01432954395611103,
           -0.012839733089911699,
           -0.006746447862643642,
           -0.011998020507123713,
           -0.01583790697051404,
           0.06449808137394862
          ],
          [
           -0.018550350999923255,
           -0.035444063139719796,
           0.013652608476888905,
           0.006827723106658409,
           0.01395038422067017,
           -0.020976461824582897,
           0.013675235755633605,
           0.003949643703785999,
           -0.0026372470633041355,
           1,
           0.9299695522271662,
           0.10443044921740945,
           0.0978655269245961,
           0.005103753269362798,
           0.11087677982255711,
           0.1186935247564567,
           0.02487134022851737
          ],
          [
           -0.016459052123288735,
           -0.028444351069415903,
           0.011735985043655032,
           -0.016484878890646586,
           0.026091699526401366,
           0.002873522700513321,
           0.020948386946179974,
           -0.02099924923880096,
           0.014409938030040677,
           0.9299695522271662,
           1,
           0.07293990890795576,
           0.0703283484503272,
           -0.002611229924215718,
           0.08299871854946705,
           0.08145034493715632,
           0.03116399431852232
          ],
          [
           0.05700709417904491,
           -0.02834062535860292,
           -0.019024244755756252,
           -0.06171793626763739,
           0.02902126799610414,
           -0.012251411874817623,
           0.018085997315611887,
           0.03009516660666803,
           -0.01432954395611103,
           0.10443044921740945,
           0.07293990890795576,
           1,
           0.9512963200872971,
           0.0954848675153718,
           0.6910924853566609,
           0.7050350606230948,
           0.0032600552328434537
          ],
          [
           0.06489250367530712,
           -0.037873243476773864,
           -0.02229726181393446,
           -0.0709678437356332,
           0.03109223590564283,
           -0.005495259267585582,
           0.01884586776378476,
           0.022975122562261932,
           -0.012839733089911699,
           0.0978655269245961,
           0.0703283484503272,
           0.9512963200872971,
           1,
           0.12052055802062882,
           0.7317537004657526,
           0.7424008983265691,
           0.0034953315447364907
          ],
          [
           0.014000122071209839,
           0.06421189790731086,
           0.06347555607541912,
           0.08128164930270873,
           0.005403498292976533,
           -0.03330039409213634,
           0.009089066728219792,
           0.07130182050749727,
           -0.006746447862643642,
           0.005103753269362798,
           -0.002611229924215718,
           0.0954848675153718,
           0.12052055802062882,
           1,
           0.06835598423409531,
           0.0948874864482081,
           -0.030125492450001557
          ],
          [
           0.06149257957302664,
           -0.01323094405088095,
           -0.021155202937685767,
           -0.07715478287374775,
           0.031484589818321494,
           -0.00853848520536978,
           0.019373945735499026,
           0.01697976770407073,
           -0.011998020507123713,
           0.11087677982255711,
           0.08299871854946705,
           0.6910924853566609,
           0.7317537004657526,
           0.06835598423409531,
           1,
           0.965684017542063,
           0.016065543029381586
          ],
          [
           0.06818407294467706,
           -0.012731101935324401,
           -0.018996054769103203,
           -0.08065819827564032,
           0.029239200847590657,
           -0.01018414484121199,
           0.017164369603015008,
           0.01633219649491688,
           -0.01583790697051404,
           0.1186935247564567,
           0.08145034493715632,
           0.7050350606230948,
           0.7424008983265691,
           0.0948874864482081,
           0.965684017542063,
           1,
           -0.019485987500150036
          ],
          [
           -0.15170577930093473,
           -0.08073587944587887,
           -0.12488939881825206,
           0.16717487660341107,
           0.010193534231430443,
           0.047527850830736594,
           0.04681529471340514,
           0.028852627623112075,
           0.06449808137394862,
           0.02487134022851737,
           0.03116399431852232,
           0.0032600552328434537,
           0.0034953315447364907,
           -0.030125492450001557,
           0.016065543029381586,
           -0.019485987500150036,
           1
          ]
         ]
        }
       ],
       "layout": {
        "coloraxis": {
         "colorscale": [
          [
           0,
           "rgb(103,0,31)"
          ],
          [
           0.1,
           "rgb(178,24,43)"
          ],
          [
           0.2,
           "rgb(214,96,77)"
          ],
          [
           0.3,
           "rgb(244,165,130)"
          ],
          [
           0.4,
           "rgb(253,219,199)"
          ],
          [
           0.5,
           "rgb(247,247,247)"
          ],
          [
           0.6,
           "rgb(209,229,240)"
          ],
          [
           0.7,
           "rgb(146,197,222)"
          ],
          [
           0.8,
           "rgb(67,147,195)"
          ],
          [
           0.9,
           "rgb(33,102,172)"
          ],
          [
           1,
           "rgb(5,48,97)"
          ]
         ]
        },
        "template": {
         "data": {
          "bar": [
           {
            "error_x": {
             "color": "rgb(36,36,36)"
            },
            "error_y": {
             "color": "rgb(36,36,36)"
            },
            "marker": {
             "line": {
              "color": "white",
              "width": 0.5
             },
             "pattern": {
              "fillmode": "overlay",
              "size": 10,
              "solidity": 0.2
             }
            },
            "type": "bar"
           }
          ],
          "barpolar": [
           {
            "marker": {
             "line": {
              "color": "white",
              "width": 0.5
             },
             "pattern": {
              "fillmode": "overlay",
              "size": 10,
              "solidity": 0.2
             }
            },
            "type": "barpolar"
           }
          ],
          "carpet": [
           {
            "aaxis": {
             "endlinecolor": "rgb(36,36,36)",
             "gridcolor": "white",
             "linecolor": "white",
             "minorgridcolor": "white",
             "startlinecolor": "rgb(36,36,36)"
            },
            "baxis": {
             "endlinecolor": "rgb(36,36,36)",
             "gridcolor": "white",
             "linecolor": "white",
             "minorgridcolor": "white",
             "startlinecolor": "rgb(36,36,36)"
            },
            "type": "carpet"
           }
          ],
          "choropleth": [
           {
            "colorbar": {
             "outlinewidth": 1,
             "tickcolor": "rgb(36,36,36)",
             "ticks": "outside"
            },
            "type": "choropleth"
           }
          ],
          "contour": [
           {
            "colorbar": {
             "outlinewidth": 1,
             "tickcolor": "rgb(36,36,36)",
             "ticks": "outside"
            },
            "colorscale": [
             [
              0,
              "#440154"
             ],
             [
              0.1111111111111111,
              "#482878"
             ],
             [
              0.2222222222222222,
              "#3e4989"
             ],
             [
              0.3333333333333333,
              "#31688e"
             ],
             [
              0.4444444444444444,
              "#26828e"
             ],
             [
              0.5555555555555556,
              "#1f9e89"
             ],
             [
              0.6666666666666666,
              "#35b779"
             ],
             [
              0.7777777777777778,
              "#6ece58"
             ],
             [
              0.8888888888888888,
              "#b5de2b"
             ],
             [
              1,
              "#fde725"
             ]
            ],
            "type": "contour"
           }
          ],
          "contourcarpet": [
           {
            "colorbar": {
             "outlinewidth": 1,
             "tickcolor": "rgb(36,36,36)",
             "ticks": "outside"
            },
            "type": "contourcarpet"
           }
          ],
          "heatmap": [
           {
            "colorbar": {
             "outlinewidth": 1,
             "tickcolor": "rgb(36,36,36)",
             "ticks": "outside"
            },
            "colorscale": [
             [
              0,
              "#440154"
             ],
             [
              0.1111111111111111,
              "#482878"
             ],
             [
              0.2222222222222222,
              "#3e4989"
             ],
             [
              0.3333333333333333,
              "#31688e"
             ],
             [
              0.4444444444444444,
              "#26828e"
             ],
             [
              0.5555555555555556,
              "#1f9e89"
             ],
             [
              0.6666666666666666,
              "#35b779"
             ],
             [
              0.7777777777777778,
              "#6ece58"
             ],
             [
              0.8888888888888888,
              "#b5de2b"
             ],
             [
              1,
              "#fde725"
             ]
            ],
            "type": "heatmap"
           }
          ],
          "heatmapgl": [
           {
            "colorbar": {
             "outlinewidth": 1,
             "tickcolor": "rgb(36,36,36)",
             "ticks": "outside"
            },
            "colorscale": [
             [
              0,
              "#440154"
             ],
             [
              0.1111111111111111,
              "#482878"
             ],
             [
              0.2222222222222222,
              "#3e4989"
             ],
             [
              0.3333333333333333,
              "#31688e"
             ],
             [
              0.4444444444444444,
              "#26828e"
             ],
             [
              0.5555555555555556,
              "#1f9e89"
             ],
             [
              0.6666666666666666,
              "#35b779"
             ],
             [
              0.7777777777777778,
              "#6ece58"
             ],
             [
              0.8888888888888888,
              "#b5de2b"
             ],
             [
              1,
              "#fde725"
             ]
            ],
            "type": "heatmapgl"
           }
          ],
          "histogram": [
           {
            "marker": {
             "line": {
              "color": "white",
              "width": 0.6
             }
            },
            "type": "histogram"
           }
          ],
          "histogram2d": [
           {
            "colorbar": {
             "outlinewidth": 1,
             "tickcolor": "rgb(36,36,36)",
             "ticks": "outside"
            },
            "colorscale": [
             [
              0,
              "#440154"
             ],
             [
              0.1111111111111111,
              "#482878"
             ],
             [
              0.2222222222222222,
              "#3e4989"
             ],
             [
              0.3333333333333333,
              "#31688e"
             ],
             [
              0.4444444444444444,
              "#26828e"
             ],
             [
              0.5555555555555556,
              "#1f9e89"
             ],
             [
              0.6666666666666666,
              "#35b779"
             ],
             [
              0.7777777777777778,
              "#6ece58"
             ],
             [
              0.8888888888888888,
              "#b5de2b"
             ],
             [
              1,
              "#fde725"
             ]
            ],
            "type": "histogram2d"
           }
          ],
          "histogram2dcontour": [
           {
            "colorbar": {
             "outlinewidth": 1,
             "tickcolor": "rgb(36,36,36)",
             "ticks": "outside"
            },
            "colorscale": [
             [
              0,
              "#440154"
             ],
             [
              0.1111111111111111,
              "#482878"
             ],
             [
              0.2222222222222222,
              "#3e4989"
             ],
             [
              0.3333333333333333,
              "#31688e"
             ],
             [
              0.4444444444444444,
              "#26828e"
             ],
             [
              0.5555555555555556,
              "#1f9e89"
             ],
             [
              0.6666666666666666,
              "#35b779"
             ],
             [
              0.7777777777777778,
              "#6ece58"
             ],
             [
              0.8888888888888888,
              "#b5de2b"
             ],
             [
              1,
              "#fde725"
             ]
            ],
            "type": "histogram2dcontour"
           }
          ],
          "mesh3d": [
           {
            "colorbar": {
             "outlinewidth": 1,
             "tickcolor": "rgb(36,36,36)",
             "ticks": "outside"
            },
            "type": "mesh3d"
           }
          ],
          "parcoords": [
           {
            "line": {
             "colorbar": {
              "outlinewidth": 1,
              "tickcolor": "rgb(36,36,36)",
              "ticks": "outside"
             }
            },
            "type": "parcoords"
           }
          ],
          "pie": [
           {
            "automargin": true,
            "type": "pie"
           }
          ],
          "scatter": [
           {
            "fillpattern": {
             "fillmode": "overlay",
             "size": 10,
             "solidity": 0.2
            },
            "type": "scatter"
           }
          ],
          "scatter3d": [
           {
            "line": {
             "colorbar": {
              "outlinewidth": 1,
              "tickcolor": "rgb(36,36,36)",
              "ticks": "outside"
             }
            },
            "marker": {
             "colorbar": {
              "outlinewidth": 1,
              "tickcolor": "rgb(36,36,36)",
              "ticks": "outside"
             }
            },
            "type": "scatter3d"
           }
          ],
          "scattercarpet": [
           {
            "marker": {
             "colorbar": {
              "outlinewidth": 1,
              "tickcolor": "rgb(36,36,36)",
              "ticks": "outside"
             }
            },
            "type": "scattercarpet"
           }
          ],
          "scattergeo": [
           {
            "marker": {
             "colorbar": {
              "outlinewidth": 1,
              "tickcolor": "rgb(36,36,36)",
              "ticks": "outside"
             }
            },
            "type": "scattergeo"
           }
          ],
          "scattergl": [
           {
            "marker": {
             "colorbar": {
              "outlinewidth": 1,
              "tickcolor": "rgb(36,36,36)",
              "ticks": "outside"
             }
            },
            "type": "scattergl"
           }
          ],
          "scattermapbox": [
           {
            "marker": {
             "colorbar": {
              "outlinewidth": 1,
              "tickcolor": "rgb(36,36,36)",
              "ticks": "outside"
             }
            },
            "type": "scattermapbox"
           }
          ],
          "scatterpolar": [
           {
            "marker": {
             "colorbar": {
              "outlinewidth": 1,
              "tickcolor": "rgb(36,36,36)",
              "ticks": "outside"
             }
            },
            "type": "scatterpolar"
           }
          ],
          "scatterpolargl": [
           {
            "marker": {
             "colorbar": {
              "outlinewidth": 1,
              "tickcolor": "rgb(36,36,36)",
              "ticks": "outside"
             }
            },
            "type": "scatterpolargl"
           }
          ],
          "scatterternary": [
           {
            "marker": {
             "colorbar": {
              "outlinewidth": 1,
              "tickcolor": "rgb(36,36,36)",
              "ticks": "outside"
             }
            },
            "type": "scatterternary"
           }
          ],
          "surface": [
           {
            "colorbar": {
             "outlinewidth": 1,
             "tickcolor": "rgb(36,36,36)",
             "ticks": "outside"
            },
            "colorscale": [
             [
              0,
              "#440154"
             ],
             [
              0.1111111111111111,
              "#482878"
             ],
             [
              0.2222222222222222,
              "#3e4989"
             ],
             [
              0.3333333333333333,
              "#31688e"
             ],
             [
              0.4444444444444444,
              "#26828e"
             ],
             [
              0.5555555555555556,
              "#1f9e89"
             ],
             [
              0.6666666666666666,
              "#35b779"
             ],
             [
              0.7777777777777778,
              "#6ece58"
             ],
             [
              0.8888888888888888,
              "#b5de2b"
             ],
             [
              1,
              "#fde725"
             ]
            ],
            "type": "surface"
           }
          ],
          "table": [
           {
            "cells": {
             "fill": {
              "color": "rgb(237,237,237)"
             },
             "line": {
              "color": "white"
             }
            },
            "header": {
             "fill": {
              "color": "rgb(217,217,217)"
             },
             "line": {
              "color": "white"
             }
            },
            "type": "table"
           }
          ]
         },
         "layout": {
          "annotationdefaults": {
           "arrowhead": 0,
           "arrowwidth": 1
          },
          "autotypenumbers": "strict",
          "coloraxis": {
           "colorbar": {
            "outlinewidth": 1,
            "tickcolor": "rgb(36,36,36)",
            "ticks": "outside"
           }
          },
          "colorscale": {
           "diverging": [
            [
             0,
             "rgb(103,0,31)"
            ],
            [
             0.1,
             "rgb(178,24,43)"
            ],
            [
             0.2,
             "rgb(214,96,77)"
            ],
            [
             0.3,
             "rgb(244,165,130)"
            ],
            [
             0.4,
             "rgb(253,219,199)"
            ],
            [
             0.5,
             "rgb(247,247,247)"
            ],
            [
             0.6,
             "rgb(209,229,240)"
            ],
            [
             0.7,
             "rgb(146,197,222)"
            ],
            [
             0.8,
             "rgb(67,147,195)"
            ],
            [
             0.9,
             "rgb(33,102,172)"
            ],
            [
             1,
             "rgb(5,48,97)"
            ]
           ],
           "sequential": [
            [
             0,
             "#440154"
            ],
            [
             0.1111111111111111,
             "#482878"
            ],
            [
             0.2222222222222222,
             "#3e4989"
            ],
            [
             0.3333333333333333,
             "#31688e"
            ],
            [
             0.4444444444444444,
             "#26828e"
            ],
            [
             0.5555555555555556,
             "#1f9e89"
            ],
            [
             0.6666666666666666,
             "#35b779"
            ],
            [
             0.7777777777777778,
             "#6ece58"
            ],
            [
             0.8888888888888888,
             "#b5de2b"
            ],
            [
             1,
             "#fde725"
            ]
           ],
           "sequentialminus": [
            [
             0,
             "#440154"
            ],
            [
             0.1111111111111111,
             "#482878"
            ],
            [
             0.2222222222222222,
             "#3e4989"
            ],
            [
             0.3333333333333333,
             "#31688e"
            ],
            [
             0.4444444444444444,
             "#26828e"
            ],
            [
             0.5555555555555556,
             "#1f9e89"
            ],
            [
             0.6666666666666666,
             "#35b779"
            ],
            [
             0.7777777777777778,
             "#6ece58"
            ],
            [
             0.8888888888888888,
             "#b5de2b"
            ],
            [
             1,
             "#fde725"
            ]
           ]
          },
          "colorway": [
           "#1F77B4",
           "#FF7F0E",
           "#2CA02C",
           "#D62728",
           "#9467BD",
           "#8C564B",
           "#E377C2",
           "#7F7F7F",
           "#BCBD22",
           "#17BECF"
          ],
          "font": {
           "color": "rgb(36,36,36)"
          },
          "geo": {
           "bgcolor": "white",
           "lakecolor": "white",
           "landcolor": "white",
           "showlakes": true,
           "showland": true,
           "subunitcolor": "white"
          },
          "hoverlabel": {
           "align": "left"
          },
          "hovermode": "closest",
          "mapbox": {
           "style": "light"
          },
          "paper_bgcolor": "white",
          "plot_bgcolor": "white",
          "polar": {
           "angularaxis": {
            "gridcolor": "rgb(232,232,232)",
            "linecolor": "rgb(36,36,36)",
            "showgrid": false,
            "showline": true,
            "ticks": "outside"
           },
           "bgcolor": "white",
           "radialaxis": {
            "gridcolor": "rgb(232,232,232)",
            "linecolor": "rgb(36,36,36)",
            "showgrid": false,
            "showline": true,
            "ticks": "outside"
           }
          },
          "scene": {
           "xaxis": {
            "backgroundcolor": "white",
            "gridcolor": "rgb(232,232,232)",
            "gridwidth": 2,
            "linecolor": "rgb(36,36,36)",
            "showbackground": true,
            "showgrid": false,
            "showline": true,
            "ticks": "outside",
            "zeroline": false,
            "zerolinecolor": "rgb(36,36,36)"
           },
           "yaxis": {
            "backgroundcolor": "white",
            "gridcolor": "rgb(232,232,232)",
            "gridwidth": 2,
            "linecolor": "rgb(36,36,36)",
            "showbackground": true,
            "showgrid": false,
            "showline": true,
            "ticks": "outside",
            "zeroline": false,
            "zerolinecolor": "rgb(36,36,36)"
           },
           "zaxis": {
            "backgroundcolor": "white",
            "gridcolor": "rgb(232,232,232)",
            "gridwidth": 2,
            "linecolor": "rgb(36,36,36)",
            "showbackground": true,
            "showgrid": false,
            "showline": true,
            "ticks": "outside",
            "zeroline": false,
            "zerolinecolor": "rgb(36,36,36)"
           }
          },
          "shapedefaults": {
           "fillcolor": "black",
           "line": {
            "width": 0
           },
           "opacity": 0.3
          },
          "ternary": {
           "aaxis": {
            "gridcolor": "rgb(232,232,232)",
            "linecolor": "rgb(36,36,36)",
            "showgrid": false,
            "showline": true,
            "ticks": "outside"
           },
           "baxis": {
            "gridcolor": "rgb(232,232,232)",
            "linecolor": "rgb(36,36,36)",
            "showgrid": false,
            "showline": true,
            "ticks": "outside"
           },
           "bgcolor": "white",
           "caxis": {
            "gridcolor": "rgb(232,232,232)",
            "linecolor": "rgb(36,36,36)",
            "showgrid": false,
            "showline": true,
            "ticks": "outside"
           }
          },
          "title": {
           "x": 0.05
          },
          "xaxis": {
           "automargin": true,
           "gridcolor": "rgb(232,232,232)",
           "linecolor": "rgb(36,36,36)",
           "showgrid": false,
           "showline": true,
           "ticks": "outside",
           "title": {
            "standoff": 15
           },
           "zeroline": false,
           "zerolinecolor": "rgb(36,36,36)"
          },
          "yaxis": {
           "automargin": true,
           "gridcolor": "rgb(232,232,232)",
           "linecolor": "rgb(36,36,36)",
           "showgrid": false,
           "showline": true,
           "ticks": "outside",
           "title": {
            "standoff": 15
           },
           "zeroline": false,
           "zerolinecolor": "rgb(36,36,36)"
          }
         }
        },
        "title": {
         "text": "Correlation Matrix"
        },
        "xaxis": {
         "anchor": "y",
         "constrain": "domain",
         "domain": [
          0,
          1
         ],
         "scaleanchor": "y"
        },
        "yaxis": {
         "anchor": "x",
         "autorange": "reversed",
         "constrain": "domain",
         "domain": [
          0,
          1
         ]
        }
       }
      }
     },
     "metadata": {},
     "output_type": "display_data"
    }
   ],
   "source": [
    "# Compute the correlation matrix\n",
    "corr_matrix = df[num_variables].corr()\n",
    "\n",
    "# Print the correlation matrix\n",
    "print(corr_matrix)\n",
    "\n",
    "# Create heatmap of correlation matrix\n",
    "fig = px.imshow(corr_matrix, color_continuous_scale='RdBu', title='Correlation Matrix')\n",
    "fig.show()"
   ]
  },
  {
   "cell_type": "code",
   "execution_count": 19,
   "metadata": {},
   "outputs": [
    {
     "name": "stdout",
     "output_type": "stream",
     "text": [
      "                      page_id  version_id_new  word_count  main_text_length   \n",
      "page_id                   1.0             NaN         NaN               NaN  \\\n",
      "version_id_new            NaN             1.0         NaN               NaN   \n",
      "word_count                NaN             NaN         1.0               NaN   \n",
      "main_text_length          NaN             NaN         NaN               1.0   \n",
      "meta_title_len            NaN             NaN         NaN               NaN   \n",
      "meta_desc_len             NaN             NaN         NaN               NaN   \n",
      "h1_len                    NaN             NaN         NaN               NaN   \n",
      "abstract_len              NaN             NaN         NaN               NaN   \n",
      "merged_url_len            NaN             NaN         NaN               NaN   \n",
      "daily_likes               NaN             NaN         NaN               NaN   \n",
      "daily_dislikes            NaN             NaN         NaN               NaN   \n",
      "video_play                NaN             NaN         NaN               NaN   \n",
      "page_impressions          NaN             NaN         NaN               NaN   \n",
      "clickouts                 NaN             NaN         NaN               NaN   \n",
      "external_clicks           NaN             NaN         NaN               NaN   \n",
      "external_impressions      NaN             NaN         NaN               NaN   \n",
      "ctr                       NaN             NaN         NaN               NaN   \n",
      "\n",
      "                      meta_title_len  meta_desc_len   h1_len  abstract_len   \n",
      "page_id                          NaN            NaN      NaN           NaN  \\\n",
      "version_id_new                   NaN            NaN      NaN           NaN   \n",
      "word_count                       NaN            NaN      NaN           NaN   \n",
      "main_text_length                 NaN            NaN      NaN           NaN   \n",
      "meta_title_len               1.00000            NaN  0.72884           NaN   \n",
      "meta_desc_len                    NaN            1.0      NaN           NaN   \n",
      "h1_len                       0.72884            NaN  1.00000           NaN   \n",
      "abstract_len                     NaN            NaN      NaN           1.0   \n",
      "merged_url_len                   NaN            NaN      NaN           NaN   \n",
      "daily_likes                      NaN            NaN      NaN           NaN   \n",
      "daily_dislikes                   NaN            NaN      NaN           NaN   \n",
      "video_play                       NaN            NaN      NaN           NaN   \n",
      "page_impressions                 NaN            NaN      NaN           NaN   \n",
      "clickouts                        NaN            NaN      NaN           NaN   \n",
      "external_clicks                  NaN            NaN      NaN           NaN   \n",
      "external_impressions             NaN            NaN      NaN           NaN   \n",
      "ctr                              NaN            NaN      NaN           NaN   \n",
      "\n",
      "                      merged_url_len  daily_likes  daily_dislikes  video_play   \n",
      "page_id                          NaN          NaN             NaN         NaN  \\\n",
      "version_id_new                   NaN          NaN             NaN         NaN   \n",
      "word_count                       NaN          NaN             NaN         NaN   \n",
      "main_text_length                 NaN          NaN             NaN         NaN   \n",
      "meta_title_len                   NaN          NaN             NaN         NaN   \n",
      "meta_desc_len                    NaN          NaN             NaN         NaN   \n",
      "h1_len                           NaN          NaN             NaN         NaN   \n",
      "abstract_len                     NaN          NaN             NaN         NaN   \n",
      "merged_url_len                   1.0          NaN             NaN         NaN   \n",
      "daily_likes                      NaN      1.00000         0.92997         NaN   \n",
      "daily_dislikes                   NaN      0.92997         1.00000         NaN   \n",
      "video_play                       NaN          NaN             NaN    1.000000   \n",
      "page_impressions                 NaN          NaN             NaN    0.951296   \n",
      "clickouts                        NaN          NaN             NaN         NaN   \n",
      "external_clicks                  NaN          NaN             NaN    0.691092   \n",
      "external_impressions             NaN          NaN             NaN    0.705035   \n",
      "ctr                              NaN          NaN             NaN         NaN   \n",
      "\n",
      "                      page_impressions  clickouts  external_clicks   \n",
      "page_id                            NaN        NaN              NaN  \\\n",
      "version_id_new                     NaN        NaN              NaN   \n",
      "word_count                         NaN        NaN              NaN   \n",
      "main_text_length                   NaN        NaN              NaN   \n",
      "meta_title_len                     NaN        NaN              NaN   \n",
      "meta_desc_len                      NaN        NaN              NaN   \n",
      "h1_len                             NaN        NaN              NaN   \n",
      "abstract_len                       NaN        NaN              NaN   \n",
      "merged_url_len                     NaN        NaN              NaN   \n",
      "daily_likes                        NaN        NaN              NaN   \n",
      "daily_dislikes                     NaN        NaN              NaN   \n",
      "video_play                    0.951296        NaN         0.691092   \n",
      "page_impressions              1.000000        NaN         0.731754   \n",
      "clickouts                          NaN        1.0              NaN   \n",
      "external_clicks               0.731754        NaN         1.000000   \n",
      "external_impressions          0.742401        NaN         0.965684   \n",
      "ctr                                NaN        NaN              NaN   \n",
      "\n",
      "                      external_impressions  ctr  \n",
      "page_id                                NaN  NaN  \n",
      "version_id_new                         NaN  NaN  \n",
      "word_count                             NaN  NaN  \n",
      "main_text_length                       NaN  NaN  \n",
      "meta_title_len                         NaN  NaN  \n",
      "meta_desc_len                          NaN  NaN  \n",
      "h1_len                                 NaN  NaN  \n",
      "abstract_len                           NaN  NaN  \n",
      "merged_url_len                         NaN  NaN  \n",
      "daily_likes                            NaN  NaN  \n",
      "daily_dislikes                         NaN  NaN  \n",
      "video_play                        0.705035  NaN  \n",
      "page_impressions                  0.742401  NaN  \n",
      "clickouts                              NaN  NaN  \n",
      "external_clicks                   0.965684  NaN  \n",
      "external_impressions              1.000000  NaN  \n",
      "ctr                                    NaN  1.0  \n"
     ]
    },
    {
     "data": {
      "application/vnd.plotly.v1+json": {
       "config": {
        "plotlyServerURL": "https://plot.ly"
       },
       "data": [
        {
         "coloraxis": "coloraxis",
         "hovertemplate": "x: %{x}<br>y: %{y}<br>color: %{z}<extra></extra>",
         "name": "0",
         "type": "heatmap",
         "x": [
          "page_id",
          "version_id_new",
          "word_count",
          "main_text_length",
          "meta_title_len",
          "meta_desc_len",
          "h1_len",
          "abstract_len",
          "merged_url_len",
          "daily_likes",
          "daily_dislikes",
          "video_play",
          "page_impressions",
          "clickouts",
          "external_clicks",
          "external_impressions",
          "ctr"
         ],
         "xaxis": "x",
         "y": [
          "page_id",
          "version_id_new",
          "word_count",
          "main_text_length",
          "meta_title_len",
          "meta_desc_len",
          "h1_len",
          "abstract_len",
          "merged_url_len",
          "daily_likes",
          "daily_dislikes",
          "video_play",
          "page_impressions",
          "clickouts",
          "external_clicks",
          "external_impressions",
          "ctr"
         ],
         "yaxis": "y",
         "z": [
          [
           1,
           null,
           null,
           null,
           null,
           null,
           null,
           null,
           null,
           null,
           null,
           null,
           null,
           null,
           null,
           null,
           null
          ],
          [
           null,
           1,
           null,
           null,
           null,
           null,
           null,
           null,
           null,
           null,
           null,
           null,
           null,
           null,
           null,
           null,
           null
          ],
          [
           null,
           null,
           1,
           null,
           null,
           null,
           null,
           null,
           null,
           null,
           null,
           null,
           null,
           null,
           null,
           null,
           null
          ],
          [
           null,
           null,
           null,
           1,
           null,
           null,
           null,
           null,
           null,
           null,
           null,
           null,
           null,
           null,
           null,
           null,
           null
          ],
          [
           null,
           null,
           null,
           null,
           1,
           null,
           0.7288403393089286,
           null,
           null,
           null,
           null,
           null,
           null,
           null,
           null,
           null,
           null
          ],
          [
           null,
           null,
           null,
           null,
           null,
           1,
           null,
           null,
           null,
           null,
           null,
           null,
           null,
           null,
           null,
           null,
           null
          ],
          [
           null,
           null,
           null,
           null,
           0.7288403393089286,
           null,
           1,
           null,
           null,
           null,
           null,
           null,
           null,
           null,
           null,
           null,
           null
          ],
          [
           null,
           null,
           null,
           null,
           null,
           null,
           null,
           1,
           null,
           null,
           null,
           null,
           null,
           null,
           null,
           null,
           null
          ],
          [
           null,
           null,
           null,
           null,
           null,
           null,
           null,
           null,
           1,
           null,
           null,
           null,
           null,
           null,
           null,
           null,
           null
          ],
          [
           null,
           null,
           null,
           null,
           null,
           null,
           null,
           null,
           null,
           1,
           0.9299695522271662,
           null,
           null,
           null,
           null,
           null,
           null
          ],
          [
           null,
           null,
           null,
           null,
           null,
           null,
           null,
           null,
           null,
           0.9299695522271662,
           1,
           null,
           null,
           null,
           null,
           null,
           null
          ],
          [
           null,
           null,
           null,
           null,
           null,
           null,
           null,
           null,
           null,
           null,
           null,
           1,
           0.9512963200872971,
           null,
           0.6910924853566609,
           0.7050350606230948,
           null
          ],
          [
           null,
           null,
           null,
           null,
           null,
           null,
           null,
           null,
           null,
           null,
           null,
           0.9512963200872971,
           1,
           null,
           0.7317537004657526,
           0.7424008983265691,
           null
          ],
          [
           null,
           null,
           null,
           null,
           null,
           null,
           null,
           null,
           null,
           null,
           null,
           null,
           null,
           1,
           null,
           null,
           null
          ],
          [
           null,
           null,
           null,
           null,
           null,
           null,
           null,
           null,
           null,
           null,
           null,
           0.6910924853566609,
           0.7317537004657526,
           null,
           1,
           0.965684017542063,
           null
          ],
          [
           null,
           null,
           null,
           null,
           null,
           null,
           null,
           null,
           null,
           null,
           null,
           0.7050350606230948,
           0.7424008983265691,
           null,
           0.965684017542063,
           1,
           null
          ],
          [
           null,
           null,
           null,
           null,
           null,
           null,
           null,
           null,
           null,
           null,
           null,
           null,
           null,
           null,
           null,
           null,
           1
          ]
         ]
        }
       ],
       "layout": {
        "coloraxis": {
         "colorscale": [
          [
           0,
           "rgb(103,0,31)"
          ],
          [
           0.1,
           "rgb(178,24,43)"
          ],
          [
           0.2,
           "rgb(214,96,77)"
          ],
          [
           0.3,
           "rgb(244,165,130)"
          ],
          [
           0.4,
           "rgb(253,219,199)"
          ],
          [
           0.5,
           "rgb(247,247,247)"
          ],
          [
           0.6,
           "rgb(209,229,240)"
          ],
          [
           0.7,
           "rgb(146,197,222)"
          ],
          [
           0.8,
           "rgb(67,147,195)"
          ],
          [
           0.9,
           "rgb(33,102,172)"
          ],
          [
           1,
           "rgb(5,48,97)"
          ]
         ]
        },
        "template": {
         "data": {
          "bar": [
           {
            "error_x": {
             "color": "rgb(36,36,36)"
            },
            "error_y": {
             "color": "rgb(36,36,36)"
            },
            "marker": {
             "line": {
              "color": "white",
              "width": 0.5
             },
             "pattern": {
              "fillmode": "overlay",
              "size": 10,
              "solidity": 0.2
             }
            },
            "type": "bar"
           }
          ],
          "barpolar": [
           {
            "marker": {
             "line": {
              "color": "white",
              "width": 0.5
             },
             "pattern": {
              "fillmode": "overlay",
              "size": 10,
              "solidity": 0.2
             }
            },
            "type": "barpolar"
           }
          ],
          "carpet": [
           {
            "aaxis": {
             "endlinecolor": "rgb(36,36,36)",
             "gridcolor": "white",
             "linecolor": "white",
             "minorgridcolor": "white",
             "startlinecolor": "rgb(36,36,36)"
            },
            "baxis": {
             "endlinecolor": "rgb(36,36,36)",
             "gridcolor": "white",
             "linecolor": "white",
             "minorgridcolor": "white",
             "startlinecolor": "rgb(36,36,36)"
            },
            "type": "carpet"
           }
          ],
          "choropleth": [
           {
            "colorbar": {
             "outlinewidth": 1,
             "tickcolor": "rgb(36,36,36)",
             "ticks": "outside"
            },
            "type": "choropleth"
           }
          ],
          "contour": [
           {
            "colorbar": {
             "outlinewidth": 1,
             "tickcolor": "rgb(36,36,36)",
             "ticks": "outside"
            },
            "colorscale": [
             [
              0,
              "#440154"
             ],
             [
              0.1111111111111111,
              "#482878"
             ],
             [
              0.2222222222222222,
              "#3e4989"
             ],
             [
              0.3333333333333333,
              "#31688e"
             ],
             [
              0.4444444444444444,
              "#26828e"
             ],
             [
              0.5555555555555556,
              "#1f9e89"
             ],
             [
              0.6666666666666666,
              "#35b779"
             ],
             [
              0.7777777777777778,
              "#6ece58"
             ],
             [
              0.8888888888888888,
              "#b5de2b"
             ],
             [
              1,
              "#fde725"
             ]
            ],
            "type": "contour"
           }
          ],
          "contourcarpet": [
           {
            "colorbar": {
             "outlinewidth": 1,
             "tickcolor": "rgb(36,36,36)",
             "ticks": "outside"
            },
            "type": "contourcarpet"
           }
          ],
          "heatmap": [
           {
            "colorbar": {
             "outlinewidth": 1,
             "tickcolor": "rgb(36,36,36)",
             "ticks": "outside"
            },
            "colorscale": [
             [
              0,
              "#440154"
             ],
             [
              0.1111111111111111,
              "#482878"
             ],
             [
              0.2222222222222222,
              "#3e4989"
             ],
             [
              0.3333333333333333,
              "#31688e"
             ],
             [
              0.4444444444444444,
              "#26828e"
             ],
             [
              0.5555555555555556,
              "#1f9e89"
             ],
             [
              0.6666666666666666,
              "#35b779"
             ],
             [
              0.7777777777777778,
              "#6ece58"
             ],
             [
              0.8888888888888888,
              "#b5de2b"
             ],
             [
              1,
              "#fde725"
             ]
            ],
            "type": "heatmap"
           }
          ],
          "heatmapgl": [
           {
            "colorbar": {
             "outlinewidth": 1,
             "tickcolor": "rgb(36,36,36)",
             "ticks": "outside"
            },
            "colorscale": [
             [
              0,
              "#440154"
             ],
             [
              0.1111111111111111,
              "#482878"
             ],
             [
              0.2222222222222222,
              "#3e4989"
             ],
             [
              0.3333333333333333,
              "#31688e"
             ],
             [
              0.4444444444444444,
              "#26828e"
             ],
             [
              0.5555555555555556,
              "#1f9e89"
             ],
             [
              0.6666666666666666,
              "#35b779"
             ],
             [
              0.7777777777777778,
              "#6ece58"
             ],
             [
              0.8888888888888888,
              "#b5de2b"
             ],
             [
              1,
              "#fde725"
             ]
            ],
            "type": "heatmapgl"
           }
          ],
          "histogram": [
           {
            "marker": {
             "line": {
              "color": "white",
              "width": 0.6
             }
            },
            "type": "histogram"
           }
          ],
          "histogram2d": [
           {
            "colorbar": {
             "outlinewidth": 1,
             "tickcolor": "rgb(36,36,36)",
             "ticks": "outside"
            },
            "colorscale": [
             [
              0,
              "#440154"
             ],
             [
              0.1111111111111111,
              "#482878"
             ],
             [
              0.2222222222222222,
              "#3e4989"
             ],
             [
              0.3333333333333333,
              "#31688e"
             ],
             [
              0.4444444444444444,
              "#26828e"
             ],
             [
              0.5555555555555556,
              "#1f9e89"
             ],
             [
              0.6666666666666666,
              "#35b779"
             ],
             [
              0.7777777777777778,
              "#6ece58"
             ],
             [
              0.8888888888888888,
              "#b5de2b"
             ],
             [
              1,
              "#fde725"
             ]
            ],
            "type": "histogram2d"
           }
          ],
          "histogram2dcontour": [
           {
            "colorbar": {
             "outlinewidth": 1,
             "tickcolor": "rgb(36,36,36)",
             "ticks": "outside"
            },
            "colorscale": [
             [
              0,
              "#440154"
             ],
             [
              0.1111111111111111,
              "#482878"
             ],
             [
              0.2222222222222222,
              "#3e4989"
             ],
             [
              0.3333333333333333,
              "#31688e"
             ],
             [
              0.4444444444444444,
              "#26828e"
             ],
             [
              0.5555555555555556,
              "#1f9e89"
             ],
             [
              0.6666666666666666,
              "#35b779"
             ],
             [
              0.7777777777777778,
              "#6ece58"
             ],
             [
              0.8888888888888888,
              "#b5de2b"
             ],
             [
              1,
              "#fde725"
             ]
            ],
            "type": "histogram2dcontour"
           }
          ],
          "mesh3d": [
           {
            "colorbar": {
             "outlinewidth": 1,
             "tickcolor": "rgb(36,36,36)",
             "ticks": "outside"
            },
            "type": "mesh3d"
           }
          ],
          "parcoords": [
           {
            "line": {
             "colorbar": {
              "outlinewidth": 1,
              "tickcolor": "rgb(36,36,36)",
              "ticks": "outside"
             }
            },
            "type": "parcoords"
           }
          ],
          "pie": [
           {
            "automargin": true,
            "type": "pie"
           }
          ],
          "scatter": [
           {
            "fillpattern": {
             "fillmode": "overlay",
             "size": 10,
             "solidity": 0.2
            },
            "type": "scatter"
           }
          ],
          "scatter3d": [
           {
            "line": {
             "colorbar": {
              "outlinewidth": 1,
              "tickcolor": "rgb(36,36,36)",
              "ticks": "outside"
             }
            },
            "marker": {
             "colorbar": {
              "outlinewidth": 1,
              "tickcolor": "rgb(36,36,36)",
              "ticks": "outside"
             }
            },
            "type": "scatter3d"
           }
          ],
          "scattercarpet": [
           {
            "marker": {
             "colorbar": {
              "outlinewidth": 1,
              "tickcolor": "rgb(36,36,36)",
              "ticks": "outside"
             }
            },
            "type": "scattercarpet"
           }
          ],
          "scattergeo": [
           {
            "marker": {
             "colorbar": {
              "outlinewidth": 1,
              "tickcolor": "rgb(36,36,36)",
              "ticks": "outside"
             }
            },
            "type": "scattergeo"
           }
          ],
          "scattergl": [
           {
            "marker": {
             "colorbar": {
              "outlinewidth": 1,
              "tickcolor": "rgb(36,36,36)",
              "ticks": "outside"
             }
            },
            "type": "scattergl"
           }
          ],
          "scattermapbox": [
           {
            "marker": {
             "colorbar": {
              "outlinewidth": 1,
              "tickcolor": "rgb(36,36,36)",
              "ticks": "outside"
             }
            },
            "type": "scattermapbox"
           }
          ],
          "scatterpolar": [
           {
            "marker": {
             "colorbar": {
              "outlinewidth": 1,
              "tickcolor": "rgb(36,36,36)",
              "ticks": "outside"
             }
            },
            "type": "scatterpolar"
           }
          ],
          "scatterpolargl": [
           {
            "marker": {
             "colorbar": {
              "outlinewidth": 1,
              "tickcolor": "rgb(36,36,36)",
              "ticks": "outside"
             }
            },
            "type": "scatterpolargl"
           }
          ],
          "scatterternary": [
           {
            "marker": {
             "colorbar": {
              "outlinewidth": 1,
              "tickcolor": "rgb(36,36,36)",
              "ticks": "outside"
             }
            },
            "type": "scatterternary"
           }
          ],
          "surface": [
           {
            "colorbar": {
             "outlinewidth": 1,
             "tickcolor": "rgb(36,36,36)",
             "ticks": "outside"
            },
            "colorscale": [
             [
              0,
              "#440154"
             ],
             [
              0.1111111111111111,
              "#482878"
             ],
             [
              0.2222222222222222,
              "#3e4989"
             ],
             [
              0.3333333333333333,
              "#31688e"
             ],
             [
              0.4444444444444444,
              "#26828e"
             ],
             [
              0.5555555555555556,
              "#1f9e89"
             ],
             [
              0.6666666666666666,
              "#35b779"
             ],
             [
              0.7777777777777778,
              "#6ece58"
             ],
             [
              0.8888888888888888,
              "#b5de2b"
             ],
             [
              1,
              "#fde725"
             ]
            ],
            "type": "surface"
           }
          ],
          "table": [
           {
            "cells": {
             "fill": {
              "color": "rgb(237,237,237)"
             },
             "line": {
              "color": "white"
             }
            },
            "header": {
             "fill": {
              "color": "rgb(217,217,217)"
             },
             "line": {
              "color": "white"
             }
            },
            "type": "table"
           }
          ]
         },
         "layout": {
          "annotationdefaults": {
           "arrowhead": 0,
           "arrowwidth": 1
          },
          "autotypenumbers": "strict",
          "coloraxis": {
           "colorbar": {
            "outlinewidth": 1,
            "tickcolor": "rgb(36,36,36)",
            "ticks": "outside"
           }
          },
          "colorscale": {
           "diverging": [
            [
             0,
             "rgb(103,0,31)"
            ],
            [
             0.1,
             "rgb(178,24,43)"
            ],
            [
             0.2,
             "rgb(214,96,77)"
            ],
            [
             0.3,
             "rgb(244,165,130)"
            ],
            [
             0.4,
             "rgb(253,219,199)"
            ],
            [
             0.5,
             "rgb(247,247,247)"
            ],
            [
             0.6,
             "rgb(209,229,240)"
            ],
            [
             0.7,
             "rgb(146,197,222)"
            ],
            [
             0.8,
             "rgb(67,147,195)"
            ],
            [
             0.9,
             "rgb(33,102,172)"
            ],
            [
             1,
             "rgb(5,48,97)"
            ]
           ],
           "sequential": [
            [
             0,
             "#440154"
            ],
            [
             0.1111111111111111,
             "#482878"
            ],
            [
             0.2222222222222222,
             "#3e4989"
            ],
            [
             0.3333333333333333,
             "#31688e"
            ],
            [
             0.4444444444444444,
             "#26828e"
            ],
            [
             0.5555555555555556,
             "#1f9e89"
            ],
            [
             0.6666666666666666,
             "#35b779"
            ],
            [
             0.7777777777777778,
             "#6ece58"
            ],
            [
             0.8888888888888888,
             "#b5de2b"
            ],
            [
             1,
             "#fde725"
            ]
           ],
           "sequentialminus": [
            [
             0,
             "#440154"
            ],
            [
             0.1111111111111111,
             "#482878"
            ],
            [
             0.2222222222222222,
             "#3e4989"
            ],
            [
             0.3333333333333333,
             "#31688e"
            ],
            [
             0.4444444444444444,
             "#26828e"
            ],
            [
             0.5555555555555556,
             "#1f9e89"
            ],
            [
             0.6666666666666666,
             "#35b779"
            ],
            [
             0.7777777777777778,
             "#6ece58"
            ],
            [
             0.8888888888888888,
             "#b5de2b"
            ],
            [
             1,
             "#fde725"
            ]
           ]
          },
          "colorway": [
           "#1F77B4",
           "#FF7F0E",
           "#2CA02C",
           "#D62728",
           "#9467BD",
           "#8C564B",
           "#E377C2",
           "#7F7F7F",
           "#BCBD22",
           "#17BECF"
          ],
          "font": {
           "color": "rgb(36,36,36)"
          },
          "geo": {
           "bgcolor": "white",
           "lakecolor": "white",
           "landcolor": "white",
           "showlakes": true,
           "showland": true,
           "subunitcolor": "white"
          },
          "hoverlabel": {
           "align": "left"
          },
          "hovermode": "closest",
          "mapbox": {
           "style": "light"
          },
          "paper_bgcolor": "white",
          "plot_bgcolor": "white",
          "polar": {
           "angularaxis": {
            "gridcolor": "rgb(232,232,232)",
            "linecolor": "rgb(36,36,36)",
            "showgrid": false,
            "showline": true,
            "ticks": "outside"
           },
           "bgcolor": "white",
           "radialaxis": {
            "gridcolor": "rgb(232,232,232)",
            "linecolor": "rgb(36,36,36)",
            "showgrid": false,
            "showline": true,
            "ticks": "outside"
           }
          },
          "scene": {
           "xaxis": {
            "backgroundcolor": "white",
            "gridcolor": "rgb(232,232,232)",
            "gridwidth": 2,
            "linecolor": "rgb(36,36,36)",
            "showbackground": true,
            "showgrid": false,
            "showline": true,
            "ticks": "outside",
            "zeroline": false,
            "zerolinecolor": "rgb(36,36,36)"
           },
           "yaxis": {
            "backgroundcolor": "white",
            "gridcolor": "rgb(232,232,232)",
            "gridwidth": 2,
            "linecolor": "rgb(36,36,36)",
            "showbackground": true,
            "showgrid": false,
            "showline": true,
            "ticks": "outside",
            "zeroline": false,
            "zerolinecolor": "rgb(36,36,36)"
           },
           "zaxis": {
            "backgroundcolor": "white",
            "gridcolor": "rgb(232,232,232)",
            "gridwidth": 2,
            "linecolor": "rgb(36,36,36)",
            "showbackground": true,
            "showgrid": false,
            "showline": true,
            "ticks": "outside",
            "zeroline": false,
            "zerolinecolor": "rgb(36,36,36)"
           }
          },
          "shapedefaults": {
           "fillcolor": "black",
           "line": {
            "width": 0
           },
           "opacity": 0.3
          },
          "ternary": {
           "aaxis": {
            "gridcolor": "rgb(232,232,232)",
            "linecolor": "rgb(36,36,36)",
            "showgrid": false,
            "showline": true,
            "ticks": "outside"
           },
           "baxis": {
            "gridcolor": "rgb(232,232,232)",
            "linecolor": "rgb(36,36,36)",
            "showgrid": false,
            "showline": true,
            "ticks": "outside"
           },
           "bgcolor": "white",
           "caxis": {
            "gridcolor": "rgb(232,232,232)",
            "linecolor": "rgb(36,36,36)",
            "showgrid": false,
            "showline": true,
            "ticks": "outside"
           }
          },
          "title": {
           "x": 0.05
          },
          "xaxis": {
           "automargin": true,
           "gridcolor": "rgb(232,232,232)",
           "linecolor": "rgb(36,36,36)",
           "showgrid": false,
           "showline": true,
           "ticks": "outside",
           "title": {
            "standoff": 15
           },
           "zeroline": false,
           "zerolinecolor": "rgb(36,36,36)"
          },
          "yaxis": {
           "automargin": true,
           "gridcolor": "rgb(232,232,232)",
           "linecolor": "rgb(36,36,36)",
           "showgrid": false,
           "showline": true,
           "ticks": "outside",
           "title": {
            "standoff": 15
           },
           "zeroline": false,
           "zerolinecolor": "rgb(36,36,36)"
          }
         }
        },
        "title": {
         "text": "Significant Correlations (absolute value >= 0.5)"
        },
        "xaxis": {
         "anchor": "y",
         "constrain": "domain",
         "domain": [
          0,
          1
         ],
         "scaleanchor": "y"
        },
        "yaxis": {
         "anchor": "x",
         "autorange": "reversed",
         "constrain": "domain",
         "domain": [
          0,
          1
         ]
        }
       }
      }
     },
     "metadata": {},
     "output_type": "display_data"
    }
   ],
   "source": [
    "# Compute the correlation matrix\n",
    "corr_matrix = df[num_variables].corr()\n",
    "\n",
    "# Set the threshold for significant correlations\n",
    "threshold = 0.5  # You can adjust this threshold as needed\n",
    "\n",
    "# Create a mask to filter out insignificant correlations\n",
    "mask = np.abs(corr_matrix) >= threshold\n",
    "corr_matrix_filtered = corr_matrix[mask]\n",
    "\n",
    "# Print the filtered correlation matrix\n",
    "print(corr_matrix_filtered)\n",
    "\n",
    "# Create heatmap of filtered correlation matrix\n",
    "fig = px.imshow(corr_matrix_filtered, color_continuous_scale='RdBu', title='Significant Correlations (absolute value >= 0.5)')\n",
    "fig.show()"
   ]
  },
  {
   "cell_type": "code",
   "execution_count": null,
   "metadata": {},
   "outputs": [],
   "source": []
  }
 ],
 "metadata": {
  "kernelspec": {
   "display_name": ".venv",
   "language": "python",
   "name": "python3"
  },
  "language_info": {
   "codemirror_mode": {
    "name": "ipython",
    "version": 3
   },
   "file_extension": ".py",
   "mimetype": "text/x-python",
   "name": "python",
   "nbconvert_exporter": "python",
   "pygments_lexer": "ipython3",
   "version": "3.11.3"
  }
 },
 "nbformat": 4,
 "nbformat_minor": 2
}
