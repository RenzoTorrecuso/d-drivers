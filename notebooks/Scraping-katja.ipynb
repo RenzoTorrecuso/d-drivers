{
 "cells": [
  {
   "cell_type": "code",
   "execution_count": 2,
   "metadata": {},
   "outputs": [],
   "source": [
    "from bs4 import BeautifulSoup\n",
    "\n",
    "import requests"
   ]
  },
  {
   "cell_type": "code",
   "execution_count": 3,
   "metadata": {},
   "outputs": [],
   "source": [
    "url = 'https://efahrer.chip.de/news/dacia-spring-schon-ab-rund-92-euro-im-leasing_105259'\n",
    "result = requests.get(url)\n",
    "\n",
    "soup = BeautifulSoup(result.content, 'html.parser')# parse the HTML content"
   ]
  },
  {
   "cell_type": "code",
   "execution_count": 12,
   "metadata": {},
   "outputs": [],
   "source": [
    "# This finds the abstract\n",
    "soup.find(id='content').find('article').find('p').text"
   ]
  },
  {
   "cell_type": "markdown",
   "metadata": {},
   "source": [
    "IDEA: what if we download all the pages and make our own archive of the pages? So we can scrape them later without additional requests / server loads"
   ]
  },
  {
   "cell_type": "code",
   "execution_count": null,
   "metadata": {},
   "outputs": [],
   "source": [
    "import pandas as pd\n",
    "df = pd.read_csv('../data/full_data.csv')\n",
    "df"
   ]
  },
  {
   "cell_type": "code",
   "execution_count": 6,
   "metadata": {},
   "outputs": [],
   "source": [
    "urls = df.drop_duplicates(['page_id']).set_index('page_id').url"
   ]
  },
  {
   "cell_type": "code",
   "execution_count": 14,
   "metadata": {},
   "outputs": [
    {
     "data": {
      "text/plain": [
       "'https://efahrer.chip.de/news/diesel-auto-mit-wasserstoff-tanken-australier-zeigen-umruestung_109787'"
      ]
     },
     "execution_count": 14,
     "metadata": {},
     "output_type": "execute_result"
    }
   ],
   "source": [
    "urls.loc[109787]"
   ]
  },
  {
   "cell_type": "code",
   "execution_count": 15,
   "metadata": {},
   "outputs": [
    {
     "name": "stdout",
     "output_type": "stream",
     "text": [
      "Failed to retrieve https://efahrer.chip.de/e-wissen/intelligente-wallbox-diese-vorteile-bringt-die-clevere-ladeloesung_109810\n",
      "Failed to retrieve https://efahrer.chip.de/news/in-6-wochen-zur-eigenen-solaranlage-hier-gibt-es-gerade-rabatt_1010136\n",
      "Failed to retrieve https://efahrer.chip.de/news/wallbox-installationsanbieter-im-schnellcheck-das-macht-smarter-fahren-aus_1011007\n",
      "Failed to retrieve https://efahrer.chip.de/news/rundum-sorglos-paket-fuers-laden-zu-hause-mit-diesem-wallbox-deal-klappt-das_1011358\n",
      "Failed to retrieve https://efahrer.chip.de/news/gruene-welle-in-indien-die-elektroautos-kommen_1011681\n",
      "Failed to retrieve https://efahrer.chip.de/news/fruehjahrs-check-fuers-auto-was-sie-neben-dem-reifenwechsel-erledigen-sollten_1011848\n",
      "Failed to retrieve https://efahrer.chip.de/news/amazon-reduziert-blitzerwarner-mit-dem-sie-sich-nicht-erwischen-lassen-sollten_1012126\n",
      "Failed to retrieve https://efahrer.chip.de/news/letzte-chance-fuer-gewerbetreibende-fuer-diese-e-autos-sie-4500-euro-bafa-praemie_1012294\n",
      "Failed to retrieve https://efahrer.chip.de/news/lange-wartezeiten-bei-e-autos-diese-fuenf-autos-auf-fuenf-klassen-gibts-ruckzuck_1012530\n",
      "Failed to retrieve https://efahrer.chip.de/news/mg-marvel-r-performance-im-test-das-chinesische-e-suv-zeigt-schwaechen_1012692\n",
      "Failed to retrieve https://efahrer.chip.de/news/otto-drueckt-e-roller-wenige-tage-auf-unter-2000-euro-lohnt-sich-der-deal_1012991\n",
      "Failed to retrieve https://efahrer.chip.de/news/unverschaemter-bonus-fuer-elektroautos-jetzt-gibts-geld-fuer-strom_1013220\n",
      "Failed to retrieve https://efahrer.chip.de/news/von-oel-auf-luft-waermepumpen-heizung-altbau-besitzer-zieht-erste-winterbilanz_1013432\n",
      "Failed to retrieve https://efahrer.chip.de/news/neueste-praemie-fuer-e-auto-e-bikes-co-so-kriegen-sie-hunderte-euro-foerderung_1013490\n",
      "Failed to retrieve https://efahrer.chip.de/news/garantiert-hunderte-euro-fuer-e-auto-e-bike-co-das-ist-der-beste-thg-anbieter_1013520\n",
      "Failed to retrieve https://efahrer.chip.de/news/e-roller-praktisch-gratis-so-einfach-geht-der-foerdertrick_1013576\n",
      "Failed to retrieve https://efahrer.chip.de/news/das-ist-der-beste-fixauszahler-geld-fuer-eauto-im-schnell-check_1013695\n",
      "Failed to retrieve https://efahrer.chip.de/news/dieser-thg-anbieter-zaehlt-zu-den-vergleichssiegern-quotlix-im-schnell-check_1013698\n",
      "Failed to retrieve https://efahrer.chip.de/news/forscher-mit-brillanter-idee-e-autos-laden-bald-auf-dem-autozug_1013819\n",
      "Failed to retrieve https://efahrer.chip.de/news/bildhuebscher-e-roller-zum-tiefpreis-sogar-das-topcase-ist-drin_1014484\n",
      "Failed to retrieve https://efahrer.chip.de/news/diese-pv-anlage-kostet-unter-10000-euro-sie-kommt-sogar-mit-speicher_1014556\n",
      "Failed to retrieve https://efahrer.chip.de/news/zum-1-oktober-stadtwerke-senken-strompreise-nur-fuer-waermepumpen-kunden_1014606\n",
      "Failed to retrieve https://efahrer.chip.de/news/neue-marke-hochwertige-teile-e-bike-aus-marken-komponenten-zum-kampfpreis_1014964\n",
      "Failed to retrieve https://efahrer.chip.de/news/letzte-chance-auf-6750-euro-umweltbonus-diese-e-autos-sind-2023-noch-lieferbar_1015588\n",
      "Failed to retrieve https://efahrer.chip.de/news/haus-bauen-ohne-30-jahre-schulden-mann-aus-bayern-zeigt-wie-es-klappen-kann_1015664\n",
      "Failed to retrieve https://efahrer.chip.de/news/harter-schlag-fuers-wasserstoff-auto-kosten-zu-hoch-fuer-praxis-einsatz_1015669\n",
      "Failed to retrieve https://efahrer.chip.de/news/hier-kostet-sie-der-dacia-spring-weniger-als-ein-abendessen-im-restaurant_1015676\n",
      "Failed to retrieve https://efahrer.chip.de/news/steigern-sie-ihren-antrieb-entdecken-sie-das-passende-spigen-zubehoer-fuer-tesla_1016128\n",
      "Failed to retrieve https://efahrer.chip.de/e-bikes/krasses-e-bike-mit-wuestentarnung-es-koennte-sogar-zwei-erwachsene-tragen_1016267\n",
      "Failed to retrieve https://efahrer.chip.de/news/der-restauranbesuch-ist-teurer-diese-woche-gibts-leasing-angebote-ab-80-euro_1016492\n",
      "Failed to retrieve https://efahrer.chip.de/news/klon-von-foerderstopp-fuer-e-autos-das-koennen-kunden-jetzt-tun_1016854\n",
      "Failed to retrieve https://efahrer.chip.de/news/nach-ueber-21-jahren-deutschland-muss-erstmals-strom-zukaufen_1017051\n",
      "Failed to retrieve https://efahrer.chip.de/news/jetzt-beginnt-die-rabattschlacht-erste-hersteller-senken-e-autopreise-massiv_1017067\n",
      "Failed to retrieve https://efahrer.chip.de/news/getunter-bmw-m3-vs-tesla-model-s-plaid-wer-gewinnt-das-1000-ps-rennen_1017564\n",
      "Failed to retrieve https://efahrer.chip.de/news/hausbesitzer-baut-tuev-zertifiziertes-windrad-auf-es-wird-schnell-zur-gefahr_1018536\n"
     ]
    }
   ],
   "source": [
    "import requests\n",
    "from bs4 import BeautifulSoup\n",
    "\n",
    "for page_id in urls.loc[109787:].index:\n",
    "    # Send a GET request to the URL\n",
    "    response = requests.get(urls.loc[page_id])\n",
    "    \n",
    "    # Check if the request was successful\n",
    "    if response.status_code == 200:\n",
    "        # Parse the HTML content of the page\n",
    "        soup = BeautifulSoup(response.text, 'html.parser')\n",
    "        \n",
    "        # Save the parsed HTML to a file\n",
    "        with open(f'../data/pages/{page_id}.html', 'w+', encoding='utf-8') as file:\n",
    "            file.write(soup.prettify())\n",
    "    else:\n",
    "        print(f'Failed to retrieve {urls.loc[page_id]}')\n"
   ]
  },
  {
   "cell_type": "markdown",
   "metadata": {},
   "source": [
    "This took more than 30 minutes"
   ]
  },
  {
   "cell_type": "markdown",
   "metadata": {},
   "source": [
    "Creating an `index.html` for the server"
   ]
  },
  {
   "cell_type": "code",
   "execution_count": 24,
   "metadata": {},
   "outputs": [],
   "source": [
    "from glob import glob\n",
    "paths = glob('../data/pages/*.html')\n",
    "\n",
    "rel_paths = [p.split('/')[-1] for p in paths]"
   ]
  },
  {
   "cell_type": "code",
   "execution_count": 21,
   "metadata": {},
   "outputs": [],
   "source": [
    "with open('../data/pages/index.html', 'w+', encoding='utf-8') as file:\n",
    "    file.writelines(rel_paths)"
   ]
  },
  {
   "cell_type": "code",
   "execution_count": 28,
   "metadata": {},
   "outputs": [
    {
     "name": "stdout",
     "output_type": "stream",
     "text": [
      "\n",
      "zip error: Nothing to do! (../data/pages.zip)\n"
     ]
    }
   ],
   "source": [
    "!zip -r3 ../data/pages"
   ]
  },
  {
   "cell_type": "code",
   "execution_count": null,
   "metadata": {},
   "outputs": [],
   "source": []
  }
 ],
 "metadata": {
  "kernelspec": {
   "display_name": ".venv",
   "language": "python",
   "name": "python3"
  },
  "language_info": {
   "codemirror_mode": {
    "name": "ipython",
    "version": 3
   },
   "file_extension": ".py",
   "mimetype": "text/x-python",
   "name": "python",
   "nbconvert_exporter": "python",
   "pygments_lexer": "ipython3",
   "version": "3.11.3"
  }
 },
 "nbformat": 4,
 "nbformat_minor": 2
}
