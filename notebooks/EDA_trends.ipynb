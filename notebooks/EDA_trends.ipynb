{
 "cells": [
  {
   "cell_type": "code",
   "execution_count": null,
   "metadata": {},
   "outputs": [],
   "source": [
    "import pandas as pd\n",
    "import pygwalker as pyg\n",
    "\n",
    "df = pd.read_csv('../data/data_nlp_A.csv', parse_dates=['last_publish_date', 'date_min'])"
   ]
  },
  {
   "cell_type": "code",
   "execution_count": null,
   "metadata": {},
   "outputs": [],
   "source": [
    "df['const'] = 10"
   ]
  },
  {
   "cell_type": "code",
   "execution_count": null,
   "metadata": {},
   "outputs": [],
   "source": [
    "df_features = df[['page_id', 'external_impressions', 'ctr', \n",
    "                  'video_player_types', 'media_type', 'meta_title', \n",
    "                 'sentiment_meta_title', \n",
    "                 'sentiment_abstract',\n",
    "                'clickbait_label', 'clickbait_prob', \n",
    "                'abstract', \n",
    "              ]].copy()\n",
    "\n",
    "df_features.rename({'page_id': \"ID\", \n",
    "                    'abstract': \"Abstract\", \n",
    "                    'video_player_types': \"Video player types\", \n",
    "                    'media_type': \"Media type\", \n",
    "                    'sentiment_abstract': \"Sentiment abstract\", \n",
    "                    'meta_title': \"Meta title\", \n",
    "                    'sentiment_meta_title': \"Sentiment: meta title\",\n",
    "                    'clickbait_label': \"Clickbait\", \n",
    "                    'clickbait_prob': \"Clickbait confidence\",\n",
    "                    'external_impressions': \"Page impressions\",\n",
    "                    'ctr': \"Click-through\"}, axis=1, inplace=True)\n",
    "df_features.loc[:, 'const'] = 1"
   ]
  },
  {
   "cell_type": "code",
   "execution_count": null,
   "metadata": {},
   "outputs": [],
   "source": [
    "walker = pyg.walk(df_features, spec='./eda_features_sl.json', show_cloud_tool=False)"
   ]
  },
  {
   "cell_type": "code",
   "execution_count": null,
   "metadata": {},
   "outputs": [],
   "source": [
    "df.columns"
   ]
  },
  {
   "cell_type": "code",
   "execution_count": null,
   "metadata": {},
   "outputs": [],
   "source": [
    "df_overview = df[['page_id',\n",
    "                'external_impressions',\n",
    "                'ctr',\n",
    "                'date_min',\n",
    "                'age',\n",
    "                'scraped_word_count', \n",
    "                'classification_product', \n",
    "                'classification_type',\n",
    "                'n_days', \n",
    "                'no_versions',\n",
    "                'date_scraped',\n",
    "                'mean_version_lifetime', \n",
    "                'n_urls',\n",
    "                'author_list',\n",
    "                'scraped_author', \n",
    "                'total_likes_n_days', \n",
    "                'daily_likes_median', \n",
    "                'total_dislikes_n_days',\n",
    "                'daily_dislikes_median', \n",
    "                'video_play',   \n",
    "                'media_type',\n",
    "                'meta_title_len', 'meta_desc_len', 'h1_len', 'abstract_len', 'merged_url_len', 'title_has_colon',\n",
    "                'clickbait_prob', 'clickbait_label', \n",
    "                #'google_trend_prob', 'google_trend_label', 'google_trend_score',\n",
    "                'video_player_types', 'sentiment_abstract', 'confidence_abstract',\n",
    "                'sentiment_meta_title', 'confidence_meta_title']].copy()\n",
    "\n",
    "df_overview.rename({\n",
    "        'page_id': \"ID\",\n",
    "        'n_days': \"N readings\", \n",
    "        'date_min': \"Earliest date\", \n",
    "        'n_urls': \"N URLs total\", \n",
    "        'age': \"Age (days)\", \n",
    "        'no_versions': \"N versions\", #'last_publish_date', #'word_count',\n",
    "        'classification_product': \"Topic\", \n",
    "        'classification_type': \"Type\",\n",
    "        'author_list': \"Authors\", \n",
    "        'external_impressions': \"Page impressions\",\n",
    "        'total_likes_n_days': \"Likes total\", \n",
    "        'daily_likes_median': \"Likes daily median\", \n",
    "        'total_dislikes_n_days': \"Dislikes total\",\n",
    "        'daily_dislikes_median': \"Dislikes daily median\",\n",
    "        'video_play': \"Video plays\",\n",
    "        'ctr': \"Click-through\", \n",
    "        'mean_version_lifetime': \"Mean version lifetime\", \n",
    "        'scraped_author': \"Author last\", \n",
    "        'date_scraped': \"Last update date\", \n",
    "        'scraped_word_count': \"Word count current\",\n",
    "        'media_type': \"Media type\",\n",
    "        'meta_title_len': \"Meta title length\", \n",
    "        'meta_desc_len': \"Meta description length\",\n",
    "        'h1_len': \"H1 length\", \n",
    "        'abstract_len': \"Abstract length\", \n",
    "        'merged_url_len': \"Unique words in URL\", \n",
    "        'title_has_colon': \"Title has colon\",\n",
    "        'clickbait_prob': \"Clickbait confidence\", \n",
    "        'clickbait_label': \"Clickbait\", \n",
    "        #'google_trend_prob': \"Related term confidence\", \n",
    "        #'google_trend_label': \"Related term\", \n",
    "        #'google_trend_score',\n",
    "        'video_player_types': \"Video player type\", \n",
    "        'sentiment_abstract': \"Sentiment: abstract\", \n",
    "        'confidence_abstract': \"Sentiment conf: abstract\",\n",
    "        'sentiment_meta_title': \"Sentiment: title\", \n",
    "        'confidence_meta_title': \"Sentiment conf: title\"}, axis=1, inplace=True)"
   ]
  },
  {
   "cell_type": "code",
   "execution_count": null,
   "metadata": {},
   "outputs": [],
   "source": [
    "import json\n",
    "\n",
    "authors_map = json.load(open('../data/authors.json', 'r', encoding='utf-8'))\n",
    "authors_map = {key.lower(): value for key, value in authors_map.items()}"
   ]
  },
  {
   "cell_type": "code",
   "execution_count": null,
   "metadata": {},
   "outputs": [],
   "source": [
    "df_overview['Author last mask'] = df_overview['Author last'].str.lower()\n",
    "df_overview['Author last mask'] = df_overview['Author last mask'].str.replace('/', ',')\n",
    "df_overview['Author last mask'] = df_overview['Author last mask'].str.replace(' & ', ', ')\n",
    "df_overview['Author last mask'] = df_overview['Author last mask'].str.replace(' und ', ', ')"
   ]
  },
  {
   "cell_type": "code",
   "execution_count": null,
   "metadata": {},
   "outputs": [],
   "source": [
    "for auth in authors_map.keys():\n",
    "    df_overview['Author last mask'] = df_overview['Author last mask'].replace(auth, authors_map[auth.lower()])"
   ]
  },
  {
   "cell_type": "code",
   "execution_count": null,
   "metadata": {},
   "outputs": [],
   "source": [
    "for auth in authors_map.keys():\n",
    "    df_overview['Author last mask'] = df_overview['Author last mask'].str.replace(auth, authors_map[auth.lower()])"
   ]
  },
  {
   "cell_type": "code",
   "execution_count": null,
   "metadata": {},
   "outputs": [],
   "source": [
    "df_overview['Author last mask'].unique()"
   ]
  },
  {
   "cell_type": "code",
   "execution_count": null,
   "metadata": {},
   "outputs": [],
   "source": [
    "def map_names_to_aliases(names_list, authors_map=authors_map):\n",
    "    aliases_list = []\n",
    "    for name in names_list:\n",
    "        name = name.lower()\n",
    "        # Check if the name exists in the animal_aliases dictionary\n",
    "        if name in authors_map:\n",
    "            aliases_list.append(''.join(authors_map[name]))\n",
    "        else:\n",
    "            aliases_list.append(name)  # Use the original name if no alias is found\n",
    "    return ', '.join(aliases_list)  # Join aliases with spaces"
   ]
  },
  {
   "cell_type": "code",
   "execution_count": null,
   "metadata": {},
   "outputs": [],
   "source": [
    "df_overview['Authors'] = df_overview.Authors.str.split(';')\n",
    "df_overview['Authors'] = df_overview['Authors'].apply(map_names_to_aliases)"
   ]
  },
  {
   "cell_type": "code",
   "execution_count": null,
   "metadata": {},
   "outputs": [],
   "source": [
    "authors_map.keys()"
   ]
  },
  {
   "cell_type": "code",
   "execution_count": null,
   "metadata": {},
   "outputs": [],
   "source": [
    "df_overview['Author last'] = df_overview['Author last'].str.replace('/', ',')\n",
    "#df_overview['Author last'] = df_overview['Author last'].str.strip()\n",
    "df_overview['Author last'] = df_overview['Author last'].str.split(',').apply(map_names_to_aliases)\n",
    "\n",
    "for auth in authors_map.keys():\n",
    "    #df_overview['Author last'].str.replace(auth, authors_map[auth])\n",
    "    df_overview['Author last'].str.lower().replace(auth, authors_map[auth])\n",
    "\n",
    "df_overview['Author last'].unique()"
   ]
  },
  {
   "cell_type": "code",
   "execution_count": null,
   "metadata": {},
   "outputs": [],
   "source": [
    "df_overview.Authors.replace(authors_map, inplace=True)"
   ]
  },
  {
   "cell_type": "code",
   "execution_count": null,
   "metadata": {},
   "outputs": [],
   "source": []
  },
  {
   "cell_type": "code",
   "execution_count": null,
   "metadata": {},
   "outputs": [],
   "source": [
    "df_overview.Authors.unique()"
   ]
  },
  {
   "cell_type": "code",
   "execution_count": null,
   "metadata": {},
   "outputs": [],
   "source": [
    "walker2 = pyg.walk(df_overview, spec='./summary.json', show_cloud_tool=False)"
   ]
  }
 ],
 "metadata": {
  "kernelspec": {
   "display_name": ".venv",
   "language": "python",
   "name": "python3"
  },
  "language_info": {
   "codemirror_mode": {
    "name": "ipython",
    "version": 3
   },
   "file_extension": ".py",
   "mimetype": "text/x-python",
   "name": "python",
   "nbconvert_exporter": "python",
   "pygments_lexer": "ipython3",
   "version": "3.11.3"
  }
 },
 "nbformat": 4,
 "nbformat_minor": 2
}
