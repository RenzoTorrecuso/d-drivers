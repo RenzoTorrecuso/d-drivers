{
 "cells": [
  {
   "cell_type": "markdown",
   "metadata": {},
   "source": [
    "### NLP"
   ]
  },
  {
   "cell_type": "code",
   "execution_count": 2,
   "metadata": {},
   "outputs": [
    {
     "name": "stderr",
     "output_type": "stream",
     "text": [
      "[nltk_data] Downloading package stopwords to /Users/clara/nltk_data...\n",
      "[nltk_data]   Package stopwords is already up-to-date!\n",
      "[nltk_data] Downloading package punkt to /Users/clara/nltk_data...\n",
      "[nltk_data]   Package punkt is already up-to-date!\n",
      "[nltk_data] Downloading package wordnet to /Users/clara/nltk_data...\n",
      "[nltk_data]   Package wordnet is already up-to-date!\n"
     ]
    }
   ],
   "source": [
    "import pandas as pd\n",
    "import nltk\n",
    "nltk.download(\"stopwords\")\n",
    "nltk.download(\"punkt\")\n",
    "nltk.download(\"wordnet\")\n",
    "\n",
    "from nltk.corpus import stopwords\n",
    "from nltk.tokenize import sent_tokenize, word_tokenize\n",
    "from sklearn.feature_extraction.text import CountVectorizer, TfidfVectorizer\n",
    "import string\n",
    "\n",
    "stop_words = set(stopwords.words('german'))"
   ]
  },
  {
   "cell_type": "markdown",
   "metadata": {},
   "source": [
    "Extract the most important words from title, h1, abstract, url with NLP (e.g. TF-IDF )"
   ]
  },
  {
   "cell_type": "code",
   "execution_count": 3,
   "metadata": {},
   "outputs": [],
   "source": [
    "df = pd.read_csv('/Users/clara/Desktop/neuefische/d-drivers/data/data_features.csv')"
   ]
  },
  {
   "cell_type": "code",
   "execution_count": 4,
   "metadata": {},
   "outputs": [
    {
     "data": {
      "text/plain": [
       "Index(['page_id', 'n_days', 'url', 'no_versions', 'last_publish_date',\n",
       "       'word_count', 'classification_product', 'classification_type',\n",
       "       'page_name', 'title', 'last_author', 'external_clicks',\n",
       "       'external_impressions', 'likes_n_days', 'total_likes_n_days',\n",
       "       'video_play', 'page_impressions', 'clickouts', 'ctr', 'url_y', 'h1',\n",
       "       'scraped_author', 'date_scraped', 'abstract', 'scraped_word_count',\n",
       "       'meta_title', 'meta_description', 'meta_image_url', 'media_type',\n",
       "       'page_img_size', 'url_text', 'merged_url', 'meta_title_len',\n",
       "       'meta_desc_len', 'h1_len', 'abstract_len', 'merged_url_len'],\n",
       "      dtype='object')"
      ]
     },
     "execution_count": 4,
     "metadata": {},
     "output_type": "execute_result"
    }
   ],
   "source": [
    "df.columns"
   ]
  },
  {
   "cell_type": "code",
   "execution_count": 5,
   "metadata": {},
   "outputs": [],
   "source": [
    "df_nlp = df[['page_id', 'external_clicks', 'external_impressions', 'ctr', 'h1', \n",
    "       'abstract', 'meta_title', 'meta_description', 'merged_url']]"
   ]
  },
  {
   "cell_type": "code",
   "execution_count": 6,
   "metadata": {},
   "outputs": [
    {
     "name": "stdout",
     "output_type": "stream",
     "text": [
      "<class 'pandas.core.frame.DataFrame'>\n",
      "RangeIndex: 6815 entries, 0 to 6814\n",
      "Data columns (total 9 columns):\n",
      " #   Column                Non-Null Count  Dtype  \n",
      "---  ------                --------------  -----  \n",
      " 0   page_id               6815 non-null   int64  \n",
      " 1   external_clicks       6815 non-null   float64\n",
      " 2   external_impressions  6815 non-null   float64\n",
      " 3   ctr                   6815 non-null   float64\n",
      " 4   h1                    6815 non-null   object \n",
      " 5   abstract              6808 non-null   object \n",
      " 6   meta_title            6815 non-null   object \n",
      " 7   meta_description      6815 non-null   object \n",
      " 8   merged_url            6815 non-null   object \n",
      "dtypes: float64(3), int64(1), object(5)\n",
      "memory usage: 479.3+ KB\n"
     ]
    }
   ],
   "source": [
    "df_nlp.info()"
   ]
  },
  {
   "cell_type": "code",
   "execution_count": 7,
   "metadata": {},
   "outputs": [
    {
     "data": {
      "text/html": [
       "<div>\n",
       "<style scoped>\n",
       "    .dataframe tbody tr th:only-of-type {\n",
       "        vertical-align: middle;\n",
       "    }\n",
       "\n",
       "    .dataframe tbody tr th {\n",
       "        vertical-align: top;\n",
       "    }\n",
       "\n",
       "    .dataframe thead th {\n",
       "        text-align: right;\n",
       "    }\n",
       "</style>\n",
       "<table border=\"1\" class=\"dataframe\">\n",
       "  <thead>\n",
       "    <tr style=\"text-align: right;\">\n",
       "      <th></th>\n",
       "      <th>page_id</th>\n",
       "      <th>external_clicks</th>\n",
       "      <th>external_impressions</th>\n",
       "      <th>ctr</th>\n",
       "      <th>h1</th>\n",
       "      <th>abstract</th>\n",
       "      <th>meta_title</th>\n",
       "      <th>meta_description</th>\n",
       "      <th>merged_url</th>\n",
       "    </tr>\n",
       "  </thead>\n",
       "  <tbody>\n",
       "    <tr>\n",
       "      <th>0</th>\n",
       "      <td>1037</td>\n",
       "      <td>256.0</td>\n",
       "      <td>5444.0</td>\n",
       "      <td>4.702425</td>\n",
       "      <td>Elektrofahrzeug-Ladestation: Kosten und Anbiet...</td>\n",
       "      <td>Im Grunde kann man sein E-Auto überall laden, ...</td>\n",
       "      <td>Elektrofahrzeug-Ladestation: Anbieter, Kosten,...</td>\n",
       "      <td>Ladestationen für Elektroautos. Kosten und Anb...</td>\n",
       "      <td>['elektrofahrzeug', 'ladestation']</td>\n",
       "    </tr>\n",
       "    <tr>\n",
       "      <th>1</th>\n",
       "      <td>1039</td>\n",
       "      <td>124.0</td>\n",
       "      <td>1728.0</td>\n",
       "      <td>7.175926</td>\n",
       "      <td>Elektroauto-Förderung 2024: Wo Sie noch satt a...</td>\n",
       "      <td>Die große staatliche Förderung für Elektroauto...</td>\n",
       "      <td>E-Auto Förderung 2024: Alle Infos im Überblick</td>\n",
       "      <td>E-Auto Prämie 2024- so können Sie beim Kauf Ge...</td>\n",
       "      <td>['elektroauto', 'und', '2024', 'koennen', 'noc...</td>\n",
       "    </tr>\n",
       "    <tr>\n",
       "      <th>2</th>\n",
       "      <td>1040</td>\n",
       "      <td>83.0</td>\n",
       "      <td>2575.0</td>\n",
       "      <td>3.223301</td>\n",
       "      <td>Hätten Sie es gewusst? So lange gibt es schon ...</td>\n",
       "      <td>Noch vor wenigen Jahren wurden Elektroautos al...</td>\n",
       "      <td>Hätten Sie es gewusst? So lange gibt es schon ...</td>\n",
       "      <td>Noch vor wenigen Jahren wurden Elektroautos al...</td>\n",
       "      <td>['schon', 'so', 'lange', 'autos', 'haetten', '...</td>\n",
       "    </tr>\n",
       "    <tr>\n",
       "      <th>3</th>\n",
       "      <td>10245</td>\n",
       "      <td>80.0</td>\n",
       "      <td>845.0</td>\n",
       "      <td>9.467456</td>\n",
       "      <td>Kleinstes Auto der Welt kommt zurück: Fans kön...</td>\n",
       "      <td>Der P.50, auch bekannt als das kleinste Auto d...</td>\n",
       "      <td>Kleinstes Auto der Welt kommt zurück: Fans kön...</td>\n",
       "      <td>Der P.50, auch bekannt als das kleinste Auto d...</td>\n",
       "      <td>['auto', 'koennen', 'bauen', 'jetzt', 'welt', ...</td>\n",
       "    </tr>\n",
       "    <tr>\n",
       "      <th>4</th>\n",
       "      <td>10273</td>\n",
       "      <td>3384.0</td>\n",
       "      <td>94132.0</td>\n",
       "      <td>3.594952</td>\n",
       "      <td>Mehr Reichweite im Winter: So holen Sie alles ...</td>\n",
       "      <td>Wer freut sich schon über eisige Kälte? E-Auto...</td>\n",
       "      <td>Mehr Reichweite im Winter: So holen Sie alles ...</td>\n",
       "      <td>Wer freut sich schon über eisige Kälte? E-Auto...</td>\n",
       "      <td>['mehr', 'auto', 'holen', 'so', 'winter', 'rei...</td>\n",
       "    </tr>\n",
       "  </tbody>\n",
       "</table>\n",
       "</div>"
      ],
      "text/plain": [
       "   page_id  external_clicks  external_impressions       ctr   \n",
       "0     1037            256.0                5444.0  4.702425  \\\n",
       "1     1039            124.0                1728.0  7.175926   \n",
       "2     1040             83.0                2575.0  3.223301   \n",
       "3    10245             80.0                 845.0  9.467456   \n",
       "4    10273           3384.0               94132.0  3.594952   \n",
       "\n",
       "                                                  h1   \n",
       "0  Elektrofahrzeug-Ladestation: Kosten und Anbiet...  \\\n",
       "1  Elektroauto-Förderung 2024: Wo Sie noch satt a...   \n",
       "2  Hätten Sie es gewusst? So lange gibt es schon ...   \n",
       "3  Kleinstes Auto der Welt kommt zurück: Fans kön...   \n",
       "4  Mehr Reichweite im Winter: So holen Sie alles ...   \n",
       "\n",
       "                                            abstract   \n",
       "0  Im Grunde kann man sein E-Auto überall laden, ...  \\\n",
       "1  Die große staatliche Förderung für Elektroauto...   \n",
       "2  Noch vor wenigen Jahren wurden Elektroautos al...   \n",
       "3  Der P.50, auch bekannt als das kleinste Auto d...   \n",
       "4  Wer freut sich schon über eisige Kälte? E-Auto...   \n",
       "\n",
       "                                          meta_title   \n",
       "0  Elektrofahrzeug-Ladestation: Anbieter, Kosten,...  \\\n",
       "1     E-Auto Förderung 2024: Alle Infos im Überblick   \n",
       "2  Hätten Sie es gewusst? So lange gibt es schon ...   \n",
       "3  Kleinstes Auto der Welt kommt zurück: Fans kön...   \n",
       "4  Mehr Reichweite im Winter: So holen Sie alles ...   \n",
       "\n",
       "                                    meta_description   \n",
       "0  Ladestationen für Elektroautos. Kosten und Anb...  \\\n",
       "1  E-Auto Prämie 2024- so können Sie beim Kauf Ge...   \n",
       "2  Noch vor wenigen Jahren wurden Elektroautos al...   \n",
       "3  Der P.50, auch bekannt als das kleinste Auto d...   \n",
       "4  Wer freut sich schon über eisige Kälte? E-Auto...   \n",
       "\n",
       "                                          merged_url  \n",
       "0                 ['elektrofahrzeug', 'ladestation']  \n",
       "1  ['elektroauto', 'und', '2024', 'koennen', 'noc...  \n",
       "2  ['schon', 'so', 'lange', 'autos', 'haetten', '...  \n",
       "3  ['auto', 'koennen', 'bauen', 'jetzt', 'welt', ...  \n",
       "4  ['mehr', 'auto', 'holen', 'so', 'winter', 'rei...  "
      ]
     },
     "execution_count": 7,
     "metadata": {},
     "output_type": "execute_result"
    }
   ],
   "source": [
    "df_nlp.head()"
   ]
  },
  {
   "cell_type": "markdown",
   "metadata": {},
   "source": [
    "### Remove stop words"
   ]
  },
  {
   "cell_type": "code",
   "execution_count": 8,
   "metadata": {},
   "outputs": [
    {
     "name": "stderr",
     "output_type": "stream",
     "text": [
      "/var/folders/5s/w7hst37d0tv0r4hby2_mqqp00000gn/T/ipykernel_14333/4158781637.py:13: SettingWithCopyWarning: \n",
      "A value is trying to be set on a copy of a slice from a DataFrame.\n",
      "Try using .loc[row_indexer,col_indexer] = value instead\n",
      "\n",
      "See the caveats in the documentation: https://pandas.pydata.org/pandas-docs/stable/user_guide/indexing.html#returning-a-view-versus-a-copy\n",
      "  df[col] = df[col].apply(remove_stopwords)\n",
      "/var/folders/5s/w7hst37d0tv0r4hby2_mqqp00000gn/T/ipykernel_14333/4158781637.py:13: SettingWithCopyWarning: \n",
      "A value is trying to be set on a copy of a slice from a DataFrame.\n",
      "Try using .loc[row_indexer,col_indexer] = value instead\n",
      "\n",
      "See the caveats in the documentation: https://pandas.pydata.org/pandas-docs/stable/user_guide/indexing.html#returning-a-view-versus-a-copy\n",
      "  df[col] = df[col].apply(remove_stopwords)\n",
      "/var/folders/5s/w7hst37d0tv0r4hby2_mqqp00000gn/T/ipykernel_14333/4158781637.py:13: SettingWithCopyWarning: \n",
      "A value is trying to be set on a copy of a slice from a DataFrame.\n",
      "Try using .loc[row_indexer,col_indexer] = value instead\n",
      "\n",
      "See the caveats in the documentation: https://pandas.pydata.org/pandas-docs/stable/user_guide/indexing.html#returning-a-view-versus-a-copy\n",
      "  df[col] = df[col].apply(remove_stopwords)\n",
      "/var/folders/5s/w7hst37d0tv0r4hby2_mqqp00000gn/T/ipykernel_14333/4158781637.py:13: SettingWithCopyWarning: \n",
      "A value is trying to be set on a copy of a slice from a DataFrame.\n",
      "Try using .loc[row_indexer,col_indexer] = value instead\n",
      "\n",
      "See the caveats in the documentation: https://pandas.pydata.org/pandas-docs/stable/user_guide/indexing.html#returning-a-view-versus-a-copy\n",
      "  df[col] = df[col].apply(remove_stopwords)\n",
      "/var/folders/5s/w7hst37d0tv0r4hby2_mqqp00000gn/T/ipykernel_14333/4158781637.py:13: SettingWithCopyWarning: \n",
      "A value is trying to be set on a copy of a slice from a DataFrame.\n",
      "Try using .loc[row_indexer,col_indexer] = value instead\n",
      "\n",
      "See the caveats in the documentation: https://pandas.pydata.org/pandas-docs/stable/user_guide/indexing.html#returning-a-view-versus-a-copy\n",
      "  df[col] = df[col].apply(remove_stopwords)\n"
     ]
    }
   ],
   "source": [
    "def remove_stopwords(text):\n",
    "    if isinstance(text, str):        \n",
    "        words = word_tokenize(text)\n",
    "        # Remove punctuation and special characters\n",
    "        text = text.translate(str.maketrans('', '', string.punctuation))\n",
    "        # Remove stopwords\n",
    "        return ' '.join([word for word in words if word.lower() not in stop_words])\n",
    "    else:\n",
    "        return text\n",
    "\n",
    "def remove_stopwords_from_columns(df, columns):\n",
    "    for col in columns:\n",
    "        df[col] = df[col].apply(remove_stopwords)\n",
    "    return df\n",
    "\n",
    "columns_to_clean = ['h1','abstract','meta_title','meta_description','merged_url']\n",
    "df_nlp = remove_stopwords_from_columns(df_nlp, columns_to_clean)"
   ]
  },
  {
   "cell_type": "code",
   "execution_count": 9,
   "metadata": {},
   "outputs": [
    {
     "name": "stdout",
     "output_type": "stream",
     "text": [
      "<class 'pandas.core.frame.DataFrame'>\n",
      "RangeIndex: 6815 entries, 0 to 6814\n",
      "Data columns (total 9 columns):\n",
      " #   Column                Non-Null Count  Dtype  \n",
      "---  ------                --------------  -----  \n",
      " 0   page_id               6815 non-null   int64  \n",
      " 1   external_clicks       6815 non-null   float64\n",
      " 2   external_impressions  6815 non-null   float64\n",
      " 3   ctr                   6815 non-null   float64\n",
      " 4   h1                    6815 non-null   object \n",
      " 5   abstract              6808 non-null   object \n",
      " 6   meta_title            6815 non-null   object \n",
      " 7   meta_description      6815 non-null   object \n",
      " 8   merged_url            6815 non-null   object \n",
      "dtypes: float64(3), int64(1), object(5)\n",
      "memory usage: 479.3+ KB\n"
     ]
    }
   ],
   "source": [
    "df_nlp.info()"
   ]
  },
  {
   "cell_type": "code",
   "execution_count": 10,
   "metadata": {},
   "outputs": [],
   "source": [
    "df_nlp.to_csv('/Users/clara/Desktop/neuefische/d-drivers/data/preprocessing_nlp.csv', encoding='utf-8', index=False)\n"
   ]
  },
  {
   "cell_type": "markdown",
   "metadata": {},
   "source": [
    "### Use pretrained model"
   ]
  },
  {
   "cell_type": "code",
   "execution_count": 11,
   "metadata": {},
   "outputs": [],
   "source": [
    "from transformers import pipeline\n",
    "import pandas as pd\n",
    "import numpy as np\n",
    "import tensorflow\n",
    "import torch\n",
    "from tqdm import tqdm\n",
    "import sentencepiece"
   ]
  },
  {
   "cell_type": "code",
   "execution_count": 12,
   "metadata": {},
   "outputs": [
    {
     "name": "stdout",
     "output_type": "stream",
     "text": [
      "There are 6815 rows in the dataset\n"
     ]
    }
   ],
   "source": [
    "data = df_nlp\n",
    "\n",
    "print(f'There are {data.shape[0]} rows in the dataset')"
   ]
  },
  {
   "cell_type": "code",
   "execution_count": 13,
   "metadata": {},
   "outputs": [
    {
     "name": "stderr",
     "output_type": "stream",
     "text": [
      "Some weights of the model checkpoint at joeddav/xlm-roberta-large-xnli were not used when initializing XLMRobertaForSequenceClassification: ['roberta.pooler.dense.bias', 'roberta.pooler.dense.weight']\n",
      "- This IS expected if you are initializing XLMRobertaForSequenceClassification from the checkpoint of a model trained on another task or with another architecture (e.g. initializing a BertForSequenceClassification model from a BertForPreTraining model).\n",
      "- This IS NOT expected if you are initializing XLMRobertaForSequenceClassification from the checkpoint of a model that you expect to be exactly identical (initializing a BertForSequenceClassification model from a BertForSequenceClassification model).\n"
     ]
    }
   ],
   "source": [
    "#Preparing the pipeline in one-line of code!\n",
    "#classifier = pipeline(\"zero-shot-classification\",device = 0)\n",
    "classifier = pipeline(\"zero-shot-classification\", model=\"joeddav/xlm-roberta-large-xnli\")"
   ]
  },
  {
   "cell_type": "code",
   "execution_count": 15,
   "metadata": {},
   "outputs": [
    {
     "name": "stdout",
     "output_type": "stream",
     "text": [
      "      page_id  external_clicks  external_impressions       ctr   \n",
      "0        1037            256.0                5444.0  4.702425  \\\n",
      "1        1039            124.0                1728.0  7.175926   \n",
      "2        1040             83.0                2575.0  3.223301   \n",
      "3       10245             80.0                 845.0  9.467456   \n",
      "4       10273           3384.0               94132.0  3.594952   \n",
      "...       ...              ...                   ...       ...   \n",
      "6810  1018768         189254.0             2254612.0  8.394083   \n",
      "6811  1018770           3822.0               48838.0  7.825873   \n",
      "6812  1018771           1492.0               32728.0  4.558788   \n",
      "6813  1018776            347.0                6890.0  5.036284   \n",
      "6814  1018782           1202.0               29790.0  4.034911   \n",
      "\n",
      "                                                     h1   \n",
      "0     Elektrofahrzeug-Ladestation : Kosten Anbieter ...  \\\n",
      "1          Elektroauto-Förderung 2024 : satt absahnen -   \n",
      "2             Hätten gewusst ? lange gibt schon E-Autos   \n",
      "3     Kleinstes Auto Welt kommt zurück : Fans selber...   \n",
      "4       Mehr Reichweite Winter : holen E-Auto-Akku raus   \n",
      "...                                                 ...   \n",
      "6810  Deutschland bekommt Wasserstoff-Fabrik : steht...   \n",
      "6811  Batterie-Geheimnisse : Männer sollen Tesla bes...   \n",
      "6812  Wallboxen günstig kaufen : günstigsten Ladesta...   \n",
      "6813  E-Auto-Fahrer fein raus : Deutsches Gericht er...   \n",
      "6814  „ Klimaschutz , bezahlbar “ : EFAHRER.com kürt...   \n",
      "\n",
      "                                               abstract   \n",
      "0     Grunde E-Auto überall laden , Strom gibt . Tat...  \\\n",
      "1     große staatliche Förderung Elektroautos beende...   \n",
      "2     wenigen Jahren wurden Elektroautos absolute Ne...   \n",
      "3     P.50 , bekannt kleinste Auto Welt , gilt Samml...   \n",
      "4     Wer freut schon eisige Kälte ? E-Autos sicherl...   \n",
      "...                                                 ...   \n",
      "6810  Strom erneuerbaren Quellen zukünftig eingesetz...   \n",
      "6811  US-Fahnder China lebenden Kanadier festgenomme...   \n",
      "6812  Günstige Wallboxen gibt privaten Gebrauch . E-...   \n",
      "6813  Münchner Innenstadt gilt bereits seit Februar ...   \n",
      "6814  Energiewende Hausdächern vorangebracht , Photo...   \n",
      "\n",
      "                                             meta_title   \n",
      "0     Elektrofahrzeug-Ladestation : Anbieter , Koste...  \\\n",
      "1               E-Auto Förderung 2024 : Infos Überblick   \n",
      "2             Hätten gewusst ? lange gibt schon E-Autos   \n",
      "3     Kleinstes Auto Welt kommt zurück : Fans selber...   \n",
      "4       Mehr Reichweite Winter : holen E-Auto-Akku raus   \n",
      "...                                                 ...   \n",
      "6810  Deutschland bekommt Wasserstoff-Fabrik : steht...   \n",
      "6811  Batterie-Geheimnisse : Männer sollen Tesla bes...   \n",
      "6812  Wallboxen günstig kaufen : günstigsten Ladesta...   \n",
      "6813  E-Auto-Fahrer fein raus : Deutsches Gericht er...   \n",
      "6814  „ Klimaschutz , bezahlbar “ : EFAHRER.com kürt...   \n",
      "\n",
      "                                       meta_description   \n",
      "0     Ladestationen Elektroautos . Kosten Anbieter V...  \\\n",
      "1     E-Auto Prämie 2024- beim Kauf Geld sparen . Fö...   \n",
      "2     wenigen Jahren wurden Elektroautos absolute Ne...   \n",
      "3     P.50 , bekannt kleinste Auto Welt , gilt Samml...   \n",
      "4     Wer freut schon eisige Kälte ? E-Autos sicherl...   \n",
      "...                                                 ...   \n",
      "6810  Wasserstofffabrik Schleswig Holstein ab 2026 g...   \n",
      "6811  Zwei Männer sollen Profitgier Geschäftsgeheimn...   \n",
      "6812  Günstige Wallboxen gibt privaten Gebrauch . E-...   \n",
      "6813  Gericht zwingt Münchner Stadtrat Erweiterung g...   \n",
      "6814  Regionale Solaranbieter EFAHRER.com-Preisverle...   \n",
      "\n",
      "                                             merged_url   \n",
      "0               [ 'elektrofahrzeug ' , 'ladestation ' ]  \\\n",
      "1     [ 'elektroauto ' , 'und ' , '2024 ' , 'koennen...   \n",
      "2     [ 'schon ' , 'so ' , 'lange ' , 'autos ' , 'ha...   \n",
      "3     [ 'auto ' , 'koennen ' , 'bauen ' , 'jetzt ' ,...   \n",
      "4     [ 'mehr ' , 'auto ' , 'holen ' , 'so ' , 'wint...   \n",
      "...                                                 ...   \n",
      "6810  [ 'bekommt ' , 'wasserstoff ' , 'deutschland '...   \n",
      "6811  [ 'und ' , 'sollen ' , 'bestohlen ' , 'geheimn...   \n",
      "6812  [ 'sind ' , 'ladestationen ' , 'guenstigsten '...   \n",
      "6813  [ 'fein ' , 'sind ' , 'auto ' , 'fahrer ' , 's...   \n",
      "6814  [ 'bezahlbar ' , 'klimaschutz ' , 'beste ' , '...   \n",
      "\n",
      "                                        predicted_label  predicted_probability  \n",
      "0                    Ladeinfrastruktur für Elektroautos               0.431657  \n",
      "1          Vorschriften in der Elektrofahrzeugindustrie               0.303427  \n",
      "2                         Technologien für Elektroautos               0.296509  \n",
      "3                               Elektroauto-Bewertungen               0.128451  \n",
      "4                  Batterietechnologie für Elektroautos               0.295967  \n",
      "...                                                 ...                    ...  \n",
      "6810             Neuigkeiten von Elektroautoherstellern               0.321871  \n",
      "6811             Neuigkeiten von Elektroautoherstellern               0.201137  \n",
      "6812                 Ladeinfrastruktur für Elektroautos               0.392885  \n",
      "6813             Neuigkeiten von Elektroautoherstellern               0.400414  \n",
      "6814  Nachhaltigkeit und Umweltauswirkungen von Elek...               0.321486  \n",
      "\n",
      "[6815 rows x 11 columns]\n"
     ]
    },
    {
     "name": "stderr",
     "output_type": "stream",
     "text": [
      "/var/folders/5s/w7hst37d0tv0r4hby2_mqqp00000gn/T/ipykernel_14333/490298415.py:23: SettingWithCopyWarning: \n",
      "A value is trying to be set on a copy of a slice from a DataFrame.\n",
      "Try using .loc[row_indexer,col_indexer] = value instead\n",
      "\n",
      "See the caveats in the documentation: https://pandas.pydata.org/pandas-docs/stable/user_guide/indexing.html#returning-a-view-versus-a-copy\n",
      "  df_nlp['predicted_label'], df_nlp['predicted_probability'] = zip(*df_nlp['h1'].apply(lambda x: get_predictions_score(classifier(x, candidate_labels))))\n",
      "/var/folders/5s/w7hst37d0tv0r4hby2_mqqp00000gn/T/ipykernel_14333/490298415.py:23: SettingWithCopyWarning: \n",
      "A value is trying to be set on a copy of a slice from a DataFrame.\n",
      "Try using .loc[row_indexer,col_indexer] = value instead\n",
      "\n",
      "See the caveats in the documentation: https://pandas.pydata.org/pandas-docs/stable/user_guide/indexing.html#returning-a-view-versus-a-copy\n",
      "  df_nlp['predicted_label'], df_nlp['predicted_probability'] = zip(*df_nlp['h1'].apply(lambda x: get_predictions_score(classifier(x, candidate_labels))))\n"
     ]
    }
   ],
   "source": [
    "# Define the function get_predictions_score\n",
    "def get_predictions_score(prediction):\n",
    "    pred_labels = prediction['labels']\n",
    "    pred_scores = prediction['scores']\n",
    "    \n",
    "    # Find the index of the label with the highest probability\n",
    "    max_index = pred_scores.index(max(pred_scores))\n",
    "    \n",
    "    # Extract the label and its corresponding probability\n",
    "    max_label = pred_labels[max_index]\n",
    "    max_probability = pred_scores[max_index]\n",
    "    \n",
    "    return max_label, max_probability\n",
    "\n",
    "# Define the sequence, candidate_labels, and make predictions\n",
    "sequence = df_nlp['h1'].iloc[1]  # Assuming 'h1' is the column you want to process\n",
    "candidate_labels = ['Elektroauto-Bewertungen', 'Ladeinfrastruktur für Elektroautos', 'Technologien für Elektroautos', 'Batterietechnologie für Elektroautos', 'Trends auf dem Markt für Elektrofahrzeuge', 'Neuigkeiten von Elektroautoherstellern', 'Tipps zur Wartung von Elektroautos', 'Vorschriften in der Elektrofahrzeugindustrie', 'Nachhaltigkeit und Umweltauswirkungen von Elektroautos', 'Vergleich von Elektrofahrzeugen', 'Reichweite und Leistung von Elektroautos', 'Sicherheitsmerkmale von Elektroautos', 'Steueranreize und Rabatte für Elektroautos', 'Kosten für den Besitz eines Elektroautos', 'Tipps und Strategien zum Laden von Elektroautos', 'Veranstaltungen und Konferenzen zum Thema Elektrofahrzeuge', 'Erfahrungen und Testimonials von Elektroautobesitzern', 'Modelle und Spezifikationen von Elektroautos', 'Software-Updates und Funktionen von Elektrofahrzeugen', 'Innovationen und zukünftige Trends im Bereich Elektroautos']\n",
    "pred = classifier(sequence, candidate_labels)\n",
    "\n",
    "# Apply the function to the DataFrame column and save the result in new columns\n",
    "df_nlp['predicted_label'], df_nlp['predicted_probability'] = zip(*df_nlp['h1'].apply(lambda x: get_predictions_score(classifier(x, candidate_labels))))\n",
    "\n",
    "# Display the DataFrame with the new columns\n",
    "print(df_nlp)"
   ]
  },
  {
   "cell_type": "code",
   "execution_count": 17,
   "metadata": {},
   "outputs": [
    {
     "data": {
      "text/html": [
       "<div>\n",
       "<style scoped>\n",
       "    .dataframe tbody tr th:only-of-type {\n",
       "        vertical-align: middle;\n",
       "    }\n",
       "\n",
       "    .dataframe tbody tr th {\n",
       "        vertical-align: top;\n",
       "    }\n",
       "\n",
       "    .dataframe thead th {\n",
       "        text-align: right;\n",
       "    }\n",
       "</style>\n",
       "<table border=\"1\" class=\"dataframe\">\n",
       "  <thead>\n",
       "    <tr style=\"text-align: right;\">\n",
       "      <th></th>\n",
       "      <th>page_id</th>\n",
       "      <th>external_clicks</th>\n",
       "      <th>external_impressions</th>\n",
       "      <th>ctr</th>\n",
       "      <th>h1</th>\n",
       "      <th>abstract</th>\n",
       "      <th>meta_title</th>\n",
       "      <th>meta_description</th>\n",
       "      <th>merged_url</th>\n",
       "      <th>predicted_label</th>\n",
       "      <th>predicted_probability</th>\n",
       "    </tr>\n",
       "  </thead>\n",
       "  <tbody>\n",
       "    <tr>\n",
       "      <th>0</th>\n",
       "      <td>1037</td>\n",
       "      <td>256.0</td>\n",
       "      <td>5444.0</td>\n",
       "      <td>4.702425</td>\n",
       "      <td>Elektrofahrzeug-Ladestation : Kosten Anbieter ...</td>\n",
       "      <td>Grunde E-Auto überall laden , Strom gibt . Tat...</td>\n",
       "      <td>Elektrofahrzeug-Ladestation : Anbieter , Koste...</td>\n",
       "      <td>Ladestationen Elektroautos . Kosten Anbieter V...</td>\n",
       "      <td>[ 'elektrofahrzeug ' , 'ladestation ' ]</td>\n",
       "      <td>Ladeinfrastruktur für Elektroautos</td>\n",
       "      <td>0.431657</td>\n",
       "    </tr>\n",
       "    <tr>\n",
       "      <th>1</th>\n",
       "      <td>1039</td>\n",
       "      <td>124.0</td>\n",
       "      <td>1728.0</td>\n",
       "      <td>7.175926</td>\n",
       "      <td>Elektroauto-Förderung 2024 : satt absahnen -</td>\n",
       "      <td>große staatliche Förderung Elektroautos beende...</td>\n",
       "      <td>E-Auto Förderung 2024 : Infos Überblick</td>\n",
       "      <td>E-Auto Prämie 2024- beim Kauf Geld sparen . Fö...</td>\n",
       "      <td>[ 'elektroauto ' , 'und ' , '2024 ' , 'koennen...</td>\n",
       "      <td>Vorschriften in der Elektrofahrzeugindustrie</td>\n",
       "      <td>0.303427</td>\n",
       "    </tr>\n",
       "    <tr>\n",
       "      <th>2</th>\n",
       "      <td>1040</td>\n",
       "      <td>83.0</td>\n",
       "      <td>2575.0</td>\n",
       "      <td>3.223301</td>\n",
       "      <td>Hätten gewusst ? lange gibt schon E-Autos</td>\n",
       "      <td>wenigen Jahren wurden Elektroautos absolute Ne...</td>\n",
       "      <td>Hätten gewusst ? lange gibt schon E-Autos</td>\n",
       "      <td>wenigen Jahren wurden Elektroautos absolute Ne...</td>\n",
       "      <td>[ 'schon ' , 'so ' , 'lange ' , 'autos ' , 'ha...</td>\n",
       "      <td>Technologien für Elektroautos</td>\n",
       "      <td>0.296509</td>\n",
       "    </tr>\n",
       "    <tr>\n",
       "      <th>3</th>\n",
       "      <td>10245</td>\n",
       "      <td>80.0</td>\n",
       "      <td>845.0</td>\n",
       "      <td>9.467456</td>\n",
       "      <td>Kleinstes Auto Welt kommt zurück : Fans selber...</td>\n",
       "      <td>P.50 , bekannt kleinste Auto Welt , gilt Samml...</td>\n",
       "      <td>Kleinstes Auto Welt kommt zurück : Fans selber...</td>\n",
       "      <td>P.50 , bekannt kleinste Auto Welt , gilt Samml...</td>\n",
       "      <td>[ 'auto ' , 'koennen ' , 'bauen ' , 'jetzt ' ,...</td>\n",
       "      <td>Elektroauto-Bewertungen</td>\n",
       "      <td>0.128451</td>\n",
       "    </tr>\n",
       "    <tr>\n",
       "      <th>4</th>\n",
       "      <td>10273</td>\n",
       "      <td>3384.0</td>\n",
       "      <td>94132.0</td>\n",
       "      <td>3.594952</td>\n",
       "      <td>Mehr Reichweite Winter : holen E-Auto-Akku raus</td>\n",
       "      <td>Wer freut schon eisige Kälte ? E-Autos sicherl...</td>\n",
       "      <td>Mehr Reichweite Winter : holen E-Auto-Akku raus</td>\n",
       "      <td>Wer freut schon eisige Kälte ? E-Autos sicherl...</td>\n",
       "      <td>[ 'mehr ' , 'auto ' , 'holen ' , 'so ' , 'wint...</td>\n",
       "      <td>Batterietechnologie für Elektroautos</td>\n",
       "      <td>0.295967</td>\n",
       "    </tr>\n",
       "  </tbody>\n",
       "</table>\n",
       "</div>"
      ],
      "text/plain": [
       "   page_id  external_clicks  external_impressions       ctr   \n",
       "0     1037            256.0                5444.0  4.702425  \\\n",
       "1     1039            124.0                1728.0  7.175926   \n",
       "2     1040             83.0                2575.0  3.223301   \n",
       "3    10245             80.0                 845.0  9.467456   \n",
       "4    10273           3384.0               94132.0  3.594952   \n",
       "\n",
       "                                                  h1   \n",
       "0  Elektrofahrzeug-Ladestation : Kosten Anbieter ...  \\\n",
       "1       Elektroauto-Förderung 2024 : satt absahnen -   \n",
       "2          Hätten gewusst ? lange gibt schon E-Autos   \n",
       "3  Kleinstes Auto Welt kommt zurück : Fans selber...   \n",
       "4    Mehr Reichweite Winter : holen E-Auto-Akku raus   \n",
       "\n",
       "                                            abstract   \n",
       "0  Grunde E-Auto überall laden , Strom gibt . Tat...  \\\n",
       "1  große staatliche Förderung Elektroautos beende...   \n",
       "2  wenigen Jahren wurden Elektroautos absolute Ne...   \n",
       "3  P.50 , bekannt kleinste Auto Welt , gilt Samml...   \n",
       "4  Wer freut schon eisige Kälte ? E-Autos sicherl...   \n",
       "\n",
       "                                          meta_title   \n",
       "0  Elektrofahrzeug-Ladestation : Anbieter , Koste...  \\\n",
       "1            E-Auto Förderung 2024 : Infos Überblick   \n",
       "2          Hätten gewusst ? lange gibt schon E-Autos   \n",
       "3  Kleinstes Auto Welt kommt zurück : Fans selber...   \n",
       "4    Mehr Reichweite Winter : holen E-Auto-Akku raus   \n",
       "\n",
       "                                    meta_description   \n",
       "0  Ladestationen Elektroautos . Kosten Anbieter V...  \\\n",
       "1  E-Auto Prämie 2024- beim Kauf Geld sparen . Fö...   \n",
       "2  wenigen Jahren wurden Elektroautos absolute Ne...   \n",
       "3  P.50 , bekannt kleinste Auto Welt , gilt Samml...   \n",
       "4  Wer freut schon eisige Kälte ? E-Autos sicherl...   \n",
       "\n",
       "                                          merged_url   \n",
       "0            [ 'elektrofahrzeug ' , 'ladestation ' ]  \\\n",
       "1  [ 'elektroauto ' , 'und ' , '2024 ' , 'koennen...   \n",
       "2  [ 'schon ' , 'so ' , 'lange ' , 'autos ' , 'ha...   \n",
       "3  [ 'auto ' , 'koennen ' , 'bauen ' , 'jetzt ' ,...   \n",
       "4  [ 'mehr ' , 'auto ' , 'holen ' , 'so ' , 'wint...   \n",
       "\n",
       "                                predicted_label  predicted_probability  \n",
       "0            Ladeinfrastruktur für Elektroautos               0.431657  \n",
       "1  Vorschriften in der Elektrofahrzeugindustrie               0.303427  \n",
       "2                 Technologien für Elektroautos               0.296509  \n",
       "3                       Elektroauto-Bewertungen               0.128451  \n",
       "4          Batterietechnologie für Elektroautos               0.295967  "
      ]
     },
     "execution_count": 17,
     "metadata": {},
     "output_type": "execute_result"
    }
   ],
   "source": [
    "df_nlp.head()"
   ]
  },
  {
   "cell_type": "code",
   "execution_count": 22,
   "metadata": {},
   "outputs": [],
   "source": [
    "df_nlp.to_csv('/Users/clara/Desktop/neuefische/d-drivers/data/df_nlp_huggingface.csv', encoding='utf-8', index=False)"
   ]
  },
  {
   "cell_type": "markdown",
   "metadata": {},
   "source": [
    "### Vertex "
   ]
  },
  {
   "cell_type": "markdown",
   "metadata": {},
   "source": [
    "### Stemming"
   ]
  },
  {
   "cell_type": "code",
   "execution_count": null,
   "metadata": {},
   "outputs": [],
   "source": [
    "# tbd"
   ]
  },
  {
   "cell_type": "markdown",
   "metadata": {},
   "source": [
    "### Vectorizing"
   ]
  },
  {
   "cell_type": "code",
   "execution_count": null,
   "metadata": {},
   "outputs": [],
   "source": [
    "df_nlp_vec = df_nlp.copy()\n",
    "df_nlp_vec.fillna('', inplace=True)\n",
    "df_nlp_vec.isna().sum() #info()"
   ]
  },
  {
   "cell_type": "code",
   "execution_count": null,
   "metadata": {},
   "outputs": [],
   "source": [
    "def vectorize_text(column, df):\n",
    "    col = df[column]\n",
    "    vect = CountVectorizer().fit(col)\n",
    "    transformed = vect.transform(col)\n",
    "    for i, feature_name in enumerate(vect.get_feature_names_out()):\n",
    "        df[f'{column}_{feature_name}'] = transformed[:, i].toarray().flatten()  # Convert to dense array\n",
    "    return df\n",
    "\n",
    "for item in ['meta_description']:\n",
    "    df = vectorize_text(column=item, df=df_nlp_vec)\n",
    "    filename = f'../data/nlp_features_{item}.csv'\n",
    "    df.to_csv(filename, encoding='utf-8', index=False)"
   ]
  },
  {
   "cell_type": "code",
   "execution_count": null,
   "metadata": {},
   "outputs": [],
   "source": [
    "def vectorize_text(column, df):\n",
    "    col = df[column]\n",
    "    vect = CountVectorizer().fit(col)\n",
    "    transformed = vect.transform(col)\n",
    "    for i, feature_name in enumerate(vect.get_feature_names_out()):\n",
    "        df[f'{column}_{feature_name}'] = transformed[:, i].toarray().flatten()  # Convert to dense array\n",
    "    return df\n",
    "\n",
    "for item in ['merged_url']:\n",
    "    df = vectorize_text(column=item, df=df_nlp_vec)\n",
    "    filename = f'../data/nlp_features_{item}.csv'\n",
    "    df.to_csv(filename, encoding='utf-8', index=False)"
   ]
  },
  {
   "cell_type": "code",
   "execution_count": null,
   "metadata": {},
   "outputs": [],
   "source": [
    "def vectorize_text(column, df):\n",
    "    col = df[column]\n",
    "    vect = CountVectorizer().fit(col)\n",
    "    transformed = vect.transform(col)\n",
    "    \n",
    "    # Create a DataFrame from the transformed array\n",
    "    df_transformed = pd.DataFrame(transformed.toarray(), columns=vect.get_feature_names_out(), index=df.index)\n",
    "    \n",
    "    # Concatenate the new DataFrame with the original DataFrame\n",
    "    df_concatenated = pd.concat([df, df_transformed], axis=1)\n",
    "    \n",
    "    # Drop the original column\n",
    "    df_concatenated.drop(columns=[column], inplace=True)\n",
    "    \n",
    "    return df_concatenated\n",
    "\n",
    "# Iterate over columns to clean\n",
    "for item in columns_to_clean:\n",
    "    df_nlp_vec = vectorize_text(column=item, df=df_nlp_vec)\n",
    "    filename = f'../data/nlp_features_{item}.csv'\n",
    "    df_nlp_vec.to_csv(filename, encoding='utf-8', index=False)"
   ]
  },
  {
   "cell_type": "code",
   "execution_count": null,
   "metadata": {},
   "outputs": [],
   "source": [
    "df_full_vec = pd.merge('nlp_features_h1','nlp_features_abstract',how='left',left_index=True)"
   ]
  },
  {
   "cell_type": "code",
   "execution_count": null,
   "metadata": {},
   "outputs": [],
   "source": [
    "df_full_vec = pd.merge(nlp_features_h1, nlp_features_abstract, how='left', left_index=True, right_index=True)"
   ]
  },
  {
   "cell_type": "code",
   "execution_count": null,
   "metadata": {},
   "outputs": [],
   "source": [
    "from transformers import pipeline\n",
    "import pandas as pd\n",
    "import numpy as np\n",
    "from tqdm import tqdm\n",
    "data = pd.read_csv(\n",
    "    \"data/SMSSpamCollection.txt\",\n",
    "    encoding=\"utf-8\",\n",
    "    header=None,\n",
    "    delimiter=\"\\t\",\n",
    "    names=[\"target\", \"text\"],\n",
    ")\n",
    "data.head(5)\n",
    "print(f'There are {data.shape[0]} rows in the dataset')\n",
    "Preparing the pipeline in one-line of code!\n",
    "classifier = pipeline(\"zero-shot-classification\",device = 0)"
   ]
  },
  {
   "cell_type": "code",
   "execution_count": null,
   "metadata": {},
   "outputs": [],
   "source": []
  },
  {
   "cell_type": "code",
   "execution_count": null,
   "metadata": {},
   "outputs": [],
   "source": []
  }
 ],
 "metadata": {
  "kernelspec": {
   "display_name": ".venv",
   "language": "python",
   "name": "python3"
  },
  "language_info": {
   "codemirror_mode": {
    "name": "ipython",
    "version": 3
   },
   "file_extension": ".py",
   "mimetype": "text/x-python",
   "name": "python",
   "nbconvert_exporter": "python",
   "pygments_lexer": "ipython3",
   "version": "3.11.3"
  }
 },
 "nbformat": 4,
 "nbformat_minor": 2
}
