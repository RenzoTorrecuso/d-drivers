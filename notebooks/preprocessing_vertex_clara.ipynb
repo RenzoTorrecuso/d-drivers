{
 "cells": [
  {
   "cell_type": "code",
   "execution_count": 1,
   "metadata": {},
   "outputs": [
    {
     "name": "stderr",
     "output_type": "stream",
     "text": [
      "[nltk_data] Downloading package stopwords to /Users/clara/nltk_data...\n",
      "[nltk_data]   Package stopwords is already up-to-date!\n",
      "[nltk_data] Downloading package punkt to /Users/clara/nltk_data...\n",
      "[nltk_data]   Package punkt is already up-to-date!\n",
      "[nltk_data] Downloading package wordnet to /Users/clara/nltk_data...\n",
      "[nltk_data]   Package wordnet is already up-to-date!\n"
     ]
    }
   ],
   "source": [
    "import pandas as pd\n",
    "import nltk\n",
    "import pickle\n",
    "import numpy as np\n",
    "\n",
    "nltk.download(\"stopwords\")\n",
    "nltk.download(\"punkt\")\n",
    "nltk.download(\"wordnet\")\n",
    "\n",
    "from nltk.corpus import stopwords\n",
    "from nltk.tokenize import sent_tokenize, word_tokenize\n",
    "from sklearn.feature_extraction.text import CountVectorizer, TfidfVectorizer\n",
    "from sklearn.preprocessing import StandardScaler, PowerTransformer\n",
    "import string\n",
    "\n",
    "stop_words = set(stopwords.words('german'))"
   ]
  },
  {
   "cell_type": "markdown",
   "metadata": {},
   "source": [
    "Extract the most important words from title, h1, abstract, url with NLP (e.g. TF-IDF )"
   ]
  },
  {
   "cell_type": "code",
   "execution_count": 2,
   "metadata": {},
   "outputs": [],
   "source": [
    "df = pd.read_csv('/Users/clara/Desktop/neuefische/d-drivers/data/data_nlp_A.csv')"
   ]
  },
  {
   "cell_type": "code",
   "execution_count": 3,
   "metadata": {},
   "outputs": [
    {
     "data": {
      "text/plain": [
       "Index(['page_id', 'n_days', 'date_min', 'n_urls', 'date_max', 'age', 'url',\n",
       "       'no_versions', 'last_publish_date', 'word_count',\n",
       "       'classification_product', 'classification_type', 'page_name', 'title',\n",
       "       'author_list', 'external_clicks', 'external_impressions',\n",
       "       'total_likes_n_days', 'daily_likes_median', 'total_dislikes_n_days',\n",
       "       'daily_dislikes_median', 'video_play', 'page_impressions', 'clickouts',\n",
       "       'ctr', 'mean_version_lifetime', 'publ_freq', 'ext_impr_norm',\n",
       "       'urls_per_age', 'urls_per_days', 'h1', 'scraped_author', 'date_scraped',\n",
       "       'abstract', 'scraped_word_count', 'meta_title', 'meta_description',\n",
       "       'meta_image_url', 'media_type', 'page_img_size', 'merged_url',\n",
       "       'meta_title_len', 'meta_desc_len', 'h1_len', 'abstract_len',\n",
       "       'merged_url_len', 'title_has_colon', 'clickbait_prob',\n",
       "       'clickbait_label', 'clickbait_prob_raw', 'google_trend_prob',\n",
       "       'google_trend_label', 'google_trend_score', 'video_player_types',\n",
       "       'sentiment_abstract', 'confidence_abstract', 'sentiment_meta_title',\n",
       "       'confidence_meta_title'],\n",
       "      dtype='object')"
      ]
     },
     "execution_count": 3,
     "metadata": {},
     "output_type": "execute_result"
    }
   ],
   "source": [
    "df.columns"
   ]
  },
  {
   "cell_type": "code",
   "execution_count": 12,
   "metadata": {},
   "outputs": [
    {
     "data": {
      "text/plain": [
       "608686.581511372"
      ]
     },
     "execution_count": 12,
     "metadata": {},
     "output_type": "execute_result"
    }
   ],
   "source": [
    "df['external_impressions'].mean()"
   ]
  },
  {
   "cell_type": "code",
   "execution_count": 62,
   "metadata": {},
   "outputs": [
    {
     "name": "stdout",
     "output_type": "stream",
     "text": [
      "<class 'pandas.core.frame.DataFrame'>\n",
      "RangeIndex: 6815 entries, 0 to 6814\n",
      "Data columns (total 58 columns):\n",
      " #   Column                  Non-Null Count  Dtype  \n",
      "---  ------                  --------------  -----  \n",
      " 0   page_id                 6815 non-null   int64  \n",
      " 1   n_days                  6815 non-null   int64  \n",
      " 2   date_min                6815 non-null   object \n",
      " 3   n_urls                  6815 non-null   int64  \n",
      " 4   date_max                6815 non-null   object \n",
      " 5   age                     6815 non-null   int64  \n",
      " 6   url                     6815 non-null   object \n",
      " 7   no_versions             6815 non-null   int64  \n",
      " 8   last_publish_date       6815 non-null   object \n",
      " 9   word_count              6815 non-null   float64\n",
      " 10  classification_product  6815 non-null   object \n",
      " 11  classification_type     6815 non-null   object \n",
      " 12  page_name               6815 non-null   object \n",
      " 13  title                   6815 non-null   object \n",
      " 14  author_list             6815 non-null   object \n",
      " 15  external_clicks         6815 non-null   float64\n",
      " 16  external_impressions    6815 non-null   float64\n",
      " 17  total_likes_n_days      6815 non-null   float64\n",
      " 18  daily_likes_median      6815 non-null   float64\n",
      " 19  total_dislikes_n_days   6815 non-null   float64\n",
      " 20  daily_dislikes_median   6815 non-null   float64\n",
      " 21  video_play              6815 non-null   float64\n",
      " 22  page_impressions        6815 non-null   float64\n",
      " 23  clickouts               6815 non-null   float64\n",
      " 24  ctr                     6815 non-null   float64\n",
      " 25  mean_version_lifetime   6815 non-null   float64\n",
      " 26  publ_freq               6815 non-null   float64\n",
      " 27  ext_impr_norm           6815 non-null   float64\n",
      " 28  urls_per_age            6815 non-null   float64\n",
      " 29  urls_per_days           6815 non-null   float64\n",
      " 30  h1                      6815 non-null   object \n",
      " 31  scraped_author          6815 non-null   object \n",
      " 32  date_scraped            6815 non-null   object \n",
      " 33  abstract                6808 non-null   object \n",
      " 34  scraped_word_count      6815 non-null   int64  \n",
      " 35  meta_title              6815 non-null   object \n",
      " 36  meta_description        6815 non-null   object \n",
      " 37  meta_image_url          6815 non-null   object \n",
      " 38  media_type              6815 non-null   object \n",
      " 39  page_img_size           5066 non-null   object \n",
      " 40  merged_url              6815 non-null   object \n",
      " 41  meta_title_len          6815 non-null   int64  \n",
      " 42  meta_desc_len           6815 non-null   int64  \n",
      " 43  h1_len                  6815 non-null   int64  \n",
      " 44  abstract_len            6808 non-null   float64\n",
      " 45  merged_url_len          6815 non-null   int64  \n",
      " 46  title_has_colon         6815 non-null   bool   \n",
      " 47  clickbait_prob          6815 non-null   float64\n",
      " 48  clickbait_label         6815 non-null   object \n",
      " 49  clickbait_prob_raw      6815 non-null   float64\n",
      " 50  google_trend_prob       6815 non-null   float64\n",
      " 51  google_trend_label      6815 non-null   object \n",
      " 52  google_trend_score      6815 non-null   int64  \n",
      " 53  video_player_types      5824 non-null   object \n",
      " 54  sentiment_abstract      6815 non-null   object \n",
      " 55  confidence_abstract     6808 non-null   float64\n",
      " 56  sentiment_meta_title    6815 non-null   object \n",
      " 57  confidence_meta_title   6815 non-null   float64\n",
      "dtypes: bool(1), float64(22), int64(11), object(24)\n",
      "memory usage: 3.0+ MB\n"
     ]
    }
   ],
   "source": [
    "df.info()"
   ]
  },
  {
   "cell_type": "code",
   "execution_count": 63,
   "metadata": {},
   "outputs": [
    {
     "data": {
      "text/plain": [
       "array(['Eva Goldschald', 'Moritz Diethelm', 'Marius Eichfelder',\n",
       "       'Sven Schulz', 'Sepp Reitberger', 'Irmgard Butter',\n",
       "       'Lisa Brack;Michi Jo Standl', 'Nicole Hery-Mossmann',\n",
       "       'Moritz Diethelm;Benjamin Dizdar;Dominik Zarychta',\n",
       "       'Lars Schwichtenberg;Lisa Brack',\n",
       "       'Moritz Diethelm;Felix Bausch;Dominik Zarychta',\n",
       "       'Felix Bausch;Benjamin Dizdar;Moritz Diethelm',\n",
       "       'Martin Wittler;Büro504', 'Mara Egeling',\n",
       "       'Martin Wittler;Dominik Zarychta;Büro 504', 'Katrin Lehmann',\n",
       "       'Dominik Zarychta;Max Wiesmüller;Max Dockhorn', 'EFAHRER.com',\n",
       "       'Josef Reitberger', 'Lisa Brack', 'EFAHRER.com;Eva Goldschald',\n",
       "       'Franziska Albrecht', 'Moritz Diethelm;Dominik Zarychta',\n",
       "       'Irmgard Butter;Dominik Zarychta;Mara Egeling', 'Sebastian Barsch',\n",
       "       'Tobias Stahl', 'Kira Welling',\n",
       "       'Annika Moesl;Lisa Brack;Michi Jo Standl',\n",
       "       'Kira Welling, Annika Mösl', 'Maximilian Becker',\n",
       "       'Nicole Hery-Moßmann', 'Svenja Schrade;Annika Mösl',\n",
       "       'Kerstin Dreesen', 'Oliver März', 'Stefan Weißenborn, dpa',\n",
       "       'zolar', 'Lars Schwichtenberg', 'Andreas Kötter, dpa',\n",
       "       'Franziska Auner;Nicole Hery-Moßmann',\n",
       "       'Lisa Brack;Benjamin Dizdar;Franziska Auner',\n",
       "       'Moritz Diethelm;Dominik Zarychta;Max Dockhorn',\n",
       "       'Tobias Stahl;Annika Mösl', 'Michael Grosse-Hering;FOCUS E-BIKE',\n",
       "       'Sebastian Barsch, Moritz Wejwer;Sebastian Barsch',\n",
       "       'Kira Welling;Kira Welling, Moritz Wejwer',\n",
       "       'Kira Welling;Carina Dietze',\n",
       "       'Dominik Zarychta;Max Wiesmüller;Moritz Diethelm;Benjamin Dizdar;Lisa Brack',\n",
       "       'Moritz Wejwer;Sebastian Barsch', 'Benjamin Dizdar;Lisa Brack',\n",
       "       'Antonia Schöfbeck', 'Lisa Brack;Oliver März',\n",
       "       'Sebastian Barsch;Annika Mösl',\n",
       "       'Franziska Albrecht;Sebastian Barsch', 'Patrick Achilles',\n",
       "       'Patrick Achilles;Annika Mösl', 'Hannah Anhorn;Michi Jo Standl',\n",
       "       'Dominik Zarychta;Lisa Brack', 'Kira Welling;Michi Jo Standl',\n",
       "       'zolar;Eva Goldschald', 'Benjamin Dizdar;Moritz Diethelm',\n",
       "       'Benjamin Dizdar;Sebastian Barsch',\n",
       "       'Benjamin Dizdar;Moritz Diethelm;Franziska Auner',\n",
       "       'Lars Schwichtenberg, Moritz Wejwer;Lars Schwichtenberg',\n",
       "       'Franziska Auner;Lisa Brack', ' Eva Goldschald;Rika Mank',\n",
       "       'Hannah Anhorn;Gabriel Wessel', 'Sophia Haberkorn',\n",
       "       'Benjamin Dizdar', 'Lars Schwichtenberg;Tobias Stahl',\n",
       "       'Dominik Zarychta', 'Max Wiesmüller;Max Dockhorn',\n",
       "       'Christian Lutz', 'Elsa Stöcker',\n",
       "       'Benjamin Dizdar;Dominik Zarychta;Max Wiesmüller',\n",
       "       'Moritz Diethelm;Max Wiesmüller;Max Dockhorn',\n",
       "       'Dominik Zarychta;Annika Mösl', 'Selcuk Dayioglu;Sebastian Barsch',\n",
       "       'Sophia Haberkorn;Moritz Diethelm;Eva Goldschald',\n",
       "       'Evelyn Abigail Isaak', 'Jennifer Schneider',\n",
       "       'Sepp Reitberger;Sebastian Barsch',\n",
       "       'Christoph Sackmann;Franziska Auner;Michi Jo Standl;Annika Mösl',\n",
       "       'dpa;Lisa Brack', 'Kim Berkemeyer',\n",
       "       'Moritz Diethelm;Hannah Anhorn;Franziska Auner;Gabriel Wessel',\n",
       "       'Annika Mösl', 'Marcel Giesel;Eva Goldschald', 'Carina Dietze',\n",
       "       'Oliver März, Lisa Brack', 'Selina Deger',\n",
       "       'Franziska Auner;Moritz Diethelm;Hannah Anhorn;Lisa Brack',\n",
       "       'Sophia Haberkorn;Eva Goldschald;Sebastian Barsch', 'Kilian Marx',\n",
       "       'Lisa Brack;Annika Mösl', 'Hannah Anhorn;Eva Goldschald',\n",
       "       'Aaron Jungwirth;Aaron Jungwirth, Moritz Wejwer', 'Trang Nguyen',\n",
       "       'Rika Mank;Katrin Lehmann', 'Franziska Auner;Sebastian Barsch',\n",
       "       'Aaron Jungwirth', 'Rika Mank;Eva Goldschald', 'Anna-Maria Poppe',\n",
       "       'Lars Schwichtenberg;Sebastian Barsch', 'Hannah Anhorn',\n",
       "       'Wolfgang Gomoll;Stefan Grundhoff', 'Isabelle Tran',\n",
       "       'Katharina Böntgen', 'Dominik Zarychta;Michi Jo Standl',\n",
       "       'Lars Schwichtenberg;Sepp Reitberger',\n",
       "       'Dominik Zarychta;Franziska Auner', 'Sepp Reitberger;Lisa Brack',\n",
       "       'Christian Lutz;Sebastian Barsch', 'Redaktion EFAHRER',\n",
       "       'Moritz Diethelm;Jürgen Wolff', 'Elisabeth Grabow', 'Ralph Gaida',\n",
       "       'Sepp Reitberger, Eva Goldschald;Sepp Reitberger', 'Simone Finkel',\n",
       "       'Wolfgang Gomoll',\n",
       "       'Moritz Diethelm;Max Wiesmüller;Max Dockhorn;Mara Egeling',\n",
       "       'Christoph Sackmann', 'Sarah Adam', 'Thao Nguyen;CHIP',\n",
       "       'Wolfgang Hörner', 'Michi Jo Standl;Mara Egeling',\n",
       "       'Moritz Diethelm;Lisa Brack', 'Dominik Zarychta;Redaktion EFAHRER',\n",
       "       'Vanessa Finkler', 'Lisa Brack;Mara Egeling',\n",
       "       'Selcuk Dayioglu;Annika Mösl', 'Luisa Greiner', 'Aslan Berse',\n",
       "       'Franziska Auner;Annika Mösl',\n",
       "       'Hannah Anhorn;Lisa Brack;Gabriel Wessel', 'Martin Ratkovic',\n",
       "       'Hannah Anhorn;Franziska Auner;Gabriel Wessel', 'Rian Voss',\n",
       "       'Moritz Diethelm;Hannah Anhorn;Annika Mösl',\n",
       "       'Moritz Diethelm;Hannah Anhorn;Franziska Auner',\n",
       "       'Lars Schwichtenberg;Max Wiesmüller', 'Rika Mank',\n",
       "       'Hannah Anhorn;Franziska Auner', 'Joerg Geiger, Patrick Hannemann',\n",
       "       'Patrick Solberg', 'Lisa Brack;Max Dockhorn',\n",
       "       'Moritz Diethelm;Hannah Anhorn', 'Karl Lüdecke', 'Karl Müller',\n",
       "       'Felix Bausch;Mara Egeling',\n",
       "       'Michi Jo Standl;Gabriel Wessel;Annika Mösl',\n",
       "       'Max Wiesmüller;Vanessa Finkler', 'Mara Egeling;Gabriel Wessel',\n",
       "       'Karl Lüdecke;Moritz Diethelm', 'Bluetti',\n",
       "       'Dominik Zarychta;Michi Jo Standl;Annika Mösl',\n",
       "       'Hannah Anhorn;Lisa Brack', 'Svenja Schrade', 'Pentagon Sports',\n",
       "       'Gabriel Wessel', 'Karl Lüdecke; Focus online', 'Focus Online',\n",
       "       'Michi Jo Standl', 'Karl Lüdecke;Max Wiesmüller;Max Dockhorn',\n",
       "       'AllesBeste;Rian Voss;Sophie Will;CHIP',\n",
       "       'Benjamin Dizdar;Dominik Zarychta', 'CHIP',\n",
       "       'Tobias Stahl;Aslan Berse', 'press-inform',\n",
       "       'Redaktion EFAHRER;Max Wiesmüller', 'Tina Wille', 'FOCUS Online',\n",
       "       'FOCUS online', 'Sophia Tomulla', 'Finanzen100', 'Chip;CHIP',\n",
       "       'Moritz Wejwer', 'dpa;CHIP', 'dpa',\n",
       "       'Kommentar von Polizeihauptkommissar Thomas Hohn',\n",
       "       'Joaquim Oliveira', 'Monty Lang',\n",
       "       'Sepp Reitberger, Stefan Grundhoff', 'Gero Gröschel',\n",
       "       'Christiane Habrich Bocker', 'Max Wiesmüller;Tobias Stahl',\n",
       "       'Redaktion Chip', 'Moritz Diethelm;Gabriel Wessel', 'Yello Solar',\n",
       "       'Sebastian Viehmann', 'dpa;Tobias Stahl', 'Patrick Hannemann',\n",
       "       'Sebastian Feurer', 'Thorsten Glersch',\n",
       "       'Michi Jo Standl;Tobias Stahl', 'Max Wiesmüller',\n",
       "       'Martin Ratkovic;Gabriel Wessel', 'Franziska Auner;Gabriel Wessel',\n",
       "       'Selcuk Dayioglu;Sophia Haberkorn', 'Kai Grossjohann',\n",
       "       'Wolfgang Gomoll;press-inform', 'Redaktion EFAHRER;Tobias Stahl',\n",
       "       'Stefan Grundhoff', 'Dpa', 'Martin Wittler',\n",
       "       'Sepp Reitberger;Tobias Stahl', 'Tobias Stahlgs', 'Chip',\n",
       "       'EFAHRER mit Material von dpa', 'Büro 504',\n",
       "       'Dpa;Sophia Tomulla;EFAHRER.com', 'pv magazine',\n",
       "       ' Beatriz Santos;pv magazine', 'Kai Gosejohann;Kai Grossjohann',\n",
       "       'smarter fahren', 'Wolfgang Gomoll;Lars Schwichtenberg',\n",
       "       'Karl Lüdecke;Max Wiesmüller', 'Martin Wittler;Büro 504',\n",
       "       'Selcuk Dayioglu', 'Franziska Auner;Katrin Lehmann',\n",
       "       'Benjamin Dizdar;Franziska Auner', 'Severin Eick',\n",
       "       'Tobias Stahl, mit Material von Wolfgang Gomoll;Max Dockhorn, mit Material von Wolfgang Gomoll;Wolfgang Gomoll;Max Wiesmüller;Max Dockhorn;Tobias Stahl;press-inform',\n",
       "       'Sophia Haberkorn;Eva Goldschald',\n",
       "       'Patrick Solberg;Vanessa Finkler', 'Lingyue Cui',\n",
       "       'Raschid Miro Simon Henning',\n",
       "       'Daniel Nusser, Michael Ludwig, Moritz Wejwer',\n",
       "       'Christof Rührmair dpa', 'Sophia Haberkorn;Sebastian Barsch',\n",
       "       'Sven Plöger;Focus Online', 'Julia König', 'Franziska Auner',\n",
       "       'Stefan Grundhoff;Tobias Stahl', 'Raschid Hennig',\n",
       "       'Kai Gosejohann', 'Udo Klein', 'Patrick Solberg;Max Dockhorn',\n",
       "       'Christian Lutz;Lisa Brack', 'Benjamin Dizdar;Max Dockhorn',\n",
       "       'Sophia Leonhardt', 'Lisa Brack;Franziska Auner', 'Tobias Stadler',\n",
       "       'Stefan Grundhoff;Max Wiesmüller',\n",
       "       'Lisa Brack;Focus Online;Sebastian Viehmann',\n",
       "       'Kai Gosejohann;Kai Großjohann', 'Stefan Grundhoff; press-inform',\n",
       "       'pv-magazine', 'Lars Schwichtenberg;Max Dockhorn', 'EFAHRER',\n",
       "       'KarlLüdecke;Karl Lüdecke', 'Karl Lüdecke;Max Dockhorn',\n",
       "       'Wolfgang Gomoll;Tobias Stahl', 'Lisa Brack;Vanessa Finkler',\n",
       "       'dpa;Focus Online', 'Gero Gröschel;Carina Dietze',\n",
       "       'Karl Lüdecke;Tobias Stahl', 't3n', 'FOCUS Online;dpa',\n",
       "       'Max Dockhorn', 'FOCUS Online; EFAHRER.com',\n",
       "       'Sepp Reitberger;Michi Jo Standl', 'Kar Lüdecke',\n",
       "       'Felix Bausch;Benjamin Dizdar',\n",
       "       'Martin Wittler;Büro 504;Mara Egeling',\n",
       "       'Benjamin Dizdar;Gabriel Wessel', 'Moritz Wejwer;Karl Müller',\n",
       "       'Kleines Kraftwerk', ' InsideEVs.de;FOCUS Online',\n",
       "       ' Tagesspiegel;FOCUS online', 'Gero Gröschel;Eva Goldschald',\n",
       "       'Tesla Model Y rast Wüstendüne hoch: Jeep-Fahrer sehen alt aus',\n",
       "       'Laura Saroia', 'Eva Goldschald;Simon Kirsch',\n",
       "       'Wolfgang Gomoll;press inform', 'Gero Gröschel;Gabriel Wessel',\n",
       "       'Max Dockhorn;Tobias Stahl', 'Sophia Haberkorn;Gabriel Wessel',\n",
       "       'dpa;Sepp Reitberger;Florian Reiter',\n",
       "       'Martin Wittler;Benjamin Dizdar;Büro 504', 'Carwow;carwow',\n",
       "       'Gabriel Kroher', 'Moritz Diethelm, Felix Bausch',\n",
       "       'Christian Lutz;Lars Schwichtenberg', 'Jürgen Wolff',\n",
       "       'Wolfgang Gomoll, press-inform'], dtype=object)"
      ]
     },
     "execution_count": 63,
     "metadata": {},
     "output_type": "execute_result"
    }
   ],
   "source": [
    "df.author_list.unique()#head()"
   ]
  },
  {
   "cell_type": "code",
   "execution_count": null,
   "metadata": {},
   "outputs": [],
   "source": []
  },
  {
   "cell_type": "code",
   "execution_count": 64,
   "metadata": {},
   "outputs": [
    {
     "data": {
      "text/plain": [
       "219"
      ]
     },
     "execution_count": 64,
     "metadata": {},
     "output_type": "execute_result"
    }
   ],
   "source": [
    "len(df['scraped_author'].unique())"
   ]
  },
  {
   "cell_type": "markdown",
   "metadata": {},
   "source": [
    "### Scale target variable"
   ]
  },
  {
   "cell_type": "code",
   "execution_count": 71,
   "metadata": {},
   "outputs": [],
   "source": [
    "scaler = PowerTransformer()\n",
    "scaler_impr = PowerTransformer()\n",
    "\n",
    "# Transform the target variable\n",
    "df['external_impressions_scaled'] = scaler.fit_transform(df[['external_impressions']])\n",
    "df['external_clicks_scaled'] = scaler.fit_transform(df[['external_clicks']])\n",
    "df['ctr_scaled'] = scaler.fit_transform(df[['ctr']])\n",
    "df['ext_impr_norm_scaled'] = scaler_impr.fit_transform(df[['ext_impr_norm']].values.reshape(-1, 1))\n",
    "\n",
    "# Specify the file path for the specific transformer\n",
    "file_path_specific = '/Users/clara/Desktop/neuefische/d-drivers/notebooks/power_transformer_ext_impr.pkl'\n",
    "\n",
    "# Open the file in write binary mode and save the transformer\n",
    "with open(file_path_specific, 'wb') as file:\n",
    "    pickle.dump(scaler_impr, file)\n",
    "\n",
    "#df['likes_scaled'] = scaler.fit_transform(df[['likes_n_days']])"
   ]
  },
  {
   "cell_type": "markdown",
   "metadata": {},
   "source": [
    "### Remove stop words"
   ]
  },
  {
   "cell_type": "code",
   "execution_count": 72,
   "metadata": {},
   "outputs": [],
   "source": [
    "def remove_stopwords(text):\n",
    "    if isinstance(text, str):        \n",
    "        words = word_tokenize(text)\n",
    "        # Remove punctuation and special characters\n",
    "        text = text.translate(str.maketrans('', '', string.punctuation))\n",
    "        # Remove stopwords\n",
    "        return ' '.join([word for word in words if word.lower() not in stop_words])\n",
    "    else:\n",
    "        return text\n",
    "\n",
    "def remove_stopwords_from_columns(df, columns):\n",
    "    for col in columns:\n",
    "        df[col] = df[col].apply(remove_stopwords)\n",
    "    return df\n",
    "\n",
    "columns_to_clean = ['h1','abstract','meta_title','meta_description']\n",
    "df = remove_stopwords_from_columns(df, columns_to_clean)"
   ]
  },
  {
   "cell_type": "code",
   "execution_count": 73,
   "metadata": {},
   "outputs": [
    {
     "name": "stdout",
     "output_type": "stream",
     "text": [
      "<class 'pandas.core.frame.DataFrame'>\n",
      "RangeIndex: 6815 entries, 0 to 6814\n",
      "Data columns (total 62 columns):\n",
      " #   Column                       Non-Null Count  Dtype  \n",
      "---  ------                       --------------  -----  \n",
      " 0   page_id                      6815 non-null   int64  \n",
      " 1   n_days                       6815 non-null   int64  \n",
      " 2   date_min                     6815 non-null   object \n",
      " 3   n_urls                       6815 non-null   int64  \n",
      " 4   date_max                     6815 non-null   object \n",
      " 5   age                          6815 non-null   int64  \n",
      " 6   url                          6815 non-null   object \n",
      " 7   no_versions                  6815 non-null   int64  \n",
      " 8   last_publish_date            6815 non-null   object \n",
      " 9   word_count                   6815 non-null   float64\n",
      " 10  classification_product       6815 non-null   object \n",
      " 11  classification_type          6815 non-null   object \n",
      " 12  page_name                    6815 non-null   object \n",
      " 13  title                        6815 non-null   object \n",
      " 14  author_list                  6815 non-null   object \n",
      " 15  external_clicks              6815 non-null   float64\n",
      " 16  external_impressions         6815 non-null   float64\n",
      " 17  total_likes_n_days           6815 non-null   float64\n",
      " 18  daily_likes_median           6815 non-null   float64\n",
      " 19  total_dislikes_n_days        6815 non-null   float64\n",
      " 20  daily_dislikes_median        6815 non-null   float64\n",
      " 21  video_play                   6815 non-null   float64\n",
      " 22  page_impressions             6815 non-null   float64\n",
      " 23  clickouts                    6815 non-null   float64\n",
      " 24  ctr                          6815 non-null   float64\n",
      " 25  mean_version_lifetime        6815 non-null   float64\n",
      " 26  publ_freq                    6815 non-null   float64\n",
      " 27  ext_impr_norm                6815 non-null   float64\n",
      " 28  urls_per_age                 6815 non-null   float64\n",
      " 29  urls_per_days                6815 non-null   float64\n",
      " 30  h1                           6815 non-null   object \n",
      " 31  scraped_author               6815 non-null   object \n",
      " 32  date_scraped                 6815 non-null   object \n",
      " 33  abstract                     6808 non-null   object \n",
      " 34  scraped_word_count           6815 non-null   int64  \n",
      " 35  meta_title                   6815 non-null   object \n",
      " 36  meta_description             6815 non-null   object \n",
      " 37  meta_image_url               6815 non-null   object \n",
      " 38  media_type                   6815 non-null   object \n",
      " 39  page_img_size                5066 non-null   object \n",
      " 40  merged_url                   6815 non-null   object \n",
      " 41  meta_title_len               6815 non-null   int64  \n",
      " 42  meta_desc_len                6815 non-null   int64  \n",
      " 43  h1_len                       6815 non-null   int64  \n",
      " 44  abstract_len                 6808 non-null   float64\n",
      " 45  merged_url_len               6815 non-null   int64  \n",
      " 46  title_has_colon              6815 non-null   bool   \n",
      " 47  clickbait_prob               6815 non-null   float64\n",
      " 48  clickbait_label              6815 non-null   object \n",
      " 49  clickbait_prob_raw           6815 non-null   float64\n",
      " 50  google_trend_prob            6815 non-null   float64\n",
      " 51  google_trend_label           6815 non-null   object \n",
      " 52  google_trend_score           6815 non-null   int64  \n",
      " 53  video_player_types           5824 non-null   object \n",
      " 54  sentiment_abstract           6815 non-null   object \n",
      " 55  confidence_abstract          6808 non-null   float64\n",
      " 56  sentiment_meta_title         6815 non-null   object \n",
      " 57  confidence_meta_title        6815 non-null   float64\n",
      " 58  external_impressions_scaled  6815 non-null   float64\n",
      " 59  external_clicks_scaled       6815 non-null   float64\n",
      " 60  ctr_scaled                   6815 non-null   float64\n",
      " 61  ext_impr_norm_scaled         6815 non-null   float64\n",
      "dtypes: bool(1), float64(26), int64(11), object(24)\n",
      "memory usage: 3.2+ MB\n"
     ]
    }
   ],
   "source": [
    "df.info()"
   ]
  },
  {
   "cell_type": "markdown",
   "metadata": {},
   "source": [
    "### One hot encode categorical values"
   ]
  },
  {
   "cell_type": "code",
   "execution_count": 74,
   "metadata": {},
   "outputs": [
    {
     "data": {
      "text/plain": [
       "Index(['page_id', 'n_days', 'date_min', 'n_urls', 'date_max', 'age', 'url',\n",
       "       'no_versions', 'last_publish_date', 'word_count',\n",
       "       'classification_product', 'classification_type', 'page_name', 'title',\n",
       "       'author_list', 'external_clicks', 'external_impressions',\n",
       "       'total_likes_n_days', 'daily_likes_median', 'total_dislikes_n_days',\n",
       "       'daily_dislikes_median', 'video_play', 'page_impressions', 'clickouts',\n",
       "       'ctr', 'mean_version_lifetime', 'publ_freq', 'ext_impr_norm',\n",
       "       'urls_per_age', 'urls_per_days', 'h1', 'scraped_author', 'date_scraped',\n",
       "       'abstract', 'scraped_word_count', 'meta_title', 'meta_description',\n",
       "       'meta_image_url', 'media_type', 'page_img_size', 'merged_url',\n",
       "       'meta_title_len', 'meta_desc_len', 'h1_len', 'abstract_len',\n",
       "       'merged_url_len', 'title_has_colon', 'clickbait_prob',\n",
       "       'clickbait_label', 'clickbait_prob_raw', 'google_trend_prob',\n",
       "       'google_trend_label', 'google_trend_score', 'video_player_types',\n",
       "       'sentiment_abstract', 'confidence_abstract', 'sentiment_meta_title',\n",
       "       'confidence_meta_title', 'external_impressions_scaled',\n",
       "       'external_clicks_scaled', 'ctr_scaled', 'ext_impr_norm_scaled'],\n",
       "      dtype='object')"
      ]
     },
     "execution_count": 74,
     "metadata": {},
     "output_type": "execute_result"
    }
   ],
   "source": [
    "df.columns"
   ]
  },
  {
   "cell_type": "code",
   "execution_count": 75,
   "metadata": {},
   "outputs": [],
   "source": [
    "categorical = ['sentiment_abstract','sentiment_meta_title','video_player_types','clickbait_label','title_has_colon','media_type']\n",
    "df_encoded = pd.get_dummies(df, columns=categorical, prefix= categorical,drop_first=True)"
   ]
  },
  {
   "cell_type": "code",
   "execution_count": 76,
   "metadata": {},
   "outputs": [
    {
     "data": {
      "text/plain": [
       "Index(['page_id', 'n_days', 'date_min', 'n_urls', 'date_max', 'age', 'url',\n",
       "       'no_versions', 'last_publish_date', 'word_count',\n",
       "       'classification_product', 'classification_type', 'page_name', 'title',\n",
       "       'author_list', 'external_clicks', 'external_impressions',\n",
       "       'total_likes_n_days', 'daily_likes_median', 'total_dislikes_n_days',\n",
       "       'daily_dislikes_median', 'video_play', 'page_impressions', 'clickouts',\n",
       "       'ctr', 'mean_version_lifetime', 'publ_freq', 'ext_impr_norm',\n",
       "       'urls_per_age', 'urls_per_days', 'h1', 'scraped_author', 'date_scraped',\n",
       "       'abstract', 'scraped_word_count', 'meta_title', 'meta_description',\n",
       "       'meta_image_url', 'page_img_size', 'merged_url', 'meta_title_len',\n",
       "       'meta_desc_len', 'h1_len', 'abstract_len', 'merged_url_len',\n",
       "       'clickbait_prob', 'clickbait_prob_raw', 'google_trend_prob',\n",
       "       'google_trend_label', 'google_trend_score', 'confidence_abstract',\n",
       "       'confidence_meta_title', 'external_impressions_scaled',\n",
       "       'external_clicks_scaled', 'ctr_scaled', 'ext_impr_norm_scaled',\n",
       "       'sentiment_abstract_neutral', 'sentiment_abstract_positive',\n",
       "       'sentiment_meta_title_neutral', 'sentiment_meta_title_positive',\n",
       "       'video_player_types_2 - Standard and Widget',\n",
       "       'video_player_types_3 - Widget', 'clickbait_label_Not Clickbait',\n",
       "       'title_has_colon_True', 'media_type_other', 'media_type_video'],\n",
       "      dtype='object')"
      ]
     },
     "execution_count": 76,
     "metadata": {},
     "output_type": "execute_result"
    }
   ],
   "source": [
    "df_encoded.columns"
   ]
  },
  {
   "cell_type": "code",
   "execution_count": 77,
   "metadata": {},
   "outputs": [
    {
     "ename": "KeyError",
     "evalue": "\"['video_standard_and_widget', 'video_widget', 'not_clickbait'] not in index\"",
     "output_type": "error",
     "traceback": [
      "\u001b[0;31m---------------------------------------------------------------------------\u001b[0m",
      "\u001b[0;31mKeyError\u001b[0m                                  Traceback (most recent call last)",
      "Cell \u001b[0;32mIn[77], line 1\u001b[0m\n\u001b[0;32m----> 1\u001b[0m \u001b[43mdf_encoded\u001b[49m\u001b[43m[\u001b[49m\u001b[43m[\u001b[49m\u001b[38;5;124;43m'\u001b[39;49m\u001b[38;5;124;43mpage_id\u001b[39;49m\u001b[38;5;124;43m'\u001b[39;49m\u001b[43m,\u001b[49m\u001b[43m \u001b[49m\u001b[38;5;124;43m'\u001b[39;49m\u001b[38;5;124;43mn_urls\u001b[39;49m\u001b[38;5;124;43m'\u001b[39;49m\u001b[43m,\u001b[49m\u001b[38;5;124;43m'\u001b[39;49m\u001b[38;5;124;43mword_count\u001b[39;49m\u001b[38;5;124;43m'\u001b[39;49m\u001b[43m,\u001b[49m\n\u001b[1;32m      2\u001b[0m \u001b[43m       \u001b[49m\u001b[38;5;124;43m'\u001b[39;49m\u001b[38;5;124;43mclassification_product\u001b[39;49m\u001b[38;5;124;43m'\u001b[39;49m\u001b[43m,\u001b[49m\u001b[43m \u001b[49m\u001b[38;5;124;43m'\u001b[39;49m\u001b[38;5;124;43mclassification_type\u001b[39;49m\u001b[38;5;124;43m'\u001b[39;49m\u001b[43m,\u001b[49m\u001b[43m \u001b[49m\n\u001b[1;32m      3\u001b[0m \u001b[43m       \u001b[49m\u001b[38;5;124;43m'\u001b[39;49m\u001b[38;5;124;43mauthor_list\u001b[39;49m\u001b[38;5;124;43m'\u001b[39;49m\u001b[43m,\u001b[49m\u001b[43m \u001b[49m\u001b[38;5;124;43m'\u001b[39;49m\u001b[38;5;124;43mmean_version_lifetime\u001b[39;49m\u001b[38;5;124;43m'\u001b[39;49m\u001b[43m,\u001b[49m\u001b[38;5;124;43m'\u001b[39;49m\u001b[38;5;124;43mext_impr_norm\u001b[39;49m\u001b[38;5;124;43m'\u001b[39;49m\u001b[43m,\u001b[49m\n\u001b[1;32m      4\u001b[0m \u001b[43m       \u001b[49m\u001b[38;5;124;43m'\u001b[39;49m\u001b[38;5;124;43murls_per_age\u001b[39;49m\u001b[38;5;124;43m'\u001b[39;49m\u001b[43m,\u001b[49m\u001b[43m \u001b[49m\u001b[38;5;124;43m'\u001b[39;49m\u001b[38;5;124;43murls_per_days\u001b[39;49m\u001b[38;5;124;43m'\u001b[39;49m\u001b[43m,\u001b[49m\u001b[43m \u001b[49m\u001b[38;5;124;43m'\u001b[39;49m\u001b[38;5;124;43mh1\u001b[39;49m\u001b[38;5;124;43m'\u001b[39;49m\u001b[43m,\u001b[49m\u001b[43m \u001b[49m\u001b[38;5;124;43m'\u001b[39;49m\u001b[38;5;124;43mscraped_author\u001b[39;49m\u001b[38;5;124;43m'\u001b[39;49m\u001b[43m,\u001b[49m\u001b[43m \u001b[49m\n\u001b[1;32m      5\u001b[0m \u001b[43m       \u001b[49m\u001b[38;5;124;43m'\u001b[39;49m\u001b[38;5;124;43mabstract\u001b[39;49m\u001b[38;5;124;43m'\u001b[39;49m\u001b[43m,\u001b[49m\u001b[43m \u001b[49m\u001b[38;5;124;43m'\u001b[39;49m\u001b[38;5;124;43mmeta_title\u001b[39;49m\u001b[38;5;124;43m'\u001b[39;49m\u001b[43m,\u001b[49m\u001b[43m \u001b[49m\u001b[38;5;124;43m'\u001b[39;49m\u001b[38;5;124;43mmeta_description\u001b[39;49m\u001b[38;5;124;43m'\u001b[39;49m\u001b[43m,\u001b[49m\u001b[43m \u001b[49m\u001b[38;5;124;43m'\u001b[39;49m\u001b[38;5;124;43mmeta_title_len\u001b[39;49m\u001b[38;5;124;43m'\u001b[39;49m\u001b[43m,\u001b[49m\n\u001b[1;32m      6\u001b[0m \u001b[43m       \u001b[49m\u001b[38;5;124;43m'\u001b[39;49m\u001b[38;5;124;43mmeta_desc_len\u001b[39;49m\u001b[38;5;124;43m'\u001b[39;49m\u001b[43m,\u001b[49m\u001b[43m \u001b[49m\u001b[38;5;124;43m'\u001b[39;49m\u001b[38;5;124;43mh1_len\u001b[39;49m\u001b[38;5;124;43m'\u001b[39;49m\u001b[43m,\u001b[49m\u001b[43m \u001b[49m\u001b[38;5;124;43m'\u001b[39;49m\u001b[38;5;124;43mabstract_len\u001b[39;49m\u001b[38;5;124;43m'\u001b[39;49m\u001b[43m,\u001b[49m\u001b[43m \u001b[49m\u001b[38;5;124;43m'\u001b[39;49m\u001b[38;5;124;43mmerged_url_len\u001b[39;49m\u001b[38;5;124;43m'\u001b[39;49m\u001b[43m,\u001b[49m\n\u001b[1;32m      7\u001b[0m \u001b[43m       \u001b[49m\u001b[38;5;124;43m'\u001b[39;49m\u001b[38;5;124;43mclickbait_prob\u001b[39;49m\u001b[38;5;124;43m'\u001b[39;49m\u001b[43m,\u001b[49m\u001b[43m \u001b[49m\u001b[38;5;124;43m'\u001b[39;49m\u001b[38;5;124;43mclickbait_prob_raw\u001b[39;49m\u001b[38;5;124;43m'\u001b[39;49m\u001b[43m,\u001b[49m\u001b[43m \u001b[49m\u001b[38;5;124;43m'\u001b[39;49m\u001b[38;5;124;43mgoogle_trend_prob\u001b[39;49m\u001b[38;5;124;43m'\u001b[39;49m\u001b[43m,\u001b[49m\n\u001b[1;32m      8\u001b[0m \u001b[43m       \u001b[49m\u001b[38;5;124;43m'\u001b[39;49m\u001b[38;5;124;43mgoogle_trend_label\u001b[39;49m\u001b[38;5;124;43m'\u001b[39;49m\u001b[43m,\u001b[49m\u001b[43m \u001b[49m\u001b[38;5;124;43m'\u001b[39;49m\u001b[38;5;124;43mgoogle_trend_score\u001b[39;49m\u001b[38;5;124;43m'\u001b[39;49m\u001b[43m,\u001b[49m\u001b[43m \u001b[49m\n\u001b[1;32m      9\u001b[0m \u001b[43m       \u001b[49m\u001b[38;5;124;43m'\u001b[39;49m\u001b[38;5;124;43mexternal_impressions_scaled\u001b[39;49m\u001b[38;5;124;43m'\u001b[39;49m\u001b[43m,\u001b[49m\u001b[38;5;124;43m'\u001b[39;49m\u001b[38;5;124;43mext_impr_norm_scaled\u001b[39;49m\u001b[38;5;124;43m'\u001b[39;49m\u001b[43m,\u001b[49m\n\u001b[1;32m     10\u001b[0m \u001b[43m       \u001b[49m\u001b[38;5;124;43m'\u001b[39;49m\u001b[38;5;124;43mexternal_clicks_scaled\u001b[39;49m\u001b[38;5;124;43m'\u001b[39;49m\u001b[43m,\u001b[49m\u001b[43m \u001b[49m\u001b[38;5;124;43m'\u001b[39;49m\u001b[38;5;124;43mctr_scaled\u001b[39;49m\u001b[38;5;124;43m'\u001b[39;49m\u001b[43m,\u001b[49m\u001b[43m \u001b[49m\u001b[38;5;124;43m'\u001b[39;49m\u001b[38;5;124;43msentiment_abstract_neutral\u001b[39;49m\u001b[38;5;124;43m'\u001b[39;49m\u001b[43m,\u001b[49m\n\u001b[1;32m     11\u001b[0m \u001b[43m       \u001b[49m\u001b[38;5;124;43m'\u001b[39;49m\u001b[38;5;124;43msentiment_abstract_positive\u001b[39;49m\u001b[38;5;124;43m'\u001b[39;49m\u001b[43m,\u001b[49m\u001b[43m \u001b[49m\u001b[38;5;124;43m'\u001b[39;49m\u001b[38;5;124;43msentiment_meta_title_neutral\u001b[39;49m\u001b[38;5;124;43m'\u001b[39;49m\u001b[43m,\u001b[49m\n\u001b[1;32m     12\u001b[0m \u001b[43m       \u001b[49m\u001b[38;5;124;43m'\u001b[39;49m\u001b[38;5;124;43msentiment_meta_title_positive\u001b[39;49m\u001b[38;5;124;43m'\u001b[39;49m\u001b[43m,\u001b[49m\u001b[43m \u001b[49m\u001b[38;5;124;43m'\u001b[39;49m\u001b[38;5;124;43mvideo_standard_and_widget\u001b[39;49m\u001b[38;5;124;43m'\u001b[39;49m\u001b[43m,\u001b[49m\n\u001b[1;32m     13\u001b[0m \u001b[43m       \u001b[49m\u001b[38;5;124;43m'\u001b[39;49m\u001b[38;5;124;43mvideo_widget\u001b[39;49m\u001b[38;5;124;43m'\u001b[39;49m\u001b[43m,\u001b[49m\u001b[43m \u001b[49m\u001b[38;5;124;43m'\u001b[39;49m\u001b[38;5;124;43mnot_clickbait\u001b[39;49m\u001b[38;5;124;43m'\u001b[39;49m\u001b[43m,\u001b[49m\u001b[43m \u001b[49m\u001b[38;5;124;43m'\u001b[39;49m\u001b[38;5;124;43mtitle_has_colon_True\u001b[39;49m\u001b[38;5;124;43m'\u001b[39;49m\u001b[43m,\u001b[49m\n\u001b[1;32m     14\u001b[0m \u001b[43m       \u001b[49m\u001b[38;5;124;43m'\u001b[39;49m\u001b[38;5;124;43mmedia_type_other\u001b[39;49m\u001b[38;5;124;43m'\u001b[39;49m\u001b[43m,\u001b[49m\u001b[43m \u001b[49m\u001b[38;5;124;43m'\u001b[39;49m\u001b[38;5;124;43mmedia_type_video\u001b[39;49m\u001b[38;5;124;43m'\u001b[39;49m\u001b[43m]\u001b[49m\u001b[43m]\u001b[49m\n",
      "File \u001b[0;32m~/Desktop/neuefische/d-drivers/.venv/lib/python3.11/site-packages/pandas/core/frame.py:3767\u001b[0m, in \u001b[0;36mDataFrame.__getitem__\u001b[0;34m(self, key)\u001b[0m\n\u001b[1;32m   3765\u001b[0m     \u001b[38;5;28;01mif\u001b[39;00m is_iterator(key):\n\u001b[1;32m   3766\u001b[0m         key \u001b[38;5;241m=\u001b[39m \u001b[38;5;28mlist\u001b[39m(key)\n\u001b[0;32m-> 3767\u001b[0m     indexer \u001b[38;5;241m=\u001b[39m \u001b[38;5;28;43mself\u001b[39;49m\u001b[38;5;241;43m.\u001b[39;49m\u001b[43mcolumns\u001b[49m\u001b[38;5;241;43m.\u001b[39;49m\u001b[43m_get_indexer_strict\u001b[49m\u001b[43m(\u001b[49m\u001b[43mkey\u001b[49m\u001b[43m,\u001b[49m\u001b[43m \u001b[49m\u001b[38;5;124;43m\"\u001b[39;49m\u001b[38;5;124;43mcolumns\u001b[39;49m\u001b[38;5;124;43m\"\u001b[39;49m\u001b[43m)\u001b[49m[\u001b[38;5;241m1\u001b[39m]\n\u001b[1;32m   3769\u001b[0m \u001b[38;5;66;03m# take() does not accept boolean indexers\u001b[39;00m\n\u001b[1;32m   3770\u001b[0m \u001b[38;5;28;01mif\u001b[39;00m \u001b[38;5;28mgetattr\u001b[39m(indexer, \u001b[38;5;124m\"\u001b[39m\u001b[38;5;124mdtype\u001b[39m\u001b[38;5;124m\"\u001b[39m, \u001b[38;5;28;01mNone\u001b[39;00m) \u001b[38;5;241m==\u001b[39m \u001b[38;5;28mbool\u001b[39m:\n",
      "File \u001b[0;32m~/Desktop/neuefische/d-drivers/.venv/lib/python3.11/site-packages/pandas/core/indexes/base.py:5876\u001b[0m, in \u001b[0;36mIndex._get_indexer_strict\u001b[0;34m(self, key, axis_name)\u001b[0m\n\u001b[1;32m   5873\u001b[0m \u001b[38;5;28;01melse\u001b[39;00m:\n\u001b[1;32m   5874\u001b[0m     keyarr, indexer, new_indexer \u001b[38;5;241m=\u001b[39m \u001b[38;5;28mself\u001b[39m\u001b[38;5;241m.\u001b[39m_reindex_non_unique(keyarr)\n\u001b[0;32m-> 5876\u001b[0m \u001b[38;5;28;43mself\u001b[39;49m\u001b[38;5;241;43m.\u001b[39;49m\u001b[43m_raise_if_missing\u001b[49m\u001b[43m(\u001b[49m\u001b[43mkeyarr\u001b[49m\u001b[43m,\u001b[49m\u001b[43m \u001b[49m\u001b[43mindexer\u001b[49m\u001b[43m,\u001b[49m\u001b[43m \u001b[49m\u001b[43maxis_name\u001b[49m\u001b[43m)\u001b[49m\n\u001b[1;32m   5878\u001b[0m keyarr \u001b[38;5;241m=\u001b[39m \u001b[38;5;28mself\u001b[39m\u001b[38;5;241m.\u001b[39mtake(indexer)\n\u001b[1;32m   5879\u001b[0m \u001b[38;5;28;01mif\u001b[39;00m \u001b[38;5;28misinstance\u001b[39m(key, Index):\n\u001b[1;32m   5880\u001b[0m     \u001b[38;5;66;03m# GH 42790 - Preserve name from an Index\u001b[39;00m\n",
      "File \u001b[0;32m~/Desktop/neuefische/d-drivers/.venv/lib/python3.11/site-packages/pandas/core/indexes/base.py:5938\u001b[0m, in \u001b[0;36mIndex._raise_if_missing\u001b[0;34m(self, key, indexer, axis_name)\u001b[0m\n\u001b[1;32m   5935\u001b[0m     \u001b[38;5;28;01mraise\u001b[39;00m \u001b[38;5;167;01mKeyError\u001b[39;00m(\u001b[38;5;124mf\u001b[39m\u001b[38;5;124m\"\u001b[39m\u001b[38;5;124mNone of [\u001b[39m\u001b[38;5;132;01m{\u001b[39;00mkey\u001b[38;5;132;01m}\u001b[39;00m\u001b[38;5;124m] are in the [\u001b[39m\u001b[38;5;132;01m{\u001b[39;00maxis_name\u001b[38;5;132;01m}\u001b[39;00m\u001b[38;5;124m]\u001b[39m\u001b[38;5;124m\"\u001b[39m)\n\u001b[1;32m   5937\u001b[0m not_found \u001b[38;5;241m=\u001b[39m \u001b[38;5;28mlist\u001b[39m(ensure_index(key)[missing_mask\u001b[38;5;241m.\u001b[39mnonzero()[\u001b[38;5;241m0\u001b[39m]]\u001b[38;5;241m.\u001b[39munique())\n\u001b[0;32m-> 5938\u001b[0m \u001b[38;5;28;01mraise\u001b[39;00m \u001b[38;5;167;01mKeyError\u001b[39;00m(\u001b[38;5;124mf\u001b[39m\u001b[38;5;124m\"\u001b[39m\u001b[38;5;132;01m{\u001b[39;00mnot_found\u001b[38;5;132;01m}\u001b[39;00m\u001b[38;5;124m not in index\u001b[39m\u001b[38;5;124m\"\u001b[39m)\n",
      "\u001b[0;31mKeyError\u001b[0m: \"['video_standard_and_widget', 'video_widget', 'not_clickbait'] not in index\""
     ]
    }
   ],
   "source": [
    "df_encoded[['page_id', 'n_urls','word_count',\n",
    "       'classification_product', 'classification_type', \n",
    "       'author_list', 'mean_version_lifetime','ext_impr_norm',\n",
    "       'urls_per_age', 'urls_per_days', 'h1', 'scraped_author', \n",
    "       'abstract', 'meta_title', 'meta_description', 'meta_title_len',\n",
    "       'meta_desc_len', 'h1_len', 'abstract_len', 'merged_url_len',\n",
    "       'clickbait_prob', 'clickbait_prob_raw', 'google_trend_prob',\n",
    "       'google_trend_label', 'google_trend_score', \n",
    "       'external_impressions_scaled','ext_impr_norm_scaled',\n",
    "       'external_clicks_scaled', 'ctr_scaled', 'sentiment_abstract_neutral',\n",
    "       'sentiment_abstract_positive', 'sentiment_meta_title_neutral',\n",
    "       'sentiment_meta_title_positive', 'video_standard_and_widget',\n",
    "       'video_widget', 'not_clickbait', 'title_has_colon_True',\n",
    "       'media_type_other', 'media_type_video']]"
   ]
  },
  {
   "cell_type": "code",
   "execution_count": 53,
   "metadata": {},
   "outputs": [],
   "source": [
    "import json\n",
    "\n",
    "df_encoded.rename({\n",
    "        'scraped_author': \"Author last\"}, axis=1, inplace=True)"
   ]
  },
  {
   "cell_type": "code",
   "execution_count": 54,
   "metadata": {},
   "outputs": [],
   "source": [
    "authors_map = json.load(open('/Users/clara/Desktop/neuefische/d-drivers/data/codes/authors_json.json', 'r', encoding='utf-8'))\n",
    "authors_map = {key.lower(): value for key, value in authors_map.items()}\n",
    "\n",
    "df_encoded['Author last'] = df_encoded['Author last'].str.lower()\n",
    "df_encoded['Author last'] = df_encoded['Author last'].str.replace('/', ',')\n",
    "df_encoded['Author last'] = df_encoded['Author last'].str.replace(' & ', ', ')\n",
    "df_encoded['Author last'] = df_encoded['Author last'].str.replace(' und ', ', ')\n",
    "\n",
    "df_encoded['Authors'] = df_encoded['Author last'].str.lower()\n",
    "df_encoded['Authors'] = df_encoded['Authors'].str.replace(';', ',')\n",
    "\n",
    "for auth in authors_map.keys():\n",
    "    df_encoded['Author last'] = df_encoded['Author last'].str.replace(auth, authors_map[auth.lower()])\n",
    "    df_encoded['Authors'] = df_encoded['Authors'].str.replace(auth, authors_map[auth.lower()])\n"
   ]
  },
  {
   "cell_type": "code",
   "execution_count": 55,
   "metadata": {},
   "outputs": [],
   "source": [
    "df_encoded.rename(columns={\"video_player_types_2 - Standard and Widget\" : \"video_standard_and_widget\",\n",
    "                   \"video_player_types_3 - Widget\" : \"video_widget\",\n",
    "                   \"clickbait_label_Not Clickbait\": \"not_clickbait\",\n",
    "                   \"Author last\": \"Author_last\"\n",
    "           }, inplace=True)"
   ]
  },
  {
   "cell_type": "code",
   "execution_count": 56,
   "metadata": {},
   "outputs": [
    {
     "data": {
      "text/plain": [
       "0      -0.742681\n",
       "1      -0.856208\n",
       "2       0.773124\n",
       "3      -0.827747\n",
       "4      -0.780902\n",
       "          ...   \n",
       "6810   -0.952400\n",
       "6811   -0.947575\n",
       "6812   -0.738150\n",
       "6813   -0.826913\n",
       "6814   -0.873315\n",
       "Name: clickbait_prob, Length: 6815, dtype: float64"
      ]
     },
     "execution_count": 56,
     "metadata": {},
     "output_type": "execute_result"
    }
   ],
   "source": [
    "df_encoded.clickbait_prob"
   ]
  },
  {
   "cell_type": "code",
   "execution_count": 57,
   "metadata": {},
   "outputs": [],
   "source": [
    "df_encoded.to_csv('/Users/clara/Desktop/neuefische/d-drivers/data/preprocessing_nlp_v4.csv', encoding='utf-8', index=False)"
   ]
  },
  {
   "cell_type": "code",
   "execution_count": 58,
   "metadata": {},
   "outputs": [
    {
     "data": {
      "application/vnd.jupyter.widget-view+json": {
       "model_id": "474c19c8fff74ee6a04656726b1f30ef",
       "version_major": 2,
       "version_minor": 0
      },
      "text/plain": [
       "Box(children=(HTML(value='<div id=\"ifr-pyg-0006164d6631603dhmZ2I8CQTX0jFUNl\" style=\"height: auto\">\\n    <head>…"
      ]
     },
     "metadata": {},
     "output_type": "display_data"
    },
    {
     "data": {
      "text/html": [],
      "text/plain": [
       "<IPython.core.display.HTML object>"
      ]
     },
     "metadata": {},
     "output_type": "display_data"
    }
   ],
   "source": [
    "import pygwalker as pyg\n",
    "\n",
    "walker = pyg.walk(df_encoded)"
   ]
  }
 ],
 "metadata": {
  "kernelspec": {
   "display_name": ".venv",
   "language": "python",
   "name": "python3"
  },
  "language_info": {
   "codemirror_mode": {
    "name": "ipython",
    "version": 3
   },
   "file_extension": ".py",
   "mimetype": "text/x-python",
   "name": "python",
   "nbconvert_exporter": "python",
   "pygments_lexer": "ipython3",
   "version": "3.11.3"
  }
 },
 "nbformat": 4,
 "nbformat_minor": 2
}
