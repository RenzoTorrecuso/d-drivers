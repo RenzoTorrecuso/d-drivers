{
 "cells": [
  {
   "cell_type": "markdown",
   "metadata": {},
   "source": [
    "# Import libraries & Setup dataframe"
   ]
  },
  {
   "cell_type": "code",
   "execution_count": 1,
   "metadata": {},
   "outputs": [],
   "source": [
    "import pandas as pd"
   ]
  },
  {
   "cell_type": "code",
   "execution_count": 8,
   "metadata": {},
   "outputs": [
    {
     "ename": "FileNotFoundError",
     "evalue": "[Errno 2] No such file or directory: 'data/discover_2024-03-26.xlsx'",
     "output_type": "error",
     "traceback": [
      "\u001b[0;31m---------------------------------------------------------------------------\u001b[0m",
      "\u001b[0;31mFileNotFoundError\u001b[0m                         Traceback (most recent call last)",
      "Cell \u001b[0;32mIn[8], line 3\u001b[0m\n\u001b[1;32m      1\u001b[0m data_file \u001b[38;5;241m=\u001b[39m \u001b[38;5;124m'\u001b[39m\u001b[38;5;124mdiscover_2024-03-26.xlsx\u001b[39m\u001b[38;5;124m'\u001b[39m\n\u001b[1;32m      2\u001b[0m file_path \u001b[38;5;241m=\u001b[39m \u001b[38;5;124m'\u001b[39m\u001b[38;5;124mdata/\u001b[39m\u001b[38;5;124m'\u001b[39m \u001b[38;5;241m+\u001b[39m data_file\n\u001b[0;32m----> 3\u001b[0m df \u001b[38;5;241m=\u001b[39m \u001b[43mpd\u001b[49m\u001b[38;5;241;43m.\u001b[39;49m\u001b[43mread_excel\u001b[49m\u001b[43m(\u001b[49m\u001b[43mfile_path\u001b[49m\u001b[43m,\u001b[49m\u001b[43m \u001b[49m\u001b[43msheet_name\u001b[49m\u001b[38;5;241;43m=\u001b[39;49m\u001b[38;5;124;43m'\u001b[39;49m\u001b[38;5;124;43mdata\u001b[39;49m\u001b[38;5;124;43m'\u001b[39;49m\u001b[43m)\u001b[49m\n",
      "File \u001b[0;32m~/Desktop/neuefische/d-drivers/.venv/lib/python3.11/site-packages/pandas/io/excel/_base.py:478\u001b[0m, in \u001b[0;36mread_excel\u001b[0;34m(io, sheet_name, header, names, index_col, usecols, dtype, engine, converters, true_values, false_values, skiprows, nrows, na_values, keep_default_na, na_filter, verbose, parse_dates, date_parser, date_format, thousands, decimal, comment, skipfooter, storage_options, dtype_backend)\u001b[0m\n\u001b[1;32m    476\u001b[0m \u001b[38;5;28;01mif\u001b[39;00m \u001b[38;5;129;01mnot\u001b[39;00m \u001b[38;5;28misinstance\u001b[39m(io, ExcelFile):\n\u001b[1;32m    477\u001b[0m     should_close \u001b[38;5;241m=\u001b[39m \u001b[38;5;28;01mTrue\u001b[39;00m\n\u001b[0;32m--> 478\u001b[0m     io \u001b[38;5;241m=\u001b[39m \u001b[43mExcelFile\u001b[49m\u001b[43m(\u001b[49m\u001b[43mio\u001b[49m\u001b[43m,\u001b[49m\u001b[43m \u001b[49m\u001b[43mstorage_options\u001b[49m\u001b[38;5;241;43m=\u001b[39;49m\u001b[43mstorage_options\u001b[49m\u001b[43m,\u001b[49m\u001b[43m \u001b[49m\u001b[43mengine\u001b[49m\u001b[38;5;241;43m=\u001b[39;49m\u001b[43mengine\u001b[49m\u001b[43m)\u001b[49m\n\u001b[1;32m    479\u001b[0m \u001b[38;5;28;01melif\u001b[39;00m engine \u001b[38;5;129;01mand\u001b[39;00m engine \u001b[38;5;241m!=\u001b[39m io\u001b[38;5;241m.\u001b[39mengine:\n\u001b[1;32m    480\u001b[0m     \u001b[38;5;28;01mraise\u001b[39;00m \u001b[38;5;167;01mValueError\u001b[39;00m(\n\u001b[1;32m    481\u001b[0m         \u001b[38;5;124m\"\u001b[39m\u001b[38;5;124mEngine should not be specified when passing \u001b[39m\u001b[38;5;124m\"\u001b[39m\n\u001b[1;32m    482\u001b[0m         \u001b[38;5;124m\"\u001b[39m\u001b[38;5;124man ExcelFile - ExcelFile already has the engine set\u001b[39m\u001b[38;5;124m\"\u001b[39m\n\u001b[1;32m    483\u001b[0m     )\n",
      "File \u001b[0;32m~/Desktop/neuefische/d-drivers/.venv/lib/python3.11/site-packages/pandas/io/excel/_base.py:1496\u001b[0m, in \u001b[0;36mExcelFile.__init__\u001b[0;34m(self, path_or_buffer, engine, storage_options)\u001b[0m\n\u001b[1;32m   1494\u001b[0m     ext \u001b[38;5;241m=\u001b[39m \u001b[38;5;124m\"\u001b[39m\u001b[38;5;124mxls\u001b[39m\u001b[38;5;124m\"\u001b[39m\n\u001b[1;32m   1495\u001b[0m \u001b[38;5;28;01melse\u001b[39;00m:\n\u001b[0;32m-> 1496\u001b[0m     ext \u001b[38;5;241m=\u001b[39m \u001b[43minspect_excel_format\u001b[49m\u001b[43m(\u001b[49m\n\u001b[1;32m   1497\u001b[0m \u001b[43m        \u001b[49m\u001b[43mcontent_or_path\u001b[49m\u001b[38;5;241;43m=\u001b[39;49m\u001b[43mpath_or_buffer\u001b[49m\u001b[43m,\u001b[49m\u001b[43m \u001b[49m\u001b[43mstorage_options\u001b[49m\u001b[38;5;241;43m=\u001b[39;49m\u001b[43mstorage_options\u001b[49m\n\u001b[1;32m   1498\u001b[0m \u001b[43m    \u001b[49m\u001b[43m)\u001b[49m\n\u001b[1;32m   1499\u001b[0m     \u001b[38;5;28;01mif\u001b[39;00m ext \u001b[38;5;129;01mis\u001b[39;00m \u001b[38;5;28;01mNone\u001b[39;00m:\n\u001b[1;32m   1500\u001b[0m         \u001b[38;5;28;01mraise\u001b[39;00m \u001b[38;5;167;01mValueError\u001b[39;00m(\n\u001b[1;32m   1501\u001b[0m             \u001b[38;5;124m\"\u001b[39m\u001b[38;5;124mExcel file format cannot be determined, you must specify \u001b[39m\u001b[38;5;124m\"\u001b[39m\n\u001b[1;32m   1502\u001b[0m             \u001b[38;5;124m\"\u001b[39m\u001b[38;5;124man engine manually.\u001b[39m\u001b[38;5;124m\"\u001b[39m\n\u001b[1;32m   1503\u001b[0m         )\n",
      "File \u001b[0;32m~/Desktop/neuefische/d-drivers/.venv/lib/python3.11/site-packages/pandas/io/excel/_base.py:1371\u001b[0m, in \u001b[0;36minspect_excel_format\u001b[0;34m(content_or_path, storage_options)\u001b[0m\n\u001b[1;32m   1368\u001b[0m \u001b[38;5;28;01mif\u001b[39;00m \u001b[38;5;28misinstance\u001b[39m(content_or_path, \u001b[38;5;28mbytes\u001b[39m):\n\u001b[1;32m   1369\u001b[0m     content_or_path \u001b[38;5;241m=\u001b[39m BytesIO(content_or_path)\n\u001b[0;32m-> 1371\u001b[0m \u001b[38;5;28;01mwith\u001b[39;00m \u001b[43mget_handle\u001b[49m\u001b[43m(\u001b[49m\n\u001b[1;32m   1372\u001b[0m \u001b[43m    \u001b[49m\u001b[43mcontent_or_path\u001b[49m\u001b[43m,\u001b[49m\u001b[43m \u001b[49m\u001b[38;5;124;43m\"\u001b[39;49m\u001b[38;5;124;43mrb\u001b[39;49m\u001b[38;5;124;43m\"\u001b[39;49m\u001b[43m,\u001b[49m\u001b[43m \u001b[49m\u001b[43mstorage_options\u001b[49m\u001b[38;5;241;43m=\u001b[39;49m\u001b[43mstorage_options\u001b[49m\u001b[43m,\u001b[49m\u001b[43m \u001b[49m\u001b[43mis_text\u001b[49m\u001b[38;5;241;43m=\u001b[39;49m\u001b[38;5;28;43;01mFalse\u001b[39;49;00m\n\u001b[1;32m   1373\u001b[0m \u001b[43m\u001b[49m\u001b[43m)\u001b[49m \u001b[38;5;28;01mas\u001b[39;00m handle:\n\u001b[1;32m   1374\u001b[0m     stream \u001b[38;5;241m=\u001b[39m handle\u001b[38;5;241m.\u001b[39mhandle\n\u001b[1;32m   1375\u001b[0m     stream\u001b[38;5;241m.\u001b[39mseek(\u001b[38;5;241m0\u001b[39m)\n",
      "File \u001b[0;32m~/Desktop/neuefische/d-drivers/.venv/lib/python3.11/site-packages/pandas/io/common.py:868\u001b[0m, in \u001b[0;36mget_handle\u001b[0;34m(path_or_buf, mode, encoding, compression, memory_map, is_text, errors, storage_options)\u001b[0m\n\u001b[1;32m    859\u001b[0m         handle \u001b[38;5;241m=\u001b[39m \u001b[38;5;28mopen\u001b[39m(\n\u001b[1;32m    860\u001b[0m             handle,\n\u001b[1;32m    861\u001b[0m             ioargs\u001b[38;5;241m.\u001b[39mmode,\n\u001b[0;32m   (...)\u001b[0m\n\u001b[1;32m    864\u001b[0m             newline\u001b[38;5;241m=\u001b[39m\u001b[38;5;124m\"\u001b[39m\u001b[38;5;124m\"\u001b[39m,\n\u001b[1;32m    865\u001b[0m         )\n\u001b[1;32m    866\u001b[0m     \u001b[38;5;28;01melse\u001b[39;00m:\n\u001b[1;32m    867\u001b[0m         \u001b[38;5;66;03m# Binary mode\u001b[39;00m\n\u001b[0;32m--> 868\u001b[0m         handle \u001b[38;5;241m=\u001b[39m \u001b[38;5;28;43mopen\u001b[39;49m\u001b[43m(\u001b[49m\u001b[43mhandle\u001b[49m\u001b[43m,\u001b[49m\u001b[43m \u001b[49m\u001b[43mioargs\u001b[49m\u001b[38;5;241;43m.\u001b[39;49m\u001b[43mmode\u001b[49m\u001b[43m)\u001b[49m\n\u001b[1;32m    869\u001b[0m     handles\u001b[38;5;241m.\u001b[39mappend(handle)\n\u001b[1;32m    871\u001b[0m \u001b[38;5;66;03m# Convert BytesIO or file objects passed with an encoding\u001b[39;00m\n",
      "\u001b[0;31mFileNotFoundError\u001b[0m: [Errno 2] No such file or directory: 'data/discover_2024-03-26.xlsx'"
     ]
    }
   ],
   "source": [
    "data_file = 'discover_2024-03-26.xlsx'\n",
    "file_path = 'data/' + data_file\n",
    "df = pd.read_excel(file_path, sheet_name='data')"
   ]
  },
  {
   "cell_type": "code",
   "execution_count": 9,
   "metadata": {},
   "outputs": [
    {
     "ename": "NameError",
     "evalue": "name 'df' is not defined",
     "output_type": "error",
     "traceback": [
      "\u001b[0;31m---------------------------------------------------------------------------\u001b[0m",
      "\u001b[0;31mNameError\u001b[0m                                 Traceback (most recent call last)",
      "Cell \u001b[0;32mIn[9], line 2\u001b[0m\n\u001b[1;32m      1\u001b[0m \u001b[38;5;66;03m# keep raw data for later\u001b[39;00m\n\u001b[0;32m----> 2\u001b[0m df_raw \u001b[38;5;241m=\u001b[39m \u001b[43mdf\u001b[49m\u001b[38;5;241m.\u001b[39mcopy()\n",
      "\u001b[0;31mNameError\u001b[0m: name 'df' is not defined"
     ]
    }
   ],
   "source": [
    "# keep raw data for later\n",
    "df_raw = df.copy()"
   ]
  },
  {
   "cell_type": "markdown",
   "metadata": {},
   "source": [
    "# Preprocessing of the data"
   ]
  },
  {
   "cell_type": "code",
   "execution_count": null,
   "metadata": {},
   "outputs": [],
   "source": [
    "# transform columns to lower columns\n",
    "\n",
    "columns = [col.lower() for col in df.columns]\n",
    "df.columns = columns\n",
    "\n",
    "# show results\n",
    "df.head()"
   ]
  },
  {
   "cell_type": "markdown",
   "metadata": {},
   "source": [
    "# Getting to know the data"
   ]
  },
  {
   "cell_type": "code",
   "execution_count": 111,
   "metadata": {},
   "outputs": [
    {
     "data": {
      "text/html": [
       "<div>\n",
       "<style scoped>\n",
       "    .dataframe tbody tr th:only-of-type {\n",
       "        vertical-align: middle;\n",
       "    }\n",
       "\n",
       "    .dataframe tbody tr th {\n",
       "        vertical-align: top;\n",
       "    }\n",
       "\n",
       "    .dataframe thead th {\n",
       "        text-align: right;\n",
       "    }\n",
       "</style>\n",
       "<table border=\"1\" class=\"dataframe\">\n",
       "  <thead>\n",
       "    <tr style=\"text-align: right;\">\n",
       "      <th></th>\n",
       "      <th>date</th>\n",
       "      <th>published_at</th>\n",
       "      <th>daily_likes</th>\n",
       "      <th>daily_dislikes</th>\n",
       "      <th>word_count</th>\n",
       "      <th>video_play</th>\n",
       "      <th>clickouts</th>\n",
       "      <th>discover_clicks</th>\n",
       "      <th>discover_impressions</th>\n",
       "    </tr>\n",
       "  </thead>\n",
       "  <tbody>\n",
       "    <tr>\n",
       "      <th>count</th>\n",
       "      <td>132615</td>\n",
       "      <td>42111</td>\n",
       "      <td>3.360900e+04</td>\n",
       "      <td>2.728200e+04</td>\n",
       "      <td>41624.000000</td>\n",
       "      <td>131809.000000</td>\n",
       "      <td>131809.000000</td>\n",
       "      <td>1.318090e+05</td>\n",
       "      <td>1.318090e+05</td>\n",
       "    </tr>\n",
       "    <tr>\n",
       "      <th>mean</th>\n",
       "      <td>2023-08-11 08:35:05.680353024</td>\n",
       "      <td>2023-11-03 22:30:28.595853824</td>\n",
       "      <td>3.585587e+05</td>\n",
       "      <td>2.693901e+05</td>\n",
       "      <td>665.405655</td>\n",
       "      <td>1440.483730</td>\n",
       "      <td>24.940884</td>\n",
       "      <td>2.730320e+03</td>\n",
       "      <td>3.139446e+04</td>\n",
       "    </tr>\n",
       "    <tr>\n",
       "      <th>min</th>\n",
       "      <td>2023-01-01 00:00:00</td>\n",
       "      <td>2019-02-18 00:00:00</td>\n",
       "      <td>-8.400000e+06</td>\n",
       "      <td>-5.900000e+06</td>\n",
       "      <td>100.000000</td>\n",
       "      <td>0.000000</td>\n",
       "      <td>0.000000</td>\n",
       "      <td>0.000000e+00</td>\n",
       "      <td>5.000000e+01</td>\n",
       "    </tr>\n",
       "    <tr>\n",
       "      <th>25%</th>\n",
       "      <td>2023-05-05 00:00:00</td>\n",
       "      <td>2023-09-06 00:00:00</td>\n",
       "      <td>0.000000e+00</td>\n",
       "      <td>0.000000e+00</td>\n",
       "      <td>415.000000</td>\n",
       "      <td>7.000000</td>\n",
       "      <td>0.000000</td>\n",
       "      <td>2.500000e+01</td>\n",
       "      <td>2.810000e+02</td>\n",
       "    </tr>\n",
       "    <tr>\n",
       "      <th>50%</th>\n",
       "      <td>2023-08-03 00:00:00</td>\n",
       "      <td>2023-12-13 00:00:00</td>\n",
       "      <td>0.000000e+00</td>\n",
       "      <td>0.000000e+00</td>\n",
       "      <td>528.000000</td>\n",
       "      <td>54.000000</td>\n",
       "      <td>0.000000</td>\n",
       "      <td>1.480000e+02</td>\n",
       "      <td>2.142000e+03</td>\n",
       "    </tr>\n",
       "    <tr>\n",
       "      <th>75%</th>\n",
       "      <td>2023-11-22 00:00:00</td>\n",
       "      <td>2024-01-29 00:00:00</td>\n",
       "      <td>1.000000e+05</td>\n",
       "      <td>1.000000e+05</td>\n",
       "      <td>689.000000</td>\n",
       "      <td>379.000000</td>\n",
       "      <td>3.000000</td>\n",
       "      <td>9.460000e+02</td>\n",
       "      <td>1.227600e+04</td>\n",
       "    </tr>\n",
       "    <tr>\n",
       "      <th>max</th>\n",
       "      <td>2024-03-22 00:00:00</td>\n",
       "      <td>2024-03-21 00:00:00</td>\n",
       "      <td>2.568000e+08</td>\n",
       "      <td>2.629000e+08</td>\n",
       "      <td>5306.000000</td>\n",
       "      <td>703622.000000</td>\n",
       "      <td>18356.000000</td>\n",
       "      <td>1.053606e+06</td>\n",
       "      <td>1.088435e+07</td>\n",
       "    </tr>\n",
       "    <tr>\n",
       "      <th>std</th>\n",
       "      <td>NaN</td>\n",
       "      <td>NaN</td>\n",
       "      <td>3.878383e+06</td>\n",
       "      <td>4.272602e+06</td>\n",
       "      <td>495.550724</td>\n",
       "      <td>8960.408441</td>\n",
       "      <td>188.727723</td>\n",
       "      <td>1.542447e+04</td>\n",
       "      <td>1.588114e+05</td>\n",
       "    </tr>\n",
       "  </tbody>\n",
       "</table>\n",
       "</div>"
      ],
      "text/plain": [
       "                                date                   published_at   \n",
       "count                         132615                          42111  \\\n",
       "mean   2023-08-11 08:35:05.680353024  2023-11-03 22:30:28.595853824   \n",
       "min              2023-01-01 00:00:00            2019-02-18 00:00:00   \n",
       "25%              2023-05-05 00:00:00            2023-09-06 00:00:00   \n",
       "50%              2023-08-03 00:00:00            2023-12-13 00:00:00   \n",
       "75%              2023-11-22 00:00:00            2024-01-29 00:00:00   \n",
       "max              2024-03-22 00:00:00            2024-03-21 00:00:00   \n",
       "std                              NaN                            NaN   \n",
       "\n",
       "        daily_likes  daily_dislikes    word_count     video_play   \n",
       "count  3.360900e+04    2.728200e+04  41624.000000  131809.000000  \\\n",
       "mean   3.585587e+05    2.693901e+05    665.405655    1440.483730   \n",
       "min   -8.400000e+06   -5.900000e+06    100.000000       0.000000   \n",
       "25%    0.000000e+00    0.000000e+00    415.000000       7.000000   \n",
       "50%    0.000000e+00    0.000000e+00    528.000000      54.000000   \n",
       "75%    1.000000e+05    1.000000e+05    689.000000     379.000000   \n",
       "max    2.568000e+08    2.629000e+08   5306.000000  703622.000000   \n",
       "std    3.878383e+06    4.272602e+06    495.550724    8960.408441   \n",
       "\n",
       "           clickouts  discover_clicks  discover_impressions  \n",
       "count  131809.000000     1.318090e+05          1.318090e+05  \n",
       "mean       24.940884     2.730320e+03          3.139446e+04  \n",
       "min         0.000000     0.000000e+00          5.000000e+01  \n",
       "25%         0.000000     2.500000e+01          2.810000e+02  \n",
       "50%         0.000000     1.480000e+02          2.142000e+03  \n",
       "75%         3.000000     9.460000e+02          1.227600e+04  \n",
       "max     18356.000000     1.053606e+06          1.088435e+07  \n",
       "std       188.727723     1.542447e+04          1.588114e+05  "
      ]
     },
     "execution_count": 111,
     "metadata": {},
     "output_type": "execute_result"
    }
   ],
   "source": [
    "df.describe()"
   ]
  },
  {
   "cell_type": "code",
   "execution_count": 121,
   "metadata": {},
   "outputs": [
    {
     "data": {
      "text/plain": [
       "(6891,)"
      ]
     },
     "execution_count": 121,
     "metadata": {},
     "output_type": "execute_result"
    }
   ],
   "source": [
    "df.page_efahrer_id.unique().shape"
   ]
  },
  {
   "cell_type": "markdown",
   "metadata": {},
   "source": [
    "## Getting a better understanding of the features\n",
    "\n",
    "Is the ID in PAGE_EFAHRER_ID the same as the ID in PAGE_NAME?"
   ]
  },
  {
   "cell_type": "code",
   "execution_count": 172,
   "metadata": {},
   "outputs": [
    {
     "data": {
      "text/plain": [
       "array([ True])"
      ]
     },
     "execution_count": 172,
     "metadata": {},
     "output_type": "execute_result"
    }
   ],
   "source": [
    "# Transform data type for the containment check\n",
    "df['page_efahrer_id'] = df['page_efahrer_id'].astype('string')\n",
    "df['page_name'] = df['page_name'].astype('string')\n",
    "\n",
    "# Function to check whether Page ID is part of page name\n",
    "def check_containment(row):\n",
    "    return row['page_efahrer_id'] in row['page_name']\n",
    "\n",
    "df['containment_check'] = df.apply(check_containment, axis=1)\n",
    "\n",
    "# Check whether results consist only True values\n",
    "df['containment_check'].unique()\n",
    "\n",
    "# Yes, the IDs are always the same\n",
    "\n",
    "# Drop row and transform data type back\n",
    "df.drop('containment_check', axis=1, inplace=True)\n",
    "df['page_efahrer_id'] = df['page_efahrer_id'].astype('int')"
   ]
  },
  {
   "cell_type": "markdown",
   "metadata": {},
   "source": [
    "# Missing data"
   ]
  },
  {
   "cell_type": "code",
   "execution_count": 178,
   "metadata": {},
   "outputs": [
    {
     "data": {
      "text/plain": [
       "page_efahrer_id                    0\n",
       "date                               0\n",
       "published_at                   90735\n",
       "publish_date_equal_to_date         0\n",
       "page_canonical_url                 0\n",
       "page_name                          0\n",
       "classification_product           655\n",
       "classification_type              655\n",
       "title                              0\n",
       "page_author                        0\n",
       "daily_likes                    99223\n",
       "daily_dislikes                105555\n",
       "word_count                     91207\n",
       "video_play                       776\n",
       "impressions                      776\n",
       "discover_clicks                  776\n",
       "discover_impressions             776\n",
       "dtype: int64"
      ]
     },
     "execution_count": 178,
     "metadata": {},
     "output_type": "execute_result"
    }
   ],
   "source": [
    "df.isna().sum()"
   ]
  },
  {
   "cell_type": "markdown",
   "metadata": {},
   "source": [
    "Publish date \"published_at\" can be imputed by setting publish date to first date of occurrence in the data set.\n",
    "Classification Type \"classification_type\" can be imputed by extracting it from URL.\n",
    "\n",
    "\n",
    "# TBD IMPUTING OF MISSING DATA"
   ]
  },
  {
   "cell_type": "markdown",
   "metadata": {},
   "source": [
    "# Scrape data (tittles, actual date)"
   ]
  },
  {
   "cell_type": "code",
   "execution_count": 1,
   "metadata": {},
   "outputs": [
    {
     "ename": "NameError",
     "evalue": "name 'df' is not defined",
     "output_type": "error",
     "traceback": [
      "\u001b[0;31m---------------------------------------------------------------------------\u001b[0m",
      "\u001b[0;31mNameError\u001b[0m                                 Traceback (most recent call last)",
      "Cell \u001b[0;32mIn[1], line 2\u001b[0m\n\u001b[1;32m      1\u001b[0m \u001b[38;5;66;03m# unique ids\u001b[39;00m\n\u001b[0;32m----> 2\u001b[0m scraping \u001b[38;5;241m=\u001b[39m \u001b[43mdf\u001b[49m[\u001b[38;5;124m\"\u001b[39m\u001b[38;5;124mpage_efahrer_id\u001b[39m\u001b[38;5;124m\"\u001b[39m, \u001b[38;5;124m\"\u001b[39m\u001b[38;5;124mpage_canonical_url\u001b[39m\u001b[38;5;124m\"\u001b[39m]\u001b[38;5;241m.\u001b[39mdrop_duplicates(subset \u001b[38;5;241m=\u001b[39m [\u001b[38;5;124m\"\u001b[39m\u001b[38;5;124mpage_efahrer_id\u001b[39m\u001b[38;5;124m\"\u001b[39m])\n\u001b[1;32m      3\u001b[0m scraping\n\u001b[1;32m      4\u001b[0m scraping \u001b[38;5;241m=\u001b[39m scraping\u001b[38;5;241m.\u001b[39mto_frame()\n",
      "\u001b[0;31mNameError\u001b[0m: name 'df' is not defined"
     ]
    }
   ],
   "source": [
    "# unique ids\n",
    "scraping = df[\"page_efahrer_id\", \"page_canonical_url\"].drop_duplicates(subset = [\"page_efahrer_id\"])\n",
    "scraping\n",
    "scraping = scraping.to_frame()"
   ]
  },
  {
   "cell_type": "code",
   "execution_count": null,
   "metadata": {},
   "outputs": [],
   "source": [
    "# creating the dummy columns that will be populated with the scraped data\n",
    "scraping['H1'] = 'dummy'\n",
    "scraping['last_update_date'] = 'today'\n",
    "scraping['abstract'] = 'null'\n",
    "\n",
    "scraping = scraping.set_index('page_efahrer_id')\n",
    "\n",
    "scraping\n",
    "## Do actual scraping\n",
    "\n",
    "i=0\n",
    "for row_idx in scraping.index:\n",
    "    scraping.loc[row_idx, 'H1'] = ##the header\n",
    "    scraping.loc[row_idx, 'last_update_date'] = ##the last update time element\n",
    "    scraping.loc[row_idx, 'abstract'] = ##find a clever way to extract the abstract?\n",
    "    i+=1\n",
    "    if i==10: \n",
    "        scraping.to_csv('../data/temp_scraped.csv')\n",
    "        i=0"
   ]
  },
  {
   "cell_type": "code",
   "execution_count": null,
   "metadata": {},
   "outputs": [],
   "source": []
  },
  {
   "cell_type": "code",
   "execution_count": null,
   "metadata": {},
   "outputs": [],
   "source": []
  },
  {
   "cell_type": "markdown",
   "metadata": {},
   "source": [
    "# To be sorted/ organized"
   ]
  },
  {
   "cell_type": "code",
   "execution_count": 130,
   "metadata": {},
   "outputs": [],
   "source": [
    "df_pub = df.query(\"publish_date_equal_to_date == 'Y'\")"
   ]
  },
  {
   "cell_type": "code",
   "execution_count": 131,
   "metadata": {},
   "outputs": [
    {
     "data": {
      "text/plain": [
       "<StringArray>\n",
       "['1010629',  '108566', '1010799', '1010717',  '109654',  '109702',  '105640',\n",
       " '1010317',  '107406', '1010297',\n",
       " ...\n",
       " '1018760', '1018763', '1018739', '1018749', '1018744', '1018643', '1018684',\n",
       " '1018764', '1018672', '1018511']\n",
       "Length: 6891, dtype: string"
      ]
     },
     "execution_count": 131,
     "metadata": {},
     "output_type": "execute_result"
    }
   ],
   "source": [
    "df.page_efahrer_id.unique()"
   ]
  },
  {
   "cell_type": "code",
   "execution_count": 132,
   "metadata": {},
   "outputs": [
    {
     "data": {
      "text/plain": [
       "<StringArray>\n",
       "['1010717', '1010636', '1010720', '1010781', '1010746', '1010719',  '107838',\n",
       " '1010317',  '107766', '1010865',\n",
       " ...\n",
       " '1016553', '1016560', '1016559', '1016555', '1016552', '1016350', '1016567',\n",
       " '1011711', '1016568', '1016543']\n",
       "Length: 4632, dtype: string"
      ]
     },
     "execution_count": 132,
     "metadata": {},
     "output_type": "execute_result"
    }
   ],
   "source": [
    "df_pub.page_efahrer_id.unique()"
   ]
  },
  {
   "cell_type": "code",
   "execution_count": 133,
   "metadata": {},
   "outputs": [
    {
     "name": "stdout",
     "output_type": "stream",
     "text": [
      "99006\n",
      "33609\n"
     ]
    }
   ],
   "source": [
    "print(df.daily_likes.isna().sum())\n",
    "print(df.daily_likes.notna().sum())"
   ]
  },
  {
   "cell_type": "code",
   "execution_count": 135,
   "metadata": {},
   "outputs": [
    {
     "data": {
      "text/plain": [
       "0              NaN\n",
       "1              NaN\n",
       "2              NaN\n",
       "3         800000.0\n",
       "4              NaN\n",
       "            ...   \n",
       "132597    800000.0\n",
       "132601         0.0\n",
       "132607         NaN\n",
       "132612         NaN\n",
       "132614         0.0\n",
       "Name: daily_likes, Length: 32158, dtype: float64"
      ]
     },
     "execution_count": 135,
     "metadata": {},
     "output_type": "execute_result"
    }
   ],
   "source": [
    "df.groupby(\"page_efahrer_id\").daily_likes.head()\n"
   ]
  },
  {
   "cell_type": "code",
   "execution_count": 138,
   "metadata": {},
   "outputs": [
    {
     "data": {
      "text/html": [
       "<div>\n",
       "<style scoped>\n",
       "    .dataframe tbody tr th:only-of-type {\n",
       "        vertical-align: middle;\n",
       "    }\n",
       "\n",
       "    .dataframe tbody tr th {\n",
       "        vertical-align: top;\n",
       "    }\n",
       "\n",
       "    .dataframe thead th {\n",
       "        text-align: right;\n",
       "    }\n",
       "</style>\n",
       "<table border=\"1\" class=\"dataframe\">\n",
       "  <thead>\n",
       "    <tr style=\"text-align: right;\">\n",
       "      <th></th>\n",
       "      <th>page_efahrer_id</th>\n",
       "      <th>date</th>\n",
       "      <th>published_at</th>\n",
       "      <th>publish_date_equal_to_date</th>\n",
       "      <th>page_canonical_url</th>\n",
       "      <th>page_name</th>\n",
       "      <th>classification_product</th>\n",
       "      <th>classification_type</th>\n",
       "      <th>title</th>\n",
       "      <th>page_author</th>\n",
       "      <th>daily_likes</th>\n",
       "      <th>daily_dislikes</th>\n",
       "      <th>word_count</th>\n",
       "      <th>video_play</th>\n",
       "      <th>clickouts</th>\n",
       "      <th>discover_clicks</th>\n",
       "      <th>discover_impressions</th>\n",
       "      <th>containment_check</th>\n",
       "    </tr>\n",
       "  </thead>\n",
       "  <tbody>\n",
       "    <tr>\n",
       "      <th>0</th>\n",
       "      <td>1010629</td>\n",
       "      <td>2023-01-01</td>\n",
       "      <td>NaT</td>\n",
       "      <td>N</td>\n",
       "      <td>https://efahrer.chip.de/news/unwirksame-preise...</td>\n",
       "      <td>efa-1010629 | StromerhÃ¶hungs-Brief gar nicht ...</td>\n",
       "      <td>Energie</td>\n",
       "      <td>News</td>\n",
       "      <td>Unwirksame PreiserhÃ¶hung: Wer hier Kunde ist,...</td>\n",
       "      <td>Vanessa Finkler</td>\n",
       "      <td>NaN</td>\n",
       "      <td>NaN</td>\n",
       "      <td>NaN</td>\n",
       "      <td>0.0</td>\n",
       "      <td>0.0</td>\n",
       "      <td>1385.0</td>\n",
       "      <td>12410.0</td>\n",
       "      <td>True</td>\n",
       "    </tr>\n",
       "    <tr>\n",
       "      <th>1</th>\n",
       "      <td>108566</td>\n",
       "      <td>2023-01-01</td>\n",
       "      <td>NaT</td>\n",
       "      <td>N</td>\n",
       "      <td>https://efahrer.chip.de/news/laedt-super-schne...</td>\n",
       "      <td>efa-108566 | Stromausfall mitten in Deutschlan...</td>\n",
       "      <td>Solargenerator</td>\n",
       "      <td>News</td>\n",
       "      <td>LÃ¤dt super schnell: Wir haben den Top-Solarge...</td>\n",
       "      <td>Sebastian Barsch</td>\n",
       "      <td>NaN</td>\n",
       "      <td>NaN</td>\n",
       "      <td>NaN</td>\n",
       "      <td>130.0</td>\n",
       "      <td>2.0</td>\n",
       "      <td>143.0</td>\n",
       "      <td>8083.0</td>\n",
       "      <td>True</td>\n",
       "    </tr>\n",
       "    <tr>\n",
       "      <th>2</th>\n",
       "      <td>1010799</td>\n",
       "      <td>2023-01-01</td>\n",
       "      <td>NaT</td>\n",
       "      <td>N</td>\n",
       "      <td>https://efahrer.chip.de/news/gedrosselter-stro...</td>\n",
       "      <td>efa-1010799 | 10 Stunden und lÃ¤nger - Netzage...</td>\n",
       "      <td>E-Auto</td>\n",
       "      <td>News</td>\n",
       "      <td>Gedrosselter Strom fÃ¼r E-Autos und WÃ¤rmepump...</td>\n",
       "      <td>FOCUS Online</td>\n",
       "      <td>NaN</td>\n",
       "      <td>NaN</td>\n",
       "      <td>NaN</td>\n",
       "      <td>491.0</td>\n",
       "      <td>2.0</td>\n",
       "      <td>803.0</td>\n",
       "      <td>13542.0</td>\n",
       "      <td>True</td>\n",
       "    </tr>\n",
       "    <tr>\n",
       "      <th>3</th>\n",
       "      <td>1010717</td>\n",
       "      <td>2023-01-01</td>\n",
       "      <td>2023-01-01</td>\n",
       "      <td>Y</td>\n",
       "      <td>https://efahrer.chip.de/news/heizung-faellt-im...</td>\n",
       "      <td>efa-1010717 | Dacia Spring hat massives Heizpr...</td>\n",
       "      <td>E-Auto</td>\n",
       "      <td>News</td>\n",
       "      <td>Heizung fÃ¤llt im Dacia Spring aus: Wie Fahrer...</td>\n",
       "      <td>Tobias Stahl</td>\n",
       "      <td>800000.0</td>\n",
       "      <td>200000.0</td>\n",
       "      <td>914.0</td>\n",
       "      <td>140.0</td>\n",
       "      <td>1.0</td>\n",
       "      <td>266.0</td>\n",
       "      <td>18289.0</td>\n",
       "      <td>True</td>\n",
       "    </tr>\n",
       "    <tr>\n",
       "      <th>4</th>\n",
       "      <td>109654</td>\n",
       "      <td>2023-01-01</td>\n",
       "      <td>NaT</td>\n",
       "      <td>N</td>\n",
       "      <td>https://efahrer.chip.de/news/bis-zu-12-stunden...</td>\n",
       "      <td>efa-109654 | 12 Stunden Strom-Ausfall pro Tag:...</td>\n",
       "      <td>Energie</td>\n",
       "      <td>News</td>\n",
       "      <td>Ð”Ð¾ 12 Ñ‡Ð°ÑÐ¾Ð² Ð±ÐµÐ· ÑÐ»ÐµÐºÑ‚Ñ€Ð¸Ñ‡ÐµÑ...</td>\n",
       "      <td>Aslan Berse</td>\n",
       "      <td>NaN</td>\n",
       "      <td>NaN</td>\n",
       "      <td>NaN</td>\n",
       "      <td>133.0</td>\n",
       "      <td>0.0</td>\n",
       "      <td>312.0</td>\n",
       "      <td>6018.0</td>\n",
       "      <td>True</td>\n",
       "    </tr>\n",
       "  </tbody>\n",
       "</table>\n",
       "</div>"
      ],
      "text/plain": [
       "  page_efahrer_id       date published_at publish_date_equal_to_date   \n",
       "0         1010629 2023-01-01          NaT                          N  \\\n",
       "1          108566 2023-01-01          NaT                          N   \n",
       "2         1010799 2023-01-01          NaT                          N   \n",
       "3         1010717 2023-01-01   2023-01-01                          Y   \n",
       "4          109654 2023-01-01          NaT                          N   \n",
       "\n",
       "                                  page_canonical_url   \n",
       "0  https://efahrer.chip.de/news/unwirksame-preise...  \\\n",
       "1  https://efahrer.chip.de/news/laedt-super-schne...   \n",
       "2  https://efahrer.chip.de/news/gedrosselter-stro...   \n",
       "3  https://efahrer.chip.de/news/heizung-faellt-im...   \n",
       "4  https://efahrer.chip.de/news/bis-zu-12-stunden...   \n",
       "\n",
       "                                           page_name classification_product   \n",
       "0  efa-1010629 | StromerhÃ¶hungs-Brief gar nicht ...                Energie  \\\n",
       "1  efa-108566 | Stromausfall mitten in Deutschlan...         Solargenerator   \n",
       "2  efa-1010799 | 10 Stunden und lÃ¤nger - Netzage...                 E-Auto   \n",
       "3  efa-1010717 | Dacia Spring hat massives Heizpr...                 E-Auto   \n",
       "4  efa-109654 | 12 Stunden Strom-Ausfall pro Tag:...                Energie   \n",
       "\n",
       "  classification_type                                              title   \n",
       "0                News  Unwirksame PreiserhÃ¶hung: Wer hier Kunde ist,...  \\\n",
       "1                News  LÃ¤dt super schnell: Wir haben den Top-Solarge...   \n",
       "2                News  Gedrosselter Strom fÃ¼r E-Autos und WÃ¤rmepump...   \n",
       "3                News  Heizung fÃ¤llt im Dacia Spring aus: Wie Fahrer...   \n",
       "4                News  Ð”Ð¾ 12 Ñ‡Ð°ÑÐ¾Ð² Ð±ÐµÐ· ÑÐ»ÐµÐºÑ‚Ñ€Ð¸Ñ‡ÐµÑ...   \n",
       "\n",
       "        page_author  daily_likes  daily_dislikes  word_count  video_play   \n",
       "0   Vanessa Finkler          NaN             NaN         NaN         0.0  \\\n",
       "1  Sebastian Barsch          NaN             NaN         NaN       130.0   \n",
       "2      FOCUS Online          NaN             NaN         NaN       491.0   \n",
       "3      Tobias Stahl     800000.0        200000.0       914.0       140.0   \n",
       "4       Aslan Berse          NaN             NaN         NaN       133.0   \n",
       "\n",
       "   clickouts  discover_clicks  discover_impressions  containment_check  \n",
       "0        0.0           1385.0               12410.0               True  \n",
       "1        2.0            143.0                8083.0               True  \n",
       "2        2.0            803.0               13542.0               True  \n",
       "3        1.0            266.0               18289.0               True  \n",
       "4        0.0            312.0                6018.0               True  "
      ]
     },
     "execution_count": 138,
     "metadata": {},
     "output_type": "execute_result"
    }
   ],
   "source": [
    "df.head()"
   ]
  },
  {
   "cell_type": "code",
   "execution_count": 142,
   "metadata": {},
   "outputs": [],
   "source": [
    "import matplotlib as plt\n",
    "import seaborn as sns"
   ]
  },
  {
   "cell_type": "code",
   "execution_count": 149,
   "metadata": {},
   "outputs": [
    {
     "ename": "AttributeError",
     "evalue": "'Series' object has no attribute 'daily_likes'",
     "output_type": "error",
     "traceback": [
      "\u001b[0;31m---------------------------------------------------------------------------\u001b[0m",
      "\u001b[0;31mAttributeError\u001b[0m                            Traceback (most recent call last)",
      "\u001b[0;32m/var/folders/5s/w7hst37d0tv0r4hby2_mqqp00000gn/T/ipykernel_9364/3244718244.py\u001b[0m in \u001b[0;36m?\u001b[0;34m()\u001b[0m\n\u001b[0;32m----> 1\u001b[0;31m \u001b[0mdaily_likes\u001b[0m \u001b[0;34m=\u001b[0m \u001b[0mdf\u001b[0m\u001b[0;34m.\u001b[0m\u001b[0mdaily_likes\u001b[0m\u001b[0;34m.\u001b[0m\u001b[0mnotna\u001b[0m\u001b[0;34m(\u001b[0m\u001b[0;34m)\u001b[0m\u001b[0;34m.\u001b[0m\u001b[0mdaily_likes\u001b[0m\u001b[0;34m\u001b[0m\u001b[0;34m\u001b[0m\u001b[0m\n\u001b[0m\u001b[1;32m      2\u001b[0m \u001b[0mdaily_likes\u001b[0m\u001b[0;34m\u001b[0m\u001b[0;34m\u001b[0m\u001b[0m\n\u001b[1;32m      3\u001b[0m \u001b[0;31m#sns.histplot(df.daily_likes.unique())\u001b[0m\u001b[0;34m\u001b[0m\u001b[0;34m\u001b[0m\u001b[0m\n",
      "\u001b[0;32m~/Desktop/neuefische/d-drivers/.venv/lib/python3.11/site-packages/pandas/core/generic.py\u001b[0m in \u001b[0;36m?\u001b[0;34m(self, name)\u001b[0m\n\u001b[1;32m   5985\u001b[0m             \u001b[0;32mand\u001b[0m \u001b[0mname\u001b[0m \u001b[0;32mnot\u001b[0m \u001b[0;32min\u001b[0m \u001b[0mself\u001b[0m\u001b[0;34m.\u001b[0m\u001b[0m_accessors\u001b[0m\u001b[0;34m\u001b[0m\u001b[0;34m\u001b[0m\u001b[0m\n\u001b[1;32m   5986\u001b[0m             \u001b[0;32mand\u001b[0m \u001b[0mself\u001b[0m\u001b[0;34m.\u001b[0m\u001b[0m_info_axis\u001b[0m\u001b[0;34m.\u001b[0m\u001b[0m_can_hold_identifiers_and_holds_name\u001b[0m\u001b[0;34m(\u001b[0m\u001b[0mname\u001b[0m\u001b[0;34m)\u001b[0m\u001b[0;34m\u001b[0m\u001b[0;34m\u001b[0m\u001b[0m\n\u001b[1;32m   5987\u001b[0m         ):\n\u001b[1;32m   5988\u001b[0m             \u001b[0;32mreturn\u001b[0m \u001b[0mself\u001b[0m\u001b[0;34m[\u001b[0m\u001b[0mname\u001b[0m\u001b[0;34m]\u001b[0m\u001b[0;34m\u001b[0m\u001b[0;34m\u001b[0m\u001b[0m\n\u001b[0;32m-> 5989\u001b[0;31m         \u001b[0;32mreturn\u001b[0m \u001b[0mobject\u001b[0m\u001b[0;34m.\u001b[0m\u001b[0m__getattribute__\u001b[0m\u001b[0;34m(\u001b[0m\u001b[0mself\u001b[0m\u001b[0;34m,\u001b[0m \u001b[0mname\u001b[0m\u001b[0;34m)\u001b[0m\u001b[0;34m\u001b[0m\u001b[0;34m\u001b[0m\u001b[0m\n\u001b[0m",
      "\u001b[0;31mAttributeError\u001b[0m: 'Series' object has no attribute 'daily_likes'"
     ]
    }
   ],
   "source": [
    "daily_likes = df.daily_likes.\n",
    "daily_likes\n",
    "#sns.histplot(df.daily_likes.unique())"
   ]
  },
  {
   "cell_type": "code",
   "execution_count": 158,
   "metadata": {},
   "outputs": [
    {
     "data": {
      "text/plain": [
       "-8400000.0"
      ]
     },
     "execution_count": 158,
     "metadata": {},
     "output_type": "execute_result"
    }
   ],
   "source": [
    "non_null_likes = df['daily_likes'].dropna()\n",
    "non_null_likes.unique().min()\n",
    "#sns.histplot(non_null_likes)"
   ]
  },
  {
   "cell_type": "code",
   "execution_count": 140,
   "metadata": {},
   "outputs": [
    {
     "data": {
      "text/plain": [
       "(6891,)"
      ]
     },
     "execution_count": 140,
     "metadata": {},
     "output_type": "execute_result"
    }
   ],
   "source": [
    "df.page_efahrer_id.unique().shape"
   ]
  },
  {
   "cell_type": "code",
   "execution_count": null,
   "metadata": {},
   "outputs": [],
   "source": [
    "df.drop_duplicates(\"page_efahrer_id\", \"date\", \"DISCOVER_IMPRESSIONS\")"
   ]
  },
  {
   "cell_type": "code",
   "execution_count": 101,
   "metadata": {},
   "outputs": [
    {
     "data": {
      "text/html": [
       "<div>\n",
       "<style scoped>\n",
       "    .dataframe tbody tr th:only-of-type {\n",
       "        vertical-align: middle;\n",
       "    }\n",
       "\n",
       "    .dataframe tbody tr th {\n",
       "        vertical-align: top;\n",
       "    }\n",
       "\n",
       "    .dataframe thead th {\n",
       "        text-align: right;\n",
       "    }\n",
       "</style>\n",
       "<table border=\"1\" class=\"dataframe\">\n",
       "  <thead>\n",
       "    <tr style=\"text-align: right;\">\n",
       "      <th></th>\n",
       "      <th>DATE</th>\n",
       "      <th>PUBLISHED_AT</th>\n",
       "      <th>PUBLISH_DATE_EQUAL_TO_DATE</th>\n",
       "      <th>PAGE_CANONICAL_URL</th>\n",
       "      <th>PAGE_NAME</th>\n",
       "      <th>CLASSIFICATION_PRODUCT</th>\n",
       "      <th>CLASSIFICATION_TYPE</th>\n",
       "      <th>TITLE</th>\n",
       "      <th>PAGE_AUTHOR</th>\n",
       "      <th>DAILY_LIKES</th>\n",
       "      <th>DAILY_DISLIKES</th>\n",
       "      <th>WORD_COUNT</th>\n",
       "      <th>VIDEO_PLAY</th>\n",
       "      <th>CLICKOUTS</th>\n",
       "      <th>DISCOVER_CLICKS</th>\n",
       "      <th>DISCOVER_IMPRESSIONS</th>\n",
       "      <th>containment_check</th>\n",
       "    </tr>\n",
       "    <tr>\n",
       "      <th>PAGE_EFAHRER_ID</th>\n",
       "      <th></th>\n",
       "      <th></th>\n",
       "      <th></th>\n",
       "      <th></th>\n",
       "      <th></th>\n",
       "      <th></th>\n",
       "      <th></th>\n",
       "      <th></th>\n",
       "      <th></th>\n",
       "      <th></th>\n",
       "      <th></th>\n",
       "      <th></th>\n",
       "      <th></th>\n",
       "      <th></th>\n",
       "      <th></th>\n",
       "      <th></th>\n",
       "      <th></th>\n",
       "    </tr>\n",
       "  </thead>\n",
       "  <tbody>\n",
       "    <tr>\n",
       "      <th>1010012</th>\n",
       "      <td>8</td>\n",
       "      <td>0</td>\n",
       "      <td>8</td>\n",
       "      <td>8</td>\n",
       "      <td>8</td>\n",
       "      <td>8</td>\n",
       "      <td>8</td>\n",
       "      <td>8</td>\n",
       "      <td>8</td>\n",
       "      <td>0</td>\n",
       "      <td>0</td>\n",
       "      <td>0</td>\n",
       "      <td>8</td>\n",
       "      <td>8</td>\n",
       "      <td>8</td>\n",
       "      <td>8</td>\n",
       "      <td>8</td>\n",
       "    </tr>\n",
       "    <tr>\n",
       "      <th>1010022</th>\n",
       "      <td>20</td>\n",
       "      <td>4</td>\n",
       "      <td>20</td>\n",
       "      <td>20</td>\n",
       "      <td>20</td>\n",
       "      <td>20</td>\n",
       "      <td>20</td>\n",
       "      <td>20</td>\n",
       "      <td>20</td>\n",
       "      <td>4</td>\n",
       "      <td>4</td>\n",
       "      <td>4</td>\n",
       "      <td>20</td>\n",
       "      <td>20</td>\n",
       "      <td>20</td>\n",
       "      <td>20</td>\n",
       "      <td>20</td>\n",
       "    </tr>\n",
       "    <tr>\n",
       "      <th>1010045</th>\n",
       "      <td>85</td>\n",
       "      <td>23</td>\n",
       "      <td>85</td>\n",
       "      <td>85</td>\n",
       "      <td>85</td>\n",
       "      <td>85</td>\n",
       "      <td>85</td>\n",
       "      <td>85</td>\n",
       "      <td>85</td>\n",
       "      <td>23</td>\n",
       "      <td>23</td>\n",
       "      <td>23</td>\n",
       "      <td>85</td>\n",
       "      <td>85</td>\n",
       "      <td>85</td>\n",
       "      <td>85</td>\n",
       "      <td>85</td>\n",
       "    </tr>\n",
       "    <tr>\n",
       "      <th>1010048</th>\n",
       "      <td>156</td>\n",
       "      <td>62</td>\n",
       "      <td>156</td>\n",
       "      <td>156</td>\n",
       "      <td>156</td>\n",
       "      <td>156</td>\n",
       "      <td>156</td>\n",
       "      <td>156</td>\n",
       "      <td>156</td>\n",
       "      <td>62</td>\n",
       "      <td>62</td>\n",
       "      <td>62</td>\n",
       "      <td>156</td>\n",
       "      <td>156</td>\n",
       "      <td>156</td>\n",
       "      <td>156</td>\n",
       "      <td>156</td>\n",
       "    </tr>\n",
       "    <tr>\n",
       "      <th>1010057</th>\n",
       "      <td>1</td>\n",
       "      <td>0</td>\n",
       "      <td>1</td>\n",
       "      <td>1</td>\n",
       "      <td>1</td>\n",
       "      <td>1</td>\n",
       "      <td>1</td>\n",
       "      <td>1</td>\n",
       "      <td>1</td>\n",
       "      <td>0</td>\n",
       "      <td>0</td>\n",
       "      <td>0</td>\n",
       "      <td>1</td>\n",
       "      <td>1</td>\n",
       "      <td>1</td>\n",
       "      <td>1</td>\n",
       "      <td>1</td>\n",
       "    </tr>\n",
       "    <tr>\n",
       "      <th>...</th>\n",
       "      <td>...</td>\n",
       "      <td>...</td>\n",
       "      <td>...</td>\n",
       "      <td>...</td>\n",
       "      <td>...</td>\n",
       "      <td>...</td>\n",
       "      <td>...</td>\n",
       "      <td>...</td>\n",
       "      <td>...</td>\n",
       "      <td>...</td>\n",
       "      <td>...</td>\n",
       "      <td>...</td>\n",
       "      <td>...</td>\n",
       "      <td>...</td>\n",
       "      <td>...</td>\n",
       "      <td>...</td>\n",
       "      <td>...</td>\n",
       "    </tr>\n",
       "    <tr>\n",
       "      <th>109925</th>\n",
       "      <td>34</td>\n",
       "      <td>3</td>\n",
       "      <td>34</td>\n",
       "      <td>34</td>\n",
       "      <td>34</td>\n",
       "      <td>34</td>\n",
       "      <td>34</td>\n",
       "      <td>34</td>\n",
       "      <td>34</td>\n",
       "      <td>2</td>\n",
       "      <td>0</td>\n",
       "      <td>3</td>\n",
       "      <td>34</td>\n",
       "      <td>34</td>\n",
       "      <td>34</td>\n",
       "      <td>34</td>\n",
       "      <td>34</td>\n",
       "    </tr>\n",
       "    <tr>\n",
       "      <th>109934</th>\n",
       "      <td>102</td>\n",
       "      <td>11</td>\n",
       "      <td>102</td>\n",
       "      <td>102</td>\n",
       "      <td>102</td>\n",
       "      <td>102</td>\n",
       "      <td>102</td>\n",
       "      <td>102</td>\n",
       "      <td>102</td>\n",
       "      <td>11</td>\n",
       "      <td>11</td>\n",
       "      <td>11</td>\n",
       "      <td>102</td>\n",
       "      <td>102</td>\n",
       "      <td>102</td>\n",
       "      <td>102</td>\n",
       "      <td>102</td>\n",
       "    </tr>\n",
       "    <tr>\n",
       "      <th>109968</th>\n",
       "      <td>55</td>\n",
       "      <td>17</td>\n",
       "      <td>55</td>\n",
       "      <td>55</td>\n",
       "      <td>55</td>\n",
       "      <td>55</td>\n",
       "      <td>55</td>\n",
       "      <td>55</td>\n",
       "      <td>55</td>\n",
       "      <td>17</td>\n",
       "      <td>17</td>\n",
       "      <td>17</td>\n",
       "      <td>55</td>\n",
       "      <td>55</td>\n",
       "      <td>55</td>\n",
       "      <td>55</td>\n",
       "      <td>55</td>\n",
       "    </tr>\n",
       "    <tr>\n",
       "      <th>109971</th>\n",
       "      <td>121</td>\n",
       "      <td>0</td>\n",
       "      <td>121</td>\n",
       "      <td>121</td>\n",
       "      <td>121</td>\n",
       "      <td>121</td>\n",
       "      <td>121</td>\n",
       "      <td>121</td>\n",
       "      <td>121</td>\n",
       "      <td>0</td>\n",
       "      <td>0</td>\n",
       "      <td>0</td>\n",
       "      <td>121</td>\n",
       "      <td>121</td>\n",
       "      <td>121</td>\n",
       "      <td>121</td>\n",
       "      <td>121</td>\n",
       "    </tr>\n",
       "    <tr>\n",
       "      <th>109978</th>\n",
       "      <td>8</td>\n",
       "      <td>2</td>\n",
       "      <td>8</td>\n",
       "      <td>8</td>\n",
       "      <td>8</td>\n",
       "      <td>8</td>\n",
       "      <td>8</td>\n",
       "      <td>8</td>\n",
       "      <td>8</td>\n",
       "      <td>2</td>\n",
       "      <td>2</td>\n",
       "      <td>2</td>\n",
       "      <td>8</td>\n",
       "      <td>8</td>\n",
       "      <td>8</td>\n",
       "      <td>8</td>\n",
       "      <td>8</td>\n",
       "    </tr>\n",
       "  </tbody>\n",
       "</table>\n",
       "<p>6891 rows × 17 columns</p>\n",
       "</div>"
      ],
      "text/plain": [
       "                 DATE  PUBLISHED_AT  PUBLISH_DATE_EQUAL_TO_DATE   \n",
       "PAGE_EFAHRER_ID                                                   \n",
       "1010012             8             0                           8  \\\n",
       "1010022            20             4                          20   \n",
       "1010045            85            23                          85   \n",
       "1010048           156            62                         156   \n",
       "1010057             1             0                           1   \n",
       "...               ...           ...                         ...   \n",
       "109925             34             3                          34   \n",
       "109934            102            11                         102   \n",
       "109968             55            17                          55   \n",
       "109971            121             0                         121   \n",
       "109978              8             2                           8   \n",
       "\n",
       "                 PAGE_CANONICAL_URL  PAGE_NAME  CLASSIFICATION_PRODUCT   \n",
       "PAGE_EFAHRER_ID                                                          \n",
       "1010012                           8          8                       8  \\\n",
       "1010022                          20         20                      20   \n",
       "1010045                          85         85                      85   \n",
       "1010048                         156        156                     156   \n",
       "1010057                           1          1                       1   \n",
       "...                             ...        ...                     ...   \n",
       "109925                           34         34                      34   \n",
       "109934                          102        102                     102   \n",
       "109968                           55         55                      55   \n",
       "109971                          121        121                     121   \n",
       "109978                            8          8                       8   \n",
       "\n",
       "                 CLASSIFICATION_TYPE  TITLE  PAGE_AUTHOR  DAILY_LIKES   \n",
       "PAGE_EFAHRER_ID                                                         \n",
       "1010012                            8      8            8            0  \\\n",
       "1010022                           20     20           20            4   \n",
       "1010045                           85     85           85           23   \n",
       "1010048                          156    156          156           62   \n",
       "1010057                            1      1            1            0   \n",
       "...                              ...    ...          ...          ...   \n",
       "109925                            34     34           34            2   \n",
       "109934                           102    102          102           11   \n",
       "109968                            55     55           55           17   \n",
       "109971                           121    121          121            0   \n",
       "109978                             8      8            8            2   \n",
       "\n",
       "                 DAILY_DISLIKES  WORD_COUNT  VIDEO_PLAY  CLICKOUTS   \n",
       "PAGE_EFAHRER_ID                                                      \n",
       "1010012                       0           0           8          8  \\\n",
       "1010022                       4           4          20         20   \n",
       "1010045                      23          23          85         85   \n",
       "1010048                      62          62         156        156   \n",
       "1010057                       0           0           1          1   \n",
       "...                         ...         ...         ...        ...   \n",
       "109925                        0           3          34         34   \n",
       "109934                       11          11         102        102   \n",
       "109968                       17          17          55         55   \n",
       "109971                        0           0         121        121   \n",
       "109978                        2           2           8          8   \n",
       "\n",
       "                 DISCOVER_CLICKS  DISCOVER_IMPRESSIONS  containment_check  \n",
       "PAGE_EFAHRER_ID                                                            \n",
       "1010012                        8                     8                  8  \n",
       "1010022                       20                    20                 20  \n",
       "1010045                       85                    85                 85  \n",
       "1010048                      156                   156                156  \n",
       "1010057                        1                     1                  1  \n",
       "...                          ...                   ...                ...  \n",
       "109925                        34                    34                 34  \n",
       "109934                       102                   102                102  \n",
       "109968                        55                    55                 55  \n",
       "109971                       121                   121                121  \n",
       "109978                         8                     8                  8  \n",
       "\n",
       "[6891 rows x 17 columns]"
      ]
     },
     "execution_count": 101,
     "metadata": {},
     "output_type": "execute_result"
    }
   ],
   "source": [
    "df.groupby(\"page_efahrer_id\").count()"
   ]
  },
  {
   "cell_type": "code",
   "execution_count": 108,
   "metadata": {},
   "outputs": [
    {
     "data": {
      "text/plain": [
       "PAGE_EFAHRER_ID    1\n",
       "dtype: int64"
      ]
     },
     "execution_count": 108,
     "metadata": {},
     "output_type": "execute_result"
    }
   ],
   "source": [
    "df[[\"PAGE_EFAHRER_ID\", \"PAGE_NAME\"]].drop_duplicates().groupby(\"PAGE_NAME\").count().max()"
   ]
  }
 ],
 "metadata": {
  "kernelspec": {
   "display_name": ".venv",
   "language": "python",
   "name": "python3"
  },
  "language_info": {
   "codemirror_mode": {
    "name": "ipython",
    "version": 3
   },
   "file_extension": ".py",
   "mimetype": "text/x-python",
   "name": "python",
   "nbconvert_exporter": "python",
   "pygments_lexer": "ipython3",
   "version": "3.11.3"
  }
 },
 "nbformat": 4,
 "nbformat_minor": 2
}
