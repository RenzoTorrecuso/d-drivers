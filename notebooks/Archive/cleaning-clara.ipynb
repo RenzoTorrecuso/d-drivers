{
 "cells": [
  {
   "cell_type": "code",
   "execution_count": 1,
   "metadata": {},
   "outputs": [],
   "source": [
    "import pandas as pd"
   ]
  },
  {
   "cell_type": "code",
   "execution_count": 2,
   "metadata": {},
   "outputs": [],
   "source": [
    "df_full = pd.read_csv('../data/full_data.csv')\n",
    "df_scraped = pd.read_csv('../data/scraping_no_duplicates.csv')"
   ]
  },
  {
   "cell_type": "markdown",
   "metadata": {},
   "source": [
    "Preprocessing of scraped dataframe, similar to df_full"
   ]
  },
  {
   "cell_type": "code",
   "execution_count": 3,
   "metadata": {},
   "outputs": [
    {
     "name": "stdout",
     "output_type": "stream",
     "text": [
      "<class 'pandas.core.frame.DataFrame'>\n",
      "RangeIndex: 6899 entries, 0 to 6898\n",
      "Data columns (total 8 columns):\n",
      " #   Column          Non-Null Count  Dtype \n",
      "---  ------          --------------  ----- \n",
      " 0   page_id         6899 non-null   int64 \n",
      " 1   url             6899 non-null   object\n",
      " 2   h1              6899 non-null   object\n",
      " 3   abstract        6899 non-null   object\n",
      " 4   author_scraped  6899 non-null   object\n",
      " 5   words           6899 non-null   int64 \n",
      " 6   last_update     6899 non-null   object\n",
      " 7   image_url       6899 non-null   object\n",
      "dtypes: int64(2), object(6)\n",
      "memory usage: 431.3+ KB\n"
     ]
    }
   ],
   "source": [
    "df_scraped.columns = [col.lower() for col in df_scraped.columns]\n",
    "\n",
    "df_scraped.rename({\n",
    "           #'impressions': 'page_impressions',\n",
    "           'page_efahrer_id': 'page_id',\n",
    "           'page_canonical_url': 'url',\n",
    "           'author': 'author_scraped',\n",
    "           'current_title': 'h1'\n",
    "            }, axis=1, inplace=True)\n",
    "\n",
    "df_scraped.info()"
   ]
  },
  {
   "cell_type": "markdown",
   "metadata": {},
   "source": [
    "Checking whether the same ids & urls are in both dataframes"
   ]
  },
  {
   "cell_type": "code",
   "execution_count": 4,
   "metadata": {},
   "outputs": [
    {
     "name": "stdout",
     "output_type": "stream",
     "text": [
      "Page IDs\n",
      "Number of IDs that no data was scraped for: 0\n",
      " \n",
      "Page URLs\n",
      "Number URLs that no data was scraped for: 5530\n",
      "Number of URLs in complete dataset: 12429\n",
      "Number of URLs in scraped dataset: 6899\n"
     ]
    }
   ],
   "source": [
    "print('Page IDs')\n",
    "# Convert Series to sets\n",
    "page_ids_full = set(df_full['page_id'])\n",
    "page_ids_scraped = set(df_scraped['page_id'])\n",
    "\n",
    "# Find the difference between the sets\n",
    "page_ids_difference = page_ids_full.difference(page_ids_scraped)\n",
    "print('Number of IDs that no data was scraped for:', len(page_ids_difference))\n",
    "print(' ')\n",
    "\n",
    "print('Page URLs')\n",
    "# Convert Series to sets\n",
    "page_url_full = set(df_full['url'])\n",
    "page_url_scraped = set(df_scraped['url'])\n",
    "\n",
    "# Find the difference between the sets\n",
    "page_url_difference = page_url_full.difference(page_url_scraped)\n",
    "\n",
    "print('Number URLs that no data was scraped for:',len(page_url_difference))\n",
    "print('Number of URLs in complete dataset:', len(df_full.url.unique()))\n",
    "print('Number of URLs in scraped dataset:', len(df_scraped['url'].unique()))"
   ]
  },
  {
   "cell_type": "markdown",
   "metadata": {},
   "source": [
    "<span style=\"color:red\">For each ID we have the scraped data but not for every URL. Assumption that the page content is the same for each page ID"
   ]
  },
  {
   "cell_type": "markdown",
   "metadata": {},
   "source": [
    "Next we can merge the dataframe with the scraped content with our full dataset with the performance data. "
   ]
  },
  {
   "cell_type": "code",
   "execution_count": 5,
   "metadata": {},
   "outputs": [
    {
     "data": {
      "text/html": [
       "<div>\n",
       "<style scoped>\n",
       "    .dataframe tbody tr th:only-of-type {\n",
       "        vertical-align: middle;\n",
       "    }\n",
       "\n",
       "    .dataframe tbody tr th {\n",
       "        vertical-align: top;\n",
       "    }\n",
       "\n",
       "    .dataframe thead th {\n",
       "        text-align: right;\n",
       "    }\n",
       "</style>\n",
       "<table border=\"1\" class=\"dataframe\">\n",
       "  <thead>\n",
       "    <tr style=\"text-align: right;\">\n",
       "      <th></th>\n",
       "      <th>old_index</th>\n",
       "      <th>page_id</th>\n",
       "      <th>date</th>\n",
       "      <th>publish_date</th>\n",
       "      <th>word_count</th>\n",
       "      <th>url</th>\n",
       "      <th>page_name</th>\n",
       "      <th>classification_product</th>\n",
       "      <th>classification_type</th>\n",
       "      <th>title</th>\n",
       "      <th>...</th>\n",
       "      <th>page_impressions</th>\n",
       "      <th>clickouts</th>\n",
       "      <th>external_clicks</th>\n",
       "      <th>external_impressions</th>\n",
       "      <th>h1</th>\n",
       "      <th>abstract</th>\n",
       "      <th>author_scraped</th>\n",
       "      <th>words</th>\n",
       "      <th>last_update</th>\n",
       "      <th>image_url</th>\n",
       "    </tr>\n",
       "  </thead>\n",
       "  <tbody>\n",
       "    <tr>\n",
       "      <th>0</th>\n",
       "      <td>65055</td>\n",
       "      <td>1037</td>\n",
       "      <td>2024-03-13</td>\n",
       "      <td>2024-03-10</td>\n",
       "      <td>827.0</td>\n",
       "      <td>https://efahrer.chip.de/e-wissen/aufladen_1037</td>\n",
       "      <td>efa-1037 | Ladestationen für Elektroautos</td>\n",
       "      <td>E-Auto</td>\n",
       "      <td>Ratgeber</td>\n",
       "      <td>Ladestationen für Elektroautos</td>\n",
       "      <td>...</td>\n",
       "      <td>15.0</td>\n",
       "      <td>0.0</td>\n",
       "      <td>22.0</td>\n",
       "      <td>343.0</td>\n",
       "      <td>NaN</td>\n",
       "      <td>NaN</td>\n",
       "      <td>NaN</td>\n",
       "      <td>NaN</td>\n",
       "      <td>NaN</td>\n",
       "      <td>NaN</td>\n",
       "    </tr>\n",
       "    <tr>\n",
       "      <th>1</th>\n",
       "      <td>34072</td>\n",
       "      <td>1037</td>\n",
       "      <td>2024-03-13</td>\n",
       "      <td>2024-03-10</td>\n",
       "      <td>827.0</td>\n",
       "      <td>https://efahrer.chip.de/e-wissen/elektrofahrze...</td>\n",
       "      <td>efa-1037 | Ladestationen für Elektroautos</td>\n",
       "      <td>E-Auto</td>\n",
       "      <td>Ratgeber</td>\n",
       "      <td>Ladestationen für Elektroautos</td>\n",
       "      <td>...</td>\n",
       "      <td>41.0</td>\n",
       "      <td>0.0</td>\n",
       "      <td>22.0</td>\n",
       "      <td>343.0</td>\n",
       "      <td>Elektrofahrzeug-Ladestation: Kosten und Anbiet...</td>\n",
       "      <td>Im Grunde kann man sein E-Auto überall laden, ...</td>\n",
       "      <td>Eva Goldschald</td>\n",
       "      <td>1544.0</td>\n",
       "      <td>2024-03-10</td>\n",
       "      <td>https://im-efahrer.chip.de/files/5ffed1cb4c3dc...</td>\n",
       "    </tr>\n",
       "    <tr>\n",
       "      <th>2</th>\n",
       "      <td>736</td>\n",
       "      <td>1037</td>\n",
       "      <td>2024-03-14</td>\n",
       "      <td>2024-03-10</td>\n",
       "      <td>827.0</td>\n",
       "      <td>https://efahrer.chip.de/e-wissen/elektrofahrze...</td>\n",
       "      <td>efa-1037 | Ladestationen für Elektroautos</td>\n",
       "      <td>E-Auto</td>\n",
       "      <td>Ratgeber</td>\n",
       "      <td>Ladestationen für Elektroautos</td>\n",
       "      <td>...</td>\n",
       "      <td>113.0</td>\n",
       "      <td>1.0</td>\n",
       "      <td>79.0</td>\n",
       "      <td>1494.0</td>\n",
       "      <td>Elektrofahrzeug-Ladestation: Kosten und Anbiet...</td>\n",
       "      <td>Im Grunde kann man sein E-Auto überall laden, ...</td>\n",
       "      <td>Eva Goldschald</td>\n",
       "      <td>1544.0</td>\n",
       "      <td>2024-03-10</td>\n",
       "      <td>https://im-efahrer.chip.de/files/5ffed1cb4c3dc...</td>\n",
       "    </tr>\n",
       "    <tr>\n",
       "      <th>3</th>\n",
       "      <td>114772</td>\n",
       "      <td>1037</td>\n",
       "      <td>2024-03-15</td>\n",
       "      <td>2024-03-10</td>\n",
       "      <td>827.0</td>\n",
       "      <td>https://efahrer.chip.de/e-wissen/elektrofahrze...</td>\n",
       "      <td>efa-1037 | Ladestationen für Elektroautos</td>\n",
       "      <td>E-Auto</td>\n",
       "      <td>Ratgeber</td>\n",
       "      <td>Ladestationen für Elektroautos</td>\n",
       "      <td>...</td>\n",
       "      <td>53.0</td>\n",
       "      <td>1.0</td>\n",
       "      <td>16.0</td>\n",
       "      <td>431.0</td>\n",
       "      <td>Elektrofahrzeug-Ladestation: Kosten und Anbiet...</td>\n",
       "      <td>Im Grunde kann man sein E-Auto überall laden, ...</td>\n",
       "      <td>Eva Goldschald</td>\n",
       "      <td>1544.0</td>\n",
       "      <td>2024-03-10</td>\n",
       "      <td>https://im-efahrer.chip.de/files/5ffed1cb4c3dc...</td>\n",
       "    </tr>\n",
       "    <tr>\n",
       "      <th>4</th>\n",
       "      <td>19316</td>\n",
       "      <td>1037</td>\n",
       "      <td>2024-03-16</td>\n",
       "      <td>2024-03-10</td>\n",
       "      <td>827.0</td>\n",
       "      <td>https://efahrer.chip.de/e-wissen/elektrofahrze...</td>\n",
       "      <td>efa-1037 | Ladestationen für Elektroautos</td>\n",
       "      <td>E-Auto</td>\n",
       "      <td>Ratgeber</td>\n",
       "      <td>Ladestationen für Elektroautos</td>\n",
       "      <td>...</td>\n",
       "      <td>51.0</td>\n",
       "      <td>1.0</td>\n",
       "      <td>17.0</td>\n",
       "      <td>602.0</td>\n",
       "      <td>Elektrofahrzeug-Ladestation: Kosten und Anbiet...</td>\n",
       "      <td>Im Grunde kann man sein E-Auto überall laden, ...</td>\n",
       "      <td>Eva Goldschald</td>\n",
       "      <td>1544.0</td>\n",
       "      <td>2024-03-10</td>\n",
       "      <td>https://im-efahrer.chip.de/files/5ffed1cb4c3dc...</td>\n",
       "    </tr>\n",
       "  </tbody>\n",
       "</table>\n",
       "<p>5 rows × 24 columns</p>\n",
       "</div>"
      ],
      "text/plain": [
       "   old_index  page_id        date publish_date  word_count   \n",
       "0      65055     1037  2024-03-13   2024-03-10       827.0  \\\n",
       "1      34072     1037  2024-03-13   2024-03-10       827.0   \n",
       "2        736     1037  2024-03-14   2024-03-10       827.0   \n",
       "3     114772     1037  2024-03-15   2024-03-10       827.0   \n",
       "4      19316     1037  2024-03-16   2024-03-10       827.0   \n",
       "\n",
       "                                                 url   \n",
       "0     https://efahrer.chip.de/e-wissen/aufladen_1037  \\\n",
       "1  https://efahrer.chip.de/e-wissen/elektrofahrze...   \n",
       "2  https://efahrer.chip.de/e-wissen/elektrofahrze...   \n",
       "3  https://efahrer.chip.de/e-wissen/elektrofahrze...   \n",
       "4  https://efahrer.chip.de/e-wissen/elektrofahrze...   \n",
       "\n",
       "                                   page_name classification_product   \n",
       "0  efa-1037 | Ladestationen für Elektroautos                 E-Auto  \\\n",
       "1  efa-1037 | Ladestationen für Elektroautos                 E-Auto   \n",
       "2  efa-1037 | Ladestationen für Elektroautos                 E-Auto   \n",
       "3  efa-1037 | Ladestationen für Elektroautos                 E-Auto   \n",
       "4  efa-1037 | Ladestationen für Elektroautos                 E-Auto   \n",
       "\n",
       "  classification_type                            title  ... page_impressions   \n",
       "0            Ratgeber   Ladestationen für Elektroautos  ...             15.0  \\\n",
       "1            Ratgeber   Ladestationen für Elektroautos  ...             41.0   \n",
       "2            Ratgeber   Ladestationen für Elektroautos  ...            113.0   \n",
       "3            Ratgeber   Ladestationen für Elektroautos  ...             53.0   \n",
       "4            Ratgeber   Ladestationen für Elektroautos  ...             51.0   \n",
       "\n",
       "   clickouts  external_clicks  external_impressions   \n",
       "0        0.0             22.0                 343.0  \\\n",
       "1        0.0             22.0                 343.0   \n",
       "2        1.0             79.0                1494.0   \n",
       "3        1.0             16.0                 431.0   \n",
       "4        1.0             17.0                 602.0   \n",
       "\n",
       "                                                  h1   \n",
       "0                                                NaN  \\\n",
       "1  Elektrofahrzeug-Ladestation: Kosten und Anbiet...   \n",
       "2  Elektrofahrzeug-Ladestation: Kosten und Anbiet...   \n",
       "3  Elektrofahrzeug-Ladestation: Kosten und Anbiet...   \n",
       "4  Elektrofahrzeug-Ladestation: Kosten und Anbiet...   \n",
       "\n",
       "                                            abstract  author_scraped   words   \n",
       "0                                                NaN             NaN     NaN  \\\n",
       "1  Im Grunde kann man sein E-Auto überall laden, ...  Eva Goldschald  1544.0   \n",
       "2  Im Grunde kann man sein E-Auto überall laden, ...  Eva Goldschald  1544.0   \n",
       "3  Im Grunde kann man sein E-Auto überall laden, ...  Eva Goldschald  1544.0   \n",
       "4  Im Grunde kann man sein E-Auto überall laden, ...  Eva Goldschald  1544.0   \n",
       "\n",
       "  last_update                                          image_url  \n",
       "0         NaN                                                NaN  \n",
       "1  2024-03-10  https://im-efahrer.chip.de/files/5ffed1cb4c3dc...  \n",
       "2  2024-03-10  https://im-efahrer.chip.de/files/5ffed1cb4c3dc...  \n",
       "3  2024-03-10  https://im-efahrer.chip.de/files/5ffed1cb4c3dc...  \n",
       "4  2024-03-10  https://im-efahrer.chip.de/files/5ffed1cb4c3dc...  \n",
       "\n",
       "[5 rows x 24 columns]"
      ]
     },
     "execution_count": 5,
     "metadata": {},
     "output_type": "execute_result"
    }
   ],
   "source": [
    "col_to_merge = ['page_id', 'url']\n",
    "df_full_scraped = pd.merge(left=df_full, right=df_scraped, on=col_to_merge, how='left')\n",
    "df_full_scraped.head()"
   ]
  },
  {
   "cell_type": "code",
   "execution_count": 6,
   "metadata": {},
   "outputs": [
    {
     "name": "stdout",
     "output_type": "stream",
     "text": [
      "Number of scraped pages 6899\n",
      "Number of page IDs, that contain scraped data: 6899\n",
      "Number of pages that were merged correctly based on word count: 6899\n"
     ]
    }
   ],
   "source": [
    "df_full_scraped['check_merge'] = df_full_scraped['words'] == df_full_scraped['words']\n",
    "\n",
    "print('Number of scraped pages', len(df_scraped.page_id))\n",
    "print('Number of page IDs, that contain scraped data:', len(df_full_scraped[df_full_scraped['abstract'].notnull()]['page_id'].unique()))\n",
    "print('Number of pages that were merged correctly based on word count:', len(df_full_scraped[df_full_scraped['check_merge'] == True]['page_id'].unique()))"
   ]
  },
  {
   "cell_type": "code",
   "execution_count": 7,
   "metadata": {},
   "outputs": [
    {
     "name": "stdout",
     "output_type": "stream",
     "text": [
      "Number of pages that have a different update date compared to the publish date: 1652\n"
     ]
    }
   ],
   "source": [
    "df_full_scraped['check_merge'] = df_full_scraped['last_update'] == df_full_scraped['publish_date']\n",
    "\n",
    "print('Number of pages that have a different update date compared to the publish date:', len(df_scraped.page_id) - len(df_full_scraped[df_full_scraped['check_merge'] == True]['page_id'].unique()))"
   ]
  },
  {
   "cell_type": "markdown",
   "metadata": {},
   "source": [
    "<span style=\"color:red\"> Some pages have a different publishing date compared to the scraped update date. This could be as the scraped date is added manually and the published_date from the data set is meta data from the actual day of publishing.</span> \n",
    "In the following the publishing date from the original data set is taken instead of the scraped data."
   ]
  },
  {
   "cell_type": "markdown",
   "metadata": {},
   "source": [
    "Cleaning up for the EDA file by dropping unnecessary columns.\n",
    "\n",
    "<b><p>This is the file for the first EDA. For further analysis other columns should be included again."
   ]
  },
  {
   "cell_type": "markdown",
   "metadata": {},
   "source": [
    "For the first round of EDA we work with three target variables: Impressions, Clicks, CTR (click-through-rate). The latter we create in the next step:"
   ]
  },
  {
   "cell_type": "code",
   "execution_count": 8,
   "metadata": {},
   "outputs": [],
   "source": [
    "df_full_scraped['ctr'] = df_full_scraped['external_clicks'] / df_full_scraped['external_impressions'] *100"
   ]
  },
  {
   "cell_type": "code",
   "execution_count": 11,
   "metadata": {},
   "outputs": [
    {
     "data": {
      "text/plain": [
       "Index(['old_index', 'page_id', 'date', 'publish_date', 'word_count', 'url',\n",
       "       'page_name', 'classification_product', 'classification_type', 'title',\n",
       "       'authors', 'daily_likes', 'daily_dislikes', 'video_play',\n",
       "       'page_impressions', 'clickouts', 'external_clicks',\n",
       "       'external_impressions', 'h1', 'abstract', 'author_scraped', 'words',\n",
       "       'last_update', 'image_url', 'check_merge', 'ctr'],\n",
       "      dtype='object')"
      ]
     },
     "execution_count": 11,
     "metadata": {},
     "output_type": "execute_result"
    }
   ],
   "source": [
    "df_full_scraped.columns"
   ]
  },
  {
   "cell_type": "code",
   "execution_count": 9,
   "metadata": {},
   "outputs": [
    {
     "name": "stdout",
     "output_type": "stream",
     "text": [
      "(6899, 26)\n",
      "(132845, 26)\n"
     ]
    }
   ],
   "source": [
    "df_eda = df_full_scraped.drop_duplicates('page_id', keep='first')\n",
    "print(df_eda.shape)\n",
    "print(df_full_scraped.shape)"
   ]
  },
  {
   "cell_type": "markdown",
   "metadata": {},
   "source": [
    "Cleaning up for the EDA file.\n",
    "\n",
    "<b><p>This is the file for the first EDA. For further analysis other columns should be included again."
   ]
  },
  {
   "cell_type": "code",
   "execution_count": null,
   "metadata": {},
   "outputs": [],
   "source": [
    "# Dropping columns that are not of interest in the first EDA\n",
    "df_eda = df_eda.drop(['url', 'old_index', 'author_scraped', 'words', 'last_update', 'check_merge', 'page_name'], axis=1)\n",
    "\n",
    "# Sorting the columns\n",
    "new_order = ['page_id', 'date', 'publish_date', \n",
    "             'title', 'h1', 'abstract',\n",
    "             'classification_product', 'classification_type', 'authors', 'word_count', 'image_url', \n",
    "             'daily_likes', 'daily_dislikes', 'video_play', 'page_impressions', 'clickouts', 'external_clicks', 'external_impressions','ctr']\n",
    "\n",
    "df_eda = df_eda[new_order]"
   ]
  },
  {
   "cell_type": "markdown",
   "metadata": {},
   "source": [
    "Export file for EDA"
   ]
  },
  {
   "cell_type": "code",
   "execution_count": null,
   "metadata": {},
   "outputs": [],
   "source": [
    "# Create file unique_IDs_merged, which contains all performance, meta and scraped data in one merged dataset per unique ID. In other words, all available data for each unique article, excluding different versions of the articles.\n",
    "df_eda.to_csv('../data/unique_IDs_merged.csv', encoding='utf-8', index=False)"
   ]
  },
  {
   "cell_type": "code",
   "execution_count": null,
   "metadata": {},
   "outputs": [],
   "source": []
  }
 ],
 "metadata": {
  "kernelspec": {
   "display_name": ".venv",
   "language": "python",
   "name": "python3"
  },
  "language_info": {
   "codemirror_mode": {
    "name": "ipython",
    "version": 3
   },
   "file_extension": ".py",
   "mimetype": "text/x-python",
   "name": "python",
   "nbconvert_exporter": "python",
   "pygments_lexer": "ipython3",
   "version": "3.11.3"
  }
 },
 "nbformat": 4,
 "nbformat_minor": 2
}
