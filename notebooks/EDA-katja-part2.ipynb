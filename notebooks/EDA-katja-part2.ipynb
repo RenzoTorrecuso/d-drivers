{
 "cells": [
  {
   "cell_type": "markdown",
   "metadata": {},
   "source": [
    "# EDA on the full dataset\n",
    "that includes the scraped data and version counts\n",
    "\n",
    "Obtained with `get_df.py`"
   ]
  },
  {
   "cell_type": "markdown",
   "metadata": {},
   "source": [
    "## Load data"
   ]
  },
  {
   "cell_type": "code",
   "execution_count": null,
   "metadata": {},
   "outputs": [],
   "source": [
    "import pandas as pd\n",
    "pd.set_option('display.max_columns', None)\n",
    "pd.set_option('display.max_colwidth', None)\n",
    "pd.plotting.register_matplotlib_converters()\n",
    "\n",
    "import numpy as np\n",
    "import seaborn as sns\n",
    "import missingno as mgn\n",
    "\n",
    "import plotly.express as px\n",
    "import plotly.graph_objects as go\n",
    "import plotly.io as pio\n",
    "\n",
    "import pygwalker as pyg\n",
    "\n",
    "pio.templates.default = \"simple_white\""
   ]
  },
  {
   "cell_type": "code",
   "execution_count": null,
   "metadata": {},
   "outputs": [],
   "source": [
    "df = pd.read_csv('../data/full_data.csv', parse_dates=['date', 'publish_date'])\n",
    "df.drop('old_index', axis=1, inplace=True)"
   ]
  },
  {
   "cell_type": "code",
   "execution_count": null,
   "metadata": {},
   "outputs": [],
   "source": [
    "mgn.matrix(df);"
   ]
  },
  {
   "cell_type": "code",
   "execution_count": null,
   "metadata": {},
   "outputs": [],
   "source": []
  },
  {
   "cell_type": "code",
   "execution_count": null,
   "metadata": {},
   "outputs": [],
   "source": [
    "df.columns "
   ]
  },
  {
   "cell_type": "markdown",
   "metadata": {},
   "source": [
    "## Exploring the influence of content changes"
   ]
  },
  {
   "cell_type": "code",
   "execution_count": null,
   "metadata": {},
   "outputs": [],
   "source": [
    "df.version_id.max()"
   ]
  },
  {
   "cell_type": "code",
   "execution_count": null,
   "metadata": {},
   "outputs": [],
   "source": [
    "COUNT_THRESH = 30"
   ]
  },
  {
   "cell_type": "code",
   "execution_count": null,
   "metadata": {},
   "outputs": [],
   "source": [
    "vers_ = df.groupby('page_id')['version_id'].max()\n",
    "vers_[vers_ > COUNT_THRESH]"
   ]
  },
  {
   "cell_type": "code",
   "execution_count": null,
   "metadata": {},
   "outputs": [],
   "source": [
    "pages_frequent = vers_[vers_ > COUNT_THRESH].index\n",
    "\n",
    "df_frequent = df.query('page_id in @pages_frequent')"
   ]
  },
  {
   "cell_type": "code",
   "execution_count": null,
   "metadata": {},
   "outputs": [],
   "source": [
    "df_frequent.page_id.unique().shape # only 7 pages, great!"
   ]
  },
  {
   "cell_type": "code",
   "execution_count": null,
   "metadata": {},
   "outputs": [],
   "source": [
    "df_frequent.columns"
   ]
  },
  {
   "cell_type": "code",
   "execution_count": null,
   "metadata": {},
   "outputs": [],
   "source": [
    "df_frequent[['page_id', 'date', 'external_impressions']].drop_duplicates() #.groupby(['page_id', 'date']).max() "
   ]
  },
  {
   "cell_type": "code",
   "execution_count": null,
   "metadata": {},
   "outputs": [],
   "source": [
    "df_frequent = df_frequent.drop_duplicates().fillna(0)"
   ]
  },
  {
   "cell_type": "code",
   "execution_count": null,
   "metadata": {},
   "outputs": [],
   "source": [
    "version_user_side_ftrs = ['page_id', 'date', 'url', 'version_id', 'publish_date',\n",
    "       'word_count','daily_likes', 'daily_dislikes', 'video_play', 'page_impressions', 'clickouts',\n",
    "       'external_clicks', 'external_impressions' ]"
   ]
  },
  {
   "cell_type": "code",
   "execution_count": null,
   "metadata": {},
   "outputs": [],
   "source": [
    "df_frequent.date.min()"
   ]
  },
  {
   "cell_type": "code",
   "execution_count": null,
   "metadata": {},
   "outputs": [],
   "source": [
    "timeline = pd.date_range(start=df_frequent.date.min(), end=df_frequent.date.max(), freq='D')\n",
    "timeline"
   ]
  },
  {
   "cell_type": "code",
   "execution_count": null,
   "metadata": {},
   "outputs": [],
   "source": [
    "data = df_frequent[['page_id', 'date', 'external_clicks']].groupby(['page_id', 'date'], as_index=False).sum()\n",
    "#df_frequent[['page_id', 'date', 'external_clicks']].groupby(['page_id', 'date'], as_index=False).sum()\n",
    "data"
   ]
  },
  {
   "cell_type": "code",
   "execution_count": null,
   "metadata": {},
   "outputs": [],
   "source": [
    "data = df_frequent[['page_id', 'date', 'external_impressions']].groupby(['page_id', 'date'], as_index=False).sum()\n",
    "\n",
    "px.bar(data_frame=data, x='date', y='external_impressions', \n",
    "           color=data['page_id'].astype('str'),\n",
    "           title=f'Ext. page impressions for pages with more than {COUNT_THRESH} versions'\n",
    "\n",
    "           #color_discrete_map=px.colors.qualitative.Alphabet\n",
    "           #color_continuous_scale=px.colors.make_colorscale(['red', 'darkblue'])\n",
    "           #color_continuous_scale=px.colors.named_colorscales('Portland')\n",
    "           #template='plotly-dark'\n",
    "           )"
   ]
  },
  {
   "cell_type": "code",
   "execution_count": null,
   "metadata": {},
   "outputs": [],
   "source": [
    "data = df_frequent[['page_id', 'date', 'page_impressions']].groupby(['page_id', 'date'], as_index=False).sum()\n",
    "\n",
    "px.bar(data_frame=data, x='date', y='page_impressions', \n",
    "           color=data['page_id'].astype('str'),\n",
    "           title=f'Internal (Total) impressions for pages with more than {COUNT_THRESH} versions'\n",
    "           )"
   ]
  },
  {
   "cell_type": "code",
   "execution_count": null,
   "metadata": {},
   "outputs": [],
   "source": [
    "data = df_frequent[['page_id', 'date', 'external_clicks']].groupby(['page_id', 'date'], as_index=False).sum()\n",
    "\n",
    "px.bar(data_frame=data, x='date', y='external_clicks', \n",
    "           color=data['page_id'].astype('str'),\n",
    "           title=f'Ext. page clicks for pages with more than {COUNT_THRESH} versions'\n",
    "\n",
    "           )"
   ]
  },
  {
   "cell_type": "code",
   "execution_count": null,
   "metadata": {},
   "outputs": [],
   "source": [
    "data = df_frequent[['page_id', 'date', 'page_impressions']].groupby(['page_id', 'date'], as_index=False).sum()\n",
    "\n",
    "px.bar(data_frame=data, x='date', y='page_impressions', \n",
    "           color=data['page_id'].astype('str'),\n",
    "           title=f'Internal (Total) impressions for pages with more than {COUNT_THRESH} versions'\n",
    "           )"
   ]
  },
  {
   "cell_type": "code",
   "execution_count": null,
   "metadata": {},
   "outputs": [],
   "source": [
    "data = df_frequent[['page_id', 'date', 'video_play']].groupby(['page_id', 'date'], as_index=False).sum()\n",
    "\n",
    "px.bar(data_frame=data, x='date', y='video_play', \n",
    "           color=data['page_id'].astype('str'),\n",
    "           title=f'Video plays for pages with more than {COUNT_THRESH} versions'\n",
    "           )"
   ]
  },
  {
   "cell_type": "code",
   "execution_count": null,
   "metadata": {},
   "outputs": [],
   "source": [
    "data = df_frequent.query('page_id == 105259')[['page_id', 'date', 'page_impressions', 'version_id']]\n",
    "data = data.groupby(['date', 'version_id'], as_index=False).sum()\n",
    "\n",
    "px.bar(data_frame=data, x='date', y='page_impressions', \n",
    "           color=data['version_id'],#.astype('str'),\n",
    "           title=f'Internal (Total) impressions for page 105259 - all versions'\n",
    "           )"
   ]
  },
  {
   "cell_type": "code",
   "execution_count": null,
   "metadata": {},
   "outputs": [],
   "source": [
    "data = df_frequent.query('page_id==105259')[['page_id', 'date', 'page_impressions', 'version_id']]"
   ]
  },
  {
   "cell_type": "code",
   "execution_count": null,
   "metadata": {},
   "outputs": [],
   "source": [
    "data.page_id.unique()"
   ]
  },
  {
   "cell_type": "code",
   "execution_count": null,
   "metadata": {},
   "outputs": [],
   "source": [
    "df_frequent.page_id.unique()"
   ]
  },
  {
   "cell_type": "code",
   "execution_count": null,
   "metadata": {},
   "outputs": [],
   "source": []
  }
 ],
 "metadata": {
  "kernelspec": {
   "display_name": ".venv",
   "language": "python",
   "name": "python3"
  },
  "language_info": {
   "codemirror_mode": {
    "name": "ipython",
    "version": 3
   },
   "file_extension": ".py",
   "mimetype": "text/x-python",
   "name": "python",
   "nbconvert_exporter": "python",
   "pygments_lexer": "ipython3",
   "version": "3.11.3"
  }
 },
 "nbformat": 4,
 "nbformat_minor": 2
}
