{
 "cells": [
  {
   "cell_type": "code",
   "execution_count": 44,
   "metadata": {},
   "outputs": [],
   "source": [
    "from sklearn.tree import DecisionTreeRegressor\n",
    "from sklearn.model_selection import train_test_split\n",
    "from sklearn.linear_model import LinearRegression\n",
    "from sklearn.metrics import mean_squared_error\n",
    "from sklearn.preprocessing import OneHotEncoder\n",
    "from sklearn.preprocessing import PowerTransformer, StandardScaler\n",
    "from sklearn.compose import ColumnTransformer\n",
    "from sklearn.model_selection import GridSearchCV, RandomizedSearchCV\n",
    "from sklearn.impute import SimpleImputer\n",
    "\n",
    "from sklearn.metrics import r2_score, root_mean_squared_log_error, root_mean_squared_error, mean_tweedie_deviance\n",
    "\n",
    "import phik\n",
    "from phik.report import plot_correlation_matrix\n",
    "\n",
    "from sklearn.pipeline import Pipeline\n",
    "import pandas as pd\n",
    "import numpy as np\n",
    "import matplotlib.pyplot as plt \n",
    "\n",
    "import plotly.express as px\n",
    "import plotly.io as pio\n",
    "\n",
    "RSEED = 42"
   ]
  },
  {
   "cell_type": "code",
   "execution_count": null,
   "metadata": {},
   "outputs": [],
   "source": [
    "df = pd.read_csv('../data/data_nlp_A.csv', parse_dates=['last_publish_date', 'date_min'])\n",
    "df.columns"
   ]
  },
  {
   "cell_type": "code",
   "execution_count": null,
   "metadata": {},
   "outputs": [],
   "source": [
    "df.page_id = df.page_id.astype('category')"
   ]
  },
  {
   "cell_type": "code",
   "execution_count": null,
   "metadata": {},
   "outputs": [],
   "source": [
    "print('Numerical columns')\n",
    "df.select_dtypes(include=['int', 'float']).columns"
   ]
  },
  {
   "cell_type": "code",
   "execution_count": null,
   "metadata": {},
   "outputs": [],
   "source": [
    "print('Categorical columns')\n",
    "df.select_dtypes(include=['object', 'datetime']).columns"
   ]
  },
  {
   "cell_type": "code",
   "execution_count": null,
   "metadata": {},
   "outputs": [],
   "source": [
    "numerical_features = ['no_versions', 'word_count', 'merged_url_len', \n",
    "                      'h1_len', 'abstract_len', 'likes_n_days', 'dislikes_n_days', \n",
    "                      'video_play', 'mean_version_lifetime',\n",
    "                      'meta_title_len', 'meta_desc_len', \n",
    "                      'confidence_abstract', 'confidence_meta_title']\n",
    "\n",
    "categorical_features = ['classification_product', 'classification_type', 'sentiment_abstract', 'sentiment_meta_title', 'media_type']\n",
    "\n",
    "targets = ['external_clicks', 'external_impressions', 'ctr', 'clickouts', 'ext_impr_norm']"
   ]
  },
  {
   "cell_type": "markdown",
   "metadata": {},
   "source": [
    "# Modelling success for each article"
   ]
  },
  {
   "cell_type": "markdown",
   "metadata": {},
   "source": [
    "Warning: since only a few articles are really successful (like it is usually with viral things), **an extensive EDA on the outliers and methods of anomaly detection are likely the way to go!"
   ]
  },
  {
   "cell_type": "code",
   "execution_count": null,
   "metadata": {},
   "outputs": [],
   "source": [
    "pd.concat((df[categorical_features].describe(include='object').T, # categorical (strings)\n",
    "           df[numerical_features].describe().T)).style.format(precision=0) # numericals"
   ]
  },
  {
   "cell_type": "code",
   "execution_count": null,
   "metadata": {},
   "outputs": [],
   "source": [
    "phik_matrix = df[categorical_features + targets].phik_matrix(interval_cols=list(targets))\n",
    "plot_correlation_matrix(phik_matrix.values, x_labels=phik_matrix.columns, y_labels=phik_matrix.index, \n",
    "                        vmin=0, vmax=1, color_map='BuPu', fontsize_factor=0.75,\n",
    "                        title=r'$\\phi_K$ correlation of the features',\n",
    "                        figsize=(8,6.5))"
   ]
  },
  {
   "cell_type": "code",
   "execution_count": null,
   "metadata": {},
   "outputs": [],
   "source": [
    "pears_matrix = df[numerical_features + targets].corr()\n",
    "plot_correlation_matrix(pears_matrix.values, x_labels=pears_matrix.index, y_labels=pears_matrix.columns,\n",
    "                        vmin=0, vmax=1, color_map='BuPu', fontsize_factor=0.75,\n",
    "                        title=r'Pearson correlation of the features',\n",
    "                        figsize=(10,8.5))"
   ]
  },
  {
   "cell_type": "markdown",
   "metadata": {},
   "source": [
    "## Baseline"
   ]
  },
  {
   "cell_type": "code",
   "execution_count": null,
   "metadata": {},
   "outputs": [],
   "source": [
    "# features and target variable\n",
    "num_bl = ['no_versions', 'word_count', 'h1_len', 'abstract_len', \n",
    "          #'likes_n_days', 'dislikes_n_days', 'video_play', \n",
    "          'mean_version_lifetime']\n",
    "cat_bl = ['classification_product', 'classification_type', 'media_type', 'sentiment_abstract', 'sentiment_meta_title']\n",
    "target = targets[0]\n",
    "\n",
    "X = df[num_bl + cat_bl]\n",
    "y = df[target]\n",
    "X_train, X_test, y_train, y_test = train_test_split(X, y, test_size=0.2, random_state=RSEED)"
   ]
  },
  {
   "cell_type": "code",
   "execution_count": null,
   "metadata": {},
   "outputs": [],
   "source": [
    "X_train.hist()\n",
    "plt.tight_layout()"
   ]
  },
  {
   "cell_type": "code",
   "execution_count": null,
   "metadata": {},
   "outputs": [],
   "source": [
    "## for numerical features\n",
    "skewed_feats_pipeline = Pipeline([\n",
    "    ('impute', SimpleImputer(strategy='constant', fill_value=0)),\n",
    "    ('pow', PowerTransformer())\n",
    "])\n",
    "# norm_features = Pipeline([\n",
    "#     ('scale_num', StandardScaler())\n",
    "# ])\n",
    "\n",
    "cat_pipeline = Pipeline([\n",
    "    ('1hot', OneHotEncoder(drop='first', handle_unknown='ignore')),\n",
    "])\n",
    "\n",
    "preprocessor = ColumnTransformer([\n",
    "    #('scale_num', norm_features, ['no_versions', 'word_count', 'h1_len', 'abstract_len']),\n",
    "    ('pow', skewed_feats_pipeline, num_bl),#['likes_n_days', 'dislikes_n_days','video_play', 'mean_version_lifetime']),\n",
    "    ('cat', cat_pipeline, cat_bl)\n",
    "])\n",
    "# Initiating Pipelines\n",
    "## for categorical features\n",
    "powtr = PowerTransformer()\n",
    "\n",
    "# Target transform\n",
    "y_train_t = powtr.fit_transform(y_train.to_frame())\n",
    "y_test_t = powtr.transform(y_test.to_frame())\n",
    "# Reverse the transform when deciphering predictions!\n",
    "\n",
    "pipe_tree = Pipeline([\n",
    "    ('preprocessor', preprocessor),\n",
    "    ('tree', DecisionTreeRegressor())\n",
    "])"
   ]
  },
  {
   "cell_type": "code",
   "execution_count": null,
   "metadata": {},
   "outputs": [],
   "source": [
    "X_train_tr = preprocessor.fit_transform(X_train)\n",
    "X_train_tr_df = pd.DataFrame(data=np.asarray(X_train_tr.todense()), columns=preprocessor.get_feature_names_out(), index=X_train.index)\n",
    "X_train_tr_df[[col for col in X_train_tr_df.columns if col[:3]=='pow']].hist();\n",
    "plt.gcf().suptitle('Power-transformed features only')\n",
    "plt.tight_layout()"
   ]
  },
  {
   "cell_type": "code",
   "execution_count": null,
   "metadata": {},
   "outputs": [],
   "source": [
    "X_train.isna().sum()"
   ]
  },
  {
   "cell_type": "code",
   "execution_count": null,
   "metadata": {},
   "outputs": [],
   "source": [
    "# cat_pipeline = Pipeline([\n",
    "#     ('1hot', OneHotEncoder(handle_unknown='ignore')),\n",
    "# ])\n",
    "\n",
    "# preprocessor = ColumnTransformer([\n",
    "# #    ('num', norm_features, ['no_versions', 'word_count', 'likes_n_days', 'merged_url_len',\n",
    "# #    'mean_version_lifetime']),\n",
    "#     ('cat', cat_pipeline, cat_bl)\n",
    "# ])\n",
    "\n"
   ]
  },
  {
   "cell_type": "code",
   "execution_count": null,
   "metadata": {},
   "outputs": [],
   "source": [
    "pipe_tree.fit(X_train, y_train_t)"
   ]
  },
  {
   "cell_type": "code",
   "execution_count": null,
   "metadata": {},
   "outputs": [],
   "source": [
    "pred = pipe_tree.predict(X_test)"
   ]
  },
  {
   "cell_type": "code",
   "execution_count": null,
   "metadata": {},
   "outputs": [],
   "source": [
    "pred"
   ]
  },
  {
   "cell_type": "code",
   "execution_count": null,
   "metadata": {},
   "outputs": [],
   "source": [
    "y_test_t_1d = y_test_t.reshape(y_test_t.shape[0])"
   ]
  },
  {
   "cell_type": "code",
   "execution_count": null,
   "metadata": {},
   "outputs": [],
   "source": [
    "pred"
   ]
  },
  {
   "cell_type": "markdown",
   "metadata": {},
   "source": [
    "## Evaluation"
   ]
  },
  {
   "cell_type": "code",
   "execution_count": null,
   "metadata": {},
   "outputs": [],
   "source": [
    "fig_bl_pred = px.scatter(x=y_test_t_1d, y=pred, trendline='ols', \n",
    "                         trendline_color_override='darkred')\n",
    "print('Features used:')\n",
    "print('Numerical:', num_bl)\n",
    "print('Categorical', cat_bl)\n",
    "fig_bl_pred.add_annotation(x=-4, y=4,\n",
    "            text=f'''Features used:<br>Numerical: {num_bl}<br>Categorical: {cat_bl}''',\n",
    "            showarrow=False,\n",
    "            yshift=10);"
   ]
  },
  {
   "cell_type": "code",
   "execution_count": null,
   "metadata": {},
   "outputs": [],
   "source": [
    "fig_bl_pred.update_layout(height=800, width=700, title='Baseline predictions', \n",
    "                          yaxis_title='y predicted (transformed)', \n",
    "                          xaxis_title='y test (transformed)',\n",
    "                          margin={'t': 130})\n",
    "\n",
    "fig_bl_pred.update_layout(\n",
    "    annotations=[\n",
    "        dict(\n",
    "            x=-0.07,  # X-coordinate outside the plot area\n",
    "            y=1,  # Y-coordinate (top of the plot)\n",
    "            xref=\"paper\",\n",
    "            yref=\"paper\",\n",
    "            xanchor=\"left\",\n",
    "            yanchor=\"bottom\",\n",
    "            text=f'''Features used:<br>Numerical: {num_bl}<br>Categorical: {cat_bl}''',\n",
    "            align=\"left\",\n",
    "            showarrow=False,\n",
    "            )\n",
    "    ]\n",
    ")\n",
    "fig_bl_pred.show()"
   ]
  },
  {
   "cell_type": "code",
   "execution_count": null,
   "metadata": {},
   "outputs": [],
   "source": [
    "import plotly.io as pio\n",
    "\n",
    "pio.write_image(fig_bl_pred, file='../models/baseline_katja.jpg')"
   ]
  },
  {
   "cell_type": "code",
   "execution_count": null,
   "metadata": {},
   "outputs": [],
   "source": [
    "#from sklearn.tree import plot_tree\n",
    "#plot_tree(pipe_tree.steps[-1][1])\n",
    "\n",
    "bl_tree = pipe_tree.steps[-1][1]\n",
    "bl_tree.get_n_leaves(), bl_tree.get_depth()"
   ]
  },
  {
   "cell_type": "code",
   "execution_count": null,
   "metadata": {},
   "outputs": [],
   "source": [
    "from pickle import dump\n",
    "\n",
    "dump(pipe_tree, open('../models/bl_katja.pkl', 'wb'))"
   ]
  },
  {
   "cell_type": "code",
   "execution_count": null,
   "metadata": {},
   "outputs": [],
   "source": [
    "feat_imp = bl_tree.feature_importances_\n",
    "feat_names = pipe_tree[:-1].get_feature_names_out()\n",
    "\n",
    "#feature_importance = np.array([(name, coeff) for name, coeff in sorted(zip(feat_names, feat_imp), key=lambda x: x[1])])\n",
    "feature_importance = pd.DataFrame().from_records(data={'Features': [name.split('__')[-1] for name in feat_names], 'Importance': feat_imp})\n",
    "sorted_importances = feature_importance.sort_values('Importance', ascending=True)\n",
    "#feature_importance = sorted(feature_importance.items(), key=lambda x: x[1], reverse=True)"
   ]
  },
  {
   "cell_type": "code",
   "execution_count": null,
   "metadata": {},
   "outputs": [],
   "source": [
    "fig_importance = px.bar(sorted_importances, y='Features', x='Importance',\n",
    "                        orientation='h', height=800, width=800, \n",
    "                        #xaxis_label_text='', yaxis_label_text=''\n",
    "                        )\n",
    "fig_importance.show()"
   ]
  },
  {
   "cell_type": "code",
   "execution_count": null,
   "metadata": {},
   "outputs": [],
   "source": [
    "pio.write_image(fig_importance, file='../models/baseline_katja_features.jpg')"
   ]
  },
  {
   "cell_type": "code",
   "execution_count": null,
   "metadata": {},
   "outputs": [],
   "source": [
    "import pandas as pd\n",
    "from pickle import load\n",
    "from sklearn.model_selection import train_test_split\n",
    "\n",
    "# Run the script 5A_sentiment_merge.py\n",
    "\n",
    "df = pd.read_csv('../data/data_nlp_A.csv', parse_dates=['last_publish_date', 'date_min'])\n",
    "\n",
    "# features and target variable\n",
    "num_bl = ['no_versions', 'word_count', 'h1_len', 'abstract_len', 'mean_version_lifetime']\n",
    "cat_bl = ['classification_product', 'classification_type', 'media_type', 'sentiment_abstract', 'sentiment_meta_title']\n",
    "target = 'external_clicks'\n",
    "\n",
    "X = df[num_bl + cat_bl]\n",
    "y = df[target]\n",
    "X_train, X_test, y_train, y_test = train_test_split(X, y, test_size=0.2, random_state=42)\n",
    "\n",
    "bl_katja = load(open('../models/bl_katja.pkl', 'rb'))\n",
    "\n",
    "pred = bl_katja.predict(X_test)"
   ]
  },
  {
   "cell_type": "code",
   "execution_count": null,
   "metadata": {},
   "outputs": [],
   "source": [
    "y_train_t = powtr.fit_transform(y_train.to_frame())\n",
    "y_test_t = powtr.transform(y_test.to_frame())"
   ]
  },
  {
   "cell_type": "code",
   "execution_count": null,
   "metadata": {},
   "outputs": [],
   "source": [
    "pred_nat = powtr.inverse_transform(pd.DataFrame(data=pred, columns=y_test.to_frame().columns))"
   ]
  },
  {
   "cell_type": "code",
   "execution_count": null,
   "metadata": {},
   "outputs": [],
   "source": [
    "pred_nat.shape"
   ]
  },
  {
   "cell_type": "code",
   "execution_count": null,
   "metadata": {},
   "outputs": [],
   "source": [
    "fig_bl_pred_real = px.scatter(x=y_test.values, y=pred_nat.reshape(pred_nat.shape[0]), \n",
    "                              #trendline='ols', trendline_color_override='darkred',\n",
    "                              labels={'x': 'y test', 'y': 'predicted target'}\n",
    "                              )\n",
    "fig_bl_pred_real.show()"
   ]
  },
  {
   "cell_type": "code",
   "execution_count": null,
   "metadata": {},
   "outputs": [],
   "source": [
    "fig_bl_pred_real = px.scatter(x=y_test.values, y=pred_nat.reshape(pred_nat.shape[0])-y_test.values, \n",
    "                              #trendline='ols', trendline_color_override='darkred'\n",
    "                              )\n",
    "fig_bl_pred_real.show()"
   ]
  },
  {
   "cell_type": "markdown",
   "metadata": {},
   "source": [
    "## Same model for other targets"
   ]
  },
  {
   "cell_type": "code",
   "execution_count": 1,
   "metadata": {},
   "outputs": [
    {
     "ename": "NameError",
     "evalue": "name 'PowerTransformer' is not defined",
     "output_type": "error",
     "traceback": [
      "\u001b[0;31m---------------------------------------------------------------------------\u001b[0m",
      "\u001b[0;31mNameError\u001b[0m                                 Traceback (most recent call last)",
      "Cell \u001b[0;32mIn[1], line 18\u001b[0m\n\u001b[1;32m     14\u001b[0m X_train, X_test, y_train, y_test \u001b[38;5;241m=\u001b[39m train_test_split(X, y, test_size\u001b[38;5;241m=\u001b[39m\u001b[38;5;241m0.2\u001b[39m, random_state\u001b[38;5;241m=\u001b[39m\u001b[38;5;241m42\u001b[39m)\n\u001b[1;32m     16\u001b[0m bl_katja \u001b[38;5;241m=\u001b[39m load(\u001b[38;5;28mopen\u001b[39m(\u001b[38;5;124m'\u001b[39m\u001b[38;5;124m../models/bl_katja.pkl\u001b[39m\u001b[38;5;124m'\u001b[39m, \u001b[38;5;124m'\u001b[39m\u001b[38;5;124mrb\u001b[39m\u001b[38;5;124m'\u001b[39m))\n\u001b[0;32m---> 18\u001b[0m powtr \u001b[38;5;241m=\u001b[39m \u001b[43mPowerTransformer\u001b[49m()\n\u001b[1;32m     19\u001b[0m y_train_t \u001b[38;5;241m=\u001b[39m powtr\u001b[38;5;241m.\u001b[39mfit_transform(y_train\u001b[38;5;241m.\u001b[39mto_frame())\n\u001b[1;32m     20\u001b[0m y_test_t \u001b[38;5;241m=\u001b[39m powtr\u001b[38;5;241m.\u001b[39mtransform(y_test\u001b[38;5;241m.\u001b[39mto_frame())\n",
      "\u001b[0;31mNameError\u001b[0m: name 'PowerTransformer' is not defined"
     ]
    }
   ],
   "source": [
    "import pandas as pd\n",
    "from pickle import load\n",
    "from sklearn.model_selection import train_test_split\n",
    "\n",
    "df = pd.read_csv('../data/data_nlp_A.csv', parse_dates=['last_publish_date', 'date_min'])\n",
    "\n",
    "# features and target variable\n",
    "num_bl = ['no_versions', 'word_count', 'h1_len', 'abstract_len', 'mean_version_lifetime']\n",
    "cat_bl = ['classification_product', 'classification_type', 'media_type', 'sentiment_abstract', 'sentiment_meta_title']\n",
    "target = 'ext_impr_norm'\n",
    "\n",
    "X = df[num_bl + cat_bl]\n",
    "y = df[target]\n",
    "X_train, X_test, y_train, y_test = train_test_split(X, y, test_size=0.2, random_state=42)\n",
    "\n",
    "bl_katja = load(open('../models/bl_katja.pkl', 'rb'))\n",
    "\n",
    "powtr = PowerTransformer()\n",
    "y_train_t = powtr.fit_transform(y_train.to_frame())\n",
    "y_test_t = powtr.transform(y_test.to_frame())\n",
    "\n",
    "bl_katja.fit(X_train, y_train_t)"
   ]
  },
  {
   "cell_type": "code",
   "execution_count": 111,
   "metadata": {},
   "outputs": [
    {
     "data": {
      "text/plain": [
       "array([ 1.03136614, -0.52618174, -0.45653074, ..., -1.17664817,\n",
       "       -0.84996561, -0.28876372])"
      ]
     },
     "execution_count": 111,
     "metadata": {},
     "output_type": "execute_result"
    }
   ],
   "source": [
    "pred = bl_katja.predict(X_test)\n",
    "pred"
   ]
  },
  {
   "cell_type": "code",
   "execution_count": 112,
   "metadata": {},
   "outputs": [
    {
     "data": {
      "text/plain": [
       "-0.0031060430041365272"
      ]
     },
     "execution_count": 112,
     "metadata": {},
     "output_type": "execute_result"
    }
   ],
   "source": [
    "r2_score(y_true=y_test_t.reshape(pred.shape), y_pred=pred)\n",
    "#r2_score(y_true=y_test.values, y_pred=pred)"
   ]
  },
  {
   "cell_type": "code",
   "execution_count": 113,
   "metadata": {},
   "outputs": [
    {
     "data": {
      "application/vnd.plotly.v1+json": {
       "config": {
        "plotlyServerURL": "https://plotly.com"
       },
       "data": [
        {
         "hovertemplate": "x=%{x}<br>y=%{y}<extra></extra>",
         "legendgroup": "",
         "marker": {
          "color": "#636efa",
          "symbol": "circle"
         },
         "mode": "markers",
         "name": "",
         "showlegend": false,
         "type": "scattergl",
         "x": [
          -0.14570424500802776,
          -0.8394408752839237,
          1.6874018518297804,
          -0.8459602297636333,
          1.1989015434913848,
          1.1650167458874723,
          -1.0294664813007817,
          0.6654321757573239,
          0.03493948883709018,
          -1.2575968596252336,
          -0.21806137257852987,
          0.8666632318631776,
          -0.875927352674374,
          -1.0121425434270137,
          -0.6554572710199362,
          -0.8493346051933267,
          -2.039676658655834,
          0.47841622750453605,
          -0.4447184552683241,
          0.17810355879658957,
          0.06987196164652447,
          0.03911201464135348,
          0.4389083528465539,
          0.6028520457578613,
          -0.4480600494160542,
          -1.067847971704385,
          1.5939809064548247,
          -1.1066558383752156,
          -1.44897275295591,
          -0.5606955817608413,
          -0.06695667413661506,
          0.727911102502874,
          -0.3012332565782489,
          -0.6806285893672481,
          -0.05257091063595523,
          0.7967624724772557,
          1.868115977813558,
          0.33875156994324945,
          0.690707753296397,
          -2.1686525169179935,
          0.5138458874790208,
          -0.776726025714265,
          -1.328878209960826,
          0.08726945195948452,
          0.8388695482159788,
          -1.7186479389358467,
          -1.9110921975426995,
          -0.3181037217386306,
          -1.0803802420835422,
          0.18544126709722297,
          0.3258855394118759,
          1.6201225959738366,
          0.689503361782286,
          1.8475409700538585,
          -1.8422142496974963,
          -0.4634326799906999,
          -0.7079908031128658,
          0.3319954867677317,
          -1.3454655718254234,
          0.276837169370651,
          1.4314084872260422,
          -0.17818299350528655,
          0.9432663409930263,
          -1.1172782391315623,
          0.29430364176493556,
          -0.607852389498032,
          -0.21886833473040893,
          0.7811021014599894,
          0.9463354413100077,
          -1.7074782969178242,
          -1.6774677554827677,
          1.5761945301359095,
          0.7432400262567399,
          0.3401741524352032,
          -1.0066600708709494,
          0.9778126057885269,
          1.702691091646216,
          0.9872340737584892,
          -1.2561928064417904,
          -1.144835473113038,
          -2.103307959080634,
          1.2893914417944181,
          0.1534662465712499,
          1.6020350208410956,
          2.052431364432031,
          0.950707664515391,
          1.8313978819129475,
          -0.9409222285519839,
          -0.17260405288043745,
          -1.635584665600539,
          -1.2519406878779624,
          -0.45538751508907316,
          -0.32215531057064656,
          1.6335192314677398,
          -1.9412054060776889,
          0.6838833674773077,
          -0.5082024984737639,
          0.2267354449391116,
          1.2865446411511905,
          -0.7901995574481883,
          -0.975116324702856,
          0.1771898031548554,
          0.45714397914384625,
          0.5186850089496738,
          0.3192064898860227,
          0.35063855859127335,
          1.207170124893526,
          0.701666758627854,
          -0.5163879783066119,
          -0.7662957173696653,
          0.8583209285168321,
          -0.6924919861067963,
          0.8330825653356373,
          0.23795570443994302,
          1.1673329220443294,
          1.3707740588617567,
          -0.5455415944242645,
          0.4104791976102446,
          -1.5437957822844879,
          0.556626429789612,
          -0.23105292898280777,
          0.4449034675726065,
          0.39822434218592684,
          -0.7546267607010028,
          -0.9878881824787649,
          -1.20141594582589,
          -0.6342386228901452,
          0.7438042370853688,
          -1.6754484027964216,
          -1.9099584849297098,
          0.5345605673414799,
          1.193357282844422,
          0.6834257231094587,
          0.9023324239278757,
          -1.2022504335726931,
          -1.1846068167680697,
          -0.4152083876261025,
          0.5340211751700527,
          -1.11369226911697,
          -0.9410215533550952,
          -0.33961477873086277,
          0.09884843908021677,
          0.04940582147385171,
          -0.4280954529001078,
          0.6272944717588365,
          -0.1703287902594339,
          0.9596425531610562,
          0.04573907945355987,
          -0.48146118426344015,
          0.9433709763145671,
          -0.2675860112319327,
          1.0272139815807273,
          -2.125837583420424,
          0.6550431783603805,
          0.37089437707943773,
          -0.4076958851037664,
          -0.5911133264987015,
          0.5585176819340577,
          -0.8727208000610698,
          -0.33942369417960333,
          -0.7140407200423128,
          -1.935650220513949,
          -0.0708700018187827,
          -0.17027407939597486,
          -0.06684076404902932,
          -1.425257600147681,
          -0.9673417637160462,
          -0.5332989671221213,
          1.1029681722659606,
          0.5189509915833742,
          -0.9489120263060957,
          0.0992815626028394,
          -1.5116751451840886,
          0.07098620455846212,
          1.0501303566975397,
          -1.023943203380844,
          -0.9594409697135812,
          1.5817470530645579,
          0.6919338166145909,
          0.16088583335103696,
          -1.7658922500340366,
          1.3414666060051221,
          -0.982670149909919,
          1.8294496715166846,
          0.9133964965655675,
          0.6158860664202659,
          0.47332289701343583,
          -1.00751264929893,
          -0.327404223083087,
          1.5362866487556457,
          0.8236050181514377,
          2.120334383617525,
          2.867732822939659,
          0.3804297805653947,
          -0.39590090362860303,
          -0.3746278747917455,
          1.5877611763535289,
          0.14428218551258948,
          -1.3783441620520045,
          1.2497393398838919,
          -1.1718181515766863,
          -1.153283723042163,
          0.011115813797007192,
          0.8973908769555778,
          -2.054418845996574,
          0.9219912535468275,
          0.18699434168139284,
          -0.5177718726465125,
          -0.37332497447110025,
          1.3134241514423521,
          0.2952397820234234,
          -1.5437657189450067,
          0.4080644896630934,
          0.3972416464691297,
          0.262289913275698,
          -0.6635954113973969,
          0.46068550469816094,
          0.24504324803834404,
          0.7364986647671279,
          -0.05799062612309207,
          0.5524999807927732,
          -1.3506078057081599,
          -1.2832498754770658,
          -1.5475152856323406,
          -0.20367911587204654,
          -1.9541359593582246,
          0.7224526835411635,
          -0.7011351539518393,
          1.6073270454167927,
          0.34718974836020555,
          1.092165387688566,
          -0.6653868966277952,
          1.3884972174657728,
          0.9074633193643465,
          -2.1074358508261657,
          -1.5584671679646984,
          0.4335719229043078,
          -1.839338450654643,
          0.8160401499400346,
          -0.36953820640711,
          1.5768752239309967,
          -0.7060377426076083,
          -1.867492230854037,
          0.0515159914886313,
          -0.7476041074094322,
          -0.7435258766282673,
          -0.15854516755719,
          1.0399416752069581,
          -1.7894690845798802,
          -0.6427123897879299,
          0.19774815029542037,
          -1.6948768804034546,
          0.9950454254855947,
          -0.6307570436404142,
          -0.6193090747315921,
          0.44427338222030077,
          -0.5475234975011257,
          -0.5689481927126068,
          -1.126974491188705,
          -1.9407788062124334,
          -0.20820919555692113,
          -0.8037407364153695,
          -1.5487539885376682,
          -0.9795999325156854,
          -2.1200838553997734,
          -0.33608051677768114,
          0.05090947835538793,
          -0.04617562477599327,
          -0.6417388772470315,
          -0.3444135257358131,
          -2.0241057797816064,
          0.25094758242567633,
          1.2779357269541334,
          0.35575301431610373,
          1.3471764883310602,
          0.31821126966127217,
          -1.3912189537133068,
          -0.4063094677407066,
          -0.2617531533411128,
          -0.34864408456884993,
          1.249608005787811,
          -0.7634840613980853,
          -1.0685357223042946,
          0.7009557995539737,
          -0.24788154060555967,
          1.5343924984741615,
          -1.3500708582641237,
          0.09984129521807925,
          1.189507489052439,
          0.27690749559063227,
          -1.0930666166846583,
          0.7209425946131619,
          0.26922311384609193,
          -1.1230591208903378,
          -0.9970446418824095,
          -0.5712253209599206,
          1.02461129709602,
          -0.03762140894420932,
          -0.546402733740826,
          1.4612066643318928,
          0.5577449669844529,
          -0.05889821042556912,
          0.20306515462152847,
          0.17837826011203575,
          0.09691122673360242,
          -0.7658462564174751,
          0.30659718602071845,
          0.20897716720732346,
          -1.9110921975426995,
          -2.202378024488637,
          0.26522537639563726,
          0.36062439082477843,
          0.28761868270042806,
          -0.4062994343016821,
          -1.2205650472754008,
          1.4037821647185296,
          -0.43818526164925736,
          -0.6314107506933099,
          1.0153720145490692,
          0.650407180477094,
          0.7494286605836658,
          0.5272050809071515,
          0.9091472409644279,
          -0.8975016702971907,
          -0.7616900484456866,
          -0.3292869678397676,
          0.833695162098567,
          -0.32770772239795914,
          0.04508427569734834,
          -0.3894529251813602,
          0.40650304913589924,
          -0.21803503781865696,
          -0.5388184578977911,
          -1.0254755282544097,
          0.5851344758452078,
          0.6420036757212568,
          1.546198949273288,
          1.2683279734856605,
          -1.1472919269027873,
          1.0513243769119465,
          -0.6262577802674446,
          2.1192373708252688,
          -0.8666097849997157,
          -1.275536824140168,
          -0.270336083642128,
          -0.3684882159236804,
          -0.923436558624713,
          -0.17092574895103285,
          1.3219031425917884,
          1.414529472560184,
          0.933419987674209,
          -2.074279013553476,
          -2.107712576556737,
          1.0622718505211453,
          0.3197407029854441,
          -1.2384616855956019,
          0.4352043377159212,
          -0.33336180531193926,
          -0.2684059536387232,
          -1.0317732373633464,
          -0.7747284798812871,
          0.27947391732228316,
          0.36321298460228035,
          -1.1844332349376243,
          0.4435132454713135,
          -0.1938831207869562,
          0.4385046903995853,
          1.0941255325424837,
          0.2956014363245855,
          0.8923540836073581,
          -1.1315703114505542,
          -0.7339625969550274,
          0.8614248815557574,
          -0.4197275339455776,
          0.9744930908132251,
          1.367800495320107,
          -0.9919365401936047,
          -0.37728308499386976,
          -0.721127039523539,
          -1.6363008835278856,
          0.0732616087660535,
          0.2847084431129673,
          -1.82723239847928,
          -0.46674565837336246,
          0.46427688794564936,
          -2.1215144577901777,
          0.3527133110648264,
          -0.256838977075657,
          -2.188536085216247,
          -0.10783899135824733,
          -1.6202942538409983,
          0.9198136276116015,
          1.6267530089480569,
          0.9517254522691134,
          -0.23766186301430792,
          -0.6408392237293368,
          0.36867322015179577,
          0.5375816057284614,
          -0.3358796888955116,
          -0.062468568463210736,
          -1.1258762765546104,
          -0.9429497495885759,
          1.2789497334672786,
          -1.4886203359017478,
          0.3163707547588737,
          0.9599209181977335,
          -0.03502529842849688,
          0.3372188731962631,
          0.5630643990619405,
          0.12473042058561647,
          1.1865007983883151,
          -0.11483239377275478,
          -2.1287461657495945,
          -0.3339210840863374,
          0.4770652639164309,
          -0.24213039085154736,
          0.8532250857715028,
          0.4849337947404152,
          0.6692411764389096,
          -1.6869738109047432,
          0.7611530233440684,
          0.4987703955719946,
          1.6668021496268064,
          1.3660278881019927,
          0.2941975280219209,
          1.5444451293283585,
          -0.45438942973062363,
          -0.3050241548715291,
          -0.3232181051985472,
          -0.317735985015671,
          0.9572714827470906,
          0.40368319936715685,
          -0.8490987177814459,
          1.0162781300408172,
          -1.2344193767673115,
          -0.488528411200996,
          0.3486259204409907,
          0.2469435202154783,
          0.8166277522572292,
          -0.37429927353923603,
          0.026515141571361957,
          -0.5999824060065061,
          -0.48545179402270794,
          -1.799061140125797,
          -0.773401148243324,
          -1.2396935500076023,
          0.9480621785001613,
          -0.23679854516163668,
          1.163016152246894,
          -0.24336738939711167,
          1.2866821898965728,
          -0.5251560713873735,
          0.9611072691748123,
          1.4627378168028902,
          0.6746592939295478,
          -1.4488430827814298,
          -1.4033675776362893,
          1.5690800680077654,
          -1.318678600388391,
          -2.0236900360369265,
          1.5389127638551188,
          -0.7160264780884754,
          -0.6954676752914979,
          -2.0945087185979974,
          0.6374349213547137,
          0.203852813051215,
          -1.0085519693775375,
          0.1225616239609177,
          1.6314180457513614,
          -0.056993766303072034,
          0.12925029913635566,
          0.9427180932762165,
          1.543681669701912,
          0.5825313150364333,
          0.10126819319247611,
          -1.5126831221765649,
          -1.881250764122772,
          -0.01450616101632268,
          -0.31220530038640365,
          -0.4181585940362049,
          0.8596760013599367,
          0.6163857164023248,
          0.8372789575783667,
          1.2732418835793464,
          0.052726777144566965,
          0.5614209789900261,
          1.0502378004821784,
          -0.6411901218717466,
          -0.6274048476873821,
          -0.6539050714528789,
          0.833195530593965,
          -0.33465857606040333,
          -0.07332476238584275,
          -0.4546419791287496,
          0.388721822744049,
          0.9007684873551308,
          -2.044550547295714,
          -0.7346320747818539,
          -2.0393654878088943,
          0.9824863869398666,
          0.3593986389538382,
          -0.4338975666044072,
          1.0021075893828364,
          1.397996263804615,
          0.20367517446549557,
          1.180791845797236,
          0.9594762503995956,
          0.3563621605232987,
          0.5055606779245915,
          -2.1376027501532002,
          -0.8757880119812614,
          0.4989812215067101,
          -2.1200838553997734,
          1.1445782731198522,
          -0.036280776309715504,
          -0.10112903068927134,
          -0.9084772878920057,
          1.9054027188516263,
          -1.8465653498008443,
          0.3520661185761242,
          0.7085660752340304,
          -0.2972545633829405,
          0.18605467550271715,
          0.18069046795991725,
          -0.42103850483112426,
          1.2883490510602575,
          -1.0467364458212964,
          -1.4350535965774824,
          -0.6392194088753367,
          -0.933755180035113,
          0.5520055388663521,
          0.23473604825187222,
          -0.17250105372453808,
          -1.2694872402580484,
          -2.1751686426924257,
          0.34078509645942556,
          1.9994369834896029,
          1.243660401633493,
          -1.8659621231487242,
          2.1336849875705743,
          0.8498107599937547,
          -0.8147406101266761,
          0.6951558196687017,
          -0.7665078373246371,
          -1.61011057819317,
          0.553106551843448,
          -0.23423942996870672,
          0.2620797129719947,
          0.26237568785615517,
          -0.20309299818581375,
          -0.36868699347928385,
          -0.3009049455744655,
          -0.2758157234563811,
          1.749431664126443,
          1.1443835844874177,
          -1.039650684196038,
          -0.8791517665475966,
          -0.07943387609646083,
          0.818010142069415,
          -1.6607534984271628,
          -0.22181776788707547,
          -2.019638248325907,
          1.0939123077556339,
          -1.2481573706316393,
          -0.25132215481141196,
          0.7770461830305612,
          -0.9478230812285758,
          0.023699710352290883,
          -0.4828345912341329,
          1.256063475690922,
          0.7767227459864403,
          0.9841317536149721,
          -1.4994272063240226,
          -0.754841881385401,
          2.510548182516969,
          0.21952807155152876,
          -1.2154949377167437,
          0.7805012375067729,
          0.06205896289636922,
          0.621236342388996,
          -1.7297476123987445,
          -2.1953955591163457,
          -0.40205644244254424,
          -0.4114308736987663,
          0.23476069573155134,
          1.4910016098012222,
          0.2966356113088632,
          2.889877107440248,
          -1.0520888800838133,
          -0.2574299878528943,
          1.3754561492648927,
          -0.2481229199112018,
          1.233804932884627,
          -1.2354368735009236,
          -0.6654539591127923,
          -0.8706768573520964,
          -0.39503287080047467,
          1.4047513788770083,
          1.0496875438414288,
          0.7339888556885119,
          -0.3983288864885126,
          0.4242776457774929,
          -0.6363860096964165,
          0.6042518112278251,
          -1.4659674022465707,
          -0.3832841723222764,
          -0.5715258508203185,
          -0.11705829712692252,
          -0.1429412750997735,
          -1.2114181365324956,
          0.6192839786944051,
          -0.7648397902788894,
          -0.690052163291537,
          1.3149631513118862,
          -1.1794614752782075,
          0.45852039866798616,
          -1.710111488345861,
          -0.5472486334875484,
          0.23728490129894422,
          -1.176694403662649,
          -1.3696451770486868,
          -0.935293557161209,
          -0.30731053595197244,
          1.583999645890197,
          -0.5534527176212903,
          -1.4172984802792186,
          -0.0017532426101158794,
          0.15536185472715816,
          -0.6547208016764123,
          -0.8931544938600078,
          -0.9543115643525405,
          -0.8213648811090465,
          1.4968024962043684,
          1.060206009481296,
          -0.8028151199526963,
          -0.7356858918034676,
          -1.1678985110661,
          0.8325074163637336,
          -1.1718181515766863,
          -0.11445888303262756,
          -0.7902485015913182,
          -0.8209822701781382,
          -0.5660315057703098,
          1.2039851801594272,
          2.009494392689083,
          0.9903012097272362,
          0.7021161630318544,
          -1.670762230661075,
          -1.9989102226046938,
          1.4375609307006467,
          -0.6433152108576617,
          2.6730162027926045,
          0.28900785124749706,
          -2.1751686426924257,
          -0.00402798491264218,
          0.5669621876379212,
          0.1099020061499464,
          -2.0476506975651696,
          0.5156489657116976,
          -1.6944762253042838,
          -0.5929686905730667,
          0.7720241077135294,
          0.9562974875814421,
          0.17253658643651254,
          0.9354921789175346,
          0.8887960702436523,
          -1.5848489663481657,
          0.21200942754322732,
          1.0354019515664967,
          1.2563703414689185,
          -0.7563633623901929,
          -0.6591919763134065,
          0.7722620814162542,
          0.375770134314924,
          0.8307046346466042,
          -0.5258787152654288,
          -1.200010415700318,
          0.5161636184309464,
          -0.36683768529488575,
          -0.1314061562224643,
          -2.144171208985433,
          1.7863279504788594,
          1.1967926288313464,
          -0.6926517482739845,
          -0.04164779835286984,
          -0.48076085764580395,
          0.31044517813816425,
          0.7423882850960271,
          -1.2872837484012785,
          1.592040017487184,
          0.057429589819077656,
          -1.1251704278318717,
          -0.7447708456081928,
          1.3410943719310735,
          -0.014139563283565783,
          -0.9319339429058847,
          -0.4740559877464846,
          0.5775347639942592,
          1.0001550951331528,
          2.218752031854903,
          1.544910385264766,
          1.4429840437236232,
          0.6523722405196435,
          1.029062819624594,
          -0.8254687509315761,
          -2.1014870297348374,
          0.19601136611196499,
          1.4902022480415098,
          -0.7309607819340207,
          0.05162306493427385,
          0.27203822939080846,
          -1.6790376333895676,
          0.2579180350973084,
          0.8520325745269591,
          -0.5024644929681579,
          0.6364556775774531,
          0.737773013095163,
          -1.0110525598270923,
          -0.6562472252780102,
          0.5102939204898729,
          0.9926190830560875,
          -0.6238241176873055,
          -1.0659617000630242,
          -0.7764639933109039,
          1.9272133826501767,
          -0.075422983331008,
          -0.4677606073681284,
          -0.3110469894887793,
          0.93385304669367,
          -0.9588741061142136,
          -0.1171411914504529,
          -0.24316729801940692,
          -1.0962326776894429,
          0.2576468821346724,
          -0.46466158987782447,
          -1.7202676155654566,
          1.8148240889926086,
          0.4587955563148451,
          0.030122398555038184,
          -1.8023288740076275,
          -1.9763202350003322,
          1.4195383865204072,
          1.3533772837024105,
          -1.942944829538537,
          0.026814104753225307,
          -1.0531269065856637,
          -0.3589232663985266,
          -0.06962203520259641,
          -0.08928779033169304,
          1.1111503693790918,
          1.7905551619710993,
          -0.5862093807271681,
          0.05292474249058822,
          -0.47152806184473117,
          0.9599583237506985,
          -0.2516507353827919,
          -1.20913418009478,
          -0.01772546042054625,
          -0.993273019500498,
          -1.3937089658749855,
          -0.28489361003886815,
          -1.8911463778867725,
          0.3707672695905849,
          -0.07964709508214647,
          -0.7017981999913091,
          0.47055235754087,
          -1.615172761936909,
          0.48313426547219857,
          -0.22195975676084437,
          -1.8976887209933908,
          -0.6452205469146438,
          1.0124324691867987,
          -0.6307438125223365,
          1.2969831399794063,
          0.35806526576064296,
          -1.418699791209336,
          -0.7353343772229362,
          1.2878833472534001,
          0.9803067508992201,
          0.601342421541274,
          0.6816415529743608,
          0.803787990821865,
          1.1068157677612986,
          -0.13148448835897458,
          -0.8777073732975709,
          2.2276048043513472,
          0.21250200711490902,
          -1.1660864109398401,
          2.6910268165316857,
          1.5771570504043386,
          -0.3823979042375539,
          0.8648405873885944,
          -0.19703708224094105,
          1.2004913498609944,
          0.05741435283330417,
          -0.7292326467422241,
          -1.4790031736226226,
          1.0733943958199823,
          -0.4978216090485034,
          1.1704799023613828,
          -0.6259008314728498,
          -0.11073792404236263,
          -0.9184348361061865,
          -0.8722542208249406,
          1.1692739700708366,
          1.094723030747685,
          0.40056095721445945,
          -0.9236016717584281,
          -0.6220591908993538,
          -0.6519413621444492,
          1.0322435159149228,
          0.24883659728867902,
          -0.9306029619222287,
          2.215577357444427,
          1.3374446326664462,
          0.6391932387027096,
          0.6422224775776345,
          -0.24666141150510199,
          -0.23710712584262775,
          0.5517748447711821,
          1.1988345807147953,
          0.8627416340040747,
          0.445455243040398,
          -0.0503606391410191,
          -2.0046649904477687,
          0.7243636287946853,
          0.7390058932473367,
          -0.0259311880622913,
          1.542979776593408,
          0.3923449355779495,
          1.3488573594802544,
          0.4318203093494225,
          -1.044668583779325,
          -0.3256623859470576,
          -1.7215677791888309,
          1.0196625229129501,
          0.8882585932857769,
          -0.5929379333470309,
          -1.7301045516921052,
          -0.6755771290211942,
          -2.0568481622708195,
          1.0728157538461682,
          -0.7663257289535657,
          -0.6402663929562308,
          -0.18091577559410635,
          -0.1641081291454524,
          -0.9561519868594561,
          1.8011771346281529,
          1.0043844434449702,
          0.6744398322876648,
          1.323836417543179,
          -0.9838455555867496,
          0.8686059436308015,
          -1.7113730281593706,
          -0.7655129658605508,
          -0.1357686968674841,
          0.2091232200472861,
          -1.4815058027893613,
          -1.2710270686098062,
          0.7714857616882398,
          -0.3420199222733704,
          -1.3153282338102852,
          0.6247548634654899,
          -1.8395456786039701,
          0.25150192764733487,
          0.16608043215810323,
          -0.12346894306953103,
          -0.5954763760131415,
          0.2517777058183629,
          1.2282550759848654,
          0.13465229058121525,
          -0.9975380560357137,
          1.1386238537033375,
          -1.1817460433952443,
          -1.788136286577961,
          1.6532490965712532,
          0.9963585090107014,
          0.7168571662976441,
          -0.972629196160251,
          1.2264597548546594,
          -0.6919854834299071,
          1.0362303681054847,
          1.2929282053613753,
          -0.8483079964774385,
          -1.2248219260142061,
          0.3038490657931492,
          0.9969336586044134,
          -0.1989247821348292,
          -0.21451654355203803,
          0.5337820523666721,
          0.14660739143662307,
          0.01335794625583191,
          -1.115976508409309,
          -0.5041779551563739,
          1.4168702750340134,
          0.18420062320142327,
          0.3007707311615813,
          -1.7334504318025221,
          0.2867521057568337,
          0.16709558812614533,
          -0.7944015169272921,
          -0.6653294214443332,
          1.6114375526601947,
          0.4032050221600135,
          0.6331552934507417,
          0.6458140866406575,
          0.12093203204637004,
          0.24066097151149962,
          -0.020256678255787024,
          -0.8713668299372404,
          -2.0607977098013315,
          1.1195209876697543,
          -0.6631501011773009,
          -0.7327275685800644,
          1.3914951570996592,
          0.27638510300469543,
          1.39499191061412,
          -0.3023083608830104,
          1.1293318516958444,
          -0.8714186164134695,
          -0.7869432142283326,
          1.2612235051507115,
          0.664414219573942,
          0.8924587870554229,
          1.8876413732151844,
          1.7642482985545218,
          0.3166640761637486,
          1.626497288694542,
          2.5811387218139443,
          0.04237949138293392,
          -1.659812237819975,
          -1.1638262458992727,
          0.9533264644584306,
          0.015916936961423978,
          0.5598328437854009,
          -0.25509503436764547,
          0.5870798661064096,
          -1.1226792494633395,
          -0.4362550307717298,
          -0.21442465065379301,
          -0.16904450616286945,
          1.995377909204497,
          1.296124897083397,
          -0.307827764989788,
          -0.5678568970023988,
          0.9818436218188998,
          0.14585720864786936,
          -1.0572196570272012,
          -0.272465649158019,
          -0.017706503010891182,
          -1.8632404052204063,
          0.7647957609363369,
          -0.309627051111026,
          0.09056319649267332,
          -0.2332494713636555,
          0.9994739274624207,
          -2.048920757996905,
          0.9514129992642317,
          0.7985014579634392,
          1.3443737245130343,
          0.22250192692283013,
          0.06727393615802653,
          1.5484676414047331,
          0.024602350578501117,
          -1.2333229569405852,
          -0.9165766622797454,
          0.8421116891519722,
          -1.569034868182463,
          -0.7724268282156951,
          -0.450928054326519,
          -0.6965149247069672,
          -0.6246468586943001,
          0.13316267294344103,
          -0.6697159152921718,
          -0.44408817379115384,
          0.3862834990869723,
          -1.54711526976128,
          0.13677598973320473,
          0.2894709663658107,
          -0.5114396048837196,
          -0.31127573713625617,
          -0.9381492331710627,
          -2.0241057797816064,
          -1.479835831815551,
          -2.154548858556743,
          -2.0667154714787785,
          0.23273314125152447,
          1.504555249103564,
          1.3410840664291472,
          -0.9107766314672334,
          1.2399151928659597,
          -0.7652763791734304,
          -2.165434673432453,
          0.2851170185000617,
          0.24653693867042298,
          1.1411780846870616,
          1.0998490567431558,
          -0.5776007464920997,
          -0.08306203534333925,
          -0.4130924826144089,
          -0.3991137081568572,
          -0.9471572519293029,
          -0.6214051729599451,
          -0.223774186648889,
          0.20470315393330205,
          0.20987794268547721,
          -1.7805911184330871,
          0.46515240614166037,
          -0.8208144886774289,
          0.0007581532490930384,
          0.6576123352912232,
          -0.2775552781792596,
          0.701091130567243,
          -0.09530474451142328,
          0.7224173716809886,
          -0.7383594678998182,
          -0.1575639697240136,
          -0.10883220565687769,
          0.8699791055191917,
          -1.1363958304191477,
          -2.125837583420424,
          0.7584977474017718,
          -1.645750942229243,
          0.3763575337637396,
          0.36941438543485833,
          -0.3717111910974319,
          0.5981520569270907,
          0.4620523720346374,
          1.0694224237347734,
          0.7030533169208161,
          1.1585022608186577,
          -1.2213099733982742,
          0.12122408292223004,
          1.1683370634043206,
          -0.5778226516339982,
          0.9967662512477271,
          0.6077470175367955,
          -1.9312640894856028,
          -0.13585655311340397,
          0.1300201044146919,
          1.5871740265730505,
          1.0359191972279542,
          -0.14912416275646312,
          -1.339920747822893,
          -0.1612419437967245,
          -0.03600253791270132,
          1.9265500465950292,
          -0.808704475269025,
          0.32315877791340436,
          -1.5441395082786427,
          -0.2771898958141168,
          -0.97467997120938,
          -0.6327310211541399,
          1.091582324864111,
          0.52851320295402,
          -0.996866889338024,
          0.7503317826799026,
          0.15410835141368184,
          1.3978736265106502,
          -2.076832351180296,
          -1.7268082660396538,
          -0.9319014371974509,
          -1.0304594282606692,
          1.209826948616799,
          -1.8679076043806024,
          0.14186460619227526,
          -2.0378132336168386,
          0.5773380080209165,
          0.7450865572277378,
          -0.560590443757585,
          -0.9433714521392755,
          1.4032419916162366,
          1.858493631017658,
          0.2919270907995152,
          -1.6414034654028127,
          0.7919650085470729,
          0.8006780145214879,
          1.151916237389399,
          0.30024279600964565,
          -0.799647552193582,
          -0.6732249805923677,
          -0.4895000417386235,
          0.6418340289651605,
          0.814344229894071,
          -0.23040315252557808,
          -0.9114670825665419,
          -2.040143866745147,
          -0.8958929187387047,
          1.0814101772794806,
          -1.5086648197384203,
          -0.41146886180122266,
          -2.0411074781104914,
          -0.4163307015835304,
          0.4351283900358562,
          -2.0022460682187484,
          -0.8167264805078909,
          -2.045635124517253,
          1.6681601768139191,
          -0.09021473145348632,
          -1.1626803424917873,
          0.4011434287982009,
          1.7571877252976063,
          -2.1009682941117904,
          -0.024191938897901114,
          1.1605070578822927,
          -0.8458782115741611,
          -0.7778423735593921,
          -0.739856619903119,
          -1.3144582086209289,
          0.03807967536044152,
          0.8040599543173049,
          -0.4794606067311593,
          -1.0977365055850234,
          0.5705760702951224,
          0.05205293548138385,
          -1.8847057061696788,
          -0.11644250006075493,
          0.5734927553978102,
          -1.0700867580488542,
          0.1681481382863887,
          -0.039558090841350965,
          -0.9885005970310573,
          1.3933195279705297,
          0.5099953779968368,
          0.04509078893503226,
          0.3904240885233722,
          1.562487542410019,
          0.5698667573701789,
          1.1516531308565652,
          -0.7649969189781071,
          -0.8471288710294806,
          -1.7485913258293513,
          0.535120975057791,
          0.6415988663736015,
          -0.16359308151992552,
          1.1899049979123368,
          0.8620536793259672,
          1.6079428304171022,
          -0.4443897540549961,
          -0.47434831508214403,
          0.5742066596944522,
          0.3974078025753614,
          -0.8313067746964838,
          -0.7262790612263437,
          1.7815677371490815,
          0.5926213244643245,
          -0.24096021531366787,
          -0.4381158041029831,
          0.018457870436396556,
          0.14668105556145966,
          -0.276596208683815,
          -0.45642145125286837,
          -0.179395645484021,
          0.32792309307299977,
          -0.12430799569850874,
          -0.32898934693490917,
          -0.5359593224540606,
          1.324811940016468,
          0.17230336647942385,
          -1.8480258350837993,
          0.8768443260530877,
          0.659964083524084,
          0.2325467288667466,
          1.3182469767740561,
          0.23034817975009406,
          -1.840486400561812,
          0.645388254944726,
          1.8845649441244372,
          0.0020588991647976897,
          0.07260159809628834,
          -0.44855387017110787,
          0.6389079499877981,
          1.437620018238052,
          0.6282582627041632,
          0.12448346139633613,
          0.17258655002937975,
          -0.12964858568064166,
          -0.9877060643337741,
          0.47857238863003754,
          -1.0440169363824738,
          -0.15406361133565824,
          1.0685339879762534,
          1.3060652076383858,
          0.5652719890560292,
          0.3557713435374997,
          0.20917667673614618,
          0.7406547061542643,
          -0.3205150711962272,
          -1.7992782034601476,
          -1.667400211871622,
          -0.6154298786533003,
          0.3307201109984391,
          -1.2063685917053864,
          -0.24375405782111625,
          0.1700902877671208,
          1.3683355582971235,
          -0.12127429246061619,
          0.5371802246342481,
          0.12155351329201375,
          -0.4739195616865013,
          0.23213482326119522,
          -0.08925964075666638,
          0.9846493696535514,
          1.478410002084288,
          0.3024425239851451,
          1.1786406170907673,
          -0.07718063160499634,
          -0.3073342540769441,
          1.4525396428253965,
          -1.9754838653813016,
          -1.8252482633603957,
          -0.005530390370020891,
          -1.8944046319949834,
          -0.3628601650404547,
          0.5588422763563761,
          -0.00018810235007573717,
          0.8458181262833986,
          0.06986111738446288,
          -0.9386432677130456,
          0.760153961543994,
          1.4307011459209809,
          0.2514986694262447,
          -0.7159947591538932,
          1.8150029086056063,
          -1.1920583358254546,
          -0.5956237178787464,
          -0.14793344920015933,
          -2.100332588532381,
          -0.15408638517102685,
          -0.4378759909212978,
          0.8721583939711162,
          0.3926575869918979,
          -0.495052819490742,
          -0.27485573873439106,
          1.472150746909507,
          0.7790361084383197,
          -1.3279076912875099,
          -0.7241475474436544,
          1.6718471800063937,
          -0.8684410204011561,
          -0.9210671473193043,
          -1.713825302291334,
          -0.06235552551471842,
          1.1336230189182084,
          0.24083678744002923,
          2.055877229127016,
          1.0277734430716776,
          -0.48687946106857877,
          0.41642323657108743,
          -0.5027113383718614,
          -0.2747795127778734,
          0.6682222990935165,
          -0.136136404224071,
          -0.38725089426099973,
          -1.3072710106381151,
          0.06864798231160975,
          -1.0766036942179582,
          -0.6341628679375741,
          -1.0186442625847145,
          1.9080298690565574,
          -2.1088214142470907,
          1.3741519387032175,
          0.5015425188798953,
          -1.507333393789298,
          -2.071741895741538,
          0.4166783823711845,
          2.121351355919839,
          -1.9656417255079253,
          -0.9625410480801899,
          -0.00028975035813220593,
          -1.0032898546737028,
          1.368916732577214,
          -0.8612397622123339,
          1.4021486994168733,
          1.058679943369752,
          0.2980689991970298,
          0.6468003655175901,
          -1.0926684467026997,
          1.244282234500308,
          0.8268099614972961,
          -1.1094580111510692,
          0.3913682697319858,
          -1.5390114049786532,
          -1.6414034654028127,
          -0.4808916176749862,
          -0.7738274111906371,
          -1.9876171010280552,
          1.8684666173785394,
          -1.397339504719948,
          0.39572090175544455,
          0.5905585504485403,
          0.18380802576203165,
          1.0093052800259037,
          0.20877828055728986,
          0.3584175882823221,
          0.42721213809971365,
          1.27624748740195,
          -1.4994272063240226,
          1.0441700451589373,
          -0.8331651657631328,
          -2.1200838553997734,
          0.8041039970041405,
          0.2724787147719783,
          -0.7655559934853451,
          -0.6985102711801976,
          -0.8672534768334215,
          1.1912880538939405,
          0.09685267061195989,
          -0.09218375402143122,
          -0.6091561775078125,
          -0.7861050893613235,
          -0.906749929682525,
          0.025537397047841175,
          0.6690310348451091,
          -0.46609265920652904,
          0.30458723646070923,
          -1.6397543729099533,
          0.674438156711742,
          -0.301194014043011,
          -0.11769153054415944,
          -0.2017282468594897,
          0.8613180808980979,
          0.1073303294357441,
          0.8813303365419758,
          -2.002305183250146,
          -2.188536085216247,
          2.1525115118942044,
          1.6568561391697627,
          0.4032538806049294,
          0.8347524135933223,
          -0.4144020599614874,
          0.10802782486837025,
          -0.6208624612103708,
          0.037011550930926645,
          0.6158587302072539,
          -2.1200838553997734,
          1.612975503947297,
          -0.024578760371922793,
          -0.14383161552562165,
          1.6059180631176297,
          -1.0359371615066724,
          -0.8691279026952552,
          -0.9672381269434296,
          -1.0302447796136511,
          1.2589301051718305,
          -0.8428257774260672,
          -0.7932022726326727,
          -0.10810590140685289,
          0.21241215965485313,
          0.09177028117157848,
          -0.23136891241891203,
          0.25949813925772053,
          0.41640776972581073,
          0.44316092730492423,
          0.26910110982809565,
          -0.6185005809198799,
          -1.8379079248705805,
          -1.9043361355655075,
          -0.8021482173149845,
          -0.06495092723690067,
          -1.0348928236149328,
          0.22352548299312225,
          0.5357923357177238
         ],
         "xaxis": "x",
         "y": [
          1.0313661375794427,
          -0.5261817393684773,
          -0.4565307419209273,
          0.16553075430194877,
          0.9429559919351852,
          0.4503556826782049,
          0.45864616702659916,
          0.23367352824797982,
          0.6901625965080991,
          -0.43824649826978707,
          0.8171448710702384,
          1.491457118257812,
          0.47243455614054747,
          0.05551928049989101,
          -2.18515107723206,
          1.3308123813823238,
          -0.8858911459710308,
          -0.14250882197919998,
          1.0274046254004183,
          0.4345448472421773,
          -0.4747217083651831,
          1.2925914887244956,
          -1.117678345357015,
          0.7355108451336414,
          0.2961699489049456,
          0.3543399777652651,
          -0.4041066182681913,
          -1.7695194997668466,
          -1.6681663737133448,
          -0.6705012508707016,
          1.7068415188069959,
          1.1554079079274249,
          -1.544758887982302,
          -0.6669411552479747,
          0.3014435040489972,
          -1.433923255014347,
          -0.6908366963049885,
          1.3546680271683087,
          -0.04694662207158259,
          -1.360107594157542,
          -0.9480245559649622,
          -1.7707355030646417,
          -0.22160249977697052,
          0.681010080857929,
          1.3895285848488312,
          -0.8292625318938012,
          -2.0424880838597326,
          0.019565808856795815,
          -0.22160249977697052,
          0.6677439788028641,
          0.0759690232285225,
          0.9672369965040608,
          -1.0312950768555968,
          -0.06924971200558787,
          -1.9703363277819324,
          -0.11353147357400754,
          -0.46321292573738215,
          -0.22160249977697052,
          -1.1766481657701502,
          -1.3253790334152327,
          0.8481846713250162,
          -1.7922160889906846,
          -0.6481170512685638,
          -0.3211025879849416,
          0.7472632512929188,
          -0.35804414057278355,
          -0.036800788816887677,
          -0.7692363874827343,
          -0.31689975590743663,
          -2.1316763289025378,
          -1.3971041990375188,
          1.3681438642061357,
          0.24488492695137143,
          1.0001768959386987,
          -0.293399685181443,
          0.9582197347286421,
          0.9171606377422457,
          1.0284910710327275,
          -1.4455214507974552,
          1.2199267000038716,
          -1.9835323639538076,
          1.6978109308390625,
          -0.19909283030019262,
          1.446520199681345,
          1.7142433059057018,
          0.016782058702116787,
          -1.4171430460848888,
          0.21254342566657747,
          -1.960232044302321,
          1.0607910219225885,
          -0.45451019928383835,
          0.7827003169917833,
          -0.8563869046060151,
          1.0753184122602497,
          -1.706045614321174,
          1.6151522596141061,
          -0.4107424892997006,
          1.1000097289908999,
          0.6555568347513981,
          -0.8754785055267038,
          -0.439669745692194,
          0.6212073460726621,
          0.2974064139300382,
          -0.7870283191155457,
          -0.4085818519917475,
          1.3546680271683087,
          1.3632808371058711,
          0.11149840754585262,
          -0.1628621035098299,
          0.19697658567091653,
          -0.9367795077824823,
          0.3706131156594548,
          1.8083604000322926,
          -0.07663184885284482,
          1.5116732604224286,
          0.11143192914862939,
          -0.9239693798778512,
          0.3609336701328841,
          -0.22160249977697052,
          0.7176362216592279,
          0.11551736228071659,
          -0.28485853138421835,
          -0.620609389850359,
          0.49890785406717364,
          -0.6258647860226524,
          0.019581310960452368,
          0.3822370004678058,
          0.23710589146393418,
          -1.8960434204966086,
          0.2456670589596972,
          -0.005469915637793938,
          2.299493467903175,
          0.06885713871863484,
          0.6165211904139845,
          -1.1610490664558775,
          0.42182071624045747,
          -0.36076292881482563,
          0.763249823587516,
          0.7441929267765682,
          -1.852438166329828,
          -0.6705012508707016,
          -0.20580833866330953,
          -0.6481170512685638,
          -1.1327491687431375,
          0.9043992755703048,
          -1.4453560096347655,
          0.24049993744850592,
          -0.3768673452347614,
          -0.8637441453991359,
          1.8626911678225453,
          -0.12867735986436532,
          1.0987074959591252,
          -2.1088214142470907,
          -0.8166233164392042,
          0.09043051878896231,
          -1.0583841974243924,
          -0.6084262463588531,
          0.5020353064899421,
          -0.9589462160613506,
          0.84747605479557,
          -0.23626691538963152,
          -1.7634911799904291,
          -0.08870704816581074,
          -0.7094396292315233,
          0.6165211904139845,
          -0.4204252263506474,
          -0.7614703550607966,
          -0.16459786634798113,
          1.692032216919839,
          1.270262392767187,
          -0.8292625318938012,
          0.2658936228541886,
          -0.7279647297168327,
          0.35895668113567386,
          1.3129857404259007,
          -0.4587987583810935,
          -0.06601914119457583,
          1.9116302249759827,
          -0.420525387246784,
          -1.469537071228566,
          -2.021121939304654,
          0.8415965211603885,
          -1.8879135390582185,
          0.5282050207156926,
          0.1759472652489752,
          -0.3662342963886071,
          0.3327991518567471,
          0.5015377170462111,
          -0.5698415969499148,
          2.093862902719001,
          0.09270228778393408,
          0.7158702378726487,
          0.7121949286589981,
          -1.410949791175966,
          -0.12584485556871156,
          -0.293399685181443,
          1.4869214534966346,
          1.0901461378854198,
          -0.8886216195829244,
          0.6490118169702934,
          -0.35804414057278355,
          -1.1976037397678936,
          -0.3091111740440795,
          0.32795322563282014,
          -1.8968652533794697,
          2.3852551374503594,
          0.6906177091548588,
          0.09718064220623182,
          -0.04754589305244706,
          1.5607907022117955,
          -0.6313748719539182,
          1.0476756707884896,
          -1.089039842771229,
          -0.745922758293295,
          0.2755716158165433,
          -0.16021419682977894,
          2.0893254590915125,
          0.8683315737268122,
          0.5282050207156926,
          -1.488843500429828,
          0.16033207416569553,
          -2.202378024488637,
          0.1830835425960532,
          -1.787713562263708,
          0.7501578199219859,
          0.546984779899103,
          0.8416616453359396,
          0.9742687686870778,
          0.45092339659886593,
          0.45913521089631565,
          1.0001768959386987,
          0.16544857404933339,
          1.1229991647887643,
          0.4108286784616502,
          -1.9742901904373735,
          0.3325800776891278,
          0.4503556826782049,
          -1.0505506337499784,
          0.5343863107521537,
          -0.1617236058601951,
          1.1229991647887643,
          -0.6803749109667148,
          -2.092505487714886,
          1.1086628133283774,
          1.2440024155223286,
          -0.5968761305583362,
          0.02450385822521194,
          1.0534723655960223,
          -2.124680119315306,
          -0.35935599776820737,
          -0.6807564155483325,
          -1.792168422440353,
          0.9162664172866712,
          -0.8499656145462515,
          0.5807025703707372,
          0.38379589634538336,
          -2.021121939304654,
          -1.3764749835045857,
          1.1941791858234108,
          -1.7759163414819414,
          0.9058467933498392,
          -1.1505189887127538,
          1.1712102190357492,
          0.02758835345791677,
          -2.1497299037029567,
          -0.7399563404901461,
          0.8438336695680554,
          0.3627876759298171,
          -0.13249147354089322,
          -1.6512471683773893,
          -1.8451099482136892,
          -0.18147604483440427,
          -1.0239170517712894,
          0.7448042385544421,
          -0.8945664425502878,
          0.10523413094099747,
          -0.4204252263506474,
          1.540253133648146,
          -1.460849830332797,
          -0.8679264790306891,
          0.8182563207502133,
          -0.20118837551213364,
          -0.7868046455166186,
          1.0718148340509566,
          -0.5363148418082561,
          -0.7373589064615415,
          0.2546708818498738,
          -0.8107855131972848,
          -0.05257177516407537,
          1.5648936486897567,
          -0.44739390548559094,
          0.786661430955273,
          0.5634213778625283,
          -1.960232044302321,
          0.07091747317936543,
          0.3142081542698898,
          -1.5936472080427444,
          0.19697658567091653,
          -0.15262484356387918,
          0.7158702378726487,
          0.16365035719042745,
          0.09718064220623182,
          -0.3173316197921494,
          0.19697658567091653,
          -0.22166919359133977,
          0.03688785942996304,
          -1.4171430460848888,
          0.3014435040489972,
          -1.7634911799904291,
          -1.3919044950909376,
          0.9766398598885493,
          -0.5736279881436726,
          -0.7057267723378929,
          -1.9127986259890086,
          -0.5364750642149168,
          -0.16445992305873003,
          -0.8697297020894618,
          -0.332244974355232,
          0.8034912215224447,
          -0.7081841397350049,
          -0.29086094025789894,
          -0.4095006855480497,
          1.1918980312292995,
          -0.8705906779090737,
          -1.1250252354899957,
          0.14815906298633205,
          0.9704535173179119,
          0.5231186349143137,
          0.12087423794536489,
          -0.22166919359133977,
          -0.7412313044428754,
          0.46548629874522324,
          0.671644695302125,
          -0.18618272353734838,
          1.8629444161316682,
          1.1325659776503534,
          1.97482474454266,
          1.8152933680382792,
          -1.055298289813857,
          0.6753540270456622,
          0.6050071997797675,
          1.0815319827935814,
          -0.7373109412959464,
          -0.3419823215335539,
          0.2942716483705845,
          -0.5675752318455592,
          -0.8489310432839732,
          -0.5211313549857414,
          0.6628171398524328,
          -0.5008683929821481,
          0.3520343553743629,
          -1.0505506337499784,
          -1.110395725178175,
          1.0232133044923852,
          -0.3842147945769582,
          -1.8598972725836895,
          -1.469537071228566,
          0.40248652706284205,
          0.5938705723781619,
          -1.5692895909804376,
          -0.43750857668368975,
          -0.16609552560287053,
          -0.3173316197921494,
          1.056035223070322,
          -0.6767777267127703,
          -0.8623012859228183,
          -0.359462269493699,
          -0.398836581320913,
          0.4496031331486049,
          0.15025083006494586,
          -0.066246278963588,
          -0.47489593288315735,
          2.423169722069583,
          0.3014435040489972,
          0.8274519043894824,
          1.6946241867964957,
          -0.010160609610777867,
          0.6668883987062557,
          0.49894402221588835,
          -1.5720980322628035,
          1.184126008984247,
          -0.49959311339930396,
          -2.0826377979248547,
          0.8174905416312215,
          -0.7306995557333212,
          -1.4998531007765328,
          0.3666645561160849,
          -0.5657320507303895,
          -1.8721165883422815,
          0.07459415471025661,
          -1.2580584867626647,
          2.9159301128694324,
          -0.9620407129536228,
          -0.6612494298825401,
          0.21135123218305335,
          0.9539049054100985,
          0.8547851984997955,
          0.09613680926465454,
          -0.3009193953583985,
          0.1690769399308847,
          0.02758835345791677,
          0.48865174190138877,
          1.3591972262759007,
          1.3884763334336645,
          1.2639547343153479,
          0.11143192914862939,
          -1.3941150357690413,
          1.0433685069693688,
          -0.8374531157989428,
          1.1129831497502962,
          0.48699666729822433,
          -0.04245707959972444,
          -0.4285996143579692,
          -1.4305490881758036,
          0.8936453788530162,
          0.49060875720150354,
          1.6652810399140952,
          -0.5390132323690335,
          -0.5520488477207481,
          -0.7032457865080017,
          1.5804506526967839,
          0.3649576268792786,
          0.7226837357830994,
          1.5495889419775908,
          0.6359326208769406,
          1.69315807524658,
          -0.49994653248398285,
          0.8438336695680554,
          -0.5150897632935567,
          0.6901625965080991,
          2.2739390210982466,
          1.2192765832459593,
          -0.9834740695893491,
          -0.6495575641303596,
          -1.4089421678026315,
          -0.011889792037631028,
          -0.10705958322917052,
          0.5068322947393429,
          -1.1049028275776824,
          0.0962511692875144,
          -1.2570132668769807,
          0.24256725769377377,
          -0.3499393357841394,
          -1.6512471683773893,
          -0.5705490755101831,
          0.681010080857929,
          0.9829975067102875,
          -1.852438166329828,
          -0.9965199422200964,
          -2.0378132336168386,
          2.3532325793027935,
          -1.4683981878215109,
          -0.005469915637793938,
          0.5043182584780688,
          -0.4185177369820294,
          -1.4529457217744997,
          -1.7599148203449977,
          1.9367371063669045,
          -0.32043672213476687,
          -1.7759163414819414,
          0.05551928049989101,
          -0.009384700680866555,
          0.6462187371830318,
          -0.021159261018411507,
          0.9035411552324835,
          0.19697658567091653,
          0.5105007827947432,
          0.06746132485606592,
          1.7937782760582188,
          -0.9367795077824823,
          -0.7472892337193573,
          0.7301187223101329,
          1.8816705878181073,
          0.7355108451336414,
          -0.557847967001411,
          -1.6889808786777971,
          -1.8361399762468347,
          0.6212073460726621,
          1.0854571605220658,
          0.681010080857929,
          -0.7709335180964384,
          0.3212261907229726,
          -1.6105301964020409,
          -0.5529542111337143,
          0.1441631589495702,
          1.9366661171118789,
          0.31547282968205215,
          0.5015377170462111,
          1.9418749378332514,
          -0.07274886241730392,
          -0.8688702109125007,
          -0.9396328252290701,
          1.2440024155223286,
          -0.1885086594904839,
          -0.6873097047416695,
          -1.326988828635435,
          -2.18515107723206,
          -2.1686525169179935,
          -1.6681663737133448,
          1.306192831011151,
          -0.08870704816581074,
          -0.3893757901310565,
          0.7699407593092541,
          -0.23297850179163934,
          -0.5266580575377486,
          0.5101513890585612,
          1.1215258196398912,
          -1.0329707047580703,
          0.8065906491996719,
          -1.5147059432478311,
          -1.5848489663481657,
          0.4674644398065433,
          -1.8598972725836895,
          1.5756197138920955,
          -0.3033669273814824,
          -0.4029620408486828,
          -0.6827984201462265,
          2.3852551374503594,
          -1.9503715135798538,
          1.3187612296719,
          -0.8141023853932199,
          -0.22726677127346412,
          0.5491679190761235,
          -2.1405997047980736,
          -0.3919935352165019,
          1.2792540811520143,
          -1.1432240060931653,
          0.4703519274872333,
          -0.14257221780378657,
          -0.48034689822857846,
          -0.004011165545410945,
          0.3609336701328841,
          0.11551736228071659,
          -1.1091302447111226,
          -1.595266002037069,
          -0.22828118554291665,
          -0.37022440975741017,
          1.6589010561738318,
          -2.1229502535735096,
          0.5532677688641833,
          0.39445524501369517,
          -0.30702242697285964,
          -0.24600136578117643,
          -0.3211025879849416,
          -0.6902934303471984,
          -1.326988828635435,
          0.19073762283331872,
          0.16518551944098459,
          1.300412853466362,
          -0.6628926329921868,
          -0.7324935149167753,
          -0.4567493905843398,
          -1.2162206868465968,
          1.8858148757974271,
          0.801156666998895,
          -0.6424897858174623,
          1.0593909952908562,
          -1.3842509784560135,
          -0.2680454148285531,
          -2.030901224018199,
          -0.45116987457678037,
          -1.7805911184330871,
          0.6729055198043358,
          -0.21172134690352618,
          -0.7344858835352029,
          1.1836084775247298,
          0.8738743164468757,
          1.0476756707884896,
          -0.20236050067141814,
          1.488514286782029,
          -0.06423047343513044,
          0.067426251196902,
          -1.0175630115834549,
          0.05993059123823528,
          2.565620492807632,
          -1.2361300360204093,
          -0.7421885387416023,
          2.0671702282708018,
          -0.12434998136333507,
          0.3383426231883599,
          0.8442258359328602,
          1.4955953590809379,
          0.12497591155594631,
          -0.060323351403225645,
          -1.7707355030646417,
          1.5804506526967839,
          -1.1827649610757553,
          1.6978109308390625,
          -1.1053723240508042,
          -1.0174797727573848,
          1.0727831391558815,
          -0.13481281414904528,
          1.3278296255358177,
          0.22842762954586684,
          -0.6538601031506782,
          1.3410527034799835,
          -0.4189130726029969,
          -0.3605877836265502,
          -1.5985216193852414,
          0.5015377170462111,
          0.9035411552324835,
          0.4763356732420038,
          -0.49437520062211077,
          0.8582730442333429,
          0.4593541527951283,
          -1.6105301964020409,
          -1.5147059432478311,
          -0.19909283030019262,
          0.12983811014938165,
          -1.1817460433952443,
          -0.2527948322738618,
          -0.5872053193923484,
          1.0321296595474216,
          1.5451504115184742,
          -0.8705906779090737,
          -0.8864076604660915,
          -0.7278348649753783,
          0.5274377835453066,
          -0.2696771629180875,
          0.84747605479557,
          -0.9644161241538529,
          1.5550230668484506,
          -0.5862399713583404,
          -0.8396514252664882,
          0.06164232150859884,
          -1.3764749835045857,
          -0.3460240995999433,
          -0.614317746305277,
          0.5266269182774083,
          -0.6671718151270332,
          -1.8644376157374207,
          0.0599016284002579,
          1.011834777031731,
          2.0074895621399875,
          -1.7074782969178242,
          0.4792639001752898,
          -1.4725609554430055,
          0.274421372946827,
          -0.8637441453991359,
          -0.10740528626035709,
          0.019798296275735382,
          0.12087423794536489,
          1.7183350738220122,
          1.1647289491840052,
          0.7158702378726487,
          1.4270852682974862,
          -0.28378698958419746,
          -1.6463885974205645,
          -1.7957962372592697,
          0.5495555456647586,
          0.3063347520278678,
          0.2840738893031442,
          -0.2527948322738618,
          -1.347795813516569,
          -0.2337847086447742,
          2.06131222917643,
          -0.5515274863165305,
          -2.1399317422759516,
          0.3313119685614322,
          0.3501038868870394,
          -0.10175739651374424,
          0.6840548206940011,
          0.4120510656579832,
          0.012336807181178624,
          -0.5364750642149168,
          0.01572697255558244,
          0.46681819966647636,
          -0.981374294923727,
          -2.202378024488637,
          0.5832112959312826,
          -1.2782850184229047,
          0.46581564395073455,
          -0.9136711323940735,
          -0.5928879567255999,
          0.9309272536269075,
          0.49894402221588835,
          -1.1731931347323792,
          -0.7916404995826575,
          -0.9644161241538529,
          -0.5261817393684773,
          -2.0504024009702255,
          -0.005469915637793938,
          -0.4005292835000768,
          -0.8181988732703976,
          -0.44492547931827237,
          1.0665421006862457,
          -1.0329707047580703,
          0.6270033452627356,
          -0.16507835642082758,
          0.21122028409325816,
          0.12965643231783813,
          -1.2318650434578258,
          0.4943053346389407,
          1.9753347148668587,
          -0.9179290100067509,
          -0.586661844443344,
          -0.2663788916000669,
          -0.19637340181886,
          0.4118769689662371,
          2.299493467903175,
          1.6218394643239167,
          0.5157728817152949,
          -1.261612889008517,
          1.6973935747647397,
          -1.4510153412021618,
          -0.32532980053135274,
          0.10188213244837103,
          1.419551318352828,
          -0.22494710778837845,
          0.13540365779535954,
          0.5831734563988153,
          -1.9734963447662108,
          -1.488843500429828,
          0.5532677688641833,
          0.3616085964108757,
          -0.49437520062211077,
          -1.326988828635435,
          1.5316309174002125,
          1.3410527034799835,
          -0.28256657475727487,
          1.3121836132994227,
          -1.9320509342079992,
          -0.4159474821093095,
          -0.2893764357532521,
          -0.2784391483138914,
          -0.5343346823477255,
          1.309703642542805,
          -0.4443436682562126,
          0.7354847871722346,
          -0.9332359308114662,
          0.9911864419614931,
          -1.053986583973802,
          -0.07437496993295785,
          0.01640390704085106,
          0.49665034571352923,
          -2.047217936763279,
          2.0311531866725128,
          0.1506429216819371,
          0.3609336701328841,
          -0.3919202678747202,
          -2.0424880838597326,
          -1.3700046891506912,
          2.285505841302759,
          -2.0520041572203827,
          1.0753184122602497,
          -0.11353147357400754,
          -0.20006148617958003,
          0.7535857156316571,
          0.2961699489049456,
          -1.4082482585305334,
          1.3832841751089409,
          -1.6737090352239223,
          0.2137519626197794,
          -0.6543362164664808,
          0.49146933636775864,
          -0.26235430189066095,
          -0.5665763807080317,
          -0.6826880123275038,
          0.652433951893578,
          0.24256725769377377,
          -1.6877025732007194,
          -1.360107594157542,
          -0.4542638096605312,
          0.24009291857288648,
          -1.3422229663514376,
          0.5187129045427763,
          -1.7224367522458097,
          2.0662214515004433,
          0.0962511692875144,
          -2.114412607125915,
          -0.7460380931703322,
          1.1446518355066695,
          -0.2787860855018538,
          0.27762380301709627,
          0.9916195712311583,
          0.6555568347513981,
          -1.1254609450469868,
          0.9470736284156082,
          1.6106511372634191,
          1.2546599108336038,
          0.12689572567214152,
          0.8740935675161235,
          0.5944663673927679,
          0.5424565644067797,
          -0.42338989397669974,
          1.0094452640508997,
          1.1221638629192838,
          0.6888069397671133,
          0.3401689266256809,
          0.9039307385350256,
          -0.2337847086447742,
          0.5381616444413924,
          -1.410949791175966,
          -0.7542163285941208,
          1.3884763334336645,
          -0.29017399482643413,
          1.4925796091264627,
          0.1189414128872805,
          -1.044654546901985,
          1.645755238832587,
          -0.11960043453452604,
          -0.4782463355720833,
          0.2217719310253474,
          0.8992266589322808,
          0.16887958440236925,
          1.3393761454913267,
          1.0170837416657703,
          -0.33724772369121764,
          0.596561798031893,
          -1.0565554638167958,
          1.97482474454266,
          -0.3423030010705719,
          -0.42338989397669974,
          2.232015613875642,
          0.5190754260585456,
          0.6744947514579687,
          -1.1646326860445135,
          -0.2926245114426354,
          -0.8181988732703976,
          0.6891447992100143,
          0.7971391150443816,
          1.162859574402695,
          0.6520135611739433,
          0.8765498823257467,
          -2.0424880838597326,
          -0.004941035474420248,
          0.5128864307134492,
          1.2724232757043763,
          0.6274248656334812,
          -0.6575072037023056,
          1.8560925274741338,
          0.5684674965446045,
          -1.0724227114608726,
          -0.31104110107594735,
          -0.3847880498664188,
          -0.3840051281538972,
          0.3379401405330966,
          0.31308614071110175,
          -1.871301571962122,
          0.16518551944098459,
          -1.3678518432113353,
          0.6399883104736458,
          0.47243455614054747,
          -0.4564462463276499,
          1.1794261506919645,
          0.0032093322448212063,
          -0.009384700680866555,
          1.959375888459564,
          -0.4419943849986572,
          -0.9296529137418261,
          1.7988616891558948,
          -0.289092211928061,
          0.008832042425084442,
          -1.2606769672739173,
          -0.8497158892769494,
          0.2945873787332263,
          -0.4029620408486828,
          -0.9248017303540722,
          -2.163516574761734,
          0.5799119646776121,
          -0.9522069505466475,
          -2.047217936763279,
          -0.5829190447701762,
          -2.0915378428996387,
          -0.20002794229548804,
          0.7025629318650277,
          -0.8693857277601702,
          0.1764457886273991,
          -0.5294596555834017,
          0.39445524501369517,
          0.8765957991053552,
          0.23287341274878773,
          0.8665417284244027,
          -1.7707355030646417,
          0.1861059382152933,
          2.139602673658432,
          0.7102652216968368,
          -0.4005292835000768,
          0.1905460539503371,
          -0.35804414057278355,
          -0.7937603632078656,
          0.4609685824002274,
          1.1033909266963693,
          1.2100211517468344,
          -0.47062939665730585,
          0.4337952425952098,
          0.0037748478003186126,
          -1.2417951899860715,
          0.07771502981532497,
          -1.4171430460848888,
          0.6777808440573948,
          1.7068415188069959,
          -1.488843500429828,
          0.8442258359328602,
          -1.1432240060931653,
          0.23573167354252422,
          0.11143192914862939,
          -1.6869738109047432,
          -0.2309274341748196,
          -0.37540464502145193,
          -0.2696771629180875,
          0.7535857156316571,
          -1.3313761030454865,
          -0.4419943849986572,
          -0.29053485811927077,
          0.3656738788108901,
          0.1349685871592883,
          -0.2864197606561904,
          -1.5898930766518304,
          -0.4041066182681913,
          -1.9619844881422783,
          1.052579038393521,
          -0.6885267667273782,
          -0.24600136578117643,
          -0.6550944050503487,
          0.004886498993453179,
          1.6652810399140952,
          0.8442258359328602,
          0.9446622905104037,
          -1.1994278101696407,
          -0.753908722011245,
          1.1446518355066695,
          -0.2784391483138914,
          -0.03468018445443063,
          1.0234255231719827,
          0.667979861839619,
          -0.2309274341748196,
          -0.4542638096605312,
          -0.13352199048912003,
          0.10897549130320326,
          0.1472975551965533,
          -1.1083001271691693,
          -1.8332417262654357,
          0.07807055277617443,
          0.6333587504859313,
          -0.6481170512685638,
          -0.18095652938446652,
          -0.6829343392691937,
          -0.202796814834324,
          0.6212073460726621,
          -1.3252136099613214,
          1.148493290473952,
          1.0001768959386987,
          -1.1130253859525276,
          0.7833712968609946,
          -0.06423047343513044,
          -0.036800434693921115,
          -0.3714866388066395,
          -0.2696771629180875,
          -0.23945519196468476,
          -2.0378132336168386,
          1.3599023025527748,
          0.5489783238034738,
          0.2989271069990426,
          -0.6873097047416695,
          1.5310283144072792,
          -1.9619844881422783,
          -1.4561956403888556,
          1.3794100606091153,
          1.0727831391558815,
          -0.11578327065215661,
          0.2708112911502045,
          1.1984424209391815,
          -0.517418346029975,
          -2.061751423810341,
          -0.4038468779463917,
          -0.4062835753775011,
          -0.5297873910491901,
          0.4736472896136144,
          -1.2855384310916917,
          0.7264880537828556,
          -1.014941765853034,
          1.5116732604224286,
          -0.507366827158493,
          -0.7762616066054804,
          0.38148676589603997,
          -0.6951732041422822,
          -0.2936049548040509,
          -0.22941864853416927,
          -0.10705958322917052,
          -1.4245198608495642,
          -0.6364325885612679,
          -2.0520041572203827,
          -0.33719476018854416,
          -2.0992225456715237,
          -0.7032457865080017,
          -0.8385048840396975,
          0.8514848987620229,
          1.0718148340509566,
          0.16544857404933339,
          0.9984565047548511,
          -0.4000384983092258,
          -1.3131562359326383,
          0.16139688552928896,
          -0.9136711323940735,
          -0.7278024039552559,
          -0.5968822083090043,
          -0.5242284121224299,
          -0.9224653971314554,
          0.6113469135923105,
          0.5678130129805344,
          -0.08332549931740417,
          0.3212261907229726,
          1.162846290410904,
          -1.2209839227957513,
          -0.36076292881482563,
          -2.006524548774234,
          -0.7041540861109471,
          0.7640284715695587,
          0.29498818419075723,
          -0.17555717194486078,
          0.6140887877730505,
          -0.5305975392516854,
          -0.19909283030019262,
          -0.8393059538791692,
          1.085655406423859,
          -0.420525387246784,
          0.8987510250152916,
          1.2777974730861443,
          0.8765957991053552,
          1.4955953590809379,
          -2.119587464762438,
          -0.6455301831496362,
          0.6664906876896043,
          0.5424565644067797,
          1.09814864917436,
          -0.2630631493215828,
          0.8438336695680554,
          -0.7278348649753783,
          0.8267757332383088,
          0.5487037726138738,
          0.1964545386361761,
          -1.0986210085819432,
          0.021913200172866718,
          -0.10740528626035709,
          3.4566776833524817,
          -0.9145281493866761,
          -2.04805025972874,
          -0.009384700680866555,
          0.07696290574880932,
          0.949388589433348,
          -0.29833097531889785,
          0.7355108451336414,
          -1.6897863294553854,
          0.87476692397917,
          -0.36917606399992475,
          1.545394887694746,
          -0.7788032580868843,
          -0.07015412027236376,
          -0.5294596555834017,
          -0.1533614532174206,
          1.561869858802466,
          -0.6049452932685645,
          1.4869214534966346,
          0.23367352824797982,
          0.024608625139913007,
          0.03207782464732496,
          0.5634213778625283,
          1.545394887694746,
          -1.989674962530913,
          -2.006524548774234,
          -0.650599122130521,
          0.9063202088721368,
          -0.8166233164392042,
          -2.0915378428996387,
          -0.21524312285510586,
          -1.6877025732007194,
          -0.35804414057278355,
          0.1877025968157621,
          -0.029794855531091687,
          -1.842662270658078,
          0.650476083225451,
          1.8132681957201922,
          -1.4082482585305334,
          -1.0698926054166464,
          1.2667567183849677,
          0.4614309834636185,
          -0.005469915637793938,
          1.0094190420660085,
          -0.18964175248817222,
          -0.8499656145462515,
          -0.9026219920095034,
          -0.516311201647651,
          0.21229091510816353,
          -0.2346484313817165,
          -0.5465140202202866,
          -2.1436196338895335,
          0.7852941367938673,
          -1.0587142466060784,
          -1.0565554638167958,
          -0.07300746562220911,
          -1.7277508555812084,
          0.6668883987062557,
          -0.9897131066019641,
          -2.202378024488637,
          1.6909965659772024,
          -1.787713562263708,
          1.196289871114446,
          1.0001768959386987,
          -0.5178642615084346,
          1.5532871721384622,
          0.6339416374987363,
          -2.0424880838597326,
          -0.12947482698479823,
          1.2094560282903126,
          -1.2154168469196889,
          0.9361129088982101,
          -0.3669519158634513,
          -1.2915656649708172,
          1.6739383339760445,
          -0.16445992305873003,
          0.16199414073511192,
          0.45798893324385137,
          2.075676949058334,
          0.1506429216819371,
          -1.2580584867626647,
          0.652433951893578,
          1.0568190882457933,
          0.008832042425084442,
          -0.9523876388099672,
          0.31369459370946745,
          -0.8627736963858654,
          1.166999921321027,
          -1.1566848384624142,
          0.8617436335584172,
          -1.5452412272539828,
          1.9972769223938236,
          0.6336792144597776,
          0.4821543533150328,
          0.03567585005040361,
          -0.011889792037631028,
          -0.2891029854896293,
          0.09270228778393408,
          0.5015377170462111,
          -1.5603179655329273,
          -1.308091874355222,
          -1.1711511962178496,
          1.9116302249759827,
          -0.5479513500242461,
          -1.1687001748837815,
          -0.37022440975741017,
          0.2015274175032402,
          0.8274519043894824,
          -0.4253294112218127,
          0.23688305608212742,
          0.9539049054100985,
          -0.9480245559649622,
          -0.31842355665932776,
          0.9117866228504897,
          0.347309561074688,
          -0.904402072746202,
          0.36936014102128883,
          -1.6105301964020409,
          -0.9480245559649622,
          0.4555013401151273,
          0.16698910769942155,
          -0.2897208006303478,
          1.0529428319470455,
          -0.5003805971418378,
          1.924903173319489,
          2.075676949058334,
          0.09718064220623182,
          0.16365035719042745,
          -0.28876372034260517,
          0.0933121861124372,
          1.139392931761408,
          0.412927345015833,
          -1.5147059432478311,
          -0.1885086594904839,
          -1.1724593135822925,
          0.6888069397671133,
          -0.6049452932685645,
          1.6852728148081086,
          -1.0466706634263447,
          0.9326265775065131,
          0.5861413174584752,
          -0.2615061964482469,
          -1.2151826523442935,
          0.43067571672547533,
          0.416178482547146,
          -1.9223123046194328,
          -0.6121466933291574,
          0.8590083804965972,
          -0.11477193798641866,
          -0.18028411708663486,
          -0.36883670962136794,
          1.8083604000322926,
          0.37798472073186323,
          0.4051337676156449,
          -1.8976887209933908,
          0.059751549947401686,
          -0.5736279881436726,
          0.1590618519684861,
          -0.49486335180827373,
          -0.3460240995999433,
          2.0662214515004433,
          0.024608625139913007,
          1.4277495170918484,
          0.3449097741424626,
          -1.6699593773436006,
          1.6652810399140952,
          1.3901936545086502,
          -0.4419943849986572,
          1.7937782760582188,
          -1.1327491687431375,
          1.8083604000322926,
          -2.181795176079367,
          1.0477167234453473,
          1.3653802351994797,
          -1.7599148203449977,
          -2.047217936763279,
          -0.8428801222721901,
          0.127486098344674,
          0.4593541527951283,
          1.2989328777723381,
          -0.6669155327471357,
          0.5883499075725713,
          0.4605913607089088,
          2.2306665579961087,
          1.1854501880517767,
          0.09613680926465454,
          -1.058742346316851,
          0.4719824457321438,
          1.3632808371058711,
          -0.3202247753925884,
          -0.9791744158934402,
          -1.3518182396040324,
          -2.18515107723206,
          0.48453268318242115,
          0.29551155029645904,
          -0.8848829498907635,
          -1.1327491687431375,
          -0.018841902233268017,
          0.49279502015259896,
          -2.178467865415832,
          1.2711169973087946,
          -0.202796814834324,
          0.45864616702659916,
          1.8083604000322926,
          -1.2417951899860715,
          -1.3317913513656132,
          -1.1542088874647731,
          0.4477740535891263,
          0.6888069397671133,
          -0.34523352503163085,
          1.423150308190406,
          1.0987074959591252,
          0.2859702201801371,
          1.722958958265276,
          -0.775948265317086,
          0.5491679190761235,
          1.0987074959591252,
          0.5497274767484717,
          0.19310038893247314,
          0.16139688552928896,
          -0.5899477847456132,
          0.27453021589475846,
          -0.4790945698543895,
          2.6016611518078756,
          1.664422999191724,
          -1.6468446389223441,
          0.788960396485663,
          1.9367371063669045,
          -1.0505506337499784,
          -2.18515107723206,
          1.3410527034799835,
          2.2739390210982466,
          -1.7756346721234635,
          -1.8878368730860156,
          0.7301187223101329,
          -0.9352673746770839,
          -1.0114538488313467,
          -0.011889792037631028,
          0.1010736038976619,
          0.87476692397917,
          -0.6455301831496362,
          0.2015274175032402,
          -0.22494710778837845,
          2.0841334284006727,
          -0.24897646838188717,
          0.5747759105136341,
          -0.26354508429434265,
          -1.88152247981783,
          -1.5692895909804376,
          -1.073203886122886,
          -0.5673213746984141,
          -2.178467865415832,
          1.9340816824345857,
          -0.29477596010613843,
          -0.6257757257794995,
          1.540253133648146,
          -1.3320492801844293,
          -0.28485853138421835,
          0.26464255134937636,
          -0.09798674619361473,
          -1.7074782969178242,
          1.4617790843761413,
          1.5550230668484506,
          2.7075210223786668,
          -0.3249309666403762,
          -1.4903767768788883,
          0.4287827659004277,
          0.8531377310176724,
          -0.4623489976192842,
          -0.6839548804601506,
          -0.42941610898468274,
          0.8520691850634384,
          -0.5928879567255999,
          0.3438776725744382,
          -0.36114060595330255,
          -1.914512139912818,
          -0.7421885387416023,
          0.34504974127597904,
          -0.02152886002816916,
          1.1229991647887643,
          0.258845607667761,
          -1.2417951899860715,
          0.24488492695137143,
          -0.18964175248817222,
          -0.8500558237724595,
          -0.6048101421026624,
          1.011834777031731,
          0.3852722420897081,
          -0.3677473646377216,
          -0.9579746521410939,
          -1.5609604374148152,
          2.139602673658432,
          0.6212073460726621,
          0.1506429216819371,
          1.0512031972590299,
          0.6888069397671133,
          1.029351981491805,
          -1.6889808786777971,
          2.423169722069583,
          1.69315807524658,
          -2.006524548774234,
          -0.5297873910491901,
          -0.5176564093249111,
          0.21467748353258997,
          0.7121949286589981,
          -0.4000384983092258,
          -1.3152193909853198,
          -0.11708921303523805,
          -1.161675816698499,
          1.4750968915805807,
          -0.9239693798778512,
          -0.7327314244813894,
          -0.028148756519848342,
          -0.3826498838019892,
          0.4995802314423302,
          0.19697658567091653,
          0.3313119685614322,
          -0.17555717194486078,
          0.9039307385350256,
          -1.456407487263799,
          0.059751549947401686,
          -0.7016395674121816,
          -1.6414034654028127,
          0.7833712968609946,
          -1.0217708872483042,
          -1.1766481657701502,
          -0.8499656145462515,
          -0.28876372034260517
         ],
         "yaxis": "y"
        }
       ],
       "layout": {
        "legend": {
         "tracegroupgap": 0
        },
        "margin": {
         "t": 60
        },
        "template": {
         "data": {
          "bar": [
           {
            "error_x": {
             "color": "#2a3f5f"
            },
            "error_y": {
             "color": "#2a3f5f"
            },
            "marker": {
             "line": {
              "color": "#E5ECF6",
              "width": 0.5
             },
             "pattern": {
              "fillmode": "overlay",
              "size": 10,
              "solidity": 0.2
             }
            },
            "type": "bar"
           }
          ],
          "barpolar": [
           {
            "marker": {
             "line": {
              "color": "#E5ECF6",
              "width": 0.5
             },
             "pattern": {
              "fillmode": "overlay",
              "size": 10,
              "solidity": 0.2
             }
            },
            "type": "barpolar"
           }
          ],
          "carpet": [
           {
            "aaxis": {
             "endlinecolor": "#2a3f5f",
             "gridcolor": "white",
             "linecolor": "white",
             "minorgridcolor": "white",
             "startlinecolor": "#2a3f5f"
            },
            "baxis": {
             "endlinecolor": "#2a3f5f",
             "gridcolor": "white",
             "linecolor": "white",
             "minorgridcolor": "white",
             "startlinecolor": "#2a3f5f"
            },
            "type": "carpet"
           }
          ],
          "choropleth": [
           {
            "colorbar": {
             "outlinewidth": 0,
             "ticks": ""
            },
            "type": "choropleth"
           }
          ],
          "contour": [
           {
            "colorbar": {
             "outlinewidth": 0,
             "ticks": ""
            },
            "colorscale": [
             [
              0,
              "#0d0887"
             ],
             [
              0.1111111111111111,
              "#46039f"
             ],
             [
              0.2222222222222222,
              "#7201a8"
             ],
             [
              0.3333333333333333,
              "#9c179e"
             ],
             [
              0.4444444444444444,
              "#bd3786"
             ],
             [
              0.5555555555555556,
              "#d8576b"
             ],
             [
              0.6666666666666666,
              "#ed7953"
             ],
             [
              0.7777777777777778,
              "#fb9f3a"
             ],
             [
              0.8888888888888888,
              "#fdca26"
             ],
             [
              1,
              "#f0f921"
             ]
            ],
            "type": "contour"
           }
          ],
          "contourcarpet": [
           {
            "colorbar": {
             "outlinewidth": 0,
             "ticks": ""
            },
            "type": "contourcarpet"
           }
          ],
          "heatmap": [
           {
            "colorbar": {
             "outlinewidth": 0,
             "ticks": ""
            },
            "colorscale": [
             [
              0,
              "#0d0887"
             ],
             [
              0.1111111111111111,
              "#46039f"
             ],
             [
              0.2222222222222222,
              "#7201a8"
             ],
             [
              0.3333333333333333,
              "#9c179e"
             ],
             [
              0.4444444444444444,
              "#bd3786"
             ],
             [
              0.5555555555555556,
              "#d8576b"
             ],
             [
              0.6666666666666666,
              "#ed7953"
             ],
             [
              0.7777777777777778,
              "#fb9f3a"
             ],
             [
              0.8888888888888888,
              "#fdca26"
             ],
             [
              1,
              "#f0f921"
             ]
            ],
            "type": "heatmap"
           }
          ],
          "heatmapgl": [
           {
            "colorbar": {
             "outlinewidth": 0,
             "ticks": ""
            },
            "colorscale": [
             [
              0,
              "#0d0887"
             ],
             [
              0.1111111111111111,
              "#46039f"
             ],
             [
              0.2222222222222222,
              "#7201a8"
             ],
             [
              0.3333333333333333,
              "#9c179e"
             ],
             [
              0.4444444444444444,
              "#bd3786"
             ],
             [
              0.5555555555555556,
              "#d8576b"
             ],
             [
              0.6666666666666666,
              "#ed7953"
             ],
             [
              0.7777777777777778,
              "#fb9f3a"
             ],
             [
              0.8888888888888888,
              "#fdca26"
             ],
             [
              1,
              "#f0f921"
             ]
            ],
            "type": "heatmapgl"
           }
          ],
          "histogram": [
           {
            "marker": {
             "pattern": {
              "fillmode": "overlay",
              "size": 10,
              "solidity": 0.2
             }
            },
            "type": "histogram"
           }
          ],
          "histogram2d": [
           {
            "colorbar": {
             "outlinewidth": 0,
             "ticks": ""
            },
            "colorscale": [
             [
              0,
              "#0d0887"
             ],
             [
              0.1111111111111111,
              "#46039f"
             ],
             [
              0.2222222222222222,
              "#7201a8"
             ],
             [
              0.3333333333333333,
              "#9c179e"
             ],
             [
              0.4444444444444444,
              "#bd3786"
             ],
             [
              0.5555555555555556,
              "#d8576b"
             ],
             [
              0.6666666666666666,
              "#ed7953"
             ],
             [
              0.7777777777777778,
              "#fb9f3a"
             ],
             [
              0.8888888888888888,
              "#fdca26"
             ],
             [
              1,
              "#f0f921"
             ]
            ],
            "type": "histogram2d"
           }
          ],
          "histogram2dcontour": [
           {
            "colorbar": {
             "outlinewidth": 0,
             "ticks": ""
            },
            "colorscale": [
             [
              0,
              "#0d0887"
             ],
             [
              0.1111111111111111,
              "#46039f"
             ],
             [
              0.2222222222222222,
              "#7201a8"
             ],
             [
              0.3333333333333333,
              "#9c179e"
             ],
             [
              0.4444444444444444,
              "#bd3786"
             ],
             [
              0.5555555555555556,
              "#d8576b"
             ],
             [
              0.6666666666666666,
              "#ed7953"
             ],
             [
              0.7777777777777778,
              "#fb9f3a"
             ],
             [
              0.8888888888888888,
              "#fdca26"
             ],
             [
              1,
              "#f0f921"
             ]
            ],
            "type": "histogram2dcontour"
           }
          ],
          "mesh3d": [
           {
            "colorbar": {
             "outlinewidth": 0,
             "ticks": ""
            },
            "type": "mesh3d"
           }
          ],
          "parcoords": [
           {
            "line": {
             "colorbar": {
              "outlinewidth": 0,
              "ticks": ""
             }
            },
            "type": "parcoords"
           }
          ],
          "pie": [
           {
            "automargin": true,
            "type": "pie"
           }
          ],
          "scatter": [
           {
            "fillpattern": {
             "fillmode": "overlay",
             "size": 10,
             "solidity": 0.2
            },
            "type": "scatter"
           }
          ],
          "scatter3d": [
           {
            "line": {
             "colorbar": {
              "outlinewidth": 0,
              "ticks": ""
             }
            },
            "marker": {
             "colorbar": {
              "outlinewidth": 0,
              "ticks": ""
             }
            },
            "type": "scatter3d"
           }
          ],
          "scattercarpet": [
           {
            "marker": {
             "colorbar": {
              "outlinewidth": 0,
              "ticks": ""
             }
            },
            "type": "scattercarpet"
           }
          ],
          "scattergeo": [
           {
            "marker": {
             "colorbar": {
              "outlinewidth": 0,
              "ticks": ""
             }
            },
            "type": "scattergeo"
           }
          ],
          "scattergl": [
           {
            "marker": {
             "colorbar": {
              "outlinewidth": 0,
              "ticks": ""
             }
            },
            "type": "scattergl"
           }
          ],
          "scattermapbox": [
           {
            "marker": {
             "colorbar": {
              "outlinewidth": 0,
              "ticks": ""
             }
            },
            "type": "scattermapbox"
           }
          ],
          "scatterpolar": [
           {
            "marker": {
             "colorbar": {
              "outlinewidth": 0,
              "ticks": ""
             }
            },
            "type": "scatterpolar"
           }
          ],
          "scatterpolargl": [
           {
            "marker": {
             "colorbar": {
              "outlinewidth": 0,
              "ticks": ""
             }
            },
            "type": "scatterpolargl"
           }
          ],
          "scatterternary": [
           {
            "marker": {
             "colorbar": {
              "outlinewidth": 0,
              "ticks": ""
             }
            },
            "type": "scatterternary"
           }
          ],
          "surface": [
           {
            "colorbar": {
             "outlinewidth": 0,
             "ticks": ""
            },
            "colorscale": [
             [
              0,
              "#0d0887"
             ],
             [
              0.1111111111111111,
              "#46039f"
             ],
             [
              0.2222222222222222,
              "#7201a8"
             ],
             [
              0.3333333333333333,
              "#9c179e"
             ],
             [
              0.4444444444444444,
              "#bd3786"
             ],
             [
              0.5555555555555556,
              "#d8576b"
             ],
             [
              0.6666666666666666,
              "#ed7953"
             ],
             [
              0.7777777777777778,
              "#fb9f3a"
             ],
             [
              0.8888888888888888,
              "#fdca26"
             ],
             [
              1,
              "#f0f921"
             ]
            ],
            "type": "surface"
           }
          ],
          "table": [
           {
            "cells": {
             "fill": {
              "color": "#EBF0F8"
             },
             "line": {
              "color": "white"
             }
            },
            "header": {
             "fill": {
              "color": "#C8D4E3"
             },
             "line": {
              "color": "white"
             }
            },
            "type": "table"
           }
          ]
         },
         "layout": {
          "annotationdefaults": {
           "arrowcolor": "#2a3f5f",
           "arrowhead": 0,
           "arrowwidth": 1
          },
          "autotypenumbers": "strict",
          "coloraxis": {
           "colorbar": {
            "outlinewidth": 0,
            "ticks": ""
           }
          },
          "colorscale": {
           "diverging": [
            [
             0,
             "#8e0152"
            ],
            [
             0.1,
             "#c51b7d"
            ],
            [
             0.2,
             "#de77ae"
            ],
            [
             0.3,
             "#f1b6da"
            ],
            [
             0.4,
             "#fde0ef"
            ],
            [
             0.5,
             "#f7f7f7"
            ],
            [
             0.6,
             "#e6f5d0"
            ],
            [
             0.7,
             "#b8e186"
            ],
            [
             0.8,
             "#7fbc41"
            ],
            [
             0.9,
             "#4d9221"
            ],
            [
             1,
             "#276419"
            ]
           ],
           "sequential": [
            [
             0,
             "#0d0887"
            ],
            [
             0.1111111111111111,
             "#46039f"
            ],
            [
             0.2222222222222222,
             "#7201a8"
            ],
            [
             0.3333333333333333,
             "#9c179e"
            ],
            [
             0.4444444444444444,
             "#bd3786"
            ],
            [
             0.5555555555555556,
             "#d8576b"
            ],
            [
             0.6666666666666666,
             "#ed7953"
            ],
            [
             0.7777777777777778,
             "#fb9f3a"
            ],
            [
             0.8888888888888888,
             "#fdca26"
            ],
            [
             1,
             "#f0f921"
            ]
           ],
           "sequentialminus": [
            [
             0,
             "#0d0887"
            ],
            [
             0.1111111111111111,
             "#46039f"
            ],
            [
             0.2222222222222222,
             "#7201a8"
            ],
            [
             0.3333333333333333,
             "#9c179e"
            ],
            [
             0.4444444444444444,
             "#bd3786"
            ],
            [
             0.5555555555555556,
             "#d8576b"
            ],
            [
             0.6666666666666666,
             "#ed7953"
            ],
            [
             0.7777777777777778,
             "#fb9f3a"
            ],
            [
             0.8888888888888888,
             "#fdca26"
            ],
            [
             1,
             "#f0f921"
            ]
           ]
          },
          "colorway": [
           "#636efa",
           "#EF553B",
           "#00cc96",
           "#ab63fa",
           "#FFA15A",
           "#19d3f3",
           "#FF6692",
           "#B6E880",
           "#FF97FF",
           "#FECB52"
          ],
          "font": {
           "color": "#2a3f5f"
          },
          "geo": {
           "bgcolor": "white",
           "lakecolor": "white",
           "landcolor": "#E5ECF6",
           "showlakes": true,
           "showland": true,
           "subunitcolor": "white"
          },
          "hoverlabel": {
           "align": "left"
          },
          "hovermode": "closest",
          "mapbox": {
           "style": "light"
          },
          "paper_bgcolor": "white",
          "plot_bgcolor": "#E5ECF6",
          "polar": {
           "angularaxis": {
            "gridcolor": "white",
            "linecolor": "white",
            "ticks": ""
           },
           "bgcolor": "#E5ECF6",
           "radialaxis": {
            "gridcolor": "white",
            "linecolor": "white",
            "ticks": ""
           }
          },
          "scene": {
           "xaxis": {
            "backgroundcolor": "#E5ECF6",
            "gridcolor": "white",
            "gridwidth": 2,
            "linecolor": "white",
            "showbackground": true,
            "ticks": "",
            "zerolinecolor": "white"
           },
           "yaxis": {
            "backgroundcolor": "#E5ECF6",
            "gridcolor": "white",
            "gridwidth": 2,
            "linecolor": "white",
            "showbackground": true,
            "ticks": "",
            "zerolinecolor": "white"
           },
           "zaxis": {
            "backgroundcolor": "#E5ECF6",
            "gridcolor": "white",
            "gridwidth": 2,
            "linecolor": "white",
            "showbackground": true,
            "ticks": "",
            "zerolinecolor": "white"
           }
          },
          "shapedefaults": {
           "line": {
            "color": "#2a3f5f"
           }
          },
          "ternary": {
           "aaxis": {
            "gridcolor": "white",
            "linecolor": "white",
            "ticks": ""
           },
           "baxis": {
            "gridcolor": "white",
            "linecolor": "white",
            "ticks": ""
           },
           "bgcolor": "#E5ECF6",
           "caxis": {
            "gridcolor": "white",
            "linecolor": "white",
            "ticks": ""
           }
          },
          "title": {
           "x": 0.05
          },
          "xaxis": {
           "automargin": true,
           "gridcolor": "white",
           "linecolor": "white",
           "ticks": "",
           "title": {
            "standoff": 15
           },
           "zerolinecolor": "white",
           "zerolinewidth": 2
          },
          "yaxis": {
           "automargin": true,
           "gridcolor": "white",
           "linecolor": "white",
           "ticks": "",
           "title": {
            "standoff": 15
           },
           "zerolinecolor": "white",
           "zerolinewidth": 2
          }
         }
        },
        "xaxis": {
         "anchor": "y",
         "domain": [
          0,
          1
         ],
         "title": {
          "text": "x"
         }
        },
        "yaxis": {
         "anchor": "x",
         "domain": [
          0,
          1
         ],
         "title": {
          "text": "y"
         }
        }
       }
      }
     },
     "metadata": {},
     "output_type": "display_data"
    }
   ],
   "source": [
    "px.scatter(x=y_test_t.reshape(pred.shape), y=pred)\n",
    "#px.scatter(x=y_test.values, y=pred)"
   ]
  },
  {
   "cell_type": "code",
   "execution_count": 4,
   "metadata": {},
   "outputs": [],
   "source": [
    "import plotly.express as px\n",
    "import plotly.io as pio\n",
    "import pandas as pd\n",
    "\n",
    "def plot_feature_importance(pipeline, save_as=False):\n",
    "    \"\"\"Parameters:\n",
    "    - pipeline: must be an sklearn object (or something that supports sklearn API) that combines a preprocessor and a model\n",
    "    - save_as: False if you don't wanna save the figure, filename if you do\n",
    "    Returns:\n",
    "    - fig\n",
    "    \"\"\"\n",
    "    feat_imp = pipeline.steps[-1][1].feature_importances_\n",
    "    feat_names = pipeline[:-1].get_feature_names_out()\n",
    "\n",
    "    feature_importance = pd.DataFrame().from_records(\n",
    "        data={'Features': [name.split('__')[-1] for name in feat_names], 'Importance': feat_imp})\n",
    "    feature_importance = feature_importance.sort_values('Importance', ascending=True)\n",
    "    fig = px.bar(feature_importance, \n",
    "                 y='Features', x='Importance',\n",
    "                 orientation='h', height=800, width=800\n",
    "                        )\n",
    "    if save_as:\n",
    "        pio.write_image(fig, save_as)\n",
    "    return fig"
   ]
  },
  {
   "cell_type": "code",
   "execution_count": 5,
   "metadata": {},
   "outputs": [
    {
     "data": {
      "application/vnd.plotly.v1+json": {
       "config": {
        "plotlyServerURL": "https://plotly.com"
       },
       "data": [
        {
         "alignmentgroup": "True",
         "hovertemplate": "Importance=%{x}<br>Features=%{y}<extra></extra>",
         "legendgroup": "",
         "marker": {
          "color": "#636efa",
          "pattern": {
           "shape": ""
          }
         },
         "name": "",
         "offsetgroup": "",
         "orientation": "h",
         "showlegend": false,
         "textposition": "auto",
         "type": "bar",
         "x": [
          0,
          0.000026480086341557785,
          0.00010307231854393875,
          0.0010514544091345095,
          0.001263513801044127,
          0.001856222657709098,
          0.0020016550197490615,
          0.0021472804255068213,
          0.0022014410116043062,
          0.002228644020798038,
          0.002494448520778769,
          0.002845588098142818,
          0.0030310800401578512,
          0.0030938154949999588,
          0.003285060578217574,
          0.0036400780835950655,
          0.003732905269904819,
          0.003863801074053045,
          0.005438347995558402,
          0.005464621103335872,
          0.006085163271288819,
          0.006501307606145507,
          0.006821625356955215,
          0.008001466395451169,
          0.008105857792297314,
          0.008270384243700161,
          0.00881087189124581,
          0.057114077412537684,
          0.0773055835227159,
          0.08970204623316136,
          0.13287194382871276,
          0.254331583244912,
          0.2863085791917007
         ],
         "xaxis": "x",
         "y": [
          "media_type_other",
          "classification_product_Solargenerator",
          "classification_type_Video",
          "classification_product_Fahrrad",
          "classification_product_Versicherung",
          "classification_product_E-Scooter",
          "classification_product_Solarspeicher",
          "classification_product_Motorrad",
          "classification_product_Wallbox/Laden",
          "sentiment_meta_title_positive",
          "classification_type_Ratgeber",
          "classification_product_THG",
          "classification_type_Kaufberatung",
          "sentiment_abstract_positive",
          "classification_type_Erfahrungsbericht",
          "classification_product_Wärmepumpe",
          "classification_product_E-Bike",
          "classification_product_Balkonkraftwerk",
          "classification_type_Test",
          "sentiment_abstract_neutral",
          "classification_product_Verkehr",
          "classification_product_Solaranlagen",
          "classification_product_Zubehör",
          "classification_product_Energie",
          "classification_product_E-Auto",
          "classification_type_News",
          "sentiment_meta_title_neutral",
          "h1_len",
          "no_versions",
          "abstract_len",
          "word_count",
          "mean_version_lifetime",
          "media_type_video"
         ],
         "yaxis": "y"
        }
       ],
       "layout": {
        "barmode": "relative",
        "height": 800,
        "legend": {
         "tracegroupgap": 0
        },
        "margin": {
         "t": 60
        },
        "template": {
         "data": {
          "bar": [
           {
            "error_x": {
             "color": "#2a3f5f"
            },
            "error_y": {
             "color": "#2a3f5f"
            },
            "marker": {
             "line": {
              "color": "#E5ECF6",
              "width": 0.5
             },
             "pattern": {
              "fillmode": "overlay",
              "size": 10,
              "solidity": 0.2
             }
            },
            "type": "bar"
           }
          ],
          "barpolar": [
           {
            "marker": {
             "line": {
              "color": "#E5ECF6",
              "width": 0.5
             },
             "pattern": {
              "fillmode": "overlay",
              "size": 10,
              "solidity": 0.2
             }
            },
            "type": "barpolar"
           }
          ],
          "carpet": [
           {
            "aaxis": {
             "endlinecolor": "#2a3f5f",
             "gridcolor": "white",
             "linecolor": "white",
             "minorgridcolor": "white",
             "startlinecolor": "#2a3f5f"
            },
            "baxis": {
             "endlinecolor": "#2a3f5f",
             "gridcolor": "white",
             "linecolor": "white",
             "minorgridcolor": "white",
             "startlinecolor": "#2a3f5f"
            },
            "type": "carpet"
           }
          ],
          "choropleth": [
           {
            "colorbar": {
             "outlinewidth": 0,
             "ticks": ""
            },
            "type": "choropleth"
           }
          ],
          "contour": [
           {
            "colorbar": {
             "outlinewidth": 0,
             "ticks": ""
            },
            "colorscale": [
             [
              0,
              "#0d0887"
             ],
             [
              0.1111111111111111,
              "#46039f"
             ],
             [
              0.2222222222222222,
              "#7201a8"
             ],
             [
              0.3333333333333333,
              "#9c179e"
             ],
             [
              0.4444444444444444,
              "#bd3786"
             ],
             [
              0.5555555555555556,
              "#d8576b"
             ],
             [
              0.6666666666666666,
              "#ed7953"
             ],
             [
              0.7777777777777778,
              "#fb9f3a"
             ],
             [
              0.8888888888888888,
              "#fdca26"
             ],
             [
              1,
              "#f0f921"
             ]
            ],
            "type": "contour"
           }
          ],
          "contourcarpet": [
           {
            "colorbar": {
             "outlinewidth": 0,
             "ticks": ""
            },
            "type": "contourcarpet"
           }
          ],
          "heatmap": [
           {
            "colorbar": {
             "outlinewidth": 0,
             "ticks": ""
            },
            "colorscale": [
             [
              0,
              "#0d0887"
             ],
             [
              0.1111111111111111,
              "#46039f"
             ],
             [
              0.2222222222222222,
              "#7201a8"
             ],
             [
              0.3333333333333333,
              "#9c179e"
             ],
             [
              0.4444444444444444,
              "#bd3786"
             ],
             [
              0.5555555555555556,
              "#d8576b"
             ],
             [
              0.6666666666666666,
              "#ed7953"
             ],
             [
              0.7777777777777778,
              "#fb9f3a"
             ],
             [
              0.8888888888888888,
              "#fdca26"
             ],
             [
              1,
              "#f0f921"
             ]
            ],
            "type": "heatmap"
           }
          ],
          "heatmapgl": [
           {
            "colorbar": {
             "outlinewidth": 0,
             "ticks": ""
            },
            "colorscale": [
             [
              0,
              "#0d0887"
             ],
             [
              0.1111111111111111,
              "#46039f"
             ],
             [
              0.2222222222222222,
              "#7201a8"
             ],
             [
              0.3333333333333333,
              "#9c179e"
             ],
             [
              0.4444444444444444,
              "#bd3786"
             ],
             [
              0.5555555555555556,
              "#d8576b"
             ],
             [
              0.6666666666666666,
              "#ed7953"
             ],
             [
              0.7777777777777778,
              "#fb9f3a"
             ],
             [
              0.8888888888888888,
              "#fdca26"
             ],
             [
              1,
              "#f0f921"
             ]
            ],
            "type": "heatmapgl"
           }
          ],
          "histogram": [
           {
            "marker": {
             "pattern": {
              "fillmode": "overlay",
              "size": 10,
              "solidity": 0.2
             }
            },
            "type": "histogram"
           }
          ],
          "histogram2d": [
           {
            "colorbar": {
             "outlinewidth": 0,
             "ticks": ""
            },
            "colorscale": [
             [
              0,
              "#0d0887"
             ],
             [
              0.1111111111111111,
              "#46039f"
             ],
             [
              0.2222222222222222,
              "#7201a8"
             ],
             [
              0.3333333333333333,
              "#9c179e"
             ],
             [
              0.4444444444444444,
              "#bd3786"
             ],
             [
              0.5555555555555556,
              "#d8576b"
             ],
             [
              0.6666666666666666,
              "#ed7953"
             ],
             [
              0.7777777777777778,
              "#fb9f3a"
             ],
             [
              0.8888888888888888,
              "#fdca26"
             ],
             [
              1,
              "#f0f921"
             ]
            ],
            "type": "histogram2d"
           }
          ],
          "histogram2dcontour": [
           {
            "colorbar": {
             "outlinewidth": 0,
             "ticks": ""
            },
            "colorscale": [
             [
              0,
              "#0d0887"
             ],
             [
              0.1111111111111111,
              "#46039f"
             ],
             [
              0.2222222222222222,
              "#7201a8"
             ],
             [
              0.3333333333333333,
              "#9c179e"
             ],
             [
              0.4444444444444444,
              "#bd3786"
             ],
             [
              0.5555555555555556,
              "#d8576b"
             ],
             [
              0.6666666666666666,
              "#ed7953"
             ],
             [
              0.7777777777777778,
              "#fb9f3a"
             ],
             [
              0.8888888888888888,
              "#fdca26"
             ],
             [
              1,
              "#f0f921"
             ]
            ],
            "type": "histogram2dcontour"
           }
          ],
          "mesh3d": [
           {
            "colorbar": {
             "outlinewidth": 0,
             "ticks": ""
            },
            "type": "mesh3d"
           }
          ],
          "parcoords": [
           {
            "line": {
             "colorbar": {
              "outlinewidth": 0,
              "ticks": ""
             }
            },
            "type": "parcoords"
           }
          ],
          "pie": [
           {
            "automargin": true,
            "type": "pie"
           }
          ],
          "scatter": [
           {
            "fillpattern": {
             "fillmode": "overlay",
             "size": 10,
             "solidity": 0.2
            },
            "type": "scatter"
           }
          ],
          "scatter3d": [
           {
            "line": {
             "colorbar": {
              "outlinewidth": 0,
              "ticks": ""
             }
            },
            "marker": {
             "colorbar": {
              "outlinewidth": 0,
              "ticks": ""
             }
            },
            "type": "scatter3d"
           }
          ],
          "scattercarpet": [
           {
            "marker": {
             "colorbar": {
              "outlinewidth": 0,
              "ticks": ""
             }
            },
            "type": "scattercarpet"
           }
          ],
          "scattergeo": [
           {
            "marker": {
             "colorbar": {
              "outlinewidth": 0,
              "ticks": ""
             }
            },
            "type": "scattergeo"
           }
          ],
          "scattergl": [
           {
            "marker": {
             "colorbar": {
              "outlinewidth": 0,
              "ticks": ""
             }
            },
            "type": "scattergl"
           }
          ],
          "scattermapbox": [
           {
            "marker": {
             "colorbar": {
              "outlinewidth": 0,
              "ticks": ""
             }
            },
            "type": "scattermapbox"
           }
          ],
          "scatterpolar": [
           {
            "marker": {
             "colorbar": {
              "outlinewidth": 0,
              "ticks": ""
             }
            },
            "type": "scatterpolar"
           }
          ],
          "scatterpolargl": [
           {
            "marker": {
             "colorbar": {
              "outlinewidth": 0,
              "ticks": ""
             }
            },
            "type": "scatterpolargl"
           }
          ],
          "scatterternary": [
           {
            "marker": {
             "colorbar": {
              "outlinewidth": 0,
              "ticks": ""
             }
            },
            "type": "scatterternary"
           }
          ],
          "surface": [
           {
            "colorbar": {
             "outlinewidth": 0,
             "ticks": ""
            },
            "colorscale": [
             [
              0,
              "#0d0887"
             ],
             [
              0.1111111111111111,
              "#46039f"
             ],
             [
              0.2222222222222222,
              "#7201a8"
             ],
             [
              0.3333333333333333,
              "#9c179e"
             ],
             [
              0.4444444444444444,
              "#bd3786"
             ],
             [
              0.5555555555555556,
              "#d8576b"
             ],
             [
              0.6666666666666666,
              "#ed7953"
             ],
             [
              0.7777777777777778,
              "#fb9f3a"
             ],
             [
              0.8888888888888888,
              "#fdca26"
             ],
             [
              1,
              "#f0f921"
             ]
            ],
            "type": "surface"
           }
          ],
          "table": [
           {
            "cells": {
             "fill": {
              "color": "#EBF0F8"
             },
             "line": {
              "color": "white"
             }
            },
            "header": {
             "fill": {
              "color": "#C8D4E3"
             },
             "line": {
              "color": "white"
             }
            },
            "type": "table"
           }
          ]
         },
         "layout": {
          "annotationdefaults": {
           "arrowcolor": "#2a3f5f",
           "arrowhead": 0,
           "arrowwidth": 1
          },
          "autotypenumbers": "strict",
          "coloraxis": {
           "colorbar": {
            "outlinewidth": 0,
            "ticks": ""
           }
          },
          "colorscale": {
           "diverging": [
            [
             0,
             "#8e0152"
            ],
            [
             0.1,
             "#c51b7d"
            ],
            [
             0.2,
             "#de77ae"
            ],
            [
             0.3,
             "#f1b6da"
            ],
            [
             0.4,
             "#fde0ef"
            ],
            [
             0.5,
             "#f7f7f7"
            ],
            [
             0.6,
             "#e6f5d0"
            ],
            [
             0.7,
             "#b8e186"
            ],
            [
             0.8,
             "#7fbc41"
            ],
            [
             0.9,
             "#4d9221"
            ],
            [
             1,
             "#276419"
            ]
           ],
           "sequential": [
            [
             0,
             "#0d0887"
            ],
            [
             0.1111111111111111,
             "#46039f"
            ],
            [
             0.2222222222222222,
             "#7201a8"
            ],
            [
             0.3333333333333333,
             "#9c179e"
            ],
            [
             0.4444444444444444,
             "#bd3786"
            ],
            [
             0.5555555555555556,
             "#d8576b"
            ],
            [
             0.6666666666666666,
             "#ed7953"
            ],
            [
             0.7777777777777778,
             "#fb9f3a"
            ],
            [
             0.8888888888888888,
             "#fdca26"
            ],
            [
             1,
             "#f0f921"
            ]
           ],
           "sequentialminus": [
            [
             0,
             "#0d0887"
            ],
            [
             0.1111111111111111,
             "#46039f"
            ],
            [
             0.2222222222222222,
             "#7201a8"
            ],
            [
             0.3333333333333333,
             "#9c179e"
            ],
            [
             0.4444444444444444,
             "#bd3786"
            ],
            [
             0.5555555555555556,
             "#d8576b"
            ],
            [
             0.6666666666666666,
             "#ed7953"
            ],
            [
             0.7777777777777778,
             "#fb9f3a"
            ],
            [
             0.8888888888888888,
             "#fdca26"
            ],
            [
             1,
             "#f0f921"
            ]
           ]
          },
          "colorway": [
           "#636efa",
           "#EF553B",
           "#00cc96",
           "#ab63fa",
           "#FFA15A",
           "#19d3f3",
           "#FF6692",
           "#B6E880",
           "#FF97FF",
           "#FECB52"
          ],
          "font": {
           "color": "#2a3f5f"
          },
          "geo": {
           "bgcolor": "white",
           "lakecolor": "white",
           "landcolor": "#E5ECF6",
           "showlakes": true,
           "showland": true,
           "subunitcolor": "white"
          },
          "hoverlabel": {
           "align": "left"
          },
          "hovermode": "closest",
          "mapbox": {
           "style": "light"
          },
          "paper_bgcolor": "white",
          "plot_bgcolor": "#E5ECF6",
          "polar": {
           "angularaxis": {
            "gridcolor": "white",
            "linecolor": "white",
            "ticks": ""
           },
           "bgcolor": "#E5ECF6",
           "radialaxis": {
            "gridcolor": "white",
            "linecolor": "white",
            "ticks": ""
           }
          },
          "scene": {
           "xaxis": {
            "backgroundcolor": "#E5ECF6",
            "gridcolor": "white",
            "gridwidth": 2,
            "linecolor": "white",
            "showbackground": true,
            "ticks": "",
            "zerolinecolor": "white"
           },
           "yaxis": {
            "backgroundcolor": "#E5ECF6",
            "gridcolor": "white",
            "gridwidth": 2,
            "linecolor": "white",
            "showbackground": true,
            "ticks": "",
            "zerolinecolor": "white"
           },
           "zaxis": {
            "backgroundcolor": "#E5ECF6",
            "gridcolor": "white",
            "gridwidth": 2,
            "linecolor": "white",
            "showbackground": true,
            "ticks": "",
            "zerolinecolor": "white"
           }
          },
          "shapedefaults": {
           "line": {
            "color": "#2a3f5f"
           }
          },
          "ternary": {
           "aaxis": {
            "gridcolor": "white",
            "linecolor": "white",
            "ticks": ""
           },
           "baxis": {
            "gridcolor": "white",
            "linecolor": "white",
            "ticks": ""
           },
           "bgcolor": "#E5ECF6",
           "caxis": {
            "gridcolor": "white",
            "linecolor": "white",
            "ticks": ""
           }
          },
          "title": {
           "x": 0.05
          },
          "xaxis": {
           "automargin": true,
           "gridcolor": "white",
           "linecolor": "white",
           "ticks": "",
           "title": {
            "standoff": 15
           },
           "zerolinecolor": "white",
           "zerolinewidth": 2
          },
          "yaxis": {
           "automargin": true,
           "gridcolor": "white",
           "linecolor": "white",
           "ticks": "",
           "title": {
            "standoff": 15
           },
           "zerolinecolor": "white",
           "zerolinewidth": 2
          }
         }
        },
        "width": 800,
        "xaxis": {
         "anchor": "y",
         "domain": [
          0,
          1
         ],
         "title": {
          "text": "Importance"
         }
        },
        "yaxis": {
         "anchor": "x",
         "domain": [
          0,
          1
         ],
         "title": {
          "text": "Features"
         }
        }
       }
      }
     },
     "metadata": {},
     "output_type": "display_data"
    }
   ],
   "source": [
    "plot_feature_importance(bl_katja)"
   ]
  }
 ],
 "metadata": {
  "kernelspec": {
   "display_name": ".venv",
   "language": "python",
   "name": "python3"
  },
  "language_info": {
   "codemirror_mode": {
    "name": "ipython",
    "version": 3
   },
   "file_extension": ".py",
   "mimetype": "text/x-python",
   "name": "python",
   "nbconvert_exporter": "python",
   "pygments_lexer": "ipython3",
   "version": "3.11.3"
  }
 },
 "nbformat": 4,
 "nbformat_minor": 2
}
