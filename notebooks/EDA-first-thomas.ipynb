{
 "cells": [
  {
   "cell_type": "code",
   "execution_count": 1,
   "metadata": {},
   "outputs": [],
   "source": [
    "import pandas as pd"
   ]
  },
  {
   "cell_type": "code",
   "execution_count": 2,
   "metadata": {},
   "outputs": [
    {
     "data": {
      "text/plain": [
       "'../data/discover_0123_0324.xlsx'"
      ]
     },
     "execution_count": 2,
     "metadata": {},
     "output_type": "execute_result"
    }
   ],
   "source": [
    "data_file = 'discover_0123_0324.xlsx'\n",
    "file_path = '../data/' + data_file\n",
    "file_path"
   ]
  },
  {
   "cell_type": "code",
   "execution_count": 3,
   "metadata": {},
   "outputs": [],
   "source": [
    "df = pd.read_excel(file_path, sheet_name='data')"
   ]
  },
  {
   "cell_type": "code",
   "execution_count": 4,
   "metadata": {},
   "outputs": [
    {
     "name": "stdout",
     "output_type": "stream",
     "text": [
      "<class 'pandas.core.frame.DataFrame'>\n",
      "RangeIndex: 132615 entries, 0 to 132614\n",
      "Data columns (total 17 columns):\n",
      " #   Column                      Non-Null Count   Dtype         \n",
      "---  ------                      --------------   -----         \n",
      " 0   PAGE_EFAHRER_ID             132615 non-null  int64         \n",
      " 1   DATE                        132615 non-null  datetime64[ns]\n",
      " 2   PUBLISHED_AT                42111 non-null   datetime64[ns]\n",
      " 3   PUBLISH_DATE_EQUAL_TO_DATE  132615 non-null  object        \n",
      " 4   PAGE_CANONICAL_URL          132615 non-null  object        \n",
      " 5   PAGE_NAME                   132615 non-null  object        \n",
      " 6   CLASSIFICATION_PRODUCT      131942 non-null  object        \n",
      " 7   CLASSIFICATION_TYPE         131942 non-null  object        \n",
      " 8   TITLE                       132615 non-null  object        \n",
      " 9   PAGE_AUTHOR                 132580 non-null  object        \n",
      " 10  DAILY_LIKES                 33609 non-null   float64       \n",
      " 11  DAILY_DISLIKES              27282 non-null   float64       \n",
      " 12  WORD_COUNT                  41624 non-null   float64       \n",
      " 13  VIDEO_PLAY                  131809 non-null  float64       \n",
      " 14  CLICKOUTS                   131809 non-null  float64       \n",
      " 15  DISCOVER_CLICKS             131809 non-null  float64       \n",
      " 16  DISCOVER_IMPRESSIONS        131809 non-null  float64       \n",
      "dtypes: datetime64[ns](2), float64(7), int64(1), object(7)\n",
      "memory usage: 17.2+ MB\n"
     ]
    }
   ],
   "source": [
    "df.info()"
   ]
  }
 ],
 "metadata": {
  "kernelspec": {
   "display_name": "d-drivers",
   "language": "python",
   "name": "python3"
  },
  "language_info": {
   "codemirror_mode": {
    "name": "ipython",
    "version": 3
   },
   "file_extension": ".py",
   "mimetype": "text/x-python",
   "name": "python",
   "nbconvert_exporter": "python",
   "pygments_lexer": "ipython3",
   "version": "3.11.3"
  }
 },
 "nbformat": 4,
 "nbformat_minor": 2
}
